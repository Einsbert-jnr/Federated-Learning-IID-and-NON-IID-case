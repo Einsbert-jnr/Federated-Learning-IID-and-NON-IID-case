{
 "cells": [
  {
   "cell_type": "code",
   "execution_count": 1,
   "id": "0054a64b",
   "metadata": {
    "_cell_guid": "b1076dfc-b9ad-4769-8c92-a6c4dae69d19",
    "_uuid": "8f2839f25d086af736a60e9eeb907d3b93b6e0e5",
    "execution": {
     "iopub.execute_input": "2024-06-07T16:49:43.006595Z",
     "iopub.status.busy": "2024-06-07T16:49:43.006192Z",
     "iopub.status.idle": "2024-06-07T16:49:43.956730Z",
     "shell.execute_reply": "2024-06-07T16:49:43.955397Z"
    },
    "papermill": {
     "duration": 0.961645,
     "end_time": "2024-06-07T16:49:43.959399",
     "exception": false,
     "start_time": "2024-06-07T16:49:42.997754",
     "status": "completed"
    },
    "tags": []
   },
   "outputs": [
    {
     "name": "stdout",
     "output_type": "stream",
     "text": [
      "/kaggle/input/fed-non-iid-dataset/DDoS_client_1.csv\n",
      "/kaggle/input/fed-non-iid-dataset/Spoofing_client_3.csv\n",
      "/kaggle/input/fed-non-iid-dataset/WebBased_client_2.csv\n",
      "/kaggle/input/fed-non-iid-dataset/Recon_client_4.csv\n",
      "/kaggle/input/fed-non-iid-dataset/Dos_client_5.csv\n"
     ]
    }
   ],
   "source": [
    "# This Python 3 environment comes with many helpful analytics libraries installed\n",
    "# It is defined by the kaggle/python Docker image: https://github.com/kaggle/docker-python\n",
    "# For example, here's several helpful packages to load\n",
    "\n",
    "import numpy as np # linear algebra\n",
    "import pandas as pd # data processing, CSV file I/O (e.g. pd.read_csv)\n",
    "\n",
    "# Input data files are available in the read-only \"../input/\" directory\n",
    "# For example, running this (by clicking run or pressing Shift+Enter) will list all files under the input directory\n",
    "\n",
    "import os\n",
    "for dirname, _, filenames in os.walk('/kaggle/input'):\n",
    "    for filename in filenames:\n",
    "        print(os.path.join(dirname, filename))\n",
    "\n",
    "# You can write up to 20GB to the current directory (/kaggle/working/) that gets preserved as output when you create a version using \"Save & Run All\" \n",
    "# You can also write temporary files to /kaggle/temp/, but they won't be saved outside of the current session"
   ]
  },
  {
   "cell_type": "code",
   "execution_count": 2,
   "id": "3d4642a0",
   "metadata": {
    "execution": {
     "iopub.execute_input": "2024-06-07T16:49:43.973046Z",
     "iopub.status.busy": "2024-06-07T16:49:43.971694Z",
     "iopub.status.idle": "2024-06-07T16:49:57.524136Z",
     "shell.execute_reply": "2024-06-07T16:49:57.522851Z"
    },
    "papermill": {
     "duration": 13.561687,
     "end_time": "2024-06-07T16:49:57.526649",
     "exception": false,
     "start_time": "2024-06-07T16:49:43.964962",
     "status": "completed"
    },
    "tags": []
   },
   "outputs": [
    {
     "name": "stdout",
     "output_type": "stream",
     "text": [
      "Requirement already satisfied: imbalanced-learn in /opt/conda/lib/python3.10/site-packages (0.12.3)\r\n",
      "Requirement already satisfied: numpy>=1.17.3 in /opt/conda/lib/python3.10/site-packages (from imbalanced-learn) (1.26.4)\r\n",
      "Requirement already satisfied: scipy>=1.5.0 in /opt/conda/lib/python3.10/site-packages (from imbalanced-learn) (1.11.4)\r\n",
      "Requirement already satisfied: scikit-learn>=1.0.2 in /opt/conda/lib/python3.10/site-packages (from imbalanced-learn) (1.2.2)\r\n",
      "Requirement already satisfied: joblib>=1.1.1 in /opt/conda/lib/python3.10/site-packages (from imbalanced-learn) (1.4.2)\r\n",
      "Requirement already satisfied: threadpoolctl>=2.0.0 in /opt/conda/lib/python3.10/site-packages (from imbalanced-learn) (3.2.0)\r\n"
     ]
    }
   ],
   "source": [
    "!pip install -U imbalanced-learn"
   ]
  },
  {
   "cell_type": "code",
   "execution_count": 3,
   "id": "09b7863e",
   "metadata": {
    "execution": {
     "iopub.execute_input": "2024-06-07T16:49:57.540422Z",
     "iopub.status.busy": "2024-06-07T16:49:57.540034Z",
     "iopub.status.idle": "2024-06-07T16:50:12.693708Z",
     "shell.execute_reply": "2024-06-07T16:50:12.692548Z"
    },
    "papermill": {
     "duration": 15.164318,
     "end_time": "2024-06-07T16:50:12.696548",
     "exception": false,
     "start_time": "2024-06-07T16:49:57.532230",
     "status": "completed"
    },
    "tags": []
   },
   "outputs": [
    {
     "name": "stderr",
     "output_type": "stream",
     "text": [
      "2024-06-07 16:49:59.812201: E external/local_xla/xla/stream_executor/cuda/cuda_dnn.cc:9261] Unable to register cuDNN factory: Attempting to register factory for plugin cuDNN when one has already been registered\n",
      "2024-06-07 16:49:59.812346: E external/local_xla/xla/stream_executor/cuda/cuda_fft.cc:607] Unable to register cuFFT factory: Attempting to register factory for plugin cuFFT when one has already been registered\n",
      "2024-06-07 16:49:59.996657: E external/local_xla/xla/stream_executor/cuda/cuda_blas.cc:1515] Unable to register cuBLAS factory: Attempting to register factory for plugin cuBLAS when one has already been registered\n"
     ]
    }
   ],
   "source": [
    "import numpy as np\n",
    "import pandas as pd\n",
    "import matplotlib.pyplot as plt\n",
    "import tensorflow as tf\n",
    "from keras.models import load_model, Sequential\n",
    "from keras.layers import Dense, Activation\n",
    "from sklearn.metrics import confusion_matrix\n",
    "from sklearn.model_selection import train_test_split\n",
    "from sklearn.preprocessing import MinMaxScaler, StandardScaler\n",
    "from sklearn.metrics import classification_report\n",
    "import seaborn as sns\n",
    "%matplotlib inline\n",
    "from sklearn.utils import shuffle"
   ]
  },
  {
   "cell_type": "code",
   "execution_count": 4,
   "id": "8fc5bba1",
   "metadata": {
    "execution": {
     "iopub.execute_input": "2024-06-07T16:50:12.710099Z",
     "iopub.status.busy": "2024-06-07T16:50:12.709436Z",
     "iopub.status.idle": "2024-06-07T16:50:16.638569Z",
     "shell.execute_reply": "2024-06-07T16:50:16.637552Z"
    },
    "papermill": {
     "duration": 3.93859,
     "end_time": "2024-06-07T16:50:16.641078",
     "exception": false,
     "start_time": "2024-06-07T16:50:12.702488",
     "status": "completed"
    },
    "tags": []
   },
   "outputs": [],
   "source": [
    "ddos = pd.read_csv('/kaggle/input/fed-non-iid-dataset/DDoS_client_1.csv')\n",
    "dos = pd.read_csv('/kaggle/input/fed-non-iid-dataset/Dos_client_5.csv')\n",
    "webbased = pd.read_csv('/kaggle/input/fed-non-iid-dataset/WebBased_client_2.csv')"
   ]
  },
  {
   "cell_type": "code",
   "execution_count": 5,
   "id": "1f209f3b",
   "metadata": {
    "execution": {
     "iopub.execute_input": "2024-06-07T16:50:16.654858Z",
     "iopub.status.busy": "2024-06-07T16:50:16.653796Z",
     "iopub.status.idle": "2024-06-07T16:50:16.674977Z",
     "shell.execute_reply": "2024-06-07T16:50:16.673743Z"
    },
    "papermill": {
     "duration": 0.030517,
     "end_time": "2024-06-07T16:50:16.677226",
     "exception": false,
     "start_time": "2024-06-07T16:50:16.646709",
     "status": "completed"
    },
    "tags": []
   },
   "outputs": [
    {
     "data": {
      "text/plain": [
       "label\n",
       "1    210944\n",
       "0     23355\n",
       "Name: count, dtype: int64"
      ]
     },
     "execution_count": 5,
     "metadata": {},
     "output_type": "execute_result"
    }
   ],
   "source": [
    "dos.label.value_counts()"
   ]
  },
  {
   "cell_type": "code",
   "execution_count": 6,
   "id": "e8c858a4",
   "metadata": {
    "execution": {
     "iopub.execute_input": "2024-06-07T16:50:16.690365Z",
     "iopub.status.busy": "2024-06-07T16:50:16.689990Z",
     "iopub.status.idle": "2024-06-07T16:50:17.057194Z",
     "shell.execute_reply": "2024-06-07T16:50:17.056242Z"
    },
    "papermill": {
     "duration": 0.376826,
     "end_time": "2024-06-07T16:50:17.059937",
     "exception": false,
     "start_time": "2024-06-07T16:50:16.683111",
     "status": "completed"
    },
    "tags": []
   },
   "outputs": [],
   "source": [
    "ddos = shuffle(ddos).reset_index(drop=True)\n",
    "dos = shuffle(dos).reset_index(drop=True)\n",
    "webbased = shuffle(webbased).reset_index(drop=True)"
   ]
  },
  {
   "cell_type": "code",
   "execution_count": 7,
   "id": "8005e31d",
   "metadata": {
    "execution": {
     "iopub.execute_input": "2024-06-07T16:50:17.073365Z",
     "iopub.status.busy": "2024-06-07T16:50:17.072956Z",
     "iopub.status.idle": "2024-06-07T16:50:17.557905Z",
     "shell.execute_reply": "2024-06-07T16:50:17.556851Z"
    },
    "papermill": {
     "duration": 0.494611,
     "end_time": "2024-06-07T16:50:17.560508",
     "exception": false,
     "start_time": "2024-06-07T16:50:17.065897",
     "status": "completed"
    },
    "tags": []
   },
   "outputs": [],
   "source": [
    "X = ddos.iloc[:, :-1]\n",
    "y = ddos.iloc[:, -1]\n",
    "x_train_ddos, x_test_ddos, y_train_ddos, y_test_ddos = train_test_split(X, y, test_size=0.1, random_state=42)\n",
    "\n",
    "scalar = StandardScaler()\n",
    "scalar.fit(x_train_ddos)\n",
    "\n",
    "x_train_ddos = scalar.transform(x_train_ddos)\n",
    "x_test_ddos = scalar.transform(x_test_ddos)\n"
   ]
  },
  {
   "cell_type": "code",
   "execution_count": 8,
   "id": "31f4db11",
   "metadata": {
    "execution": {
     "iopub.execute_input": "2024-06-07T16:50:17.574759Z",
     "iopub.status.busy": "2024-06-07T16:50:17.574351Z",
     "iopub.status.idle": "2024-06-07T16:50:19.714560Z",
     "shell.execute_reply": "2024-06-07T16:50:19.713452Z"
    },
    "papermill": {
     "duration": 2.150254,
     "end_time": "2024-06-07T16:50:19.717202",
     "exception": false,
     "start_time": "2024-06-07T16:50:17.566948",
     "status": "completed"
    },
    "tags": []
   },
   "outputs": [
    {
     "name": "stdout",
     "output_type": "stream",
     "text": [
      "label\n",
      "1    189862\n",
      "0     21007\n",
      "Name: count, dtype: int64\n"
     ]
    }
   ],
   "source": [
    "X = dos.iloc[:, :-1]\n",
    "y = dos.iloc[:, -1]\n",
    "x_train_dos, x_test_dos, y_train_dos, y_test_dos = train_test_split(X, y, test_size=0.1, random_state=42)\n",
    "\n",
    "scalar = StandardScaler()\n",
    "scalar.fit(x_train_dos)\n",
    "\n",
    "print(y_train_dos.value_counts())\n",
    "x_train_dos = scalar.transform(x_train_dos)\n",
    "x_test_dos = scalar.transform(x_test_dos)\n",
    "\n",
    "\n",
    "from imblearn.over_sampling import SMOTE\n",
    "\n",
    "# Assume X_train and y_train are your data\n",
    "sm = SMOTE(sampling_strategy={0: 189872}, random_state=42)\n",
    "X_res, y_res = sm.fit_resample(x_train_dos, y_train_dos)"
   ]
  },
  {
   "cell_type": "code",
   "execution_count": 9,
   "id": "61385b0f",
   "metadata": {
    "execution": {
     "iopub.execute_input": "2024-06-07T16:50:19.730991Z",
     "iopub.status.busy": "2024-06-07T16:50:19.730299Z",
     "iopub.status.idle": "2024-06-07T16:50:19.737365Z",
     "shell.execute_reply": "2024-06-07T16:50:19.736254Z"
    },
    "papermill": {
     "duration": 0.016464,
     "end_time": "2024-06-07T16:50:19.739623",
     "exception": false,
     "start_time": "2024-06-07T16:50:19.723159",
     "status": "completed"
    },
    "tags": []
   },
   "outputs": [
    {
     "data": {
      "text/plain": [
       "(379734, 33)"
      ]
     },
     "execution_count": 9,
     "metadata": {},
     "output_type": "execute_result"
    }
   ],
   "source": [
    "X_res.shape"
   ]
  },
  {
   "cell_type": "code",
   "execution_count": 10,
   "id": "4cdb3e7f",
   "metadata": {
    "execution": {
     "iopub.execute_input": "2024-06-07T16:50:19.753459Z",
     "iopub.status.busy": "2024-06-07T16:50:19.753092Z",
     "iopub.status.idle": "2024-06-07T16:50:19.872817Z",
     "shell.execute_reply": "2024-06-07T16:50:19.871860Z"
    },
    "papermill": {
     "duration": 0.129551,
     "end_time": "2024-06-07T16:50:19.875356",
     "exception": false,
     "start_time": "2024-06-07T16:50:19.745805",
     "status": "completed"
    },
    "tags": []
   },
   "outputs": [],
   "source": [
    "X_ = webbased.iloc[:, :-1]\n",
    "y_ = webbased.iloc[:, -1]\n",
    "x_train_webbased, x_test_webbased, y_train_webbased, y_test_webbased = train_test_split(X, y, test_size=0.1, random_state=42)\n",
    "\n",
    "scalar = StandardScaler()\n",
    "# scalar.fit(x_train_webbased)\n",
    "\n",
    "# x_train_webbased = scalar.transform(x_train_webbased)\n",
    "# x_test_webbased = scalar.transform(x_test_webbased)\n",
    "\n",
    "scalar.fit(X_)\n",
    "\n",
    "X_ = scalar.transform(X_)"
   ]
  },
  {
   "cell_type": "markdown",
   "id": "b5b4d900",
   "metadata": {
    "papermill": {
     "duration": 0.008111,
     "end_time": "2024-06-07T16:50:19.892244",
     "exception": false,
     "start_time": "2024-06-07T16:50:19.884133",
     "status": "completed"
    },
    "tags": []
   },
   "source": [
    "### Concatenating the all the test data."
   ]
  },
  {
   "cell_type": "code",
   "execution_count": 11,
   "id": "63708666",
   "metadata": {
    "execution": {
     "iopub.execute_input": "2024-06-07T16:50:19.905861Z",
     "iopub.status.busy": "2024-06-07T16:50:19.905398Z",
     "iopub.status.idle": "2024-06-07T16:50:19.919916Z",
     "shell.execute_reply": "2024-06-07T16:50:19.918759Z"
    },
    "papermill": {
     "duration": 0.024255,
     "end_time": "2024-06-07T16:50:19.922462",
     "exception": false,
     "start_time": "2024-06-07T16:50:19.898207",
     "status": "completed"
    },
    "tags": []
   },
   "outputs": [
    {
     "name": "stdout",
     "output_type": "stream",
     "text": [
      "(75378, 33)\n",
      "(75378,)\n"
     ]
    }
   ],
   "source": [
    "X_test_all = np.concatenate([x_test_ddos, x_test_dos], axis=0)\n",
    "y_test_all = np.concatenate([y_test_ddos, y_test_dos], axis=0)\n",
    "\n",
    "print(X_test_all.shape)\n",
    "print(y_test_all.shape)"
   ]
  },
  {
   "cell_type": "markdown",
   "id": "8a9e7d9f",
   "metadata": {
    "papermill": {
     "duration": 0.005651,
     "end_time": "2024-06-07T16:50:19.934316",
     "exception": false,
     "start_time": "2024-06-07T16:50:19.928665",
     "status": "completed"
    },
    "tags": []
   },
   "source": [
    "### Defining the model"
   ]
  },
  {
   "cell_type": "code",
   "execution_count": 12,
   "id": "1d67a55b",
   "metadata": {
    "execution": {
     "iopub.execute_input": "2024-06-07T16:50:19.947907Z",
     "iopub.status.busy": "2024-06-07T16:50:19.947494Z",
     "iopub.status.idle": "2024-06-07T16:50:20.093967Z",
     "shell.execute_reply": "2024-06-07T16:50:20.092853Z"
    },
    "papermill": {
     "duration": 0.156224,
     "end_time": "2024-06-07T16:50:20.096594",
     "exception": false,
     "start_time": "2024-06-07T16:50:19.940370",
     "status": "completed"
    },
    "tags": []
   },
   "outputs": [],
   "source": [
    "# initializing the model\n",
    "model = Sequential()\n",
    "model.add(tf.keras.layers.Input(shape=(33,)))\n",
    "\n",
    "model.add(Dense(units=4))\n",
    "model.add(Activation('relu'))\n",
    "\n",
    "model.add(Dense(units=4))\n",
    "model.add(Activation('relu'))\n",
    "\n",
    "model.add(Dense(units=1),)\n",
    "model.add(Activation('sigmoid'))\n",
    "\n",
    "model.compile(optimizer=tf.keras.optimizers.Adam(learning_rate=0.00001), loss=tf.keras.losses.BinaryCrossentropy(), metrics=['accuracy'])"
   ]
  },
  {
   "cell_type": "code",
   "execution_count": 13,
   "id": "ee615c30",
   "metadata": {
    "execution": {
     "iopub.execute_input": "2024-06-07T16:50:20.110431Z",
     "iopub.status.busy": "2024-06-07T16:50:20.110065Z",
     "iopub.status.idle": "2024-06-07T16:52:55.033747Z",
     "shell.execute_reply": "2024-06-07T16:52:55.032383Z"
    },
    "papermill": {
     "duration": 154.933728,
     "end_time": "2024-06-07T16:52:55.036398",
     "exception": false,
     "start_time": "2024-06-07T16:50:20.102670",
     "status": "completed"
    },
    "tags": []
   },
   "outputs": [
    {
     "name": "stdout",
     "output_type": "stream",
     "text": [
      "Epoch 1/40\n",
      "\u001b[1m2670/2670\u001b[0m \u001b[32m━━━━━━━━━━━━━━━━━━━━\u001b[0m\u001b[37m\u001b[0m \u001b[1m5s\u001b[0m 1ms/step - accuracy: 0.6942 - loss: 0.6622 - val_accuracy: 0.7994 - val_loss: 0.5843\n",
      "Epoch 2/40\n",
      "\u001b[1m2670/2670\u001b[0m \u001b[32m━━━━━━━━━━━━━━━━━━━━\u001b[0m\u001b[37m\u001b[0m \u001b[1m4s\u001b[0m 1ms/step - accuracy: 0.7520 - loss: 0.6285 - val_accuracy: 0.8378 - val_loss: 0.5357\n",
      "Epoch 3/40\n",
      "\u001b[1m2670/2670\u001b[0m \u001b[32m━━━━━━━━━━━━━━━━━━━━\u001b[0m\u001b[37m\u001b[0m \u001b[1m4s\u001b[0m 2ms/step - accuracy: 0.7718 - loss: 0.5879 - val_accuracy: 0.8568 - val_loss: 0.4832\n",
      "Epoch 4/40\n",
      "\u001b[1m2670/2670\u001b[0m \u001b[32m━━━━━━━━━━━━━━━━━━━━\u001b[0m\u001b[37m\u001b[0m \u001b[1m4s\u001b[0m 2ms/step - accuracy: 0.7799 - loss: 0.5436 - val_accuracy: 0.8714 - val_loss: 0.4304\n",
      "Epoch 5/40\n",
      "\u001b[1m2670/2670\u001b[0m \u001b[32m━━━━━━━━━━━━━━━━━━━━\u001b[0m\u001b[37m\u001b[0m \u001b[1m4s\u001b[0m 1ms/step - accuracy: 0.8823 - loss: 0.4896 - val_accuracy: 0.8838 - val_loss: 0.3816\n",
      "Epoch 6/40\n",
      "\u001b[1m2670/2670\u001b[0m \u001b[32m━━━━━━━━━━━━━━━━━━━━\u001b[0m\u001b[37m\u001b[0m \u001b[1m4s\u001b[0m 1ms/step - accuracy: 0.9340 - loss: 0.4336 - val_accuracy: 0.8942 - val_loss: 0.3374\n",
      "Epoch 7/40\n",
      "\u001b[1m2670/2670\u001b[0m \u001b[32m━━━━━━━━━━━━━━━━━━━━\u001b[0m\u001b[37m\u001b[0m \u001b[1m4s\u001b[0m 1ms/step - accuracy: 0.9408 - loss: 0.3801 - val_accuracy: 0.9030 - val_loss: 0.2985\n",
      "Epoch 8/40\n",
      "\u001b[1m2670/2670\u001b[0m \u001b[32m━━━━━━━━━━━━━━━━━━━━\u001b[0m\u001b[37m\u001b[0m \u001b[1m4s\u001b[0m 1ms/step - accuracy: 0.9448 - loss: 0.3307 - val_accuracy: 0.9107 - val_loss: 0.2654\n",
      "Epoch 9/40\n",
      "\u001b[1m2670/2670\u001b[0m \u001b[32m━━━━━━━━━━━━━━━━━━━━\u001b[0m\u001b[37m\u001b[0m \u001b[1m4s\u001b[0m 1ms/step - accuracy: 0.9542 - loss: 0.2874 - val_accuracy: 0.9189 - val_loss: 0.2360\n",
      "Epoch 10/40\n",
      "\u001b[1m2670/2670\u001b[0m \u001b[32m━━━━━━━━━━━━━━━━━━━━\u001b[0m\u001b[37m\u001b[0m \u001b[1m4s\u001b[0m 2ms/step - accuracy: 0.9616 - loss: 0.2502 - val_accuracy: 0.9258 - val_loss: 0.2101\n",
      "Epoch 11/40\n",
      "\u001b[1m2670/2670\u001b[0m \u001b[32m━━━━━━━━━━━━━━━━━━━━\u001b[0m\u001b[37m\u001b[0m \u001b[1m4s\u001b[0m 1ms/step - accuracy: 0.9647 - loss: 0.2203 - val_accuracy: 0.9323 - val_loss: 0.1895\n",
      "Epoch 12/40\n",
      "\u001b[1m2670/2670\u001b[0m \u001b[32m━━━━━━━━━━━━━━━━━━━━\u001b[0m\u001b[37m\u001b[0m \u001b[1m4s\u001b[0m 1ms/step - accuracy: 0.9675 - loss: 0.1941 - val_accuracy: 0.9367 - val_loss: 0.1728\n",
      "Epoch 13/40\n",
      "\u001b[1m2670/2670\u001b[0m \u001b[32m━━━━━━━━━━━━━━━━━━━━\u001b[0m\u001b[37m\u001b[0m \u001b[1m4s\u001b[0m 1ms/step - accuracy: 0.9696 - loss: 0.1707 - val_accuracy: 0.9415 - val_loss: 0.1588\n",
      "Epoch 14/40\n",
      "\u001b[1m2670/2670\u001b[0m \u001b[32m━━━━━━━━━━━━━━━━━━━━\u001b[0m\u001b[37m\u001b[0m \u001b[1m4s\u001b[0m 1ms/step - accuracy: 0.9718 - loss: 0.1514 - val_accuracy: 0.9461 - val_loss: 0.1470\n",
      "Epoch 15/40\n",
      "\u001b[1m2670/2670\u001b[0m \u001b[32m━━━━━━━━━━━━━━━━━━━━\u001b[0m\u001b[37m\u001b[0m \u001b[1m4s\u001b[0m 1ms/step - accuracy: 0.9733 - loss: 0.1346 - val_accuracy: 0.9494 - val_loss: 0.1363\n",
      "Epoch 16/40\n",
      "\u001b[1m2670/2670\u001b[0m \u001b[32m━━━━━━━━━━━━━━━━━━━━\u001b[0m\u001b[37m\u001b[0m \u001b[1m4s\u001b[0m 1ms/step - accuracy: 0.9747 - loss: 0.1197 - val_accuracy: 0.9531 - val_loss: 0.1263\n",
      "Epoch 17/40\n",
      "\u001b[1m2670/2670\u001b[0m \u001b[32m━━━━━━━━━━━━━━━━━━━━\u001b[0m\u001b[37m\u001b[0m \u001b[1m4s\u001b[0m 1ms/step - accuracy: 0.9767 - loss: 0.1047 - val_accuracy: 0.9563 - val_loss: 0.1166\n",
      "Epoch 18/40\n",
      "\u001b[1m2670/2670\u001b[0m \u001b[32m━━━━━━━━━━━━━━━━━━━━\u001b[0m\u001b[37m\u001b[0m \u001b[1m4s\u001b[0m 1ms/step - accuracy: 0.9784 - loss: 0.0931 - val_accuracy: 0.9596 - val_loss: 0.1079\n",
      "Epoch 19/40\n",
      "\u001b[1m2670/2670\u001b[0m \u001b[32m━━━━━━━━━━━━━━━━━━━━\u001b[0m\u001b[37m\u001b[0m \u001b[1m4s\u001b[0m 1ms/step - accuracy: 0.9795 - loss: 0.0839 - val_accuracy: 0.9631 - val_loss: 0.0993\n",
      "Epoch 20/40\n",
      "\u001b[1m2670/2670\u001b[0m \u001b[32m━━━━━━━━━━━━━━━━━━━━\u001b[0m\u001b[37m\u001b[0m \u001b[1m4s\u001b[0m 1ms/step - accuracy: 0.9809 - loss: 0.0758 - val_accuracy: 0.9660 - val_loss: 0.0914\n",
      "Epoch 21/40\n",
      "\u001b[1m2670/2670\u001b[0m \u001b[32m━━━━━━━━━━━━━━━━━━━━\u001b[0m\u001b[37m\u001b[0m \u001b[1m4s\u001b[0m 1ms/step - accuracy: 0.9822 - loss: 0.0694 - val_accuracy: 0.9695 - val_loss: 0.0842\n",
      "Epoch 22/40\n",
      "\u001b[1m2670/2670\u001b[0m \u001b[32m━━━━━━━━━━━━━━━━━━━━\u001b[0m\u001b[37m\u001b[0m \u001b[1m4s\u001b[0m 1ms/step - accuracy: 0.9837 - loss: 0.0650 - val_accuracy: 0.9727 - val_loss: 0.0779\n",
      "Epoch 23/40\n",
      "\u001b[1m2670/2670\u001b[0m \u001b[32m━━━━━━━━━━━━━━━━━━━━\u001b[0m\u001b[37m\u001b[0m \u001b[1m4s\u001b[0m 1ms/step - accuracy: 0.9851 - loss: 0.0581 - val_accuracy: 0.9752 - val_loss: 0.0720\n",
      "Epoch 24/40\n",
      "\u001b[1m2670/2670\u001b[0m \u001b[32m━━━━━━━━━━━━━━━━━━━━\u001b[0m\u001b[37m\u001b[0m \u001b[1m4s\u001b[0m 1ms/step - accuracy: 0.9859 - loss: 0.0547 - val_accuracy: 0.9773 - val_loss: 0.0669\n",
      "Epoch 25/40\n",
      "\u001b[1m2670/2670\u001b[0m \u001b[32m━━━━━━━━━━━━━━━━━━━━\u001b[0m\u001b[37m\u001b[0m \u001b[1m4s\u001b[0m 1ms/step - accuracy: 0.9867 - loss: 0.0526 - val_accuracy: 0.9790 - val_loss: 0.0622\n",
      "Epoch 26/40\n",
      "\u001b[1m2670/2670\u001b[0m \u001b[32m━━━━━━━━━━━━━━━━━━━━\u001b[0m\u001b[37m\u001b[0m \u001b[1m4s\u001b[0m 1ms/step - accuracy: 0.9873 - loss: 0.0483 - val_accuracy: 0.9804 - val_loss: 0.0580\n",
      "Epoch 27/40\n",
      "\u001b[1m2670/2670\u001b[0m \u001b[32m━━━━━━━━━━━━━━━━━━━━\u001b[0m\u001b[37m\u001b[0m \u001b[1m4s\u001b[0m 1ms/step - accuracy: 0.9876 - loss: 0.0473 - val_accuracy: 0.9815 - val_loss: 0.0542\n",
      "Epoch 28/40\n",
      "\u001b[1m2670/2670\u001b[0m \u001b[32m━━━━━━━━━━━━━━━━━━━━\u001b[0m\u001b[37m\u001b[0m \u001b[1m4s\u001b[0m 1ms/step - accuracy: 0.9880 - loss: 0.0456 - val_accuracy: 0.9826 - val_loss: 0.0509\n",
      "Epoch 29/40\n",
      "\u001b[1m2670/2670\u001b[0m \u001b[32m━━━━━━━━━━━━━━━━━━━━\u001b[0m\u001b[37m\u001b[0m \u001b[1m4s\u001b[0m 1ms/step - accuracy: 0.9887 - loss: 0.0427 - val_accuracy: 0.9835 - val_loss: 0.0480\n",
      "Epoch 30/40\n",
      "\u001b[1m2670/2670\u001b[0m \u001b[32m━━━━━━━━━━━━━━━━━━━━\u001b[0m\u001b[37m\u001b[0m \u001b[1m4s\u001b[0m 1ms/step - accuracy: 0.9890 - loss: 0.0409 - val_accuracy: 0.9841 - val_loss: 0.0453\n",
      "Epoch 31/40\n",
      "\u001b[1m2670/2670\u001b[0m \u001b[32m━━━━━━━━━━━━━━━━━━━━\u001b[0m\u001b[37m\u001b[0m \u001b[1m4s\u001b[0m 1ms/step - accuracy: 0.9892 - loss: 0.0386 - val_accuracy: 0.9846 - val_loss: 0.0429\n",
      "Epoch 32/40\n",
      "\u001b[1m2670/2670\u001b[0m \u001b[32m━━━━━━━━━━━━━━━━━━━━\u001b[0m\u001b[37m\u001b[0m \u001b[1m4s\u001b[0m 1ms/step - accuracy: 0.9890 - loss: 0.0392 - val_accuracy: 0.9851 - val_loss: 0.0409\n",
      "Epoch 33/40\n",
      "\u001b[1m2670/2670\u001b[0m \u001b[32m━━━━━━━━━━━━━━━━━━━━\u001b[0m\u001b[37m\u001b[0m \u001b[1m4s\u001b[0m 1ms/step - accuracy: 0.9895 - loss: 0.0370 - val_accuracy: 0.9854 - val_loss: 0.0393\n",
      "Epoch 34/40\n",
      "\u001b[1m2670/2670\u001b[0m \u001b[32m━━━━━━━━━━━━━━━━━━━━\u001b[0m\u001b[37m\u001b[0m \u001b[1m4s\u001b[0m 1ms/step - accuracy: 0.9896 - loss: 0.0364 - val_accuracy: 0.9858 - val_loss: 0.0378\n",
      "Epoch 35/40\n",
      "\u001b[1m2670/2670\u001b[0m \u001b[32m━━━━━━━━━━━━━━━━━━━━\u001b[0m\u001b[37m\u001b[0m \u001b[1m4s\u001b[0m 1ms/step - accuracy: 0.9901 - loss: 0.0353 - val_accuracy: 0.9861 - val_loss: 0.0365\n",
      "Epoch 36/40\n",
      "\u001b[1m2670/2670\u001b[0m \u001b[32m━━━━━━━━━━━━━━━━━━━━\u001b[0m\u001b[37m\u001b[0m \u001b[1m4s\u001b[0m 1ms/step - accuracy: 0.9900 - loss: 0.0351 - val_accuracy: 0.9865 - val_loss: 0.0354\n",
      "Epoch 37/40\n",
      "\u001b[1m2670/2670\u001b[0m \u001b[32m━━━━━━━━━━━━━━━━━━━━\u001b[0m\u001b[37m\u001b[0m \u001b[1m4s\u001b[0m 1ms/step - accuracy: 0.9902 - loss: 0.0342 - val_accuracy: 0.9868 - val_loss: 0.0345\n",
      "Epoch 38/40\n",
      "\u001b[1m2670/2670\u001b[0m \u001b[32m━━━━━━━━━━━━━━━━━━━━\u001b[0m\u001b[37m\u001b[0m \u001b[1m4s\u001b[0m 1ms/step - accuracy: 0.9902 - loss: 0.0356 - val_accuracy: 0.9871 - val_loss: 0.0337\n",
      "Epoch 39/40\n",
      "\u001b[1m2670/2670\u001b[0m \u001b[32m━━━━━━━━━━━━━━━━━━━━\u001b[0m\u001b[37m\u001b[0m \u001b[1m4s\u001b[0m 1ms/step - accuracy: 0.9905 - loss: 0.0344 - val_accuracy: 0.9875 - val_loss: 0.0329\n",
      "Epoch 40/40\n",
      "\u001b[1m2670/2670\u001b[0m \u001b[32m━━━━━━━━━━━━━━━━━━━━\u001b[0m\u001b[37m\u001b[0m \u001b[1m4s\u001b[0m 1ms/step - accuracy: 0.9906 - loss: 0.0333 - val_accuracy: 0.9877 - val_loss: 0.0323\n"
     ]
    }
   ],
   "source": [
    "callback = tf.keras.callbacks.EarlyStopping(monitor='loss', patience=2)\n",
    "history1 = model.fit(X_res, y_res, epochs=40, verbose=1, validation_split=0.1, batch_size=128, callbacks=[callback])"
   ]
  },
  {
   "cell_type": "markdown",
   "id": "1efa0707",
   "metadata": {
    "papermill": {
     "duration": 0.19253,
     "end_time": "2024-06-07T16:52:55.419702",
     "exception": false,
     "start_time": "2024-06-07T16:52:55.227172",
     "status": "completed"
    },
    "tags": []
   },
   "source": [
    "### Testing the model on a test set from the same distribution"
   ]
  },
  {
   "cell_type": "code",
   "execution_count": 14,
   "id": "6ffe3b90",
   "metadata": {
    "execution": {
     "iopub.execute_input": "2024-06-07T16:52:55.807147Z",
     "iopub.status.busy": "2024-06-07T16:52:55.806311Z",
     "iopub.status.idle": "2024-06-07T16:52:57.028779Z",
     "shell.execute_reply": "2024-06-07T16:52:57.027506Z"
    },
    "papermill": {
     "duration": 1.418872,
     "end_time": "2024-06-07T16:52:57.031220",
     "exception": false,
     "start_time": "2024-06-07T16:52:55.612348",
     "status": "completed"
    },
    "tags": []
   },
   "outputs": [
    {
     "name": "stdout",
     "output_type": "stream",
     "text": [
      "\u001b[1m733/733\u001b[0m \u001b[32m━━━━━━━━━━━━━━━━━━━━\u001b[0m\u001b[37m\u001b[0m \u001b[1m1s\u001b[0m 1ms/step  \n",
      "\n",
      "\n",
      "Confusion Matrixs\n",
      "[[ 2325    23]\n",
      " [  161 20921]]\n",
      "\n",
      "\n",
      "Evaluation metrics\n",
      "              precision    recall  f1-score   support\n",
      "\n",
      "           0    0.93524   0.99020   0.96194      2348\n",
      "           1    0.99890   0.99236   0.99562     21082\n",
      "\n",
      "    accuracy                        0.99215     23430\n",
      "   macro avg    0.96707   0.99128   0.97878     23430\n",
      "weighted avg    0.99252   0.99215   0.99225     23430\n",
      "\n"
     ]
    }
   ],
   "source": [
    "y_pred = model.predict(x_test_dos)\n",
    "y_pred = (y_pred > 0.5)\n",
    "print('\\n\\nConfusion Matrixs')\n",
    "print(confusion_matrix(y_test_dos, y_pred))\n",
    "print('\\n\\nEvaluation metrics')\n",
    "print(classification_report(y_test_dos, y_pred, digits=5))"
   ]
  },
  {
   "cell_type": "markdown",
   "id": "ef43c384",
   "metadata": {
    "papermill": {
     "duration": 0.194606,
     "end_time": "2024-06-07T16:52:57.419618",
     "exception": false,
     "start_time": "2024-06-07T16:52:57.225012",
     "status": "completed"
    },
    "tags": []
   },
   "source": [
    "### Evaluating the model as it meets different attacks"
   ]
  },
  {
   "cell_type": "code",
   "execution_count": 15,
   "id": "87453eb3",
   "metadata": {
    "execution": {
     "iopub.execute_input": "2024-06-07T16:52:57.807412Z",
     "iopub.status.busy": "2024-06-07T16:52:57.806603Z",
     "iopub.status.idle": "2024-06-07T16:53:01.255655Z",
     "shell.execute_reply": "2024-06-07T16:53:01.254214Z"
    },
    "papermill": {
     "duration": 3.644603,
     "end_time": "2024-06-07T16:53:01.258010",
     "exception": false,
     "start_time": "2024-06-07T16:52:57.613407",
     "status": "completed"
    },
    "tags": []
   },
   "outputs": [
    {
     "name": "stdout",
     "output_type": "stream",
     "text": [
      "\u001b[1m2356/2356\u001b[0m \u001b[32m━━━━━━━━━━━━━━━━━━━━\u001b[0m\u001b[37m\u001b[0m \u001b[1m2s\u001b[0m 959us/step\n",
      "\n",
      "\n",
      "Confusion Matrixs\n",
      "[[ 3899    61]\n",
      " [ 7239 64179]]\n",
      "\n",
      "\n",
      "Evaluation metrics\n",
      "              precision    recall  f1-score   support\n",
      "\n",
      "           0    0.35006   0.98460   0.51649      3960\n",
      "           1    0.99905   0.89864   0.94619     71418\n",
      "\n",
      "    accuracy                        0.90315     75378\n",
      "   macro avg    0.67456   0.94162   0.73134     75378\n",
      "weighted avg    0.96496   0.90315   0.92361     75378\n",
      "\n"
     ]
    }
   ],
   "source": [
    "y_pred = model.predict(X_test_all)\n",
    "y_pred = (y_pred > 0.5)\n",
    "print('\\n\\nConfusion Matrixs')\n",
    "print(confusion_matrix(y_test_all, y_pred))\n",
    "print('\\n\\nEvaluation metrics')\n",
    "print(classification_report(y_test_all, y_pred, digits=5))"
   ]
  },
  {
   "cell_type": "markdown",
   "id": "3a9f6443",
   "metadata": {
    "papermill": {
     "duration": 0.254544,
     "end_time": "2024-06-07T16:53:01.710721",
     "exception": false,
     "start_time": "2024-06-07T16:53:01.456177",
     "status": "completed"
    },
    "tags": []
   },
   "source": [
    "### Evaluating the model when it's being used in entirely different environment"
   ]
  },
  {
   "cell_type": "code",
   "execution_count": 16,
   "id": "8848ef2f",
   "metadata": {
    "execution": {
     "iopub.execute_input": "2024-06-07T16:53:02.099860Z",
     "iopub.status.busy": "2024-06-07T16:53:02.099439Z",
     "iopub.status.idle": "2024-06-07T16:53:03.188575Z",
     "shell.execute_reply": "2024-06-07T16:53:03.187358Z"
    },
    "papermill": {
     "duration": 1.28713,
     "end_time": "2024-06-07T16:53:03.191274",
     "exception": false,
     "start_time": "2024-06-07T16:53:01.904144",
     "status": "completed"
    },
    "tags": []
   },
   "outputs": [
    {
     "name": "stdout",
     "output_type": "stream",
     "text": [
      "\u001b[1m733/733\u001b[0m \u001b[32m━━━━━━━━━━━━━━━━━━━━\u001b[0m\u001b[37m\u001b[0m \u001b[1m1s\u001b[0m 993us/step\n",
      "\n",
      "\n",
      "Confusion Matrixs\n",
      "[[   12  2336]\n",
      " [    5 21077]]\n",
      "\n",
      "\n",
      "Evaluation metrics\n",
      "              precision    recall  f1-score   support\n",
      "\n",
      "           0    0.70588   0.00511   0.01015      2348\n",
      "           1    0.90023   0.99976   0.94739     21082\n",
      "\n",
      "    accuracy                        0.90009     23430\n",
      "   macro avg    0.80305   0.50244   0.47877     23430\n",
      "weighted avg    0.88075   0.90009   0.85346     23430\n",
      "\n"
     ]
    }
   ],
   "source": [
    "y_pred = model.predict(x_test_webbased)\n",
    "y_pred = (y_pred > 0.5)\n",
    "print('\\n\\nConfusion Matrixs')\n",
    "print(confusion_matrix(y_test_webbased, y_pred))\n",
    "print('\\n\\nEvaluation metrics')\n",
    "print(classification_report(y_test_webbased, y_pred, digits=5))"
   ]
  },
  {
   "cell_type": "code",
   "execution_count": 17,
   "id": "1b7eed9a",
   "metadata": {
    "execution": {
     "iopub.execute_input": "2024-06-07T16:53:03.591675Z",
     "iopub.status.busy": "2024-06-07T16:53:03.590664Z",
     "iopub.status.idle": "2024-06-07T16:53:05.211038Z",
     "shell.execute_reply": "2024-06-07T16:53:05.209861Z"
    },
    "papermill": {
     "duration": 1.823298,
     "end_time": "2024-06-07T16:53:05.213540",
     "exception": false,
     "start_time": "2024-06-07T16:53:03.390242",
     "status": "completed"
    },
    "tags": []
   },
   "outputs": [
    {
     "name": "stdout",
     "output_type": "stream",
     "text": [
      "\u001b[1m1073/1073\u001b[0m \u001b[32m━━━━━━━━━━━━━━━━━━━━\u001b[0m\u001b[37m\u001b[0m \u001b[1m1s\u001b[0m 974us/step\n",
      "\n",
      "\n",
      "Confusion Matrixs\n",
      "[[11035 22520]\n",
      " [  214   537]]\n",
      "\n",
      "\n",
      "Evaluation metrics\n",
      "              precision    recall  f1-score   support\n",
      "\n",
      "           0    0.98098   0.32886   0.49259     33555\n",
      "           1    0.02329   0.71505   0.04511       751\n",
      "\n",
      "    accuracy                        0.33732     34306\n",
      "   macro avg    0.50213   0.52195   0.26885     34306\n",
      "weighted avg    0.96001   0.33732   0.48279     34306\n",
      "\n"
     ]
    }
   ],
   "source": [
    "y_pred = model.predict(X_)\n",
    "y_pred = (y_pred > 0.5)\n",
    "print('\\n\\nConfusion Matrixs')\n",
    "print(confusion_matrix(y_, y_pred))\n",
    "print('\\n\\nEvaluation metrics')\n",
    "print(classification_report(y_, y_pred, digits=5))"
   ]
  }
 ],
 "metadata": {
  "kaggle": {
   "accelerator": "none",
   "dataSources": [
    {
     "datasetId": 5167123,
     "sourceId": 8629939,
     "sourceType": "datasetVersion"
    }
   ],
   "dockerImageVersionId": 30732,
   "isGpuEnabled": false,
   "isInternetEnabled": true,
   "language": "python",
   "sourceType": "notebook"
  },
  "kernelspec": {
   "display_name": "Python 3",
   "language": "python",
   "name": "python3"
  },
  "language_info": {
   "codemirror_mode": {
    "name": "ipython",
    "version": 3
   },
   "file_extension": ".py",
   "mimetype": "text/x-python",
   "name": "python",
   "nbconvert_exporter": "python",
   "pygments_lexer": "ipython3",
   "version": "3.10.13"
  },
  "papermill": {
   "default_parameters": {},
   "duration": 206.893557,
   "end_time": "2024-06-07T16:53:07.038921",
   "environment_variables": {},
   "exception": null,
   "input_path": "__notebook__.ipynb",
   "output_path": "__notebook__.ipynb",
   "parameters": {},
   "start_time": "2024-06-07T16:49:40.145364",
   "version": "2.5.0"
  }
 },
 "nbformat": 4,
 "nbformat_minor": 5
}
