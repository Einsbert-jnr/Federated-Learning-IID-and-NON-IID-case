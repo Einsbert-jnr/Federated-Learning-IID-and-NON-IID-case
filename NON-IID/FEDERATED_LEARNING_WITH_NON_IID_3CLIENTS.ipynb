{
  "cells": [
    {
      "cell_type": "code",
      "execution_count": null,
      "metadata": {
        "colab": {
          "base_uri": "https://localhost:8080/"
        },
        "id": "q3OTB1uZ8vFS",
        "outputId": "846808c4-96da-4d5c-e751-532c5442043b"
      },
      "outputs": [
        {
          "name": "stdout",
          "output_type": "stream",
          "text": [
            "\u001b[2K     \u001b[90m━━━━━━━━━━━━━━━━━━━━━━━━━━━━━━━━━━━━━━━━\u001b[0m \u001b[32m330.1/330.1 kB\u001b[0m \u001b[31m4.3 MB/s\u001b[0m eta \u001b[36m0:00:00\u001b[0m\n",
            "\u001b[2K     \u001b[90m━━━━━━━━━━━━━━━━━━━━━━━━━━━━━━━━━━━━━━━━\u001b[0m \u001b[32m294.6/294.6 kB\u001b[0m \u001b[31m5.2 MB/s\u001b[0m eta \u001b[36m0:00:00\u001b[0m\n",
            "\u001b[2K     \u001b[90m━━━━━━━━━━━━━━━━━━━━━━━━━━━━━━━━━━━━━━━━\u001b[0m \u001b[32m2.1/2.1 MB\u001b[0m \u001b[31m12.9 MB/s\u001b[0m eta \u001b[36m0:00:00\u001b[0m\n",
            "\u001b[2K     \u001b[90m━━━━━━━━━━━━━━━━━━━━━━━━━━━━━━━━━━━━━━━━\u001b[0m \u001b[32m3.1/3.1 MB\u001b[0m \u001b[31m21.9 MB/s\u001b[0m eta \u001b[36m0:00:00\u001b[0m\n",
            "\u001b[2K     \u001b[90m━━━━━━━━━━━━━━━━━━━━━━━━━━━━━━━━━━━━━━━━\u001b[0m \u001b[32m56.9/56.9 MB\u001b[0m \u001b[31m12.7 MB/s\u001b[0m eta \u001b[36m0:00:00\u001b[0m\n",
            "\u001b[?25h\u001b[31mERROR: pip's dependency resolver does not currently take into account all the packages that are installed. This behaviour is the source of the following dependency conflicts.\n",
            "tensorflow-metadata 1.15.0 requires protobuf<4.21,>=3.20.3; python_version < \"3.11\", but you have protobuf 4.25.3 which is incompatible.\u001b[0m\u001b[31m\n",
            "\u001b[0m"
          ]
        }
      ],
      "source": [
        "!pip install -q flwr[\"simulation\"] tensorflow\n"
      ]
    },
    {
      "cell_type": "code",
      "execution_count": null,
      "metadata": {
        "id": "53jgRvWPBpxE"
      },
      "outputs": [],
      "source": [
        "from typing import Dict, List, Tuple\n",
        "\n",
        "import tensorflow as tf\n",
        "\n",
        "import flwr as fl\n",
        "from flwr.common import Metrics\n",
        "from flwr.simulation.ray_transport.utils import enable_tf_gpu_growth\n",
        "import numpy as np\n",
        "import pandas as pd\n",
        "import matplotlib.pyplot as plt\n",
        "import tensorflow as tf\n",
        "from keras.models import load_model, Sequential\n",
        "from sklearn.metrics import confusion_matrix\n",
        "from sklearn.model_selection import train_test_split\n",
        "from sklearn.preprocessing import MinMaxScaler, StandardScaler\n",
        "from sklearn.metrics import classification_report\n",
        "import keras\n",
        "from keras.layers import Dense\n",
        "import seaborn as sns\n",
        "from google.colab import drive\n",
        "from functools import partial\n",
        "from sklearn.utils import shuffle\n",
        "\n",
        "np.random.seed(42)\n",
        "\n"
      ]
    },
    {
      "cell_type": "code",
      "execution_count": null,
      "metadata": {
        "colab": {
          "base_uri": "https://localhost:8080/"
        },
        "id": "8S0T2p49Kfaq",
        "outputId": "bd8e5bc6-8922-48d5-c8c1-49231b407ea7"
      },
      "outputs": [
        {
          "name": "stdout",
          "output_type": "stream",
          "text": [
            "Mounted at /content/drive\n"
          ]
        }
      ],
      "source": [
        "# drive.mount('/content/drive')"
      ]
    },
    {
      "cell_type": "code",
      "execution_count": null,
      "metadata": {
        "colab": {
          "base_uri": "https://localhost:8080/"
        },
        "id": "xDRPjFbuoIiP",
        "outputId": "bf3cbb70-62e2-48c1-8eb8-05ccabe33398"
      },
      "outputs": [
        {
          "name": "stdout",
          "output_type": "stream",
          "text": [
            "Mounted at /content/drive\n"
          ]
        }
      ],
      "source": [
        "from google.colab import drive\n",
        "drive.mount('/content/drive')"
      ]
    },
    {
      "cell_type": "code",
      "execution_count": null,
      "metadata": {
        "id": "ppj2_IBjQ0zQ"
      },
      "outputs": [],
      "source": [
        "ddos = pd.read_csv('/content/drive/MyDrive/Colab Notebooks/datasets/DDoS_client_1.csv')\n",
        "webbased = pd.read_csv('/content/drive/MyDrive/Colab Notebooks/datasets/WebBased_client_2.csv')\n",
        "# spoofing = pd.read_csv('/content/Spoofing_client_3.csv')\n",
        "# recon = pd.read_csv('/content/Recon_client_4.csv')\n",
        "dos = pd.read_csv('/content/drive/MyDrive/Colab Notebooks/datasets/Dos_client_5.csv')"
      ]
    },
    {
      "cell_type": "code",
      "execution_count": null,
      "metadata": {
        "colab": {
          "base_uri": "https://localhost:8080/",
          "height": 572
        },
        "id": "HwUj_uYsNB3R",
        "outputId": "c95fba49-69fe-439f-fd5f-5d2137629ea8"
      },
      "outputs": [
        {
          "name": "stdout",
          "output_type": "stream",
          "text": [
            "ddos \n",
            " (519478, 34)\n",
            "web based \n",
            " (34306, 34)\n",
            "dos \n",
            " (234299, 34)\n"
          ]
        },
        {
          "data": {
            "application/vnd.google.colaboratory.intrinsic+json": {
              "type": "dataframe",
              "variable_name": "ddos"
            },
            "text/html": [
              "\n",
              "  <div id=\"df-24337d41-b2b5-4714-8f05-de3125bbf87d\" class=\"colab-df-container\">\n",
              "    <div>\n",
              "<style scoped>\n",
              "    .dataframe tbody tr th:only-of-type {\n",
              "        vertical-align: middle;\n",
              "    }\n",
              "\n",
              "    .dataframe tbody tr th {\n",
              "        vertical-align: top;\n",
              "    }\n",
              "\n",
              "    .dataframe thead th {\n",
              "        text-align: right;\n",
              "    }\n",
              "</style>\n",
              "<table border=\"1\" class=\"dataframe\">\n",
              "  <thead>\n",
              "    <tr style=\"text-align: right;\">\n",
              "      <th></th>\n",
              "      <th>flow_duration</th>\n",
              "      <th>Header_Length</th>\n",
              "      <th>Protocol Type</th>\n",
              "      <th>Duration</th>\n",
              "      <th>Rate</th>\n",
              "      <th>Srate</th>\n",
              "      <th>Drate</th>\n",
              "      <th>fin_flag_number</th>\n",
              "      <th>syn_flag_number</th>\n",
              "      <th>rst_flag_number</th>\n",
              "      <th>...</th>\n",
              "      <th>TCP</th>\n",
              "      <th>UDP</th>\n",
              "      <th>ARP</th>\n",
              "      <th>ICMP</th>\n",
              "      <th>IPv</th>\n",
              "      <th>LLC</th>\n",
              "      <th>Tot sum</th>\n",
              "      <th>Tot size</th>\n",
              "      <th>IAT</th>\n",
              "      <th>label</th>\n",
              "    </tr>\n",
              "  </thead>\n",
              "  <tbody>\n",
              "    <tr>\n",
              "      <th>0</th>\n",
              "      <td>0.000000</td>\n",
              "      <td>54.00</td>\n",
              "      <td>6.00</td>\n",
              "      <td>64.00</td>\n",
              "      <td>18.961634</td>\n",
              "      <td>18.961634</td>\n",
              "      <td>0.0</td>\n",
              "      <td>1.0</td>\n",
              "      <td>0.0</td>\n",
              "      <td>1.0</td>\n",
              "      <td>...</td>\n",
              "      <td>1.0</td>\n",
              "      <td>0.0</td>\n",
              "      <td>0.0</td>\n",
              "      <td>0.0</td>\n",
              "      <td>1.0</td>\n",
              "      <td>1.0</td>\n",
              "      <td>567.00</td>\n",
              "      <td>54.00</td>\n",
              "      <td>8.334452e+07</td>\n",
              "      <td>1</td>\n",
              "    </tr>\n",
              "    <tr>\n",
              "      <th>1</th>\n",
              "      <td>0.000000</td>\n",
              "      <td>54.00</td>\n",
              "      <td>6.00</td>\n",
              "      <td>64.00</td>\n",
              "      <td>17.339716</td>\n",
              "      <td>17.339716</td>\n",
              "      <td>0.0</td>\n",
              "      <td>0.0</td>\n",
              "      <td>0.0</td>\n",
              "      <td>0.0</td>\n",
              "      <td>...</td>\n",
              "      <td>1.0</td>\n",
              "      <td>0.0</td>\n",
              "      <td>0.0</td>\n",
              "      <td>0.0</td>\n",
              "      <td>1.0</td>\n",
              "      <td>1.0</td>\n",
              "      <td>567.00</td>\n",
              "      <td>54.00</td>\n",
              "      <td>8.307208e+07</td>\n",
              "      <td>1</td>\n",
              "    </tr>\n",
              "    <tr>\n",
              "      <th>2</th>\n",
              "      <td>0.000000</td>\n",
              "      <td>54.00</td>\n",
              "      <td>6.00</td>\n",
              "      <td>64.00</td>\n",
              "      <td>37.503053</td>\n",
              "      <td>37.503053</td>\n",
              "      <td>0.0</td>\n",
              "      <td>0.0</td>\n",
              "      <td>0.0</td>\n",
              "      <td>0.0</td>\n",
              "      <td>...</td>\n",
              "      <td>1.0</td>\n",
              "      <td>0.0</td>\n",
              "      <td>0.0</td>\n",
              "      <td>0.0</td>\n",
              "      <td>1.0</td>\n",
              "      <td>1.0</td>\n",
              "      <td>567.00</td>\n",
              "      <td>54.00</td>\n",
              "      <td>8.333169e+07</td>\n",
              "      <td>1</td>\n",
              "    </tr>\n",
              "    <tr>\n",
              "      <th>3</th>\n",
              "      <td>0.000000</td>\n",
              "      <td>54.00</td>\n",
              "      <td>6.00</td>\n",
              "      <td>64.00</td>\n",
              "      <td>32.283211</td>\n",
              "      <td>32.283211</td>\n",
              "      <td>0.0</td>\n",
              "      <td>0.0</td>\n",
              "      <td>1.0</td>\n",
              "      <td>0.0</td>\n",
              "      <td>...</td>\n",
              "      <td>1.0</td>\n",
              "      <td>0.0</td>\n",
              "      <td>0.0</td>\n",
              "      <td>0.0</td>\n",
              "      <td>1.0</td>\n",
              "      <td>1.0</td>\n",
              "      <td>567.00</td>\n",
              "      <td>54.00</td>\n",
              "      <td>8.309439e+07</td>\n",
              "      <td>1</td>\n",
              "    </tr>\n",
              "    <tr>\n",
              "      <th>4</th>\n",
              "      <td>0.103837</td>\n",
              "      <td>34012.30</td>\n",
              "      <td>16.78</td>\n",
              "      <td>63.79</td>\n",
              "      <td>7069.744495</td>\n",
              "      <td>7069.744495</td>\n",
              "      <td>0.0</td>\n",
              "      <td>0.0</td>\n",
              "      <td>0.0</td>\n",
              "      <td>0.0</td>\n",
              "      <td>...</td>\n",
              "      <td>0.0</td>\n",
              "      <td>1.0</td>\n",
              "      <td>0.0</td>\n",
              "      <td>0.0</td>\n",
              "      <td>1.0</td>\n",
              "      <td>1.0</td>\n",
              "      <td>557.76</td>\n",
              "      <td>51.80</td>\n",
              "      <td>8.312387e+07</td>\n",
              "      <td>1</td>\n",
              "    </tr>\n",
              "    <tr>\n",
              "      <th>...</th>\n",
              "      <td>...</td>\n",
              "      <td>...</td>\n",
              "      <td>...</td>\n",
              "      <td>...</td>\n",
              "      <td>...</td>\n",
              "      <td>...</td>\n",
              "      <td>...</td>\n",
              "      <td>...</td>\n",
              "      <td>...</td>\n",
              "      <td>...</td>\n",
              "      <td>...</td>\n",
              "      <td>...</td>\n",
              "      <td>...</td>\n",
              "      <td>...</td>\n",
              "      <td>...</td>\n",
              "      <td>...</td>\n",
              "      <td>...</td>\n",
              "      <td>...</td>\n",
              "      <td>...</td>\n",
              "      <td>...</td>\n",
              "      <td>...</td>\n",
              "    </tr>\n",
              "    <tr>\n",
              "      <th>519473</th>\n",
              "      <td>0.070781</td>\n",
              "      <td>21825.00</td>\n",
              "      <td>17.00</td>\n",
              "      <td>64.00</td>\n",
              "      <td>6162.508840</td>\n",
              "      <td>6162.508840</td>\n",
              "      <td>0.0</td>\n",
              "      <td>0.0</td>\n",
              "      <td>0.0</td>\n",
              "      <td>0.0</td>\n",
              "      <td>...</td>\n",
              "      <td>0.0</td>\n",
              "      <td>1.0</td>\n",
              "      <td>0.0</td>\n",
              "      <td>0.0</td>\n",
              "      <td>1.0</td>\n",
              "      <td>1.0</td>\n",
              "      <td>525.00</td>\n",
              "      <td>50.00</td>\n",
              "      <td>8.310310e+07</td>\n",
              "      <td>1</td>\n",
              "    </tr>\n",
              "    <tr>\n",
              "      <th>519474</th>\n",
              "      <td>0.003539</td>\n",
              "      <td>12.05</td>\n",
              "      <td>1.25</td>\n",
              "      <td>63.23</td>\n",
              "      <td>39.502487</td>\n",
              "      <td>39.502487</td>\n",
              "      <td>0.0</td>\n",
              "      <td>0.0</td>\n",
              "      <td>0.0</td>\n",
              "      <td>0.0</td>\n",
              "      <td>...</td>\n",
              "      <td>0.0</td>\n",
              "      <td>0.0</td>\n",
              "      <td>0.0</td>\n",
              "      <td>1.0</td>\n",
              "      <td>1.0</td>\n",
              "      <td>1.0</td>\n",
              "      <td>9457.48</td>\n",
              "      <td>905.41</td>\n",
              "      <td>8.324982e+07</td>\n",
              "      <td>1</td>\n",
              "    </tr>\n",
              "    <tr>\n",
              "      <th>519475</th>\n",
              "      <td>0.831719</td>\n",
              "      <td>105.84</td>\n",
              "      <td>6.00</td>\n",
              "      <td>64.00</td>\n",
              "      <td>1.584386</td>\n",
              "      <td>1.584386</td>\n",
              "      <td>0.0</td>\n",
              "      <td>0.0</td>\n",
              "      <td>1.0</td>\n",
              "      <td>0.0</td>\n",
              "      <td>...</td>\n",
              "      <td>1.0</td>\n",
              "      <td>0.0</td>\n",
              "      <td>0.0</td>\n",
              "      <td>0.0</td>\n",
              "      <td>1.0</td>\n",
              "      <td>1.0</td>\n",
              "      <td>567.00</td>\n",
              "      <td>54.00</td>\n",
              "      <td>8.336248e+07</td>\n",
              "      <td>1</td>\n",
              "    </tr>\n",
              "    <tr>\n",
              "      <th>519476</th>\n",
              "      <td>0.001487</td>\n",
              "      <td>54.62</td>\n",
              "      <td>6.00</td>\n",
              "      <td>63.77</td>\n",
              "      <td>10.497196</td>\n",
              "      <td>10.497196</td>\n",
              "      <td>0.0</td>\n",
              "      <td>1.0</td>\n",
              "      <td>0.0</td>\n",
              "      <td>1.0</td>\n",
              "      <td>...</td>\n",
              "      <td>1.0</td>\n",
              "      <td>0.0</td>\n",
              "      <td>0.0</td>\n",
              "      <td>0.0</td>\n",
              "      <td>1.0</td>\n",
              "      <td>1.0</td>\n",
              "      <td>567.56</td>\n",
              "      <td>54.04</td>\n",
              "      <td>8.334916e+07</td>\n",
              "      <td>1</td>\n",
              "    </tr>\n",
              "    <tr>\n",
              "      <th>519477</th>\n",
              "      <td>0.233115</td>\n",
              "      <td>17027.50</td>\n",
              "      <td>16.83</td>\n",
              "      <td>63.36</td>\n",
              "      <td>1519.982774</td>\n",
              "      <td>1519.982774</td>\n",
              "      <td>0.0</td>\n",
              "      <td>0.0</td>\n",
              "      <td>0.0</td>\n",
              "      <td>0.0</td>\n",
              "      <td>...</td>\n",
              "      <td>0.0</td>\n",
              "      <td>1.0</td>\n",
              "      <td>0.0</td>\n",
              "      <td>0.0</td>\n",
              "      <td>1.0</td>\n",
              "      <td>1.0</td>\n",
              "      <td>526.40</td>\n",
              "      <td>50.10</td>\n",
              "      <td>8.310644e+07</td>\n",
              "      <td>1</td>\n",
              "    </tr>\n",
              "  </tbody>\n",
              "</table>\n",
              "<p>519478 rows × 34 columns</p>\n",
              "</div>\n",
              "    <div class=\"colab-df-buttons\">\n",
              "\n",
              "  <div class=\"colab-df-container\">\n",
              "    <button class=\"colab-df-convert\" onclick=\"convertToInteractive('df-24337d41-b2b5-4714-8f05-de3125bbf87d')\"\n",
              "            title=\"Convert this dataframe to an interactive table.\"\n",
              "            style=\"display:none;\">\n",
              "\n",
              "  <svg xmlns=\"http://www.w3.org/2000/svg\" height=\"24px\" viewBox=\"0 -960 960 960\">\n",
              "    <path d=\"M120-120v-720h720v720H120Zm60-500h600v-160H180v160Zm220 220h160v-160H400v160Zm0 220h160v-160H400v160ZM180-400h160v-160H180v160Zm440 0h160v-160H620v160ZM180-180h160v-160H180v160Zm440 0h160v-160H620v160Z\"/>\n",
              "  </svg>\n",
              "    </button>\n",
              "\n",
              "  <style>\n",
              "    .colab-df-container {\n",
              "      display:flex;\n",
              "      gap: 12px;\n",
              "    }\n",
              "\n",
              "    .colab-df-convert {\n",
              "      background-color: #E8F0FE;\n",
              "      border: none;\n",
              "      border-radius: 50%;\n",
              "      cursor: pointer;\n",
              "      display: none;\n",
              "      fill: #1967D2;\n",
              "      height: 32px;\n",
              "      padding: 0 0 0 0;\n",
              "      width: 32px;\n",
              "    }\n",
              "\n",
              "    .colab-df-convert:hover {\n",
              "      background-color: #E2EBFA;\n",
              "      box-shadow: 0px 1px 2px rgba(60, 64, 67, 0.3), 0px 1px 3px 1px rgba(60, 64, 67, 0.15);\n",
              "      fill: #174EA6;\n",
              "    }\n",
              "\n",
              "    .colab-df-buttons div {\n",
              "      margin-bottom: 4px;\n",
              "    }\n",
              "\n",
              "    [theme=dark] .colab-df-convert {\n",
              "      background-color: #3B4455;\n",
              "      fill: #D2E3FC;\n",
              "    }\n",
              "\n",
              "    [theme=dark] .colab-df-convert:hover {\n",
              "      background-color: #434B5C;\n",
              "      box-shadow: 0px 1px 3px 1px rgba(0, 0, 0, 0.15);\n",
              "      filter: drop-shadow(0px 1px 2px rgba(0, 0, 0, 0.3));\n",
              "      fill: #FFFFFF;\n",
              "    }\n",
              "  </style>\n",
              "\n",
              "    <script>\n",
              "      const buttonEl =\n",
              "        document.querySelector('#df-24337d41-b2b5-4714-8f05-de3125bbf87d button.colab-df-convert');\n",
              "      buttonEl.style.display =\n",
              "        google.colab.kernel.accessAllowed ? 'block' : 'none';\n",
              "\n",
              "      async function convertToInteractive(key) {\n",
              "        const element = document.querySelector('#df-24337d41-b2b5-4714-8f05-de3125bbf87d');\n",
              "        const dataTable =\n",
              "          await google.colab.kernel.invokeFunction('convertToInteractive',\n",
              "                                                    [key], {});\n",
              "        if (!dataTable) return;\n",
              "\n",
              "        const docLinkHtml = 'Like what you see? Visit the ' +\n",
              "          '<a target=\"_blank\" href=https://colab.research.google.com/notebooks/data_table.ipynb>data table notebook</a>'\n",
              "          + ' to learn more about interactive tables.';\n",
              "        element.innerHTML = '';\n",
              "        dataTable['output_type'] = 'display_data';\n",
              "        await google.colab.output.renderOutput(dataTable, element);\n",
              "        const docLink = document.createElement('div');\n",
              "        docLink.innerHTML = docLinkHtml;\n",
              "        element.appendChild(docLink);\n",
              "      }\n",
              "    </script>\n",
              "  </div>\n",
              "\n",
              "\n",
              "<div id=\"df-452d6b7b-b6e7-44e3-bb61-b06b178cdc87\">\n",
              "  <button class=\"colab-df-quickchart\" onclick=\"quickchart('df-452d6b7b-b6e7-44e3-bb61-b06b178cdc87')\"\n",
              "            title=\"Suggest charts\"\n",
              "            style=\"display:none;\">\n",
              "\n",
              "<svg xmlns=\"http://www.w3.org/2000/svg\" height=\"24px\"viewBox=\"0 0 24 24\"\n",
              "     width=\"24px\">\n",
              "    <g>\n",
              "        <path d=\"M19 3H5c-1.1 0-2 .9-2 2v14c0 1.1.9 2 2 2h14c1.1 0 2-.9 2-2V5c0-1.1-.9-2-2-2zM9 17H7v-7h2v7zm4 0h-2V7h2v10zm4 0h-2v-4h2v4z\"/>\n",
              "    </g>\n",
              "</svg>\n",
              "  </button>\n",
              "\n",
              "<style>\n",
              "  .colab-df-quickchart {\n",
              "      --bg-color: #E8F0FE;\n",
              "      --fill-color: #1967D2;\n",
              "      --hover-bg-color: #E2EBFA;\n",
              "      --hover-fill-color: #174EA6;\n",
              "      --disabled-fill-color: #AAA;\n",
              "      --disabled-bg-color: #DDD;\n",
              "  }\n",
              "\n",
              "  [theme=dark] .colab-df-quickchart {\n",
              "      --bg-color: #3B4455;\n",
              "      --fill-color: #D2E3FC;\n",
              "      --hover-bg-color: #434B5C;\n",
              "      --hover-fill-color: #FFFFFF;\n",
              "      --disabled-bg-color: #3B4455;\n",
              "      --disabled-fill-color: #666;\n",
              "  }\n",
              "\n",
              "  .colab-df-quickchart {\n",
              "    background-color: var(--bg-color);\n",
              "    border: none;\n",
              "    border-radius: 50%;\n",
              "    cursor: pointer;\n",
              "    display: none;\n",
              "    fill: var(--fill-color);\n",
              "    height: 32px;\n",
              "    padding: 0;\n",
              "    width: 32px;\n",
              "  }\n",
              "\n",
              "  .colab-df-quickchart:hover {\n",
              "    background-color: var(--hover-bg-color);\n",
              "    box-shadow: 0 1px 2px rgba(60, 64, 67, 0.3), 0 1px 3px 1px rgba(60, 64, 67, 0.15);\n",
              "    fill: var(--button-hover-fill-color);\n",
              "  }\n",
              "\n",
              "  .colab-df-quickchart-complete:disabled,\n",
              "  .colab-df-quickchart-complete:disabled:hover {\n",
              "    background-color: var(--disabled-bg-color);\n",
              "    fill: var(--disabled-fill-color);\n",
              "    box-shadow: none;\n",
              "  }\n",
              "\n",
              "  .colab-df-spinner {\n",
              "    border: 2px solid var(--fill-color);\n",
              "    border-color: transparent;\n",
              "    border-bottom-color: var(--fill-color);\n",
              "    animation:\n",
              "      spin 1s steps(1) infinite;\n",
              "  }\n",
              "\n",
              "  @keyframes spin {\n",
              "    0% {\n",
              "      border-color: transparent;\n",
              "      border-bottom-color: var(--fill-color);\n",
              "      border-left-color: var(--fill-color);\n",
              "    }\n",
              "    20% {\n",
              "      border-color: transparent;\n",
              "      border-left-color: var(--fill-color);\n",
              "      border-top-color: var(--fill-color);\n",
              "    }\n",
              "    30% {\n",
              "      border-color: transparent;\n",
              "      border-left-color: var(--fill-color);\n",
              "      border-top-color: var(--fill-color);\n",
              "      border-right-color: var(--fill-color);\n",
              "    }\n",
              "    40% {\n",
              "      border-color: transparent;\n",
              "      border-right-color: var(--fill-color);\n",
              "      border-top-color: var(--fill-color);\n",
              "    }\n",
              "    60% {\n",
              "      border-color: transparent;\n",
              "      border-right-color: var(--fill-color);\n",
              "    }\n",
              "    80% {\n",
              "      border-color: transparent;\n",
              "      border-right-color: var(--fill-color);\n",
              "      border-bottom-color: var(--fill-color);\n",
              "    }\n",
              "    90% {\n",
              "      border-color: transparent;\n",
              "      border-bottom-color: var(--fill-color);\n",
              "    }\n",
              "  }\n",
              "</style>\n",
              "\n",
              "  <script>\n",
              "    async function quickchart(key) {\n",
              "      const quickchartButtonEl =\n",
              "        document.querySelector('#' + key + ' button');\n",
              "      quickchartButtonEl.disabled = true;  // To prevent multiple clicks.\n",
              "      quickchartButtonEl.classList.add('colab-df-spinner');\n",
              "      try {\n",
              "        const charts = await google.colab.kernel.invokeFunction(\n",
              "            'suggestCharts', [key], {});\n",
              "      } catch (error) {\n",
              "        console.error('Error during call to suggestCharts:', error);\n",
              "      }\n",
              "      quickchartButtonEl.classList.remove('colab-df-spinner');\n",
              "      quickchartButtonEl.classList.add('colab-df-quickchart-complete');\n",
              "    }\n",
              "    (() => {\n",
              "      let quickchartButtonEl =\n",
              "        document.querySelector('#df-452d6b7b-b6e7-44e3-bb61-b06b178cdc87 button');\n",
              "      quickchartButtonEl.style.display =\n",
              "        google.colab.kernel.accessAllowed ? 'block' : 'none';\n",
              "    })();\n",
              "  </script>\n",
              "</div>\n",
              "\n",
              "  <div id=\"id_09fd5827-5b7a-4ddd-93f7-00851e9b1ea2\">\n",
              "    <style>\n",
              "      .colab-df-generate {\n",
              "        background-color: #E8F0FE;\n",
              "        border: none;\n",
              "        border-radius: 50%;\n",
              "        cursor: pointer;\n",
              "        display: none;\n",
              "        fill: #1967D2;\n",
              "        height: 32px;\n",
              "        padding: 0 0 0 0;\n",
              "        width: 32px;\n",
              "      }\n",
              "\n",
              "      .colab-df-generate:hover {\n",
              "        background-color: #E2EBFA;\n",
              "        box-shadow: 0px 1px 2px rgba(60, 64, 67, 0.3), 0px 1px 3px 1px rgba(60, 64, 67, 0.15);\n",
              "        fill: #174EA6;\n",
              "      }\n",
              "\n",
              "      [theme=dark] .colab-df-generate {\n",
              "        background-color: #3B4455;\n",
              "        fill: #D2E3FC;\n",
              "      }\n",
              "\n",
              "      [theme=dark] .colab-df-generate:hover {\n",
              "        background-color: #434B5C;\n",
              "        box-shadow: 0px 1px 3px 1px rgba(0, 0, 0, 0.15);\n",
              "        filter: drop-shadow(0px 1px 2px rgba(0, 0, 0, 0.3));\n",
              "        fill: #FFFFFF;\n",
              "      }\n",
              "    </style>\n",
              "    <button class=\"colab-df-generate\" onclick=\"generateWithVariable('ddos')\"\n",
              "            title=\"Generate code using this dataframe.\"\n",
              "            style=\"display:none;\">\n",
              "\n",
              "  <svg xmlns=\"http://www.w3.org/2000/svg\" height=\"24px\"viewBox=\"0 0 24 24\"\n",
              "       width=\"24px\">\n",
              "    <path d=\"M7,19H8.4L18.45,9,17,7.55,7,17.6ZM5,21V16.75L18.45,3.32a2,2,0,0,1,2.83,0l1.4,1.43a1.91,1.91,0,0,1,.58,1.4,1.91,1.91,0,0,1-.58,1.4L9.25,21ZM18.45,9,17,7.55Zm-12,3A5.31,5.31,0,0,0,4.9,8.1,5.31,5.31,0,0,0,1,6.5,5.31,5.31,0,0,0,4.9,4.9,5.31,5.31,0,0,0,6.5,1,5.31,5.31,0,0,0,8.1,4.9,5.31,5.31,0,0,0,12,6.5,5.46,5.46,0,0,0,6.5,12Z\"/>\n",
              "  </svg>\n",
              "    </button>\n",
              "    <script>\n",
              "      (() => {\n",
              "      const buttonEl =\n",
              "        document.querySelector('#id_09fd5827-5b7a-4ddd-93f7-00851e9b1ea2 button.colab-df-generate');\n",
              "      buttonEl.style.display =\n",
              "        google.colab.kernel.accessAllowed ? 'block' : 'none';\n",
              "\n",
              "      buttonEl.onclick = () => {\n",
              "        google.colab.notebook.generateWithVariable('ddos');\n",
              "      }\n",
              "      })();\n",
              "    </script>\n",
              "  </div>\n",
              "\n",
              "    </div>\n",
              "  </div>\n"
            ],
            "text/plain": [
              "        flow_duration  Header_Length  Protocol Type  Duration         Rate  \\\n",
              "0            0.000000          54.00           6.00     64.00    18.961634   \n",
              "1            0.000000          54.00           6.00     64.00    17.339716   \n",
              "2            0.000000          54.00           6.00     64.00    37.503053   \n",
              "3            0.000000          54.00           6.00     64.00    32.283211   \n",
              "4            0.103837       34012.30          16.78     63.79  7069.744495   \n",
              "...               ...            ...            ...       ...          ...   \n",
              "519473       0.070781       21825.00          17.00     64.00  6162.508840   \n",
              "519474       0.003539          12.05           1.25     63.23    39.502487   \n",
              "519475       0.831719         105.84           6.00     64.00     1.584386   \n",
              "519476       0.001487          54.62           6.00     63.77    10.497196   \n",
              "519477       0.233115       17027.50          16.83     63.36  1519.982774   \n",
              "\n",
              "              Srate  Drate  fin_flag_number  syn_flag_number  rst_flag_number  \\\n",
              "0         18.961634    0.0              1.0              0.0              1.0   \n",
              "1         17.339716    0.0              0.0              0.0              0.0   \n",
              "2         37.503053    0.0              0.0              0.0              0.0   \n",
              "3         32.283211    0.0              0.0              1.0              0.0   \n",
              "4       7069.744495    0.0              0.0              0.0              0.0   \n",
              "...             ...    ...              ...              ...              ...   \n",
              "519473  6162.508840    0.0              0.0              0.0              0.0   \n",
              "519474    39.502487    0.0              0.0              0.0              0.0   \n",
              "519475     1.584386    0.0              0.0              1.0              0.0   \n",
              "519476    10.497196    0.0              1.0              0.0              1.0   \n",
              "519477  1519.982774    0.0              0.0              0.0              0.0   \n",
              "\n",
              "        ...  TCP  UDP  ARP  ICMP  IPv  LLC  Tot sum  Tot size           IAT  \\\n",
              "0       ...  1.0  0.0  0.0   0.0  1.0  1.0   567.00     54.00  8.334452e+07   \n",
              "1       ...  1.0  0.0  0.0   0.0  1.0  1.0   567.00     54.00  8.307208e+07   \n",
              "2       ...  1.0  0.0  0.0   0.0  1.0  1.0   567.00     54.00  8.333169e+07   \n",
              "3       ...  1.0  0.0  0.0   0.0  1.0  1.0   567.00     54.00  8.309439e+07   \n",
              "4       ...  0.0  1.0  0.0   0.0  1.0  1.0   557.76     51.80  8.312387e+07   \n",
              "...     ...  ...  ...  ...   ...  ...  ...      ...       ...           ...   \n",
              "519473  ...  0.0  1.0  0.0   0.0  1.0  1.0   525.00     50.00  8.310310e+07   \n",
              "519474  ...  0.0  0.0  0.0   1.0  1.0  1.0  9457.48    905.41  8.324982e+07   \n",
              "519475  ...  1.0  0.0  0.0   0.0  1.0  1.0   567.00     54.00  8.336248e+07   \n",
              "519476  ...  1.0  0.0  0.0   0.0  1.0  1.0   567.56     54.04  8.334916e+07   \n",
              "519477  ...  0.0  1.0  0.0   0.0  1.0  1.0   526.40     50.10  8.310644e+07   \n",
              "\n",
              "        label  \n",
              "0           1  \n",
              "1           1  \n",
              "2           1  \n",
              "3           1  \n",
              "4           1  \n",
              "...       ...  \n",
              "519473      1  \n",
              "519474      1  \n",
              "519475      1  \n",
              "519476      1  \n",
              "519477      1  \n",
              "\n",
              "[519478 rows x 34 columns]"
            ]
          },
          "execution_count": 8,
          "metadata": {},
          "output_type": "execute_result"
        }
      ],
      "source": [
        "print(f\"ddos \\n {ddos.shape}\")\n",
        "print(f\"web based \\n {webbased.shape}\")\n",
        "print(f\"dos \\n {dos.shape}\")\n",
        "# print(f\"spoofing \\n {spoofing.shape}\")\n",
        "# print(f\"recon \\n {recon.shape}\") # I have taken the reconnaince out\n",
        "\n",
        "ddos"
      ]
    },
    {
      "cell_type": "code",
      "execution_count": null,
      "metadata": {
        "colab": {
          "base_uri": "https://localhost:8080/"
        },
        "id": "3B_5C89E1Aj0",
        "outputId": "c94cd419-396d-4f05-f7e3-1f7f3d1e3dab"
      },
      "outputs": [
        {
          "name": "stderr",
          "output_type": "stream",
          "text": [
            "/usr/local/lib/python3.10/dist-packages/imblearn/utils/_validation.py:313: UserWarning: After over-sampling, the number of samples (210944) in class 0 will be larger than the number of samples in the majority class (class #1 -> 189805)\n",
            "  warnings.warn(\n"
          ]
        }
      ],
      "source": [
        "file_paths = [\n",
        "    '/content/drive/MyDrive/Colab Notebooks/datasets/DDoS_client_1.csv',\n",
        "    '/content/drive/MyDrive/Colab Notebooks/datasets/WebBased_client_2.csv',\n",
        "    # '/content/Spoofing_client_3.csv',\n",
        "    # '/content/Recon_client_4.csv',\n",
        "    '/content/drive/MyDrive/Colab Notebooks/datasets/Dos_client_5.csv'\n",
        "]\n",
        "\n",
        "from imblearn.over_sampling import SMOTE\n",
        "\n",
        "global_X_train, global_y_train = [], []\n",
        "global_X_, global_y_ = [], []\n",
        "\n",
        "# Load datasets and split into global training and global test sets\n",
        "for file_path in file_paths:\n",
        "    df = pd.read_csv(file_path)\n",
        "\n",
        "    df = shuffle(df).reset_index(drop=True)\n",
        "\n",
        "\n",
        "\n",
        "    # Split the dataset into features (X) and target variable (y)\n",
        "    # Assuming the last column is the target variable\n",
        "    X = df.iloc[:, :-1]\n",
        "    y = df.iloc[:, -1]\n",
        "\n",
        "    # Split into global training and global test sets\n",
        "    X_train, X_test, y_train, y_test = train_test_split(X, y, test_size=0.1, random_state=42)\n",
        "\n",
        "    # Scale the features\n",
        "    scaler = StandardScaler()\n",
        "    X_train = scaler.fit_transform(X_train)\n",
        "    X_test = scaler.transform(X_test)\n",
        "\n",
        "\n",
        "    if '/content/drive/MyDrive/Colab Notebooks/datasets/Dos_client_5.csv' in file_path:\n",
        "      # Assume X_train and y_train are your data\n",
        "      sm = SMOTE(sampling_strategy={0: 210944}, random_state=42)\n",
        "      X_res, y_res = sm.fit_resample(X_train, y_train)\n",
        "      X_train = X_res\n",
        "      y_train = y_res\n",
        "\n",
        "    # Append the global training and global test sets to the respective lists\n",
        "    global_X_train.append(X_train)\n",
        "    global_y_train.append(y_train)\n",
        "\n",
        "    global_X_.append(X_test)\n",
        "    global_y_.append(y_test)\n"
      ]
    },
    {
      "cell_type": "code",
      "execution_count": null,
      "metadata": {
        "colab": {
          "base_uri": "https://localhost:8080/"
        },
        "id": "te5EbGaaQ2D2",
        "outputId": "1f82fe4d-f69d-48f7-800b-3324d037dd06"
      },
      "outputs": [
        {
          "name": "stdout",
          "output_type": "stream",
          "text": [
            "Global test X shape: (78809, 33)\n",
            "Global test y shape: (78809,)\n"
          ]
        },
        {
          "data": {
            "text/plain": [
              "array([[-0.08841058, -0.07203763,  2.07750965, ..., -0.1829034 ,\n",
              "        -0.19767222, -0.00729937],\n",
              "       [-0.09902586, -0.12937802, -0.15122833, ..., -0.1866193 ,\n",
              "        -0.19261828, -0.00847783],\n",
              "       [-0.09902586, -0.12937123, -0.12894095, ..., -0.17324642,\n",
              "        -0.18303486, -0.00999013],\n",
              "       ...,\n",
              "       [-0.03878092, -0.30881091, -0.6927967 , ..., -0.46591712,\n",
              "        -0.48375835, -0.00617884],\n",
              "       [ 0.31012373, -0.25075305, -0.6927967 , ...,  0.24307284,\n",
              "        -0.30469238,  3.16257515],\n",
              "       [ 0.86780388,  0.32507698, -0.58745979, ...,  0.66584016,\n",
              "         1.06582666, -3.15091598]])"
            ]
          },
          "execution_count": 30,
          "metadata": {},
          "output_type": "execute_result"
        }
      ],
      "source": [
        "# Concatenate global test sets from each file\n",
        "global_X_test = np.concatenate(global_X_)\n",
        "global_y_test = np.concatenate(global_y_)\n",
        "\n",
        "# Print the shape of concatenated global test sets\n",
        "print(\"Global test X shape:\", global_X_test.shape)\n",
        "print(\"Global test y shape:\", global_y_test.shape)\n",
        "\n",
        "global_X_test"
      ]
    },
    {
      "cell_type": "markdown",
      "metadata": {
        "id": "8brn81h3hfsm"
      },
      "source": [
        "**Partitioning for the various local clients (Train, Test & Validation)**"
      ]
    },
    {
      "cell_type": "code",
      "execution_count": null,
      "metadata": {
        "colab": {
          "base_uri": "https://localhost:8080/"
        },
        "id": "Wl00-wx61JFw",
        "outputId": "c8c546aa-cd49-4e5e-d0e7-a65920358c55"
      },
      "outputs": [
        {
          "name": "stdout",
          "output_type": "stream",
          "text": [
            "Global test X shape: (78809, 33)\n",
            "Global test y shape: (78809,)\n"
          ]
        }
      ],
      "source": [
        "# Function to split the global training sets into train, validation, and test sets individually\n",
        "def split_individual_train_sets(global_X_train, global_y_train, train_split=0.99):\n",
        "    X_trains_split, y_trains_split = {}, {}\n",
        "    X_vals_split, y_vals_split = {}, {}\n",
        "\n",
        "    for idx, (X, y) in enumerate(zip(global_X_train,  global_y_train)):\n",
        "        num_data = X.shape[0]\n",
        "        train_end_idx = int(train_split * num_data)\n",
        "\n",
        "        X_trains_split[str(idx)] = X[:train_end_idx]\n",
        "        y_trains_split[str(idx)] = y[:train_end_idx]\n",
        "\n",
        "        X_vals_split[str(idx)] = X[train_end_idx:]\n",
        "        y_vals_split[str(idx)] = y[train_end_idx:]\n",
        "\n",
        "    return X_trains_split, y_trains_split, X_vals_split, y_vals_split\n",
        "\n",
        "\n",
        "# Print shapes of the combined datasets\n",
        "print(f\"Global test X shape: {global_X_test.shape}\")\n",
        "print(f\"Global test y shape: {global_y_test.shape}\")\n"
      ]
    },
    {
      "cell_type": "code",
      "execution_count": null,
      "metadata": {
        "id": "B2z-TZVxNRJt"
      },
      "outputs": [],
      "source": [
        "def get_model():\n",
        "  model = Sequential()\n",
        "  model.add(tf.keras.layers.Input(shape=(33,)),)\n",
        "  model.add(Dense(4, activation='relu'),)\n",
        "  model.add(Dense(4, activation='relu'),)\n",
        "  model.add(Dense(1, activation='sigmoid'),)\n",
        "  model.compile(optimizer=tf.keras.optimizers.Adam(), loss=\"binary_crossentropy\", metrics=['accuracy'])\n",
        "  return model"
      ]
    },
    {
      "cell_type": "code",
      "execution_count": null,
      "metadata": {
        "id": "27u_YU4lXw77"
      },
      "outputs": [],
      "source": [
        "VERBOSE = 0\n",
        "NUM_CLIENTS = 3\n",
        "class FlowerClient(fl.client.NumPyClient):\n",
        "    def __init__(self, model, X_train, y_train, X_val, y_val,):\n",
        "        self.model = get_model()\n",
        "        # self.model.build(self, input_shape=(None, 43))\n",
        "        self.X_train = X_train\n",
        "        self.y_train = y_train\n",
        "        self.X_val = X_val\n",
        "        self.y_val = y_val\n",
        "\n",
        "    def get_parameters(self, config):\n",
        "        return self.model.get_weights()\n",
        "\n",
        "    def fit(self, parameters, config):\n",
        "        self.model.set_weights(parameters)\n",
        "        self.model.fit(self.X_train, self.y_train, epochs=5, batch_size=128, verbose=VERBOSE)\n",
        "        return self.model.get_weights(), len(self.X_train), {}\n",
        "\n",
        "    def evaluate(self, parameters, config):\n",
        "        self.model.set_weights(parameters)\n",
        "        loss, accuracy = self.model.evaluate(self.X_val, self.y_val)\n",
        "        # Generate predictions\n",
        "        # y_pred = self.model.predict(self.X_test,verbose=VERBOSE)\n",
        "        # y_pred = (y_pred > 0.5)\n",
        "\n",
        "        # Compute classification report\n",
        "        # class_report = classification_report(self.y_test, y_pred, digits=5, zero_division=0)\n",
        "\n",
        "        return loss, len(self.X_val), {\"loss\": loss, \"accuracy\": accuracy}\n"
      ]
    },
    {
      "cell_type": "code",
      "execution_count": null,
      "metadata": {
        "id": "UsutgpfGYM6V"
      },
      "outputs": [],
      "source": [
        "## Defining the client function\n",
        "def create_client(cid, X_trains, y_trains, X_vals, y_vals) -> fl.client.Client:\n",
        "    \"\"\"Create a Flower client representing a single organization.\"\"\"\n",
        "    model = get_model()  # Pass model_class as an argument\n",
        "\n",
        "    return FlowerClient(model, X_trains[cid], y_trains[cid], X_vals[cid], y_vals[cid]).to_client()\n",
        "\n",
        "X_trains_split, y_trains_split, X_vals_split, y_vals_split = split_individual_train_sets(global_X_train, global_y_train)\n",
        "\n",
        "client_fnc = partial(\n",
        "    create_client,\n",
        "    # model_class=ANN,\n",
        "    X_trains=X_trains_split,\n",
        "    y_trains=y_trains_split,\n",
        "    X_vals=X_vals_split,\n",
        "    y_vals=y_vals_split,\n",
        ")"
      ]
    },
    {
      "cell_type": "code",
      "execution_count": null,
      "metadata": {
        "id": "F9FdO1KydFwE"
      },
      "outputs": [],
      "source": [
        "def weighted_average(metrics):\n",
        "    total_samples = sum(num_samples for num_samples, _ in metrics)\n",
        "    agg_loss = sum(num_samples * m.get(\"loss\",0) for num_samples, m in metrics) / total_samples\n",
        "    agg_accuracy = sum(num_samples * m.get(\"accuracy\",1) for num_samples, m in metrics) / total_samples\n",
        "\n",
        "    # Collect classification reports\n",
        "    # classification_reports = [m.get(\"classification_report\", \"\") for _, m in metrics]\n",
        "\n",
        "    # Print each classification report with client number\n",
        "    # for i, report in enumerate(classification_reports):\n",
        "    #     print(f\"Classification report for client {i+1}:\\n{report}\\n\")\n",
        "\n",
        "    return {\"agg_loss\": agg_loss, \"agg_accuracy\": agg_accuracy}\n",
        "\n",
        "from typing import Dict, List, Tuple\n",
        "\n",
        "def get_evaluate_fn(X_test, y_test):\n",
        "    \"\"\"Return an evaluation function for server-side (i.e. centralised) evaluation.\"\"\"\n",
        "\n",
        "    # The `evaluate` function will be called after every round by the strategy\n",
        "    def evaluate(\n",
        "        server_round: int,\n",
        "        parameters: fl.common.NDArrays,\n",
        "        config: Dict[str, fl.common.Scalar],\n",
        "    ):\n",
        "        model = get_model()  # Construct the model\n",
        "        # model.compile(optimizer=\"adam\", loss=\"binary_crossentropy\", metrics=[\"accuracy\"])\n",
        "        model.set_weights(parameters)  # Update model with the latest parameters\n",
        "        loss, accuracy = model.evaluate(X_test, y_test, verbose=VERBOSE)\n",
        "        y_pred = model.predict(X_test)\n",
        "        y_pred = (y_pred > 0.5)\n",
        "        class_report = classification_report(y_test, y_pred, digits=5, zero_division=0)\n",
        "\n",
        "        return loss, {\"loss\":loss, \"accuracy\": accuracy, \"Centralised report\": class_report}\n",
        "\n",
        "    return evaluate\n",
        "\n",
        "# Create FedAvg strategy\n",
        "strategy = fl.server.strategy.FedAvg(\n",
        "    fraction_fit=1.0,  # Sample 100% of available clients for training\n",
        "    fraction_evaluate=1.0,  # Sample 100% of available clients for evaluation\n",
        "    min_fit_clients=NUM_CLIENTS,  # Never sample less than the number of clients for training\n",
        "    min_evaluate_clients=NUM_CLIENTS,  # Never sample less than the number of clients for evaluation\n",
        "    min_available_clients=NUM_CLIENTS,  # Wait until all the number of clients are available\n",
        "    evaluate_metrics_aggregation_fn=weighted_average, # aggregates federated metrics\n",
        "    evaluate_fn=get_evaluate_fn(global_X_test,global_y_test),## global evaluation function\n",
        ")\n",
        "\n"
      ]
    },
    {
      "cell_type": "code",
      "execution_count": null,
      "metadata": {
        "colab": {
          "background_save": true,
          "base_uri": "https://localhost:8080/"
        },
        "id": "HRHpwa7-dxND",
        "outputId": "b98cf599-7fe5-43b4-aaaa-598766d7b2e6"
      },
      "outputs": [
        {
          "name": "stderr",
          "output_type": "stream",
          "text": [
            "\u001b[92mINFO \u001b[0m:      Starting Flower simulation, config: num_rounds=40, no round_timeout\n",
            "INFO:flwr:Starting Flower simulation, config: num_rounds=40, no round_timeout\n",
            "/usr/lib/python3.10/subprocess.py:1796: RuntimeWarning: os.fork() was called. os.fork() is incompatible with multithreaded code, and JAX is multithreaded, so this will likely lead to a deadlock.\n",
            "  self.pid = _posixsubprocess.fork_exec(\n",
            "2024-06-07 18:03:22,302\tINFO worker.py:1621 -- Started a local Ray instance.\n",
            "\u001b[92mINFO \u001b[0m:      Flower VCE: Ray initialized with resources: {'memory': 7692015207.0, 'object_store_memory': 3846007603.0, 'node:__internal_head__': 1.0, 'node:172.28.0.12': 1.0, 'CPU': 1.0}\n",
            "INFO:flwr:Flower VCE: Ray initialized with resources: {'memory': 7692015207.0, 'object_store_memory': 3846007603.0, 'node:__internal_head__': 1.0, 'node:172.28.0.12': 1.0, 'CPU': 1.0}\n",
            "\u001b[92mINFO \u001b[0m:      Optimize your simulation with Flower VCE: https://flower.ai/docs/framework/how-to-run-simulations.html\n",
            "INFO:flwr:Optimize your simulation with Flower VCE: https://flower.ai/docs/framework/how-to-run-simulations.html\n",
            "\u001b[92mINFO \u001b[0m:      Flower VCE: Resources for each Virtual Client: {'num_cpus': 1, 'num_gpus': 0}\n",
            "INFO:flwr:Flower VCE: Resources for each Virtual Client: {'num_cpus': 1, 'num_gpus': 0}\n",
            "\u001b[92mINFO \u001b[0m:      Flower VCE: Creating VirtualClientEngineActorPool with 1 actors\n",
            "INFO:flwr:Flower VCE: Creating VirtualClientEngineActorPool with 1 actors\n",
            "\u001b[92mINFO \u001b[0m:      [INIT]\n",
            "INFO:flwr:[INIT]\n",
            "\u001b[92mINFO \u001b[0m:      Requesting initial parameters from one random client\n",
            "INFO:flwr:Requesting initial parameters from one random client\n",
            "\u001b[2m\u001b[36m(pid=33088)\u001b[0m 2024-06-07 18:03:26.486162: E external/local_xla/xla/stream_executor/cuda/cuda_dnn.cc:9261] Unable to register cuDNN factory: Attempting to register factory for plugin cuDNN when one has already been registered\n",
            "\u001b[2m\u001b[36m(pid=33088)\u001b[0m 2024-06-07 18:03:26.486245: E external/local_xla/xla/stream_executor/cuda/cuda_fft.cc:607] Unable to register cuFFT factory: Attempting to register factory for plugin cuFFT when one has already been registered\n",
            "\u001b[2m\u001b[36m(pid=33088)\u001b[0m 2024-06-07 18:03:26.489068: E external/local_xla/xla/stream_executor/cuda/cuda_blas.cc:1515] Unable to register cuBLAS factory: Attempting to register factory for plugin cuBLAS when one has already been registered\n",
            "\u001b[2m\u001b[36m(pid=33088)\u001b[0m 2024-06-07 18:03:28.406137: W tensorflow/compiler/tf2tensorrt/utils/py_utils.cc:38] TF-TRT Warning: Could not find TensorRT\n",
            "\u001b[92mINFO \u001b[0m:      Received initial parameters from one random client\n",
            "INFO:flwr:Received initial parameters from one random client\n",
            "\u001b[92mINFO \u001b[0m:      Evaluating initial global parameters\n",
            "INFO:flwr:Evaluating initial global parameters\n"
          ]
        },
        {
          "name": "stdout",
          "output_type": "stream",
          "text": [
            "2463/2463 [==============================] - 3s 1ms/step\n"
          ]
        },
        {
          "name": "stderr",
          "output_type": "stream",
          "text": [
            "\u001b[92mINFO \u001b[0m:      initial parameters (loss, other metrics): 0.5633272528648376, {'loss': 0.5633272528648376, 'accuracy': 0.9144006371498108, 'Centralised report': '              precision    recall  f1-score   support\\n\\n           0    0.94815   0.07082   0.13179      7230\\n           1    0.91417   0.99961   0.95498     71579\\n\\n    accuracy                        0.91440     78809\\n   macro avg    0.93116   0.53521   0.54338     78809\\nweighted avg    0.91729   0.91440   0.87946     78809\\n'}\n",
            "INFO:flwr:initial parameters (loss, other metrics): 0.5633272528648376, {'loss': 0.5633272528648376, 'accuracy': 0.9144006371498108, 'Centralised report': '              precision    recall  f1-score   support\\n\\n           0    0.94815   0.07082   0.13179      7230\\n           1    0.91417   0.99961   0.95498     71579\\n\\n    accuracy                        0.91440     78809\\n   macro avg    0.93116   0.53521   0.54338     78809\\nweighted avg    0.91729   0.91440   0.87946     78809\\n'}\n",
            "\u001b[92mINFO \u001b[0m:      \n",
            "INFO:flwr:\n",
            "\u001b[92mINFO \u001b[0m:      [ROUND 1]\n",
            "INFO:flwr:[ROUND 1]\n",
            "\u001b[92mINFO \u001b[0m:      configure_fit: strategy sampled 3 clients (out of 3)\n",
            "INFO:flwr:configure_fit: strategy sampled 3 clients (out of 3)\n",
            "\u001b[92mINFO \u001b[0m:      aggregate_fit: received 3 results and 0 failures\n",
            "INFO:flwr:aggregate_fit: received 3 results and 0 failures\n",
            "\u001b[93mWARNING \u001b[0m:   No fit_metrics_aggregation_fn provided\n",
            "WARNING:flwr:No fit_metrics_aggregation_fn provided\n"
          ]
        },
        {
          "name": "stdout",
          "output_type": "stream",
          "text": [
            "2463/2463 [==============================] - 3s 1ms/step\n"
          ]
        },
        {
          "name": "stderr",
          "output_type": "stream",
          "text": [
            "\u001b[92mINFO \u001b[0m:      fit progress: (1, 0.593224823474884, {'loss': 0.593224823474884, 'accuracy': 0.8792269825935364, 'Centralised report': '              precision    recall  f1-score   support\\n\\n           0    0.38736   0.54412   0.45255      7230\\n           1    0.95199   0.91308   0.93213     71579\\n\\n    accuracy                        0.87923     78809\\n   macro avg    0.66967   0.72860   0.69234     78809\\nweighted avg    0.90019   0.87923   0.88813     78809\\n'}, 79.80394400500063)\n",
            "INFO:flwr:fit progress: (1, 0.593224823474884, {'loss': 0.593224823474884, 'accuracy': 0.8792269825935364, 'Centralised report': '              precision    recall  f1-score   support\\n\\n           0    0.38736   0.54412   0.45255      7230\\n           1    0.95199   0.91308   0.93213     71579\\n\\n    accuracy                        0.87923     78809\\n   macro avg    0.66967   0.72860   0.69234     78809\\nweighted avg    0.90019   0.87923   0.88813     78809\\n'}, 79.80394400500063)\n",
            "\u001b[92mINFO \u001b[0m:      configure_evaluate: strategy sampled 3 clients (out of 3)\n",
            "INFO:flwr:configure_evaluate: strategy sampled 3 clients (out of 3)\n"
          ]
        },
        {
          "name": "stdout",
          "output_type": "stream",
          "text": [
            "10/10 [==============================] - 0s 2ms/step - loss: 5.9376 - accuracy: 0.2686\n",
            " 39/126 [========>.....................] - ETA: 0s - loss: 0.7203 - accuracy: 0.7861 \n",
            "126/126 [==============================] - 0s 1ms/step - loss: 0.7486 - accuracy: 0.7779\n",
            "  1/147 [..............................] - ETA: 28s - loss: 0.4601 - accuracy: 0.8750\n",
            " 79/147 [===============>..............] - ETA: 0s - loss: 0.4236 - accuracy: 0.8805\n"
          ]
        },
        {
          "name": "stderr",
          "output_type": "stream",
          "text": [
            "\u001b[92mINFO \u001b[0m:      aggregate_evaluate: received 3 results and 0 failures\n",
            "INFO:flwr:aggregate_evaluate: received 3 results and 0 failures\n",
            "\u001b[92mINFO \u001b[0m:      \n",
            "INFO:flwr:\n",
            "\u001b[92mINFO \u001b[0m:      [ROUND 2]\n",
            "INFO:flwr:[ROUND 2]\n",
            "\u001b[92mINFO \u001b[0m:      configure_fit: strategy sampled 3 clients (out of 3)\n",
            "INFO:flwr:configure_fit: strategy sampled 3 clients (out of 3)\n"
          ]
        },
        {
          "name": "stdout",
          "output_type": "stream",
          "text": [
            "\u001b[2m\u001b[36m(ClientAppActor pid=33088)\u001b[0m \b\b\b\b\b\b\b\b\b\b\b\b\b\b\b\b\b\b\b\b\b\b\b\b\b\b\b\b\b\b\b\b\b\b\b\b\b\b\b\b\b\b\b\b\b\b\b\b\b\b\b\b\b\b\b\b\b\b\b\b\b\b\b\b\b\b\b\b\b\b\b\b\b\b\b\b\b\b\b\b\b\b\b\b\r115/147 [======================>.......] - ETA: 0s - loss: 0.4452 - accuracy: 0.8745\b\b\b\b\b\b\b\b\b\b\b\b\b\b\b\b\b\b\b\b\b\b\b\b\b\b\b\b\b\b\b\b\b\b\b\b\b\b\b\b\b\b\b\b\b\b\b\b\b\b\b\b\b\b\b\b\b\b\b\b\b\b\b\b\b\b\b\b\b\b\b\b\b\b\b\b\b\b\b\b\b\b\b\b\r147/147 [==============================] - 0s 1ms/step - loss: 0.4494 - accuracy: 0.8728\n"
          ]
        },
        {
          "name": "stderr",
          "output_type": "stream",
          "text": [
            "\u001b[92mINFO \u001b[0m:      aggregate_fit: received 3 results and 0 failures\n",
            "INFO:flwr:aggregate_fit: received 3 results and 0 failures\n"
          ]
        },
        {
          "name": "stdout",
          "output_type": "stream",
          "text": [
            "2463/2463 [==============================] - 3s 1ms/step\n"
          ]
        },
        {
          "name": "stderr",
          "output_type": "stream",
          "text": [
            "\u001b[92mINFO \u001b[0m:      fit progress: (2, 0.8698111176490784, {'loss': 0.8698111176490784, 'accuracy': 0.8697737455368042, 'Centralised report': '              precision    recall  f1-score   support\\n\\n           0    0.33489   0.42545   0.37478      7230\\n           1    0.94034   0.91465   0.92732     71579\\n\\n    accuracy                        0.86977     78809\\n   macro avg    0.63762   0.67005   0.65105     78809\\nweighted avg    0.88479   0.86977   0.87663     78809\\n'}, 160.71613562600032)\n",
            "INFO:flwr:fit progress: (2, 0.8698111176490784, {'loss': 0.8698111176490784, 'accuracy': 0.8697737455368042, 'Centralised report': '              precision    recall  f1-score   support\\n\\n           0    0.33489   0.42545   0.37478      7230\\n           1    0.94034   0.91465   0.92732     71579\\n\\n    accuracy                        0.86977     78809\\n   macro avg    0.63762   0.67005   0.65105     78809\\nweighted avg    0.88479   0.86977   0.87663     78809\\n'}, 160.71613562600032)\n",
            "\u001b[92mINFO \u001b[0m:      configure_evaluate: strategy sampled 3 clients (out of 3)\n",
            "INFO:flwr:configure_evaluate: strategy sampled 3 clients (out of 3)\n"
          ]
        },
        {
          "name": "stdout",
          "output_type": "stream",
          "text": [
            "  1/147 [..............................] - ETA: 30s - loss: 0.4885 - accuracy: 0.8750\n",
            " 67/147 [============>.................] - ETA: 0s - loss: 0.5422 - accuracy: 0.8741\n",
            "147/147 [==============================] - 0s 1ms/step - loss: 0.5482 - accuracy: 0.8715\n",
            " 38/126 [========>.....................] - ETA: 0s - loss: 1.6305 - accuracy: 0.6258 \n",
            "126/126 [==============================] - 0s 1ms/step - loss: 1.6741 - accuracy: 0.6350\n"
          ]
        },
        {
          "name": "stderr",
          "output_type": "stream",
          "text": [
            "\u001b[92mINFO \u001b[0m:      aggregate_evaluate: received 3 results and 0 failures\n",
            "INFO:flwr:aggregate_evaluate: received 3 results and 0 failures\n",
            "\u001b[92mINFO \u001b[0m:      \n",
            "INFO:flwr:\n",
            "\u001b[92mINFO \u001b[0m:      [ROUND 3]\n",
            "INFO:flwr:[ROUND 3]\n",
            "\u001b[92mINFO \u001b[0m:      configure_fit: strategy sampled 3 clients (out of 3)\n",
            "INFO:flwr:configure_fit: strategy sampled 3 clients (out of 3)\n"
          ]
        },
        {
          "name": "stdout",
          "output_type": "stream",
          "text": [
            "\u001b[2m\u001b[36m(ClientAppActor pid=33088)\u001b[0m \r 1/10 [==>...........................] - ETA: 1s - loss: 12.0735 - accuracy: 0.1562\b\b\b\b\b\b\b\b\b\b\b\b\b\b\b\b\b\b\b\b\b\b\b\b\b\b\b\b\b\b\b\b\b\b\b\b\b\b\b\b\b\b\b\b\b\b\b\b\b\b\b\b\b\b\b\b\b\b\b\b\b\b\b\b\b\b\b\b\b\b\b\b\b\b\b\b\b\b\b\b\b\b\b\r10/10 [==============================] - 0s 2ms/step - loss: 10.6787 - accuracy: 0.1748\n"
          ]
        },
        {
          "name": "stderr",
          "output_type": "stream",
          "text": [
            "\u001b[92mINFO \u001b[0m:      aggregate_fit: received 3 results and 0 failures\n",
            "INFO:flwr:aggregate_fit: received 3 results and 0 failures\n"
          ]
        },
        {
          "name": "stdout",
          "output_type": "stream",
          "text": [
            "2463/2463 [==============================] - 3s 1ms/step\n"
          ]
        },
        {
          "name": "stderr",
          "output_type": "stream",
          "text": [
            "\u001b[92mINFO \u001b[0m:      fit progress: (3, 0.9248741269111633, {'loss': 0.9248741269111633, 'accuracy': 0.8882741928100586, 'Centralised report': '              precision    recall  f1-score   support\\n\\n           0    0.42533   0.62047   0.50470      7230\\n           1    0.95980   0.91532   0.93704     71579\\n\\n    accuracy                        0.88827     78809\\n   macro avg    0.69257   0.76790   0.72087     78809\\nweighted avg    0.91077   0.88827   0.89737     78809\\n'}, 250.50570605600024)\n",
            "INFO:flwr:fit progress: (3, 0.9248741269111633, {'loss': 0.9248741269111633, 'accuracy': 0.8882741928100586, 'Centralised report': '              precision    recall  f1-score   support\\n\\n           0    0.42533   0.62047   0.50470      7230\\n           1    0.95980   0.91532   0.93704     71579\\n\\n    accuracy                        0.88827     78809\\n   macro avg    0.69257   0.76790   0.72087     78809\\nweighted avg    0.91077   0.88827   0.89737     78809\\n'}, 250.50570605600024)\n",
            "\u001b[92mINFO \u001b[0m:      configure_evaluate: strategy sampled 3 clients (out of 3)\n",
            "INFO:flwr:configure_evaluate: strategy sampled 3 clients (out of 3)\n"
          ]
        },
        {
          "name": "stdout",
          "output_type": "stream",
          "text": [
            "10/10 [==============================] - 0s 3ms/step - loss: 14.3522 - accuracy: 0.2395\n",
            " 26/147 [====>.........................] - ETA: 0s - loss: 0.4415 - accuracy: 0.8846 \n",
            " 71/147 [=============>................] - ETA: 0s - loss: 0.4467 - accuracy: 0.8825\n",
            "120/147 [=======================>......] - ETA: 0s - loss: 0.4580 - accuracy: 0.8799\n",
            "142/147 [===========================>..] - ETA: 0s - loss: 0.4605 - accuracy: 0.8794\n",
            "147/147 [==============================] - 1s 3ms/step - loss: 0.4592 - accuracy: 0.8798\n"
          ]
        },
        {
          "name": "stderr",
          "output_type": "stream",
          "text": [
            "\u001b[92mINFO \u001b[0m:      aggregate_evaluate: received 3 results and 0 failures\n",
            "INFO:flwr:aggregate_evaluate: received 3 results and 0 failures\n",
            "\u001b[92mINFO \u001b[0m:      \n",
            "INFO:flwr:\n",
            "\u001b[92mINFO \u001b[0m:      [ROUND 4]\n",
            "INFO:flwr:[ROUND 4]\n",
            "\u001b[92mINFO \u001b[0m:      configure_fit: strategy sampled 3 clients (out of 3)\n",
            "INFO:flwr:configure_fit: strategy sampled 3 clients (out of 3)\n"
          ]
        },
        {
          "name": "stdout",
          "output_type": "stream",
          "text": [
            "\u001b[2m\u001b[36m(ClientAppActor pid=33088)\u001b[0m \r  1/126 [..............................] - ETA: 25s - loss: 0.0092 - accuracy: 1.0000\b\b\b\b\b\b\b\b\b\b\b\b\b\b\b\b\b\b\b\b\b\b\b\b\b\b\b\b\b\b\b\b\b\b\b\b\b\b\b\b\b\b\b\b\b\b\b\b\b\b\b\b\b\b\b\b\b\b\b\b\b\b\b\b\b\b\b\b\b\b\b\b\b\b\b\b\b\b\b\b\b\b\b\b\b\r 38/126 [========>.....................] - ETA: 0s - loss: 0.2081 - accuracy: 0.9729 \n",
            "\u001b[2m\u001b[36m(ClientAppActor pid=33088)\u001b[0m \b\b\b\b\b\b\b\b\b\b\b\b\b\b\b\b\b\b\b\b\b\b\b\b\b\b\b\b\b\b\b\b\b\b\b\b\b\b\b\b\b\b\b\b\b\b\b\b\b\b\b\b\b\b\b\b\b\b\b\b\b\b\b\b\b\b\b\b\b\b\b\b\b\b\b\b\b\b\b\b\b\b\b\b\r 75/126 [================>.............] - ETA: 0s - loss: 0.2136 - accuracy: 0.9696\b\b\b\b\b\b\b\b\b\b\b\b\b\b\b\b\b\b\b\b\b\b\b\b\b\b\b\b\b\b\b\b\b\b\b\b\b\b\b\b\b\b\b\b\b\b\b\b\b\b\b\b\b\b\b\b\b\b\b\b\b\b\b\b\b\b\b\b\b\b\b\b\b\b\b\b\b\b\b\b\b\b\b\b\r116/126 [==========================>...] - ETA: 0s - loss: 0.2414 - accuracy: 0.9685\n",
            "\u001b[2m\u001b[36m(ClientAppActor pid=33088)\u001b[0m \b\b\b\b\b\b\b\b\b\b\b\b\b\b\b\b\b\b\b\b\b\b\b\b\b\b\b\b\b\b\b\b\b\b\b\b\b\b\b\b\b\b\b\b\b\b\b\b\b\b\b\b\b\b\b\b\b\b\b\b\b\b\b\b\b\b\b\b\b\b\b\b\b\b\b\b\b\b\b\b\b\b\b\b\r126/126 [==============================] - 0s 1ms/step - loss: 0.2459 - accuracy: 0.9676\n"
          ]
        },
        {
          "name": "stderr",
          "output_type": "stream",
          "text": [
            "\u001b[92mINFO \u001b[0m:      aggregate_fit: received 3 results and 0 failures\n",
            "INFO:flwr:aggregate_fit: received 3 results and 0 failures\n"
          ]
        },
        {
          "name": "stdout",
          "output_type": "stream",
          "text": [
            "2463/2463 [==============================] - 3s 1ms/step\n"
          ]
        },
        {
          "name": "stderr",
          "output_type": "stream",
          "text": [
            "\u001b[92mINFO \u001b[0m:      fit progress: (4, 1.1406844854354858, {'loss': 1.1406844854354858, 'accuracy': 0.88299560546875, 'Centralised report': '              precision    recall  f1-score   support\\n\\n           0    0.40123   0.55934   0.46727      7230\\n           1    0.95364   0.91569   0.93428     71579\\n\\n    accuracy                        0.88300     78809\\n   macro avg    0.67744   0.73751   0.70078     78809\\nweighted avg    0.90297   0.88300   0.89144     78809\\n'}, 331.84245423300035)\n",
            "INFO:flwr:fit progress: (4, 1.1406844854354858, {'loss': 1.1406844854354858, 'accuracy': 0.88299560546875, 'Centralised report': '              precision    recall  f1-score   support\\n\\n           0    0.40123   0.55934   0.46727      7230\\n           1    0.95364   0.91569   0.93428     71579\\n\\n    accuracy                        0.88300     78809\\n   macro avg    0.67744   0.73751   0.70078     78809\\nweighted avg    0.90297   0.88300   0.89144     78809\\n'}, 331.84245423300035)\n",
            "\u001b[92mINFO \u001b[0m:      configure_evaluate: strategy sampled 3 clients (out of 3)\n",
            "INFO:flwr:configure_evaluate: strategy sampled 3 clients (out of 3)\n"
          ]
        },
        {
          "name": "stdout",
          "output_type": "stream",
          "text": [
            "  1/147 [..............................] - ETA: 48s - loss: 0.3651 - accuracy: 0.8750\n",
            " 54/147 [==========>...................] - ETA: 0s - loss: 0.3534 - accuracy: 0.8854\n",
            "103/147 [====================>.........] - ETA: 0s - loss: 0.3572 - accuracy: 0.8835\n",
            "147/147 [==============================] - 1s 2ms/step - loss: 0.3719 - accuracy: 0.8800\n",
            "10/10 [==============================] - 0s 2ms/step - loss: 20.7224 - accuracy: 0.0971\n",
            "  1/126 [..............................] - ETA: 41s - loss: 8.2800e-04 - accuracy: 1.0000\n",
            " 47/126 [==========>...................] - ETA: 0s - loss: 0.1852 - accuracy: 0.9834\n"
          ]
        },
        {
          "name": "stderr",
          "output_type": "stream",
          "text": [
            "\u001b[92mINFO \u001b[0m:      aggregate_evaluate: received 3 results and 0 failures\n",
            "INFO:flwr:aggregate_evaluate: received 3 results and 0 failures\n",
            "\u001b[92mINFO \u001b[0m:      \n",
            "INFO:flwr:\n",
            "\u001b[92mINFO \u001b[0m:      [ROUND 5]\n",
            "INFO:flwr:[ROUND 5]\n",
            "\u001b[92mINFO \u001b[0m:      configure_fit: strategy sampled 3 clients (out of 3)\n",
            "INFO:flwr:configure_fit: strategy sampled 3 clients (out of 3)\n"
          ]
        },
        {
          "name": "stdout",
          "output_type": "stream",
          "text": [
            "\u001b[2m\u001b[36m(ClientAppActor pid=33088)\u001b[0m \b\b\b\b\b\b\b\b\b\b\b\b\b\b\b\b\b\b\b\b\b\b\b\b\b\b\b\b\b\b\b\b\b\b\b\b\b\b\b\b\b\b\b\b\b\b\b\b\b\b\b\b\b\b\b\b\b\b\b\b\b\b\b\b\b\b\b\b\b\b\b\b\b\b\b\b\b\b\b\b\b\b\b\b\r 69/126 [===============>..............] - ETA: 0s - loss: 0.2102 - accuracy: 0.9814\b\b\b\b\b\b\b\b\b\b\b\b\b\b\b\b\b\b\b\b\b\b\b\b\b\b\b\b\b\b\b\b\b\b\b\b\b\b\b\b\b\b\b\b\b\b\b\b\b\b\b\b\b\b\b\b\b\b\b\b\b\b\b\b\b\b\b\b\b\b\b\b\b\b\b\b\b\b\b\b\b\b\b\b\r 95/126 [=====================>........] - ETA: 0s - loss: 0.2158 - accuracy: 0.9809\n",
            "\u001b[2m\u001b[36m(ClientAppActor pid=33088)\u001b[0m \b\b\b\b\b\b\b\b\b\b\b\b\b\b\b\b\b\b\b\b\b\b\b\b\b\b\b\b\b\b\b\b\b\b\b\b\b\b\b\b\b\b\b\b\b\b\b\b\b\b\b\b\b\b\b\b\b\b\b\b\b\b\b\b\b\b\b\b\b\b\b\b\b\b\b\b\b\b\b\b\b\b\b\b\r114/126 [==========================>...] - ETA: 0s - loss: 0.2272 - accuracy: 0.9800\b\b\b\b\b\b\b\b\b\b\b\b\b\b\b\b\b\b\b\b\b\b\b\b\b\b\b\b\b\b\b\b\b\b\b\b\b\b\b\b\b\b\b\b\b\b\b\b\b\b\b\b\b\b\b\b\b\b\b\b\b\b\b\b\b\b\b\b\b\b\b\b\b\b\b\b\b\b\b\b\b\b\b\b\r126/126 [==============================] - 1s 2ms/step - loss: 0.2310 - accuracy: 0.9795\n"
          ]
        },
        {
          "name": "stderr",
          "output_type": "stream",
          "text": [
            "\u001b[92mINFO \u001b[0m:      aggregate_fit: received 3 results and 0 failures\n",
            "INFO:flwr:aggregate_fit: received 3 results and 0 failures\n"
          ]
        },
        {
          "name": "stdout",
          "output_type": "stream",
          "text": [
            "2463/2463 [==============================] - 4s 2ms/step\n"
          ]
        },
        {
          "name": "stderr",
          "output_type": "stream",
          "text": [
            "\u001b[92mINFO \u001b[0m:      fit progress: (5, 1.1973904371261597, {'loss': 1.1973904371261597, 'accuracy': 0.8832747340202332, 'Centralised report': '              precision    recall  f1-score   support\\n\\n           0    0.40182   0.55726   0.46694      7230\\n           1    0.95346   0.91620   0.93446     71579\\n\\n    accuracy                        0.88327     78809\\n   macro avg    0.67764   0.73673   0.70070     78809\\nweighted avg    0.90285   0.88327   0.89157     78809\\n'}, 419.37203838799996)\n",
            "INFO:flwr:fit progress: (5, 1.1973904371261597, {'loss': 1.1973904371261597, 'accuracy': 0.8832747340202332, 'Centralised report': '              precision    recall  f1-score   support\\n\\n           0    0.40182   0.55726   0.46694      7230\\n           1    0.95346   0.91620   0.93446     71579\\n\\n    accuracy                        0.88327     78809\\n   macro avg    0.67764   0.73673   0.70070     78809\\nweighted avg    0.90285   0.88327   0.89157     78809\\n'}, 419.37203838799996)\n",
            "\u001b[92mINFO \u001b[0m:      configure_evaluate: strategy sampled 3 clients (out of 3)\n",
            "INFO:flwr:configure_evaluate: strategy sampled 3 clients (out of 3)\n"
          ]
        },
        {
          "name": "stdout",
          "output_type": "stream",
          "text": [
            "10/10 [==============================] - 0s 3ms/step - loss: 23.4283 - accuracy: 0.0744\n",
            "  1/147 [..............................] - ETA: 36s - loss: 0.2762 - accuracy: 0.8750\n",
            " 67/147 [============>.................] - ETA: 0s - loss: 0.2578 - accuracy: 0.8829\n",
            "147/147 [==============================] - 0s 1ms/step - loss: 0.2681 - accuracy: 0.8807\n"
          ]
        },
        {
          "name": "stderr",
          "output_type": "stream",
          "text": [
            "\u001b[92mINFO \u001b[0m:      aggregate_evaluate: received 3 results and 0 failures\n",
            "INFO:flwr:aggregate_evaluate: received 3 results and 0 failures\n",
            "\u001b[92mINFO \u001b[0m:      \n",
            "INFO:flwr:\n",
            "\u001b[92mINFO \u001b[0m:      [ROUND 6]\n",
            "INFO:flwr:[ROUND 6]\n",
            "\u001b[92mINFO \u001b[0m:      configure_fit: strategy sampled 3 clients (out of 3)\n",
            "INFO:flwr:configure_fit: strategy sampled 3 clients (out of 3)\n"
          ]
        },
        {
          "name": "stdout",
          "output_type": "stream",
          "text": [
            "\u001b[2m\u001b[36m(ClientAppActor pid=33088)\u001b[0m \r  1/126 [..............................] - ETA: 25s - loss: 0.0013 - accuracy: 1.0000\n",
            "\u001b[2m\u001b[36m(ClientAppActor pid=33088)\u001b[0m \b\b\b\b\b\b\b\b\b\b\b\b\b\b\b\b\b\b\b\b\b\b\b\b\b\b\b\b\b\b\b\b\b\b\b\b\b\b\b\b\b\b\b\b\b\b\b\b\b\b\b\b\b\b\b\b\b\b\b\b\b\b\b\b\b\b\b\b\b\b\b\b\b\b\b\b\b\b\b\b\b\b\b\b\b\r 39/126 [========>.....................] - ETA: 0s - loss: 0.2569 - accuracy: 0.9832 \b\b\b\b\b\b\b\b\b\b\b\b\b\b\b\b\b\b\b\b\b\b\b\b\b\b\b\b\b\b\b\b\b\b\b\b\b\b\b\b\b\b\b\b\b\b\b\b\b\b\b\b\b\b\b\b\b\b\b\b\b\b\b\b\b\b\b\b\b\b\b\b\b\b\b\b\b\b\b\b\b\b\b\b\r 78/126 [=================>............] - ETA: 0s - loss: 0.2531 - accuracy: 0.9828\n"
          ]
        },
        {
          "name": "stderr",
          "output_type": "stream",
          "text": [
            "\u001b[92mINFO \u001b[0m:      aggregate_fit: received 3 results and 0 failures\n",
            "INFO:flwr:aggregate_fit: received 3 results and 0 failures\n"
          ]
        },
        {
          "name": "stdout",
          "output_type": "stream",
          "text": [
            "126/126 [==============================] - 0s 1ms/step - loss: 0.2916 - accuracy: 0.9803\n",
            "2463/2463 [==============================] - 4s 1ms/step\n"
          ]
        },
        {
          "name": "stderr",
          "output_type": "stream",
          "text": [
            "\u001b[92mINFO \u001b[0m:      fit progress: (6, 1.2157864570617676, {'loss': 1.2157864570617676, 'accuracy': 0.8825514912605286, 'Centralised report': '              precision    recall  f1-score   support\\n\\n           0    0.39829   0.54869   0.46155      7230\\n           1    0.95261   0.91627   0.93409     71579\\n\\n    accuracy                        0.88255     78809\\n   macro avg    0.67545   0.73248   0.69782     78809\\nweighted avg    0.90175   0.88255   0.89074     78809\\n'}, 503.4430657510002)\n",
            "INFO:flwr:fit progress: (6, 1.2157864570617676, {'loss': 1.2157864570617676, 'accuracy': 0.8825514912605286, 'Centralised report': '              precision    recall  f1-score   support\\n\\n           0    0.39829   0.54869   0.46155      7230\\n           1    0.95261   0.91627   0.93409     71579\\n\\n    accuracy                        0.88255     78809\\n   macro avg    0.67545   0.73248   0.69782     78809\\nweighted avg    0.90175   0.88255   0.89074     78809\\n'}, 503.4430657510002)\n",
            "\u001b[92mINFO \u001b[0m:      configure_evaluate: strategy sampled 3 clients (out of 3)\n",
            "INFO:flwr:configure_evaluate: strategy sampled 3 clients (out of 3)\n"
          ]
        },
        {
          "name": "stdout",
          "output_type": "stream",
          "text": [
            "10/10 [==============================] - 0s 3ms/step - loss: 25.0055 - accuracy: 0.0680\n",
            " 25/147 [====>.........................] - ETA: 0s - loss: 0.1682 - accuracy: 0.8838 \n",
            " 69/147 [=============>................] - ETA: 0s - loss: 0.1704 - accuracy: 0.8832\n",
            "107/147 [====================>.........] - ETA: 0s - loss: 0.1697 - accuracy: 0.8841\n",
            "147/147 [==============================] - 1s 3ms/step - loss: 0.1772 - accuracy: 0.8807\n"
          ]
        },
        {
          "name": "stderr",
          "output_type": "stream",
          "text": [
            "\u001b[92mINFO \u001b[0m:      aggregate_evaluate: received 3 results and 0 failures\n",
            "INFO:flwr:aggregate_evaluate: received 3 results and 0 failures\n",
            "\u001b[92mINFO \u001b[0m:      \n",
            "INFO:flwr:\n",
            "\u001b[92mINFO \u001b[0m:      [ROUND 7]\n",
            "INFO:flwr:[ROUND 7]\n",
            "\u001b[92mINFO \u001b[0m:      configure_fit: strategy sampled 3 clients (out of 3)\n",
            "INFO:flwr:configure_fit: strategy sampled 3 clients (out of 3)\n"
          ]
        },
        {
          "name": "stdout",
          "output_type": "stream",
          "text": [
            "  1/126 [..............................] - ETA: 26s - loss: 5.1629e-04 - accuracy: 1.0000\n",
            " 38/126 [========>.....................] - ETA: 0s - loss: 0.4236 - accuracy: 0.9836     \n",
            "113/126 [=========================>....] - ETA: 0s - loss: 0.4774 - accuracy: 0.9806\n",
            "126/126 [==============================] - 0s 1ms/step - loss: 0.4836 - accuracy: 0.9805\n"
          ]
        },
        {
          "name": "stderr",
          "output_type": "stream",
          "text": [
            "\u001b[92mINFO \u001b[0m:      aggregate_fit: received 3 results and 0 failures\n",
            "INFO:flwr:aggregate_fit: received 3 results and 0 failures\n"
          ]
        },
        {
          "name": "stdout",
          "output_type": "stream",
          "text": [
            "2463/2463 [==============================] - 6s 2ms/step\n"
          ]
        },
        {
          "name": "stderr",
          "output_type": "stream",
          "text": [
            "\u001b[92mINFO \u001b[0m:      fit progress: (7, 1.2410391569137573, {'loss': 1.2410391569137573, 'accuracy': 0.8831605315208435, 'Centralised report': '              precision    recall  f1-score   support\\n\\n           0    0.40173   0.55920   0.46756      7230\\n           1    0.95364   0.91588   0.93438     71579\\n\\n    accuracy                        0.88316     78809\\n   macro avg    0.67768   0.73754   0.70097     78809\\nweighted avg    0.90301   0.88316   0.89155     78809\\n'}, 595.0749961390002)\n",
            "INFO:flwr:fit progress: (7, 1.2410391569137573, {'loss': 1.2410391569137573, 'accuracy': 0.8831605315208435, 'Centralised report': '              precision    recall  f1-score   support\\n\\n           0    0.40173   0.55920   0.46756      7230\\n           1    0.95364   0.91588   0.93438     71579\\n\\n    accuracy                        0.88316     78809\\n   macro avg    0.67768   0.73754   0.70097     78809\\nweighted avg    0.90301   0.88316   0.89155     78809\\n'}, 595.0749961390002)\n",
            "\u001b[92mINFO \u001b[0m:      configure_evaluate: strategy sampled 3 clients (out of 3)\n",
            "INFO:flwr:configure_evaluate: strategy sampled 3 clients (out of 3)\n"
          ]
        },
        {
          "name": "stdout",
          "output_type": "stream",
          "text": [
            "  1/147 [..............................] - ETA: 37s - loss: 0.2002 - accuracy: 0.8750\n",
            " 71/147 [=============>................] - ETA: 0s - loss: 0.1915 - accuracy: 0.8825\n",
            "147/147 [==============================] - 0s 1ms/step - loss: 0.1977 - accuracy: 0.8802\n",
            "  1/126 [..............................] - ETA: 27s - loss: 0.0038 - accuracy: 1.0000\n",
            " 65/126 [==============>...............] - ETA: 0s - loss: 0.4471 - accuracy: 0.9841\n",
            "126/126 [==============================] - 0s 2ms/step - loss: 0.5608 - accuracy: 0.9805\n"
          ]
        },
        {
          "name": "stderr",
          "output_type": "stream",
          "text": [
            "\u001b[92mINFO \u001b[0m:      aggregate_evaluate: received 3 results and 0 failures\n",
            "INFO:flwr:aggregate_evaluate: received 3 results and 0 failures\n",
            "\u001b[92mINFO \u001b[0m:      \n",
            "INFO:flwr:\n",
            "\u001b[92mINFO \u001b[0m:      [ROUND 8]\n",
            "INFO:flwr:[ROUND 8]\n",
            "\u001b[92mINFO \u001b[0m:      configure_fit: strategy sampled 3 clients (out of 3)\n",
            "INFO:flwr:configure_fit: strategy sampled 3 clients (out of 3)\n"
          ]
        },
        {
          "name": "stdout",
          "output_type": "stream",
          "text": [
            "\u001b[2m\u001b[36m(ClientAppActor pid=33088)\u001b[0m \r 1/10 [==>...........................] - ETA: 1s - loss: 24.6055 - accuracy: 0.0625\b\b\b\b\b\b\b\b\b\b\b\b\b\b\b\b\b\b\b\b\b\b\b\b\b\b\b\b\b\b\b\b\b\b\b\b\b\b\b\b\b\b\b\b\b\b\b\b\b\b\b\b\b\b\b\b\b\b\b\b\b\b\b\b\b\b\b\b\b\b\b\b\b\b\b\b\b\b\b\b\b\b\b\r10/10 [==============================] - 0s 2ms/step - loss: 25.0947 - accuracy: 0.0841\n"
          ]
        },
        {
          "name": "stderr",
          "output_type": "stream",
          "text": [
            "\u001b[92mINFO \u001b[0m:      aggregate_fit: received 3 results and 0 failures\n",
            "INFO:flwr:aggregate_fit: received 3 results and 0 failures\n"
          ]
        },
        {
          "name": "stdout",
          "output_type": "stream",
          "text": [
            "2463/2463 [==============================] - 4s 1ms/step\n"
          ]
        },
        {
          "name": "stderr",
          "output_type": "stream",
          "text": [
            "\u001b[92mINFO \u001b[0m:      fit progress: (8, 1.2876172065734863, {'loss': 1.2876172065734863, 'accuracy': 0.8847847580909729, 'Centralised report': '              precision    recall  f1-score   support\\n\\n           0    0.40930   0.57732   0.47900      7230\\n           1    0.95546   0.91584   0.93523     71579\\n\\n    accuracy                        0.88478     78809\\n   macro avg    0.68238   0.74658   0.70712     78809\\nweighted avg    0.90535   0.88478   0.89338     78809\\n'}, 678.880048039)\n",
            "INFO:flwr:fit progress: (8, 1.2876172065734863, {'loss': 1.2876172065734863, 'accuracy': 0.8847847580909729, 'Centralised report': '              precision    recall  f1-score   support\\n\\n           0    0.40930   0.57732   0.47900      7230\\n           1    0.95546   0.91584   0.93523     71579\\n\\n    accuracy                        0.88478     78809\\n   macro avg    0.68238   0.74658   0.70712     78809\\nweighted avg    0.90535   0.88478   0.89338     78809\\n'}, 678.880048039)\n",
            "\u001b[92mINFO \u001b[0m:      configure_evaluate: strategy sampled 3 clients (out of 3)\n",
            "INFO:flwr:configure_evaluate: strategy sampled 3 clients (out of 3)\n"
          ]
        },
        {
          "name": "stdout",
          "output_type": "stream",
          "text": [
            "10/10 [==============================] - 0s 2ms/step - loss: 25.7785 - accuracy: 0.1133\n",
            " 37/147 [======>.......................] - ETA: 0s - loss: 0.2054 - accuracy: 0.8877 \n",
            "114/147 [======================>.......] - ETA: 0s - loss: 0.2210 - accuracy: 0.8808\n"
          ]
        },
        {
          "name": "stderr",
          "output_type": "stream",
          "text": [
            "\u001b[92mINFO \u001b[0m:      aggregate_evaluate: received 3 results and 0 failures\n",
            "INFO:flwr:aggregate_evaluate: received 3 results and 0 failures\n",
            "\u001b[92mINFO \u001b[0m:      \n",
            "INFO:flwr:\n",
            "\u001b[92mINFO \u001b[0m:      [ROUND 9]\n",
            "INFO:flwr:[ROUND 9]\n",
            "\u001b[92mINFO \u001b[0m:      configure_fit: strategy sampled 3 clients (out of 3)\n",
            "INFO:flwr:configure_fit: strategy sampled 3 clients (out of 3)\n"
          ]
        },
        {
          "name": "stdout",
          "output_type": "stream",
          "text": [
            "147/147 [==============================] - 0s 1ms/step - loss: 0.2226 - accuracy: 0.8802\n",
            "  1/126 [..............................] - ETA: 27s - loss: 0.0016 - accuracy: 1.0000\n",
            " 73/126 [================>.............] - ETA: 0s - loss: 0.5404 - accuracy: 0.9824\n",
            "126/126 [==============================] - 0s 1ms/step - loss: 0.6120 - accuracy: 0.9803\n"
          ]
        },
        {
          "name": "stderr",
          "output_type": "stream",
          "text": [
            "\u001b[92mINFO \u001b[0m:      aggregate_fit: received 3 results and 0 failures\n",
            "INFO:flwr:aggregate_fit: received 3 results and 0 failures\n"
          ]
        },
        {
          "name": "stdout",
          "output_type": "stream",
          "text": [
            "2463/2463 [==============================] - 4s 1ms/step\n"
          ]
        },
        {
          "name": "stderr",
          "output_type": "stream",
          "text": [
            "\u001b[92mINFO \u001b[0m:      fit progress: (9, 1.3448415994644165, {'loss': 1.3448415994644165, 'accuracy': 0.8877792954444885, 'Centralised report': '              precision    recall  f1-score   support\\n\\n           0    0.41932   0.58008   0.48677      7230\\n           1    0.95588   0.91886   0.93700     71579\\n\\n    accuracy                        0.88778     78809\\n   macro avg    0.68760   0.74947   0.71189     78809\\nweighted avg    0.90665   0.88778   0.89570     78809\\n'}, 763.8648836770008)\n",
            "INFO:flwr:fit progress: (9, 1.3448415994644165, {'loss': 1.3448415994644165, 'accuracy': 0.8877792954444885, 'Centralised report': '              precision    recall  f1-score   support\\n\\n           0    0.41932   0.58008   0.48677      7230\\n           1    0.95588   0.91886   0.93700     71579\\n\\n    accuracy                        0.88778     78809\\n   macro avg    0.68760   0.74947   0.71189     78809\\nweighted avg    0.90665   0.88778   0.89570     78809\\n'}, 763.8648836770008)\n",
            "\u001b[92mINFO \u001b[0m:      configure_evaluate: strategy sampled 3 clients (out of 3)\n",
            "INFO:flwr:configure_evaluate: strategy sampled 3 clients (out of 3)\n"
          ]
        },
        {
          "name": "stdout",
          "output_type": "stream",
          "text": [
            "  1/126 [..............................] - ETA: 26s - loss: 0.0275 - accuracy: 0.9688\n",
            " 65/126 [==============>...............] - ETA: 0s - loss: 0.5600 - accuracy: 0.9837\n",
            "126/126 [==============================] - 0s 1ms/step - loss: 0.7035 - accuracy: 0.9800\n",
            "10/10 [==============================] - 0s 2ms/step - loss: 27.4957 - accuracy: 0.1294\n",
            "  1/147 [..............................] - ETA: 32s - loss: 0.1945 - accuracy: 0.8750\n",
            " 63/147 [===========>..................] - ETA: 0s - loss: 0.1802 - accuracy: 0.8859\n"
          ]
        },
        {
          "name": "stderr",
          "output_type": "stream",
          "text": [
            "\u001b[92mINFO \u001b[0m:      aggregate_evaluate: received 3 results and 0 failures\n",
            "INFO:flwr:aggregate_evaluate: received 3 results and 0 failures\n",
            "\u001b[92mINFO \u001b[0m:      \n",
            "INFO:flwr:\n",
            "\u001b[92mINFO \u001b[0m:      [ROUND 10]\n",
            "INFO:flwr:[ROUND 10]\n",
            "\u001b[92mINFO \u001b[0m:      configure_fit: strategy sampled 3 clients (out of 3)\n",
            "INFO:flwr:configure_fit: strategy sampled 3 clients (out of 3)\n"
          ]
        },
        {
          "name": "stdout",
          "output_type": "stream",
          "text": [
            "\u001b[2m\u001b[36m(ClientAppActor pid=33088)\u001b[0m \b\b\b\b\b\b\b\b\b\b\b\b\b\b\b\b\b\b\b\b\b\b\b\b\b\b\b\b\b\b\b\b\b\b\b\b\b\b\b\b\b\b\b\b\b\b\b\b\b\b\b\b\b\b\b\b\b\b\b\b\b\b\b\b\b\b\b\b\b\b\b\b\b\b\b\b\b\b\b\b\b\b\b\b\r 82/147 [===============>..............] - ETA: 0s - loss: 0.1725 - accuracy: 0.8899\b\b\b\b\b\b\b\b\b\b\b\b\b\b\b\b\b\b\b\b\b\b\b\b\b\b\b\b\b\b\b\b\b\b\b\b\b\b\b\b\b\b\b\b\b\b\b\b\b\b\b\b\b\b\b\b\b\b\b\b\b\b\b\b\b\b\b\b\b\b\b\b\b\b\b\b\b\b\b\b\b\b\b\b\r106/147 [====================>.........] - ETA: 0s - loss: 0.1754 - accuracy: 0.8880\n",
            "\u001b[2m\u001b[36m(ClientAppActor pid=33088)\u001b[0m \b\b\b\b\b\b\b\b\b\b\b\b\b\b\b\b\b\b\b\b\b\b\b\b\b\b\b\b\b\b\b\b\b\b\b\b\b\b\b\b\b\b\b\b\b\b\b\b\b\b\b\b\b\b\b\b\b\b\b\b\b\b\b\b\b\b\b\b\b\b\b\b\b\b\b\b\b\b\b\b\b\b\b\b\r124/147 [========================>.....] - ETA: 0s - loss: 0.1817 - accuracy: 0.8851\b\b\b\b\b\b\b\b\b\b\b\b\b\b\b\b\b\b\b\b\b\b\b\b\b\b\b\b\b\b\b\b\b\b\b\b\b\b\b\b\b\b\b\b\b\b\b\b\b\b\b\b\b\b\b\b\b\b\b\b\b\b\b\b\b\b\b\b\b\b\b\b\b\b\b\b\b\b\b\b\b\b\b\b\r147/147 [==============================] - ETA: 0s - loss: 0.1816 - accuracy: 0.8849\b\b\b\b\b\b\b\b\b\b\b\b\b\b\b\b\b\b\b\b\b\b\b\b\b\b\b\b\b\b\b\b\b\b\b\b\b\b\b\b\b\b\b\b\b\b\b\b\b\b\b\b\b\b\b\b\b\b\b\b\b\b\b\b\b\b\b\b\b\b\b\b\b\b\b\b\b\b\b\b\b\b\b\b\r147/147 [==============================] - 1s 2ms/step - loss: 0.1816 - accuracy: 0.8849\n"
          ]
        },
        {
          "name": "stderr",
          "output_type": "stream",
          "text": [
            "\u001b[92mINFO \u001b[0m:      aggregate_fit: received 3 results and 0 failures\n",
            "INFO:flwr:aggregate_fit: received 3 results and 0 failures\n"
          ]
        },
        {
          "name": "stdout",
          "output_type": "stream",
          "text": [
            "2463/2463 [==============================] - 4s 1ms/step\n"
          ]
        },
        {
          "name": "stderr",
          "output_type": "stream",
          "text": [
            "\u001b[92mINFO \u001b[0m:      fit progress: (10, 1.377259373664856, {'loss': 1.377259373664856, 'accuracy': 0.8845182657241821, 'Centralised report': '              precision    recall  f1-score   support\\n\\n           0    0.40784   0.57261   0.47638      7230\\n           1    0.95499   0.91602   0.93510     71579\\n\\n    accuracy                        0.88452     78809\\n   macro avg    0.68142   0.74432   0.70574     78809\\nweighted avg    0.90480   0.88452   0.89302     78809\\n'}, 854.0028185300007)\n",
            "INFO:flwr:fit progress: (10, 1.377259373664856, {'loss': 1.377259373664856, 'accuracy': 0.8845182657241821, 'Centralised report': '              precision    recall  f1-score   support\\n\\n           0    0.40784   0.57261   0.47638      7230\\n           1    0.95499   0.91602   0.93510     71579\\n\\n    accuracy                        0.88452     78809\\n   macro avg    0.68142   0.74432   0.70574     78809\\nweighted avg    0.90480   0.88452   0.89302     78809\\n'}, 854.0028185300007)\n",
            "\u001b[92mINFO \u001b[0m:      configure_evaluate: strategy sampled 3 clients (out of 3)\n",
            "INFO:flwr:configure_evaluate: strategy sampled 3 clients (out of 3)\n"
          ]
        },
        {
          "name": "stdout",
          "output_type": "stream",
          "text": [
            "10/10 [==============================] - 0s 2ms/step - loss: 28.3194 - accuracy: 0.1100\n",
            " 24/147 [===>..........................] - ETA: 0s - loss: 0.1559 - accuracy: 0.8893 \n",
            " 71/147 [=============>................] - ETA: 0s - loss: 0.1657 - accuracy: 0.8825\n",
            "118/147 [=======================>......] - ETA: 0s - loss: 0.1685 - accuracy: 0.8816\n",
            "141/147 [===========================>..] - ETA: 0s - loss: 0.1700 - accuracy: 0.8812\n",
            "147/147 [==============================] - 1s 2ms/step - loss: 0.1704 - accuracy: 0.8809\n",
            " 24/126 [====>.........................] - ETA: 0s - loss: 0.6510 - accuracy: 0.9831 \n",
            " 73/126 [================>.............] - ETA: 0s - loss: 0.6688 - accuracy: 0.9824\n"
          ]
        },
        {
          "name": "stderr",
          "output_type": "stream",
          "text": [
            "\u001b[92mINFO \u001b[0m:      aggregate_evaluate: received 3 results and 0 failures\n",
            "INFO:flwr:aggregate_evaluate: received 3 results and 0 failures\n",
            "\u001b[92mINFO \u001b[0m:      \n",
            "INFO:flwr:\n",
            "\u001b[92mINFO \u001b[0m:      [ROUND 11]\n",
            "INFO:flwr:[ROUND 11]\n",
            "\u001b[92mINFO \u001b[0m:      configure_fit: strategy sampled 3 clients (out of 3)\n",
            "INFO:flwr:configure_fit: strategy sampled 3 clients (out of 3)\n"
          ]
        },
        {
          "name": "stdout",
          "output_type": "stream",
          "text": [
            "\u001b[2m\u001b[36m(ClientAppActor pid=33088)\u001b[0m \b\b\b\b\b\b\b\b\b\b\b\b\b\b\b\b\b\b\b\b\b\b\b\b\b\b\b\b\b\b\b\b\b\b\b\b\b\b\b\b\b\b\b\b\b\b\b\b\b\b\b\b\b\b\b\b\b\b\b\b\b\b\b\b\b\b\b\b\b\b\b\b\b\b\b\b\b\b\b\b\b\b\b\b\r 97/126 [======================>.......] - ETA: 0s - loss: 0.7060 - accuracy: 0.9816\b\b\b\b\b\b\b\b\b\b\b\b\b\b\b\b\b\b\b\b\b\b\b\b\b\b\b\b\b\b\b\b\b\b\b\b\b\b\b\b\b\b\b\b\b\b\b\b\b\b\b\b\b\b\b\b\b\b\b\b\b\b\b\b\b\b\b\b\b\b\b\b\b\b\b\b\b\b\b\b\b\b\b\b\r121/126 [===========================>..] - ETA: 0s - loss: 0.7333 - accuracy: 0.9811\n"
          ]
        },
        {
          "name": "stderr",
          "output_type": "stream",
          "text": [
            "\u001b[92mINFO \u001b[0m:      aggregate_fit: received 3 results and 0 failures\n",
            "INFO:flwr:aggregate_fit: received 3 results and 0 failures\n"
          ]
        },
        {
          "name": "stdout",
          "output_type": "stream",
          "text": [
            "126/126 [==============================] - 1s 2ms/step - loss: 0.7557 - accuracy: 0.9803\n",
            "2463/2463 [==============================] - 4s 1ms/step\n"
          ]
        },
        {
          "name": "stderr",
          "output_type": "stream",
          "text": [
            "\u001b[92mINFO \u001b[0m:      fit progress: (11, 1.3616935014724731, {'loss': 1.3616935014724731, 'accuracy': 0.885469913482666, 'Centralised report': '              precision    recall  f1-score   support\\n\\n           0    0.41230   0.58396   0.48334      7230\\n           1    0.95613   0.91593   0.93560     71579\\n\\n    accuracy                        0.88547     78809\\n   macro avg    0.68422   0.74994   0.70947     78809\\nweighted avg    0.90624   0.88547   0.89411     78809\\n'}, 937.0436825430006)\n",
            "INFO:flwr:fit progress: (11, 1.3616935014724731, {'loss': 1.3616935014724731, 'accuracy': 0.885469913482666, 'Centralised report': '              precision    recall  f1-score   support\\n\\n           0    0.41230   0.58396   0.48334      7230\\n           1    0.95613   0.91593   0.93560     71579\\n\\n    accuracy                        0.88547     78809\\n   macro avg    0.68422   0.74994   0.70947     78809\\nweighted avg    0.90624   0.88547   0.89411     78809\\n'}, 937.0436825430006)\n",
            "\u001b[92mINFO \u001b[0m:      configure_evaluate: strategy sampled 3 clients (out of 3)\n",
            "INFO:flwr:configure_evaluate: strategy sampled 3 clients (out of 3)\n"
          ]
        },
        {
          "name": "stdout",
          "output_type": "stream",
          "text": [
            "  1/126 [..............................] - ETA: 38s - loss: 0.0061 - accuracy: 1.0000\n",
            " 50/126 [==========>...................] - ETA: 0s - loss: 0.6520 - accuracy: 0.9837\n",
            "100/126 [======================>.......] - ETA: 0s - loss: 0.7979 - accuracy: 0.9806\n",
            "126/126 [==============================] - 1s 2ms/step - loss: 0.8335 - accuracy: 0.9798\n",
            "  1/147 [..............................] - ETA: 47s - loss: 0.1753 - accuracy: 0.8750\n",
            " 49/147 [=========>....................] - ETA: 0s - loss: 0.1509 - accuracy: 0.8890\n",
            " 97/147 [==================>...........] - ETA: 0s - loss: 0.1595 - accuracy: 0.8831\n",
            "119/147 [=======================>......] - ETA: 0s - loss: 0.1640 - accuracy: 0.8813\n",
            "147/147 [==============================] - 1s 2ms/step - loss: 0.1654 - accuracy: 0.8807\n"
          ]
        },
        {
          "name": "stderr",
          "output_type": "stream",
          "text": [
            "\u001b[92mINFO \u001b[0m:      aggregate_evaluate: received 3 results and 0 failures\n",
            "INFO:flwr:aggregate_evaluate: received 3 results and 0 failures\n",
            "\u001b[92mINFO \u001b[0m:      \n",
            "INFO:flwr:\n",
            "\u001b[92mINFO \u001b[0m:      [ROUND 12]\n",
            "INFO:flwr:[ROUND 12]\n",
            "\u001b[92mINFO \u001b[0m:      configure_fit: strategy sampled 3 clients (out of 3)\n",
            "INFO:flwr:configure_fit: strategy sampled 3 clients (out of 3)\n"
          ]
        },
        {
          "name": "stdout",
          "output_type": "stream",
          "text": [
            "\u001b[2m\u001b[36m(ClientAppActor pid=33088)\u001b[0m \r 1/10 [==>...........................] - ETA: 3s - loss: 27.0198 - accuracy: 0.1875\b\b\b\b\b\b\b\b\b\b\b\b\b\b\b\b\b\b\b\b\b\b\b\b\b\b\b\b\b\b\b\b\b\b\b\b\b\b\b\b\b\b\b\b\b\b\b\b\b\b\b\b\b\b\b\b\b\b\b\b\b\b\b\b\b\b\b\b\b\b\b\b\b\b\b\b\b\b\b\b\b\b\b\r10/10 [==============================] - 0s 3ms/step - loss: 27.9238 - accuracy: 0.1359\n"
          ]
        },
        {
          "name": "stderr",
          "output_type": "stream",
          "text": [
            "\u001b[92mINFO \u001b[0m:      aggregate_fit: received 3 results and 0 failures\n",
            "INFO:flwr:aggregate_fit: received 3 results and 0 failures\n"
          ]
        },
        {
          "name": "stdout",
          "output_type": "stream",
          "text": [
            "2463/2463 [==============================] - 4s 2ms/step\n"
          ]
        },
        {
          "name": "stderr",
          "output_type": "stream",
          "text": [
            "\u001b[92mINFO \u001b[0m:      fit progress: (12, 1.5094852447509766, {'loss': 1.5094852447509766, 'accuracy': 0.8889467120170593, 'Centralised report': '              precision    recall  f1-score   support\\n\\n           0    0.42137   0.56404   0.48238      7230\\n           1    0.95441   0.92176   0.93780     71579\\n\\n    accuracy                        0.88895     78809\\n   macro avg    0.68789   0.74290   0.71009     78809\\nweighted avg    0.90550   0.88895   0.89602     78809\\n'}, 1028.7599831900006)\n",
            "INFO:flwr:fit progress: (12, 1.5094852447509766, {'loss': 1.5094852447509766, 'accuracy': 0.8889467120170593, 'Centralised report': '              precision    recall  f1-score   support\\n\\n           0    0.42137   0.56404   0.48238      7230\\n           1    0.95441   0.92176   0.93780     71579\\n\\n    accuracy                        0.88895     78809\\n   macro avg    0.68789   0.74290   0.71009     78809\\nweighted avg    0.90550   0.88895   0.89602     78809\\n'}, 1028.7599831900006)\n",
            "\u001b[92mINFO \u001b[0m:      configure_evaluate: strategy sampled 3 clients (out of 3)\n",
            "INFO:flwr:configure_evaluate: strategy sampled 3 clients (out of 3)\n"
          ]
        },
        {
          "name": "stdout",
          "output_type": "stream",
          "text": [
            "  1/147 [..............................] - ETA: 30s - loss: 0.1689 - accuracy: 0.8750\n",
            " 72/147 [=============>................] - ETA: 0s - loss: 0.1474 - accuracy: 0.8941\n",
            "147/147 [==============================] - 0s 1ms/step - loss: 0.1535 - accuracy: 0.8916\n",
            " 1/10 [==>...........................] - ETA: 1s - loss: 29.5267 - accuracy: 0.0938\n",
            "10/10 [==============================] - 0s 2ms/step - loss: 31.3427 - accuracy: 0.0874\n"
          ]
        },
        {
          "name": "stderr",
          "output_type": "stream",
          "text": [
            "\u001b[92mINFO \u001b[0m:      aggregate_evaluate: received 3 results and 0 failures\n",
            "INFO:flwr:aggregate_evaluate: received 3 results and 0 failures\n",
            "\u001b[92mINFO \u001b[0m:      \n",
            "INFO:flwr:\n",
            "\u001b[92mINFO \u001b[0m:      [ROUND 13]\n",
            "INFO:flwr:[ROUND 13]\n",
            "\u001b[92mINFO \u001b[0m:      configure_fit: strategy sampled 3 clients (out of 3)\n",
            "INFO:flwr:configure_fit: strategy sampled 3 clients (out of 3)\n"
          ]
        },
        {
          "name": "stdout",
          "output_type": "stream",
          "text": [
            "\u001b[2m\u001b[36m(ClientAppActor pid=33088)\u001b[0m \r  1/126 [..............................] - ETA: 25s - loss: 0.0693 - accuracy: 0.9688\b\b\b\b\b\b\b\b\b\b\b\b\b\b\b\b\b\b\b\b\b\b\b\b\b\b\b\b\b\b\b\b\b\b\b\b\b\b\b\b\b\b\b\b\b\b\b\b\b\b\b\b\b\b\b\b\b\b\b\b\b\b\b\b\b\b\b\b\b\b\b\b\b\b\b\b\b\b\b\b\b\b\b\b\b\r 36/126 [=======>......................] - ETA: 0s - loss: 0.8191 - accuracy: 0.9766 \n",
            "\u001b[2m\u001b[36m(ClientAppActor pid=33088)\u001b[0m \b\b\b\b\b\b\b\b\b\b\b\b\b\b\b\b\b\b\b\b\b\b\b\b\b\b\b\b\b\b\b\b\b\b\b\b\b\b\b\b\b\b\b\b\b\b\b\b\b\b\b\b\b\b\b\b\b\b\b\b\b\b\b\b\b\b\b\b\b\b\b\b\b\b\b\b\b\b\b\b\b\b\b\b\r 72/126 [================>.............] - ETA: 0s - loss: 0.7999 - accuracy: 0.9770\b\b\b\b\b\b\b\b\b\b\b\b\b\b\b\b\b\b\b\b\b\b\b\b\b\b\b\b\b\b\b\b\b\b\b\b\b\b\b\b\b\b\b\b\b\b\b\b\b\b\b\b\b\b\b\b\b\b\b\b\b\b\b\b\b\b\b\b\b\b\b\b\b\b\b\b\b\b\b\b\b\b\b\b\r111/126 [=========================>....] - ETA: 0s - loss: 0.8839 - accuracy: 0.9755\b\b\b\b\b\b\b\b\b\b\b\b\b\b\b\b\b\b\b\b\b\b\b\b\b\b\b\b\b\b\b\b\b\b\b\b\b\b\b\b\b\b\b\b\b\b\b\b\b\b\b\b\b\b\b\b\b\b\b\b\b\b\b\b\b\b\b\b\b\b\b\b\b\b\b\b\b\b\b\b\b\b\b\b\r126/126 [==============================] - 0s 1ms/step - loss: 0.8828 - accuracy: 0.9758\n"
          ]
        },
        {
          "name": "stderr",
          "output_type": "stream",
          "text": [
            "\u001b[92mINFO \u001b[0m:      aggregate_fit: received 3 results and 0 failures\n",
            "INFO:flwr:aggregate_fit: received 3 results and 0 failures\n"
          ]
        },
        {
          "name": "stdout",
          "output_type": "stream",
          "text": [
            "2463/2463 [==============================] - 4s 1ms/step\n"
          ]
        },
        {
          "name": "stderr",
          "output_type": "stream",
          "text": [
            "\u001b[92mINFO \u001b[0m:      fit progress: (13, 1.6048648357391357, {'loss': 1.6048648357391357, 'accuracy': 0.8889340162277222, 'Centralised report': '              precision    recall  f1-score   support\\n\\n           0    0.42361   0.58409   0.49108      7230\\n           1    0.95632   0.91973   0.93767     71579\\n\\n    accuracy                        0.88893     78809\\n   macro avg    0.68997   0.75191   0.71437     78809\\nweighted avg    0.90745   0.88893   0.89669     78809\\n'}, 1113.9209665930002)\n",
            "INFO:flwr:fit progress: (13, 1.6048648357391357, {'loss': 1.6048648357391357, 'accuracy': 0.8889340162277222, 'Centralised report': '              precision    recall  f1-score   support\\n\\n           0    0.42361   0.58409   0.49108      7230\\n           1    0.95632   0.91973   0.93767     71579\\n\\n    accuracy                        0.88893     78809\\n   macro avg    0.68997   0.75191   0.71437     78809\\nweighted avg    0.90745   0.88893   0.89669     78809\\n'}, 1113.9209665930002)\n",
            "\u001b[92mINFO \u001b[0m:      configure_evaluate: strategy sampled 3 clients (out of 3)\n",
            "INFO:flwr:configure_evaluate: strategy sampled 3 clients (out of 3)\n"
          ]
        },
        {
          "name": "stdout",
          "output_type": "stream",
          "text": [
            "10/10 [==============================] - 0s 2ms/step - loss: 33.7639 - accuracy: 0.1165\n",
            " 26/147 [====>.........................] - ETA: 0s - loss: 0.1222 - accuracy: 0.8918 \n",
            "101/147 [===================>..........] - ETA: 0s - loss: 0.1240 - accuracy: 0.8895\n",
            "139/147 [===========================>..] - ETA: 0s - loss: 0.1307 - accuracy: 0.8862\n"
          ]
        },
        {
          "name": "stderr",
          "output_type": "stream",
          "text": [
            "\u001b[92mINFO \u001b[0m:      aggregate_evaluate: received 3 results and 0 failures\n",
            "INFO:flwr:aggregate_evaluate: received 3 results and 0 failures\n",
            "\u001b[92mINFO \u001b[0m:      \n",
            "INFO:flwr:\n",
            "\u001b[92mINFO \u001b[0m:      [ROUND 14]\n",
            "INFO:flwr:[ROUND 14]\n",
            "\u001b[92mINFO \u001b[0m:      configure_fit: strategy sampled 3 clients (out of 3)\n",
            "INFO:flwr:configure_fit: strategy sampled 3 clients (out of 3)\n"
          ]
        },
        {
          "name": "stdout",
          "output_type": "stream",
          "text": [
            "\u001b[2m\u001b[36m(ClientAppActor pid=33088)\u001b[0m \b\b\b\b\b\b\b\b\b\b\b\b\b\b\b\b\b\b\b\b\b\b\b\b\b\b\b\b\b\b\b\b\b\b\b\b\b\b\b\b\b\b\b\b\b\b\b\b\b\b\b\b\b\b\b\b\b\b\b\b\b\b\b\b\b\b\b\b\b\b\b\b\b\b\b\b\b\b\b\b\b\b\b\b\r147/147 [==============================] - 0s 1ms/step - loss: 0.1299 - accuracy: 0.8869\n",
            "\u001b[2m\u001b[36m(ClientAppActor pid=33088)\u001b[0m \r  1/126 [..............................] - ETA: 26s - loss: 0.0400 - accuracy: 0.9688\b\b\b\b\b\b\b\b\b\b\b\b\b\b\b\b\b\b\b\b\b\b\b\b\b\b\b\b\b\b\b\b\b\b\b\b\b\b\b\b\b\b\b\b\b\b\b\b\b\b\b\b\b\b\b\b\b\b\b\b\b\b\b\b\b\b\b\b\b\b\b\b\b\b\b\b\b\b\b\b\b\b\b\b\b\r 38/126 [========>.....................] - ETA: 0s - loss: 0.7914 - accuracy: 0.9803 \n",
            "\u001b[2m\u001b[36m(ClientAppActor pid=33088)\u001b[0m \b\b\b\b\b\b\b\b\b\b\b\b\b\b\b\b\b\b\b\b\b\b\b\b\b\b\b\b\b\b\b\b\b\b\b\b\b\b\b\b\b\b\b\b\b\b\b\b\b\b\b\b\b\b\b\b\b\b\b\b\b\b\b\b\b\b\b\b\b\b\b\b\b\b\b\b\b\b\b\b\b\b\b\b\r 72/126 [================>.............] - ETA: 0s - loss: 0.8161 - accuracy: 0.9800\b\b\b\b\b\b\b\b\b\b\b\b\b\b\b\b\b\b\b\b\b\b\b\b\b\b\b\b\b\b\b\b\b\b\b\b\b\b\b\b\b\b\b\b\b\b\b\b\b\b\b\b\b\b\b\b\b\b\b\b\b\b\b\b\b\b\b\b\b\b\b\b\b\b\b\b\b\b\b\b\b\b\b\b\r109/126 [========================>.....] - ETA: 0s - loss: 0.8895 - accuracy: 0.9788\b\b\b\b\b\b\b\b\b\b\b\b\b\b\b\b\b\b\b\b\b\b\b\b\b\b\b\b\b\b\b\b\b\b\b\b\b\b\b\b\b\b\b\b\b\b\b\b\b\b\b\b\b\b\b\b\b\b\b\b\b\b\b\b\b\b\b\b\b\b\b\b\b\b\b\b\b\b\b\b\b\b\b\b\r126/126 [==============================] - 0s 1ms/step - loss: 0.9058 - accuracy: 0.9785\n"
          ]
        },
        {
          "name": "stderr",
          "output_type": "stream",
          "text": [
            "\u001b[92mINFO \u001b[0m:      aggregate_fit: received 3 results and 0 failures\n",
            "INFO:flwr:aggregate_fit: received 3 results and 0 failures\n"
          ]
        },
        {
          "name": "stdout",
          "output_type": "stream",
          "text": [
            "2463/2463 [==============================] - 4s 1ms/step\n"
          ]
        },
        {
          "name": "stderr",
          "output_type": "stream",
          "text": [
            "\u001b[92mINFO \u001b[0m:      fit progress: (14, 1.6292552947998047, {'loss': 1.6292552947998047, 'accuracy': 0.891471803188324, 'Centralised report': '              precision    recall  f1-score   support\\n\\n           0    0.43299   0.59115   0.49985      7230\\n           1    0.95712   0.92181   0.93913     71579\\n\\n    accuracy                        0.89147     78809\\n   macro avg    0.69505   0.75648   0.71949     78809\\nweighted avg    0.90904   0.89147   0.89883     78809\\n'}, 1202.6880980000005)\n",
            "INFO:flwr:fit progress: (14, 1.6292552947998047, {'loss': 1.6292552947998047, 'accuracy': 0.891471803188324, 'Centralised report': '              precision    recall  f1-score   support\\n\\n           0    0.43299   0.59115   0.49985      7230\\n           1    0.95712   0.92181   0.93913     71579\\n\\n    accuracy                        0.89147     78809\\n   macro avg    0.69505   0.75648   0.71949     78809\\nweighted avg    0.90904   0.89147   0.89883     78809\\n'}, 1202.6880980000005)\n",
            "\u001b[92mINFO \u001b[0m:      configure_evaluate: strategy sampled 3 clients (out of 3)\n",
            "INFO:flwr:configure_evaluate: strategy sampled 3 clients (out of 3)\n"
          ]
        },
        {
          "name": "stdout",
          "output_type": "stream",
          "text": [
            "  1/126 [..............................] - ETA: 42s - loss: 0.0044 - accuracy: 1.0000\n",
            " 31/126 [======>.......................] - ETA: 0s - loss: 0.7768 - accuracy: 0.9819\n",
            " 72/126 [================>.............] - ETA: 0s - loss: 0.7809 - accuracy: 0.9818\n",
            "111/126 [=========================>....] - ETA: 0s - loss: 0.8676 - accuracy: 0.9803\n",
            "126/126 [==============================] - 1s 3ms/step - loss: 0.8676 - accuracy: 0.9803\n",
            "10/10 [==============================] - 0s 3ms/step - loss: 34.5472 - accuracy: 0.1456\n",
            " 24/147 [===>..........................] - ETA: 0s - loss: 0.0930 - accuracy: 0.8997 \n",
            " 72/147 [=============>................] - ETA: 0s - loss: 0.1010 - accuracy: 0.8937\n"
          ]
        },
        {
          "name": "stderr",
          "output_type": "stream",
          "text": [
            "\u001b[92mINFO \u001b[0m:      aggregate_evaluate: received 3 results and 0 failures\n",
            "INFO:flwr:aggregate_evaluate: received 3 results and 0 failures\n",
            "\u001b[92mINFO \u001b[0m:      \n",
            "INFO:flwr:\n",
            "\u001b[92mINFO \u001b[0m:      [ROUND 15]\n",
            "INFO:flwr:[ROUND 15]\n",
            "\u001b[92mINFO \u001b[0m:      configure_fit: strategy sampled 3 clients (out of 3)\n",
            "INFO:flwr:configure_fit: strategy sampled 3 clients (out of 3)\n"
          ]
        },
        {
          "name": "stdout",
          "output_type": "stream",
          "text": [
            "\u001b[2m\u001b[36m(ClientAppActor pid=33088)\u001b[0m \b\b\b\b\b\b\b\b\b\b\b\b\b\b\b\b\b\b\b\b\b\b\b\b\b\b\b\b\b\b\b\b\b\b\b\b\b\b\b\b\b\b\b\b\b\b\b\b\b\b\b\b\b\b\b\b\b\b\b\b\b\b\b\b\b\b\b\b\b\b\b\b\b\b\b\b\b\b\b\b\b\b\b\b\r 92/147 [=================>............] - ETA: 0s - loss: 0.1015 - accuracy: 0.8940\b\b\b\b\b\b\b\b\b\b\b\b\b\b\b\b\b\b\b\b\b\b\b\b\b\b\b\b\b\b\b\b\b\b\b\b\b\b\b\b\b\b\b\b\b\b\b\b\b\b\b\b\b\b\b\b\b\b\b\b\b\b\b\b\b\b\b\b\b\b\b\b\b\b\b\b\b\b\b\b\b\b\b\b\r115/147 [======================>.......] - ETA: 0s - loss: 0.1049 - accuracy: 0.8910\n",
            "\u001b[2m\u001b[36m(ClientAppActor pid=33088)\u001b[0m \b\b\b\b\b\b\b\b\b\b\b\b\b\b\b\b\b\b\b\b\b\b\b\b\b\b\b\b\b\b\b\b\b\b\b\b\b\b\b\b\b\b\b\b\b\b\b\b\b\b\b\b\b\b\b\b\b\b\b\b\b\b\b\b\b\b\b\b\b\b\b\b\b\b\b\b\b\b\b\b\b\b\b\b\r128/147 [=========================>....] - ETA: 0s - loss: 0.1062 - accuracy: 0.8892\b\b\b\b\b\b\b\b\b\b\b\b\b\b\b\b\b\b\b\b\b\b\b\b\b\b\b\b\b\b\b\b\b\b\b\b\b\b\b\b\b\b\b\b\b\b\b\b\b\b\b\b\b\b\b\b\b\b\b\b\b\b\b\b\b\b\b\b\b\b\b\b\b\b\b\b\b\b\b\b\b\b\b\b\r147/147 [==============================] - 1s 2ms/step - loss: 0.1060 - accuracy: 0.8909\n"
          ]
        },
        {
          "name": "stderr",
          "output_type": "stream",
          "text": [
            "\u001b[92mINFO \u001b[0m:      aggregate_fit: received 3 results and 0 failures\n",
            "INFO:flwr:aggregate_fit: received 3 results and 0 failures\n"
          ]
        },
        {
          "name": "stdout",
          "output_type": "stream",
          "text": [
            "2463/2463 [==============================] - 5s 2ms/step\n"
          ]
        },
        {
          "name": "stderr",
          "output_type": "stream",
          "text": [
            "\u001b[92mINFO \u001b[0m:      fit progress: (15, 1.6762031316757202, {'loss': 1.6762031316757202, 'accuracy': 0.9556015133857727, 'Centralised report': '              precision    recall  f1-score   support\\n\\n           0    0.90300   0.57815   0.70495      7230\\n           1    0.95888   0.99373   0.97599     71579\\n\\n    accuracy                        0.95560     78809\\n   macro avg    0.93094   0.78594   0.84047     78809\\nweighted avg    0.95376   0.95560   0.95113     78809\\n'}, 1294.7739133320001)\n",
            "INFO:flwr:fit progress: (15, 1.6762031316757202, {'loss': 1.6762031316757202, 'accuracy': 0.9556015133857727, 'Centralised report': '              precision    recall  f1-score   support\\n\\n           0    0.90300   0.57815   0.70495      7230\\n           1    0.95888   0.99373   0.97599     71579\\n\\n    accuracy                        0.95560     78809\\n   macro avg    0.93094   0.78594   0.84047     78809\\nweighted avg    0.95376   0.95560   0.95113     78809\\n'}, 1294.7739133320001)\n",
            "\u001b[92mINFO \u001b[0m:      configure_evaluate: strategy sampled 3 clients (out of 3)\n",
            "INFO:flwr:configure_evaluate: strategy sampled 3 clients (out of 3)\n"
          ]
        },
        {
          "name": "stdout",
          "output_type": "stream",
          "text": [
            " 40/126 [========>.....................] - ETA: 0s - loss: 0.7809 - accuracy: 0.9820 \n",
            " 75/126 [================>.............] - ETA: 0s - loss: 0.8159 - accuracy: 0.9808\n",
            "126/126 [==============================] - 0s 1ms/step - loss: 0.9424 - accuracy: 0.9785\n",
            "10/10 [==============================] - 0s 2ms/step - loss: 36.4198 - accuracy: 0.1100\n"
          ]
        },
        {
          "name": "stderr",
          "output_type": "stream",
          "text": [
            "\u001b[92mINFO \u001b[0m:      aggregate_evaluate: received 3 results and 0 failures\n",
            "INFO:flwr:aggregate_evaluate: received 3 results and 0 failures\n",
            "\u001b[92mINFO \u001b[0m:      \n",
            "INFO:flwr:\n",
            "\u001b[92mINFO \u001b[0m:      [ROUND 16]\n",
            "INFO:flwr:[ROUND 16]\n",
            "\u001b[92mINFO \u001b[0m:      configure_fit: strategy sampled 3 clients (out of 3)\n",
            "INFO:flwr:configure_fit: strategy sampled 3 clients (out of 3)\n"
          ]
        },
        {
          "name": "stdout",
          "output_type": "stream",
          "text": [
            "  1/147 [..............................] - ETA: 31s - loss: 0.0322 - accuracy: 1.0000\n",
            " 75/147 [==============>...............] - ETA: 0s - loss: 0.0382 - accuracy: 0.9908\n",
            "147/147 [==============================] - 0s 1ms/step - loss: 0.0432 - accuracy: 0.9889\n"
          ]
        },
        {
          "name": "stderr",
          "output_type": "stream",
          "text": [
            "\u001b[92mINFO \u001b[0m:      aggregate_fit: received 3 results and 0 failures\n",
            "INFO:flwr:aggregate_fit: received 3 results and 0 failures\n"
          ]
        },
        {
          "name": "stdout",
          "output_type": "stream",
          "text": [
            "2463/2463 [==============================] - 3s 1ms/step\n"
          ]
        },
        {
          "name": "stderr",
          "output_type": "stream",
          "text": [
            "\u001b[92mINFO \u001b[0m:      fit progress: (16, 1.7921123504638672, {'loss': 1.7921123504638672, 'accuracy': 0.9610831141471863, 'Centralised report': '              precision    recall  f1-score   support\\n\\n           0    0.98038   0.58755   0.73476      7230\\n           1    0.95996   0.99881   0.97900     71579\\n\\n    accuracy                        0.96108     78809\\n   macro avg    0.97017   0.79318   0.85688     78809\\nweighted avg    0.96183   0.96108   0.95659     78809\\n'}, 1380.1213361990003)\n",
            "INFO:flwr:fit progress: (16, 1.7921123504638672, {'loss': 1.7921123504638672, 'accuracy': 0.9610831141471863, 'Centralised report': '              precision    recall  f1-score   support\\n\\n           0    0.98038   0.58755   0.73476      7230\\n           1    0.95996   0.99881   0.97900     71579\\n\\n    accuracy                        0.96108     78809\\n   macro avg    0.97017   0.79318   0.85688     78809\\nweighted avg    0.96183   0.96108   0.95659     78809\\n'}, 1380.1213361990003)\n",
            "\u001b[92mINFO \u001b[0m:      configure_evaluate: strategy sampled 3 clients (out of 3)\n",
            "INFO:flwr:configure_evaluate: strategy sampled 3 clients (out of 3)\n"
          ]
        },
        {
          "name": "stdout",
          "output_type": "stream",
          "text": [
            "10/10 [==============================] - 0s 2ms/step - loss: 39.0728 - accuracy: 0.1392\n",
            " 39/147 [======>.......................] - ETA: 0s - loss: 0.0210 - accuracy: 0.9984 \n",
            "117/147 [======================>.......] - ETA: 0s - loss: 0.0241 - accuracy: 0.9979\n"
          ]
        },
        {
          "name": "stderr",
          "output_type": "stream",
          "text": [
            "\u001b[92mINFO \u001b[0m:      aggregate_evaluate: received 3 results and 0 failures\n",
            "INFO:flwr:aggregate_evaluate: received 3 results and 0 failures\n",
            "\u001b[92mINFO \u001b[0m:      \n",
            "INFO:flwr:\n",
            "\u001b[92mINFO \u001b[0m:      [ROUND 17]\n",
            "INFO:flwr:[ROUND 17]\n",
            "\u001b[92mINFO \u001b[0m:      configure_fit: strategy sampled 3 clients (out of 3)\n",
            "INFO:flwr:configure_fit: strategy sampled 3 clients (out of 3)\n"
          ]
        },
        {
          "name": "stdout",
          "output_type": "stream",
          "text": [
            "147/147 [==============================] - 0s 1ms/step - loss: 0.0248 - accuracy: 0.9972\n",
            "  1/126 [..............................] - ETA: 24s - loss: 0.0059 - accuracy: 1.0000\n",
            " 76/126 [=================>............] - ETA: 0s - loss: 0.8825 - accuracy: 0.9819\n",
            "126/126 [==============================] - 0s 1ms/step - loss: 1.0055 - accuracy: 0.9798\n"
          ]
        },
        {
          "name": "stderr",
          "output_type": "stream",
          "text": [
            "\u001b[92mINFO \u001b[0m:      aggregate_fit: received 3 results and 0 failures\n",
            "INFO:flwr:aggregate_fit: received 3 results and 0 failures\n"
          ]
        },
        {
          "name": "stdout",
          "output_type": "stream",
          "text": [
            "2463/2463 [==============================] - 5s 2ms/step\n"
          ]
        },
        {
          "name": "stderr",
          "output_type": "stream",
          "text": [
            "\u001b[92mINFO \u001b[0m:      fit progress: (17, 1.8987363576889038, {'loss': 1.8987363576889038, 'accuracy': 0.9590402245521545, 'Centralised report': '              precision    recall  f1-score   support\\n\\n           0    0.98615   0.56141   0.71549      7230\\n           1    0.95755   0.99920   0.97793     71579\\n\\n    accuracy                        0.95904     78809\\n   macro avg    0.97185   0.78031   0.84671     78809\\nweighted avg    0.96017   0.95904   0.95386     78809\\n'}, 1474.9770314950001)\n",
            "INFO:flwr:fit progress: (17, 1.8987363576889038, {'loss': 1.8987363576889038, 'accuracy': 0.9590402245521545, 'Centralised report': '              precision    recall  f1-score   support\\n\\n           0    0.98615   0.56141   0.71549      7230\\n           1    0.95755   0.99920   0.97793     71579\\n\\n    accuracy                        0.95904     78809\\n   macro avg    0.97185   0.78031   0.84671     78809\\nweighted avg    0.96017   0.95904   0.95386     78809\\n'}, 1474.9770314950001)\n",
            "\u001b[92mINFO \u001b[0m:      configure_evaluate: strategy sampled 3 clients (out of 3)\n",
            "INFO:flwr:configure_evaluate: strategy sampled 3 clients (out of 3)\n"
          ]
        },
        {
          "name": "stdout",
          "output_type": "stream",
          "text": [
            "  1/147 [..............................] - ETA: 29s - loss: 0.0051 - accuracy: 1.0000\n",
            " 73/147 [=============>................] - ETA: 0s - loss: 0.0110 - accuracy: 0.9991\n",
            "147/147 [==============================] - 0s 1ms/step - loss: 0.0147 - accuracy: 0.9985\n",
            " 40/126 [========>.....................] - ETA: 0s - loss: 0.8848 - accuracy: 0.9836 \n",
            "115/126 [==========================>...] - ETA: 0s - loss: 1.0421 - accuracy: 0.9807\n"
          ]
        },
        {
          "name": "stderr",
          "output_type": "stream",
          "text": [
            "\u001b[92mINFO \u001b[0m:      aggregate_evaluate: received 3 results and 0 failures\n",
            "INFO:flwr:aggregate_evaluate: received 3 results and 0 failures\n",
            "\u001b[92mINFO \u001b[0m:      \n",
            "INFO:flwr:\n",
            "\u001b[92mINFO \u001b[0m:      [ROUND 18]\n",
            "INFO:flwr:[ROUND 18]\n",
            "\u001b[92mINFO \u001b[0m:      configure_fit: strategy sampled 3 clients (out of 3)\n",
            "INFO:flwr:configure_fit: strategy sampled 3 clients (out of 3)\n"
          ]
        },
        {
          "name": "stdout",
          "output_type": "stream",
          "text": [
            "\u001b[2m\u001b[36m(ClientAppActor pid=33088)\u001b[0m \b\b\b\b\b\b\b\b\b\b\b\b\b\b\b\b\b\b\b\b\b\b\b\b\b\b\b\b\b\b\b\b\b\b\b\b\b\b\b\b\b\b\b\b\b\b\b\b\b\b\b\b\b\b\b\b\b\b\b\b\b\b\b\b\b\b\b\b\b\b\b\b\b\b\b\b\b\b\b\b\b\b\b\b\r126/126 [==============================] - 0s 1ms/step - loss: 1.0692 - accuracy: 0.9800\n",
            "\u001b[2m\u001b[36m(ClientAppActor pid=33088)\u001b[0m \r 1/10 [==>...........................] - ETA: 1s - loss: 40.5443 - accuracy: 0.0625\b\b\b\b\b\b\b\b\b\b\b\b\b\b\b\b\b\b\b\b\b\b\b\b\b\b\b\b\b\b\b\b\b\b\b\b\b\b\b\b\b\b\b\b\b\b\b\b\b\b\b\b\b\b\b\b\b\b\b\b\b\b\b\b\b\b\b\b\b\b\b\b\b\b\b\b\b\b\b\b\b\b\b\r10/10 [==============================] - 0s 2ms/step - loss: 41.5765 - accuracy: 0.0712\n"
          ]
        },
        {
          "name": "stderr",
          "output_type": "stream",
          "text": [
            "\u001b[92mINFO \u001b[0m:      aggregate_fit: received 3 results and 0 failures\n",
            "INFO:flwr:aggregate_fit: received 3 results and 0 failures\n"
          ]
        },
        {
          "name": "stdout",
          "output_type": "stream",
          "text": [
            "2463/2463 [==============================] - 4s 1ms/step\n"
          ]
        },
        {
          "name": "stderr",
          "output_type": "stream",
          "text": [
            "\u001b[92mINFO \u001b[0m:      fit progress: (18, 1.9275610446929932, {'loss': 1.9275610446929932, 'accuracy': 0.9605374932289124, 'Centralised report': '              precision    recall  f1-score   support\\n\\n           0    0.98931   0.57607   0.72815      7230\\n           1    0.95891   0.99937   0.97872     71579\\n\\n    accuracy                        0.96054     78809\\n   macro avg    0.97411   0.78772   0.85344     78809\\nweighted avg    0.96170   0.96054   0.95574     78809\\n'}, 1562.684442144)\n",
            "INFO:flwr:fit progress: (18, 1.9275610446929932, {'loss': 1.9275610446929932, 'accuracy': 0.9605374932289124, 'Centralised report': '              precision    recall  f1-score   support\\n\\n           0    0.98931   0.57607   0.72815      7230\\n           1    0.95891   0.99937   0.97872     71579\\n\\n    accuracy                        0.96054     78809\\n   macro avg    0.97411   0.78772   0.85344     78809\\nweighted avg    0.96170   0.96054   0.95574     78809\\n'}, 1562.684442144)\n",
            "\u001b[92mINFO \u001b[0m:      configure_evaluate: strategy sampled 3 clients (out of 3)\n",
            "INFO:flwr:configure_evaluate: strategy sampled 3 clients (out of 3)\n"
          ]
        },
        {
          "name": "stdout",
          "output_type": "stream",
          "text": [
            "10/10 [==============================] - 0s 2ms/step - loss: 42.2040 - accuracy: 0.1036\n",
            "  1/147 [..............................] - ETA: 45s - loss: 0.0011 - accuracy: 1.0000\n",
            " 49/147 [=========>....................] - ETA: 0s - loss: 0.0067 - accuracy: 0.9987\n",
            " 95/147 [==================>...........] - ETA: 0s - loss: 0.0064 - accuracy: 0.9993\n",
            "136/147 [==========================>...] - ETA: 0s - loss: 0.0092 - accuracy: 0.9989\n",
            "147/147 [==============================] - 1s 2ms/step - loss: 0.0091 - accuracy: 0.9989\n",
            "  1/126 [..............................] - ETA: 38s - loss: 0.0039 - accuracy: 1.0000\n",
            " 49/126 [==========>...................] - ETA: 0s - loss: 0.7593 - accuracy: 0.9847\n"
          ]
        },
        {
          "name": "stderr",
          "output_type": "stream",
          "text": [
            "\u001b[92mINFO \u001b[0m:      aggregate_evaluate: received 3 results and 0 failures\n",
            "INFO:flwr:aggregate_evaluate: received 3 results and 0 failures\n",
            "\u001b[92mINFO \u001b[0m:      \n",
            "INFO:flwr:\n",
            "\u001b[92mINFO \u001b[0m:      [ROUND 19]\n",
            "INFO:flwr:[ROUND 19]\n",
            "\u001b[92mINFO \u001b[0m:      configure_fit: strategy sampled 3 clients (out of 3)\n",
            "INFO:flwr:configure_fit: strategy sampled 3 clients (out of 3)\n"
          ]
        },
        {
          "name": "stdout",
          "output_type": "stream",
          "text": [
            "\u001b[2m\u001b[36m(ClientAppActor pid=33088)\u001b[0m \b\b\b\b\b\b\b\b\b\b\b\b\b\b\b\b\b\b\b\b\b\b\b\b\b\b\b\b\b\b\b\b\b\b\b\b\b\b\b\b\b\b\b\b\b\b\b\b\b\b\b\b\b\b\b\b\b\b\b\b\b\b\b\b\b\b\b\b\b\b\b\b\b\b\b\b\b\b\b\b\b\b\b\b\r 72/126 [================>.............] - ETA: 0s - loss: 0.8986 - accuracy: 0.9813\b\b\b\b\b\b\b\b\b\b\b\b\b\b\b\b\b\b\b\b\b\b\b\b\b\b\b\b\b\b\b\b\b\b\b\b\b\b\b\b\b\b\b\b\b\b\b\b\b\b\b\b\b\b\b\b\b\b\b\b\b\b\b\b\b\b\b\b\b\b\b\b\b\b\b\b\b\b\b\b\b\b\b\b\r 98/126 [======================>.......] - ETA: 0s - loss: 0.9387 - accuracy: 0.9809\n",
            "\u001b[2m\u001b[36m(ClientAppActor pid=33088)\u001b[0m \b\b\b\b\b\b\b\b\b\b\b\b\b\b\b\b\b\b\b\b\b\b\b\b\b\b\b\b\b\b\b\b\b\b\b\b\b\b\b\b\b\b\b\b\b\b\b\b\b\b\b\b\b\b\b\b\b\b\b\b\b\b\b\b\b\b\b\b\b\b\b\b\b\b\b\b\b\b\b\b\b\b\b\b\r116/126 [==========================>...] - ETA: 0s - loss: 0.9651 - accuracy: 0.9806\b\b\b\b\b\b\b\b\b\b\b\b\b\b\b\b\b\b\b\b\b\b\b\b\b\b\b\b\b\b\b\b\b\b\b\b\b\b\b\b\b\b\b\b\b\b\b\b\b\b\b\b\b\b\b\b\b\b\b\b\b\b\b\b\b\b\b\b\b\b\b\b\b\b\b\b\b\b\b\b\b\b\b\b\r126/126 [==============================] - 1s 2ms/step - loss: 0.9993 - accuracy: 0.9798\n"
          ]
        },
        {
          "name": "stderr",
          "output_type": "stream",
          "text": [
            "\u001b[92mINFO \u001b[0m:      aggregate_fit: received 3 results and 0 failures\n",
            "INFO:flwr:aggregate_fit: received 3 results and 0 failures\n"
          ]
        },
        {
          "name": "stdout",
          "output_type": "stream",
          "text": [
            "2463/2463 [==============================] - 4s 1ms/step\n"
          ]
        },
        {
          "name": "stderr",
          "output_type": "stream",
          "text": [
            "\u001b[92mINFO \u001b[0m:      fit progress: (19, 1.927960753440857, {'loss': 1.927960753440857, 'accuracy': 0.9597000479698181, 'Centralised report': '              precision    recall  f1-score   support\\n\\n           0    0.99009   0.56639   0.72057      7230\\n           1    0.95802   0.99943   0.97828     71579\\n\\n    accuracy                        0.95970     78809\\n   macro avg    0.97405   0.78291   0.84943     78809\\nweighted avg    0.96096   0.95970   0.95464     78809\\n'}, 1648.2382542610003)\n",
            "INFO:flwr:fit progress: (19, 1.927960753440857, {'loss': 1.927960753440857, 'accuracy': 0.9597000479698181, 'Centralised report': '              precision    recall  f1-score   support\\n\\n           0    0.99009   0.56639   0.72057      7230\\n           1    0.95802   0.99943   0.97828     71579\\n\\n    accuracy                        0.95970     78809\\n   macro avg    0.97405   0.78291   0.84943     78809\\nweighted avg    0.96096   0.95970   0.95464     78809\\n'}, 1648.2382542610003)\n",
            "\u001b[92mINFO \u001b[0m:      configure_evaluate: strategy sampled 3 clients (out of 3)\n",
            "INFO:flwr:configure_evaluate: strategy sampled 3 clients (out of 3)\n"
          ]
        },
        {
          "name": "stdout",
          "output_type": "stream",
          "text": [
            "10/10 [==============================] - 0s 3ms/step - loss: 42.2696 - accuracy: 0.0874\n",
            "  1/147 [..............................] - ETA: 45s - loss: 2.1505e-04 - accuracy: 1.0000\n",
            " 46/147 [========>.....................] - ETA: 0s - loss: 0.0036 - accuracy: 1.0000\n",
            " 89/147 [=================>............] - ETA: 0s - loss: 0.0044 - accuracy: 0.9996\n",
            "106/147 [====================>.........] - ETA: 0s - loss: 0.0040 - accuracy: 0.9997\n"
          ]
        },
        {
          "name": "stderr",
          "output_type": "stream",
          "text": [
            "\u001b[92mINFO \u001b[0m:      aggregate_evaluate: received 3 results and 0 failures\n",
            "INFO:flwr:aggregate_evaluate: received 3 results and 0 failures\n",
            "\u001b[92mINFO \u001b[0m:      \n",
            "INFO:flwr:\n",
            "\u001b[92mINFO \u001b[0m:      [ROUND 20]\n",
            "INFO:flwr:[ROUND 20]\n",
            "\u001b[92mINFO \u001b[0m:      configure_fit: strategy sampled 3 clients (out of 3)\n",
            "INFO:flwr:configure_fit: strategy sampled 3 clients (out of 3)\n"
          ]
        },
        {
          "name": "stdout",
          "output_type": "stream",
          "text": [
            "147/147 [==============================] - 1s 3ms/step - loss: 0.0069 - accuracy: 0.9991\n",
            "  1/126 [..............................] - ETA: 27s - loss: 0.0100 - accuracy: 1.0000\n",
            " 71/126 [===============>..............] - ETA: 0s - loss: 0.9285 - accuracy: 0.9811\n",
            "108/126 [========================>.....] - ETA: 0s - loss: 1.0394 - accuracy: 0.9795\n",
            "126/126 [==============================] - 0s 1ms/step - loss: 1.0490 - accuracy: 0.9793\n"
          ]
        },
        {
          "name": "stderr",
          "output_type": "stream",
          "text": [
            "\u001b[92mINFO \u001b[0m:      aggregate_fit: received 3 results and 0 failures\n",
            "INFO:flwr:aggregate_fit: received 3 results and 0 failures\n"
          ]
        },
        {
          "name": "stdout",
          "output_type": "stream",
          "text": [
            "2463/2463 [==============================] - 5s 2ms/step\n"
          ]
        },
        {
          "name": "stderr",
          "output_type": "stream",
          "text": [
            "\u001b[92mINFO \u001b[0m:      fit progress: (20, 1.8559390306472778, {'loss': 1.8559390306472778, 'accuracy': 0.9611465930938721, 'Centralised report': '              precision    recall  f1-score   support\\n\\n           0    0.99035   0.58216   0.73328      7230\\n           1    0.95948   0.99943   0.97905     71579\\n\\n    accuracy                        0.96115     78809\\n   macro avg    0.97492   0.79079   0.85616     78809\\nweighted avg    0.96231   0.96115   0.95650     78809\\n'}, 1741.650151289)\n",
            "INFO:flwr:fit progress: (20, 1.8559390306472778, {'loss': 1.8559390306472778, 'accuracy': 0.9611465930938721, 'Centralised report': '              precision    recall  f1-score   support\\n\\n           0    0.99035   0.58216   0.73328      7230\\n           1    0.95948   0.99943   0.97905     71579\\n\\n    accuracy                        0.96115     78809\\n   macro avg    0.97492   0.79079   0.85616     78809\\nweighted avg    0.96231   0.96115   0.95650     78809\\n'}, 1741.650151289)\n",
            "\u001b[92mINFO \u001b[0m:      configure_evaluate: strategy sampled 3 clients (out of 3)\n",
            "INFO:flwr:configure_evaluate: strategy sampled 3 clients (out of 3)\n"
          ]
        },
        {
          "name": "stdout",
          "output_type": "stream",
          "text": [
            " 37/126 [=======>......................] - ETA: 0s - loss: 0.8590 - accuracy: 0.9831     \n",
            "126/126 [==============================] - 0s 1ms/step - loss: 0.9648 - accuracy: 0.9800\n",
            " 36/147 [======>.......................] - ETA: 0s - loss: 0.0048 - accuracy: 1.0000     \n",
            "106/147 [====================>.........] - ETA: 0s - loss: 0.0049 - accuracy: 0.9997\n",
            "147/147 [==============================] - 0s 2ms/step - loss: 0.0081 - accuracy: 0.9991\n"
          ]
        },
        {
          "name": "stderr",
          "output_type": "stream",
          "text": [
            "\u001b[92mINFO \u001b[0m:      aggregate_evaluate: received 3 results and 0 failures\n",
            "INFO:flwr:aggregate_evaluate: received 3 results and 0 failures\n",
            "\u001b[92mINFO \u001b[0m:      \n",
            "INFO:flwr:\n",
            "\u001b[92mINFO \u001b[0m:      [ROUND 21]\n",
            "INFO:flwr:[ROUND 21]\n",
            "\u001b[92mINFO \u001b[0m:      configure_fit: strategy sampled 3 clients (out of 3)\n",
            "INFO:flwr:configure_fit: strategy sampled 3 clients (out of 3)\n"
          ]
        },
        {
          "name": "stdout",
          "output_type": "stream",
          "text": [
            "\u001b[2m\u001b[36m(ClientAppActor pid=33088)\u001b[0m \r 1/10 [==>...........................] - ETA: 2s - loss: 39.5391 - accuracy: 0.1250\b\b\b\b\b\b\b\b\b\b\b\b\b\b\b\b\b\b\b\b\b\b\b\b\b\b\b\b\b\b\b\b\b\b\b\b\b\b\b\b\b\b\b\b\b\b\b\b\b\b\b\b\b\b\b\b\b\b\b\b\b\b\b\b\b\b\b\b\b\b\b\b\b\b\b\b\b\b\b\b\b\b\b\r10/10 [==============================] - 0s 2ms/step - loss: 40.6105 - accuracy: 0.1133\n"
          ]
        },
        {
          "name": "stderr",
          "output_type": "stream",
          "text": [
            "\u001b[92mINFO \u001b[0m:      aggregate_fit: received 3 results and 0 failures\n",
            "INFO:flwr:aggregate_fit: received 3 results and 0 failures\n"
          ]
        },
        {
          "name": "stdout",
          "output_type": "stream",
          "text": [
            "2463/2463 [==============================] - 4s 2ms/step\n"
          ]
        },
        {
          "name": "stderr",
          "output_type": "stream",
          "text": [
            "\u001b[92mINFO \u001b[0m:      fit progress: (21, 1.9612752199172974, {'loss': 1.9612752199172974, 'accuracy': 0.9618317484855652, 'Centralised report': '              precision    recall  f1-score   support\\n\\n           0    0.99207   0.58866   0.73889      7230\\n           1    0.96009   0.99953   0.97941     71579\\n\\n    accuracy                        0.96183     78809\\n   macro avg    0.97608   0.79409   0.85915     78809\\nweighted avg    0.96302   0.96183   0.95735     78809\\n'}, 1830.044170219)\n",
            "INFO:flwr:fit progress: (21, 1.9612752199172974, {'loss': 1.9612752199172974, 'accuracy': 0.9618317484855652, 'Centralised report': '              precision    recall  f1-score   support\\n\\n           0    0.99207   0.58866   0.73889      7230\\n           1    0.96009   0.99953   0.97941     71579\\n\\n    accuracy                        0.96183     78809\\n   macro avg    0.97608   0.79409   0.85915     78809\\nweighted avg    0.96302   0.96183   0.95735     78809\\n'}, 1830.044170219)\n",
            "\u001b[92mINFO \u001b[0m:      configure_evaluate: strategy sampled 3 clients (out of 3)\n",
            "INFO:flwr:configure_evaluate: strategy sampled 3 clients (out of 3)\n"
          ]
        },
        {
          "name": "stdout",
          "output_type": "stream",
          "text": [
            " 35/147 [======>.......................] - ETA: 0s - loss: 0.0022 - accuracy: 1.0000     \n",
            " 77/147 [==============>...............] - ETA: 0s - loss: 0.0026 - accuracy: 0.9996\n",
            "116/147 [======================>.......] - ETA: 0s - loss: 0.0053 - accuracy: 0.9992\n",
            "147/147 [==============================] - 1s 2ms/step - loss: 0.0060 - accuracy: 0.9989\n",
            "  1/126 [..............................] - ETA: 37s - loss: 0.0014 - accuracy: 1.0000\n",
            " 50/126 [==========>...................] - ETA: 0s - loss: 0.8157 - accuracy: 0.9844\n",
            " 99/126 [======================>.......] - ETA: 0s - loss: 0.9891 - accuracy: 0.9804\n",
            "126/126 [==============================] - 1s 2ms/step - loss: 1.0430 - accuracy: 0.9795\n"
          ]
        },
        {
          "name": "stderr",
          "output_type": "stream",
          "text": [
            "\u001b[92mINFO \u001b[0m:      aggregate_evaluate: received 3 results and 0 failures\n",
            "INFO:flwr:aggregate_evaluate: received 3 results and 0 failures\n",
            "\u001b[92mINFO \u001b[0m:      \n",
            "INFO:flwr:\n",
            "\u001b[92mINFO \u001b[0m:      [ROUND 22]\n",
            "INFO:flwr:[ROUND 22]\n",
            "\u001b[92mINFO \u001b[0m:      configure_fit: strategy sampled 3 clients (out of 3)\n",
            "INFO:flwr:configure_fit: strategy sampled 3 clients (out of 3)\n"
          ]
        },
        {
          "name": "stdout",
          "output_type": "stream",
          "text": [
            "\u001b[2m\u001b[36m(ClientAppActor pid=33088)\u001b[0m \r 1/10 [==>...........................] - ETA: 2s - loss: 42.1186 - accuracy: 0.1562\b\b\b\b\b\b\b\b\b\b\b\b\b\b\b\b\b\b\b\b\b\b\b\b\b\b\b\b\b\b\b\b\b\b\b\b\b\b\b\b\b\b\b\b\b\b\b\b\b\b\b\b\b\b\b\b\b\b\b\b\b\b\b\b\b\b\b\b\b\b\b\b\b\b\b\b\b\b\b\b\b\b\b\r10/10 [==============================] - 0s 4ms/step - loss: 42.8219 - accuracy: 0.1262\n"
          ]
        },
        {
          "name": "stderr",
          "output_type": "stream",
          "text": [
            "\u001b[92mINFO \u001b[0m:      aggregate_fit: received 3 results and 0 failures\n",
            "INFO:flwr:aggregate_fit: received 3 results and 0 failures\n"
          ]
        },
        {
          "name": "stdout",
          "output_type": "stream",
          "text": [
            "2463/2463 [==============================] - 4s 2ms/step\n"
          ]
        },
        {
          "name": "stderr",
          "output_type": "stream",
          "text": [
            "\u001b[92mINFO \u001b[0m:      fit progress: (22, 1.9139714241027832, {'loss': 1.9139714241027832, 'accuracy': 0.960994303226471, 'Centralised report': '              precision    recall  f1-score   support\\n\\n           0    0.99288   0.57898   0.73143      7230\\n           1    0.95919   0.99958   0.97897     71579\\n\\n    accuracy                        0.96099     78809\\n   macro avg    0.97604   0.78928   0.85520     78809\\nweighted avg    0.96228   0.96099   0.95626     78809\\n'}, 1915.9919919740005)\n",
            "INFO:flwr:fit progress: (22, 1.9139714241027832, {'loss': 1.9139714241027832, 'accuracy': 0.960994303226471, 'Centralised report': '              precision    recall  f1-score   support\\n\\n           0    0.99288   0.57898   0.73143      7230\\n           1    0.95919   0.99958   0.97897     71579\\n\\n    accuracy                        0.96099     78809\\n   macro avg    0.97604   0.78928   0.85520     78809\\nweighted avg    0.96228   0.96099   0.95626     78809\\n'}, 1915.9919919740005)\n",
            "\u001b[92mINFO \u001b[0m:      configure_evaluate: strategy sampled 3 clients (out of 3)\n",
            "INFO:flwr:configure_evaluate: strategy sampled 3 clients (out of 3)\n"
          ]
        },
        {
          "name": "stdout",
          "output_type": "stream",
          "text": [
            "  1/147 [..............................] - ETA: 44s - loss: 5.7673e-05 - accuracy: 1.0000\n",
            " 49/147 [=========>....................] - ETA: 0s - loss: 0.0015 - accuracy: 1.0000\n",
            " 97/147 [==================>...........] - ETA: 0s - loss: 0.0015 - accuracy: 1.0000\n",
            "136/147 [==========================>...] - ETA: 0s - loss: 0.0046 - accuracy: 0.9995\n",
            "147/147 [==============================] - 1s 2ms/step - loss: 0.0044 - accuracy: 0.9996\n",
            " 24/126 [====>.........................] - ETA: 0s - loss: 0.9440 - accuracy: 0.9805 \n",
            " 71/126 [===============>..............] - ETA: 0s - loss: 0.9663 - accuracy: 0.9811\n",
            "116/126 [==========================>...] - ETA: 0s - loss: 1.0532 - accuracy: 0.9801\n"
          ]
        },
        {
          "name": "stderr",
          "output_type": "stream",
          "text": [
            "\u001b[92mINFO \u001b[0m:      aggregate_evaluate: received 3 results and 0 failures\n",
            "INFO:flwr:aggregate_evaluate: received 3 results and 0 failures\n",
            "\u001b[92mINFO \u001b[0m:      \n",
            "INFO:flwr:\n",
            "\u001b[92mINFO \u001b[0m:      [ROUND 23]\n",
            "INFO:flwr:[ROUND 23]\n",
            "\u001b[92mINFO \u001b[0m:      configure_fit: strategy sampled 3 clients (out of 3)\n",
            "INFO:flwr:configure_fit: strategy sampled 3 clients (out of 3)\n"
          ]
        },
        {
          "name": "stdout",
          "output_type": "stream",
          "text": [
            "\u001b[2m\u001b[36m(ClientAppActor pid=33088)\u001b[0m \b\b\b\b\b\b\b\b\b\b\b\b\b\b\b\b\b\b\b\b\b\b\b\b\b\b\b\b\b\b\b\b\b\b\b\b\b\b\b\b\b\b\b\b\b\b\b\b\b\b\b\b\b\b\b\b\b\b\b\b\b\b\b\b\b\b\b\b\b\b\b\b\b\b\b\b\b\b\b\b\b\b\b\b\r126/126 [==============================] - 1s 2ms/step - loss: 1.0927 - accuracy: 0.9793\n",
            "\u001b[2m\u001b[36m(ClientAppActor pid=33088)\u001b[0m \r 1/10 [==>...........................] - ETA: 1s - loss: 40.9325 - accuracy: 0.1562\b\b\b\b\b\b\b\b\b\b\b\b\b\b\b\b\b\b\b\b\b\b\b\b\b\b\b\b\b\b\b\b\b\b\b\b\b\b\b\b\b\b\b\b\b\b\b\b\b\b\b\b\b\b\b\b\b\b\b\b\b\b\b\b\b\b\b\b\b\b\b\b\b\b\b\b\b\b\b\b\b\b\b\r10/10 [==============================] - 0s 2ms/step - loss: 41.7390 - accuracy: 0.1068\n"
          ]
        },
        {
          "name": "stderr",
          "output_type": "stream",
          "text": [
            "\u001b[92mINFO \u001b[0m:      aggregate_fit: received 3 results and 0 failures\n",
            "INFO:flwr:aggregate_fit: received 3 results and 0 failures\n"
          ]
        },
        {
          "name": "stdout",
          "output_type": "stream",
          "text": [
            "2463/2463 [==============================] - 5s 2ms/step\n"
          ]
        },
        {
          "name": "stderr",
          "output_type": "stream",
          "text": [
            "\u001b[92mINFO \u001b[0m:      fit progress: (23, 2.0630550384521484, {'loss': 2.0630550384521484, 'accuracy': 0.9589514136314392, 'Centralised report': '              precision    recall  f1-score   support\\n\\n           0    0.99236   0.55685   0.71339      7230\\n           1    0.95714   0.99957   0.97789     71579\\n\\n    accuracy                        0.95895     78809\\n   macro avg    0.97475   0.77821   0.84564     78809\\nweighted avg    0.96037   0.95895   0.95363     78809\\n'}, 2006.906376498)\n",
            "INFO:flwr:fit progress: (23, 2.0630550384521484, {'loss': 2.0630550384521484, 'accuracy': 0.9589514136314392, 'Centralised report': '              precision    recall  f1-score   support\\n\\n           0    0.99236   0.55685   0.71339      7230\\n           1    0.95714   0.99957   0.97789     71579\\n\\n    accuracy                        0.95895     78809\\n   macro avg    0.97475   0.77821   0.84564     78809\\nweighted avg    0.96037   0.95895   0.95363     78809\\n'}, 2006.906376498)\n",
            "\u001b[92mINFO \u001b[0m:      configure_evaluate: strategy sampled 3 clients (out of 3)\n",
            "INFO:flwr:configure_evaluate: strategy sampled 3 clients (out of 3)\n"
          ]
        },
        {
          "name": "stdout",
          "output_type": "stream",
          "text": [
            " 38/126 [========>.....................] - ETA: 0s - loss: 0.9727 - accuracy: 0.9811 \n",
            "126/126 [==============================] - 0s 1ms/step - loss: 1.1200 - accuracy: 0.9785\n",
            "10/10 [==============================] - 0s 2ms/step - loss: 45.1744 - accuracy: 0.0615\n"
          ]
        },
        {
          "name": "stderr",
          "output_type": "stream",
          "text": [
            "\u001b[92mINFO \u001b[0m:      aggregate_evaluate: received 3 results and 0 failures\n",
            "INFO:flwr:aggregate_evaluate: received 3 results and 0 failures\n",
            "\u001b[92mINFO \u001b[0m:      \n",
            "INFO:flwr:\n",
            "\u001b[92mINFO \u001b[0m:      [ROUND 24]\n",
            "INFO:flwr:[ROUND 24]\n",
            "\u001b[92mINFO \u001b[0m:      configure_fit: strategy sampled 3 clients (out of 3)\n",
            "INFO:flwr:configure_fit: strategy sampled 3 clients (out of 3)\n"
          ]
        },
        {
          "name": "stdout",
          "output_type": "stream",
          "text": [
            "\u001b[2m\u001b[36m(ClientAppActor pid=33088)\u001b[0m \r  1/147 [..............................] - ETA: 30s - loss: 6.5737e-05 - accuracy: 1.0000\b\b\b\b\b\b\b\b\b\b\b\b\b\b\b\b\b\b\b\b\b\b\b\b\b\b\b\b\b\b\b\b\b\b\b\b\b\b\b\b\b\b\b\b\b\b\b\b\b\b\b\b\b\b\b\b\b\b\b\b\b\b\b\b\b\b\b\b\b\b\b\b\b\b\b\b\b\b\b\b\b\b\b\b\b\b\b\b\b\r 38/147 [======>.......................] - ETA: 0s - loss: 0.0017 - accuracy: 1.0000     \n",
            "\u001b[2m\u001b[36m(ClientAppActor pid=33088)\u001b[0m \b\b\b\b\b\b\b\b\b\b\b\b\b\b\b\b\b\b\b\b\b\b\b\b\b\b\b\b\b\b\b\b\b\b\b\b\b\b\b\b\b\b\b\b\b\b\b\b\b\b\b\b\b\b\b\b\b\b\b\b\b\b\b\b\b\b\b\b\b\b\b\b\b\b\b\b\b\b\b\b\b\b\b\b\r 72/147 [=============>................] - ETA: 0s - loss: 0.0015 - accuracy: 1.0000\b\b\b\b\b\b\b\b\b\b\b\b\b\b\b\b\b\b\b\b\b\b\b\b\b\b\b\b\b\b\b\b\b\b\b\b\b\b\b\b\b\b\b\b\b\b\b\b\b\b\b\b\b\b\b\b\b\b\b\b\b\b\b\b\b\b\b\b\b\b\b\b\b\b\b\b\b\b\b\b\b\b\b\b\r110/147 [=====================>........] - ETA: 0s - loss: 0.0037 - accuracy: 0.9997\n",
            "\u001b[2m\u001b[36m(ClientAppActor pid=33088)\u001b[0m \b\b\b\b\b\b\b\b\b\b\b\b\b\b\b\b\b\b\b\b\b\b\b\b\b\b\b\b\b\b\b\b\b\b\b\b\b\b\b\b\b\b\b\b\b\b\b\b\b\b\b\b\b\b\b\b\b\b\b\b\b\b\b\b\b\b\b\b\b\b\b\b\b\b\b\b\b\b\b\b\b\b\b\b\r147/147 [==============================] - ETA: 0s - loss: 0.0046 - accuracy: 0.9996\b\b\b\b\b\b\b\b\b\b\b\b\b\b\b\b\b\b\b\b\b\b\b\b\b\b\b\b\b\b\b\b\b\b\b\b\b\b\b\b\b\b\b\b\b\b\b\b\b\b\b\b\b\b\b\b\b\b\b\b\b\b\b\b\b\b\b\b\b\b\b\b\b\b\b\b\b\b\b\b\b\b\b\b\r147/147 [==============================] - 0s 1ms/step - loss: 0.0046 - accuracy: 0.9996\n"
          ]
        },
        {
          "name": "stderr",
          "output_type": "stream",
          "text": [
            "\u001b[92mINFO \u001b[0m:      aggregate_fit: received 3 results and 0 failures\n",
            "INFO:flwr:aggregate_fit: received 3 results and 0 failures\n"
          ]
        },
        {
          "name": "stdout",
          "output_type": "stream",
          "text": [
            "2463/2463 [==============================] - 4s 1ms/step\n"
          ]
        },
        {
          "name": "stderr",
          "output_type": "stream",
          "text": [
            "\u001b[92mINFO \u001b[0m:      fit progress: (24, 2.05899715423584, {'loss': 2.05899715423584, 'accuracy': 0.9587610363960266, 'Centralised report': '              precision    recall  f1-score   support\\n\\n           0    0.98822   0.55712   0.71254      7230\\n           1    0.95715   0.99933   0.97779     71579\\n\\n    accuracy                        0.95876     78809\\n   macro avg    0.97269   0.77823   0.84516     78809\\nweighted avg    0.96000   0.95876   0.95345     78809\\n'}, 2091.9235085220007)\n",
            "INFO:flwr:fit progress: (24, 2.05899715423584, {'loss': 2.05899715423584, 'accuracy': 0.9587610363960266, 'Centralised report': '              precision    recall  f1-score   support\\n\\n           0    0.98822   0.55712   0.71254      7230\\n           1    0.95715   0.99933   0.97779     71579\\n\\n    accuracy                        0.95876     78809\\n   macro avg    0.97269   0.77823   0.84516     78809\\nweighted avg    0.96000   0.95876   0.95345     78809\\n'}, 2091.9235085220007)\n",
            "\u001b[92mINFO \u001b[0m:      configure_evaluate: strategy sampled 3 clients (out of 3)\n",
            "INFO:flwr:configure_evaluate: strategy sampled 3 clients (out of 3)\n"
          ]
        },
        {
          "name": "stdout",
          "output_type": "stream",
          "text": [
            "  1/126 [..............................] - ETA: 25s - loss: 2.6556e-04 - accuracy: 1.0000\n",
            " 75/126 [================>.............] - ETA: 0s - loss: 0.8214 - accuracy: 0.9821\n",
            "126/126 [==============================] - 0s 1ms/step - loss: 0.9565 - accuracy: 0.9795\n",
            "  1/147 [..............................] - ETA: 38s - loss: 5.4794e-05 - accuracy: 1.0000\n",
            " 69/147 [=============>................] - ETA: 0s - loss: 0.0048 - accuracy: 0.9995\n"
          ]
        },
        {
          "name": "stderr",
          "output_type": "stream",
          "text": [
            "\u001b[92mINFO \u001b[0m:      aggregate_evaluate: received 3 results and 0 failures\n",
            "INFO:flwr:aggregate_evaluate: received 3 results and 0 failures\n",
            "\u001b[92mINFO \u001b[0m:      \n",
            "INFO:flwr:\n",
            "\u001b[92mINFO \u001b[0m:      [ROUND 25]\n",
            "INFO:flwr:[ROUND 25]\n",
            "\u001b[92mINFO \u001b[0m:      configure_fit: strategy sampled 3 clients (out of 3)\n",
            "INFO:flwr:configure_fit: strategy sampled 3 clients (out of 3)\n"
          ]
        },
        {
          "name": "stdout",
          "output_type": "stream",
          "text": [
            "\u001b[2m\u001b[36m(ClientAppActor pid=33088)\u001b[0m \b\b\b\b\b\b\b\b\b\b\b\b\b\b\b\b\b\b\b\b\b\b\b\b\b\b\b\b\b\b\b\b\b\b\b\b\b\b\b\b\b\b\b\b\b\b\b\b\b\b\b\b\b\b\b\b\b\b\b\b\b\b\b\b\b\b\b\b\b\b\b\b\b\b\b\b\b\b\b\b\b\b\b\b\r105/147 [====================>.........] - ETA: 0s - loss: 0.0045 - accuracy: 0.9997\b\b\b\b\b\b\b\b\b\b\b\b\b\b\b\b\b\b\b\b\b\b\b\b\b\b\b\b\b\b\b\b\b\b\b\b\b\b\b\b\b\b\b\b\b\b\b\b\b\b\b\b\b\b\b\b\b\b\b\b\b\b\b\b\b\b\b\b\b\b\b\b\b\b\b\b\b\b\b\b\b\b\b\b\r144/147 [============================>.] - ETA: 0s - loss: 0.0092 - accuracy: 0.9983\b\b\b\b\b\b\b\b\b\b\b\b\b\b\b\b\b\b\b\b\b\b\b\b\b\b\b\b\b\b\b\b\b\b\b\b\b\b\b\b\b\b\b\b\b\b\b\b\b\b\b\b\b\b\b\b\b\b\b\b\b\b\b\b\b\b\b\b\b\b\b\b\b\b\b\b\b\b\b\b\b\b\b\b\r147/147 [==============================] - 0s 1ms/step - loss: 0.0090 - accuracy: 0.9983\n",
            "\u001b[2m\u001b[36m(ClientAppActor pid=33088)\u001b[0m \r 1/10 [==>...........................] - ETA: 2s - loss: 43.7218 - accuracy: 0.0938\b\b\b\b\b\b\b\b\b\b\b\b\b\b\b\b\b\b\b\b\b\b\b\b\b\b\b\b\b\b\b\b\b\b\b\b\b\b\b\b\b\b\b\b\b\b\b\b\b\b\b\b\b\b\b\b\b\b\b\b\b\b\b\b\b\b\b\b\b\b\b\b\b\b\b\b\b\b\b\b\b\b\b\r10/10 [==============================] - 0s 3ms/step - loss: 45.0969 - accuracy: 0.0615\n"
          ]
        },
        {
          "name": "stderr",
          "output_type": "stream",
          "text": [
            "\u001b[92mINFO \u001b[0m:      aggregate_fit: received 3 results and 0 failures\n",
            "INFO:flwr:aggregate_fit: received 3 results and 0 failures\n"
          ]
        },
        {
          "name": "stdout",
          "output_type": "stream",
          "text": [
            "2463/2463 [==============================] - 4s 2ms/step\n"
          ]
        },
        {
          "name": "stderr",
          "output_type": "stream",
          "text": [
            "\u001b[92mINFO \u001b[0m:      fit progress: (25, 2.0931499004364014, {'loss': 2.0931499004364014, 'accuracy': 0.9592432379722595, 'Centralised report': '              precision    recall  f1-score   support\\n\\n           0    0.99532   0.55837   0.71540      7230\\n           1    0.95729   0.99973   0.97805     71579\\n\\n    accuracy                        0.95924     78809\\n   macro avg    0.97630   0.77905   0.84672     78809\\nweighted avg    0.96077   0.95924   0.95395     78809\\n'}, 2183.3881652570008)\n",
            "INFO:flwr:fit progress: (25, 2.0931499004364014, {'loss': 2.0931499004364014, 'accuracy': 0.9592432379722595, 'Centralised report': '              precision    recall  f1-score   support\\n\\n           0    0.99532   0.55837   0.71540      7230\\n           1    0.95729   0.99973   0.97805     71579\\n\\n    accuracy                        0.95924     78809\\n   macro avg    0.97630   0.77905   0.84672     78809\\nweighted avg    0.96077   0.95924   0.95395     78809\\n'}, 2183.3881652570008)\n",
            "\u001b[92mINFO \u001b[0m:      configure_evaluate: strategy sampled 3 clients (out of 3)\n",
            "INFO:flwr:configure_evaluate: strategy sampled 3 clients (out of 3)\n"
          ]
        },
        {
          "name": "stdout",
          "output_type": "stream",
          "text": [
            "  1/147 [..............................] - ETA: 51s - loss: 1.5736e-05 - accuracy: 1.0000\n",
            " 40/147 [=======>......................] - ETA: 0s - loss: 0.0010 - accuracy: 1.0000\n",
            " 81/147 [===============>..............] - ETA: 0s - loss: 0.0010 - accuracy: 1.0000\n",
            "123/147 [========================>.....] - ETA: 0s - loss: 0.0030 - accuracy: 0.9997    \n",
            "147/147 [==============================] - 1s 3ms/step - loss: 0.0040 - accuracy: 0.9996\n",
            "  1/126 [..............................] - ETA: 24s - loss: 0.0086 - accuracy: 1.0000\n",
            " 77/126 [=================>............] - ETA: 0s - loss: 0.9842 - accuracy: 0.9813\n",
            "126/126 [==============================] - 0s 1ms/step - loss: 1.1390 - accuracy: 0.9790\n"
          ]
        },
        {
          "name": "stderr",
          "output_type": "stream",
          "text": [
            "\u001b[92mINFO \u001b[0m:      aggregate_evaluate: received 3 results and 0 failures\n",
            "INFO:flwr:aggregate_evaluate: received 3 results and 0 failures\n",
            "\u001b[92mINFO \u001b[0m:      \n",
            "INFO:flwr:\n",
            "\u001b[92mINFO \u001b[0m:      [ROUND 26]\n",
            "INFO:flwr:[ROUND 26]\n",
            "\u001b[92mINFO \u001b[0m:      configure_fit: strategy sampled 3 clients (out of 3)\n",
            "INFO:flwr:configure_fit: strategy sampled 3 clients (out of 3)\n"
          ]
        },
        {
          "name": "stdout",
          "output_type": "stream",
          "text": [
            "\u001b[2m\u001b[36m(ClientAppActor pid=33088)\u001b[0m \r 1/10 [==>...........................] - ETA: 1s - loss: 44.8892 - accuracy: 0.0625\b\b\b\b\b\b\b\b\b\b\b\b\b\b\b\b\b\b\b\b\b\b\b\b\b\b\b\b\b\b\b\b\b\b\b\b\b\b\b\b\b\b\b\b\b\b\b\b\b\b\b\b\b\b\b\b\b\b\b\b\b\b\b\b\b\b\b\b\b\b\b\b\b\b\b\b\b\b\b\b\b\b\b\r10/10 [==============================] - 0s 2ms/step - loss: 45.6580 - accuracy: 0.0615\n"
          ]
        },
        {
          "name": "stderr",
          "output_type": "stream",
          "text": [
            "\u001b[92mINFO \u001b[0m:      aggregate_fit: received 3 results and 0 failures\n",
            "INFO:flwr:aggregate_fit: received 3 results and 0 failures\n"
          ]
        },
        {
          "name": "stdout",
          "output_type": "stream",
          "text": [
            "2463/2463 [==============================] - 6s 2ms/step\n"
          ]
        },
        {
          "name": "stderr",
          "output_type": "stream",
          "text": [
            "\u001b[92mINFO \u001b[0m:      fit progress: (26, 2.107858419418335, {'loss': 2.107858419418335, 'accuracy': 0.9604232907295227, 'Centralised report': '              precision    recall  f1-score   support\\n\\n           0    0.99590   0.57095   0.72580      7230\\n           1    0.95845   0.99976   0.97867     71579\\n\\n    accuracy                        0.96042     78809\\n   macro avg    0.97718   0.78536   0.85224     78809\\nweighted avg    0.96189   0.96042   0.95547     78809\\n'}, 2270.2306692780003)\n",
            "INFO:flwr:fit progress: (26, 2.107858419418335, {'loss': 2.107858419418335, 'accuracy': 0.9604232907295227, 'Centralised report': '              precision    recall  f1-score   support\\n\\n           0    0.99590   0.57095   0.72580      7230\\n           1    0.95845   0.99976   0.97867     71579\\n\\n    accuracy                        0.96042     78809\\n   macro avg    0.97718   0.78536   0.85224     78809\\nweighted avg    0.96189   0.96042   0.95547     78809\\n'}, 2270.2306692780003)\n",
            "\u001b[92mINFO \u001b[0m:      configure_evaluate: strategy sampled 3 clients (out of 3)\n",
            "INFO:flwr:configure_evaluate: strategy sampled 3 clients (out of 3)\n"
          ]
        },
        {
          "name": "stdout",
          "output_type": "stream",
          "text": [
            "10/10 [==============================] - 0s 2ms/step - loss: 45.8946 - accuracy: 0.1068\n",
            "  1/147 [..............................] - ETA: 32s - loss: 1.3906e-05 - accuracy: 1.0000\n",
            " 78/147 [==============>...............] - ETA: 0s - loss: 7.3909e-04 - accuracy: 1.0000\n",
            "147/147 [==============================] - 0s 1ms/step - loss: 0.0038 - accuracy: 0.9996\n"
          ]
        },
        {
          "name": "stderr",
          "output_type": "stream",
          "text": [
            "\u001b[92mINFO \u001b[0m:      aggregate_evaluate: received 3 results and 0 failures\n",
            "INFO:flwr:aggregate_evaluate: received 3 results and 0 failures\n",
            "\u001b[92mINFO \u001b[0m:      \n",
            "INFO:flwr:\n",
            "\u001b[92mINFO \u001b[0m:      [ROUND 27]\n",
            "INFO:flwr:[ROUND 27]\n",
            "\u001b[92mINFO \u001b[0m:      configure_fit: strategy sampled 3 clients (out of 3)\n",
            "INFO:flwr:configure_fit: strategy sampled 3 clients (out of 3)\n"
          ]
        },
        {
          "name": "stdout",
          "output_type": "stream",
          "text": [
            "  1/126 [..............................] - ETA: 26s - loss: 0.1358 - accuracy: 0.9688\n",
            " 73/126 [================>.............] - ETA: 0s - loss: 1.0373 - accuracy: 0.9760\n",
            "126/126 [==============================] - 0s 1ms/step - loss: 1.1667 - accuracy: 0.9743\n"
          ]
        },
        {
          "name": "stderr",
          "output_type": "stream",
          "text": [
            "\u001b[92mINFO \u001b[0m:      aggregate_fit: received 3 results and 0 failures\n",
            "INFO:flwr:aggregate_fit: received 3 results and 0 failures\n"
          ]
        },
        {
          "name": "stdout",
          "output_type": "stream",
          "text": [
            "2463/2463 [==============================] - 4s 2ms/step\n"
          ]
        },
        {
          "name": "stderr",
          "output_type": "stream",
          "text": [
            "\u001b[92mINFO \u001b[0m:      fit progress: (27, 2.0857748985290527, {'loss': 2.0857748985290527, 'accuracy': 0.9613242149353027, 'Centralised report': '              precision    recall  f1-score   support\\n\\n           0    0.99573   0.58091   0.73375      7230\\n           1    0.95938   0.99975   0.97915     71579\\n\\n    accuracy                        0.96132     78809\\n   macro avg    0.97756   0.79033   0.85645     78809\\nweighted avg    0.96271   0.96132   0.95663     78809\\n'}, 2358.7912963440003)\n",
            "INFO:flwr:fit progress: (27, 2.0857748985290527, {'loss': 2.0857748985290527, 'accuracy': 0.9613242149353027, 'Centralised report': '              precision    recall  f1-score   support\\n\\n           0    0.99573   0.58091   0.73375      7230\\n           1    0.95938   0.99975   0.97915     71579\\n\\n    accuracy                        0.96132     78809\\n   macro avg    0.97756   0.79033   0.85645     78809\\nweighted avg    0.96271   0.96132   0.95663     78809\\n'}, 2358.7912963440003)\n",
            "\u001b[92mINFO \u001b[0m:      configure_evaluate: strategy sampled 3 clients (out of 3)\n",
            "INFO:flwr:configure_evaluate: strategy sampled 3 clients (out of 3)\n"
          ]
        },
        {
          "name": "stdout",
          "output_type": "stream",
          "text": [
            "10/10 [==============================] - 0s 2ms/step - loss: 45.3893 - accuracy: 0.1165\n",
            "  1/126 [..............................] - ETA: 31s - loss: 2.5128e-04 - accuracy: 1.0000\n",
            " 70/126 [===============>..............] - ETA: 0s - loss: 1.0931 - accuracy: 0.9826\n",
            "126/126 [==============================] - 0s 2ms/step - loss: 1.2528 - accuracy: 0.9800\n"
          ]
        },
        {
          "name": "stderr",
          "output_type": "stream",
          "text": [
            "\u001b[92mINFO \u001b[0m:      aggregate_evaluate: received 3 results and 0 failures\n",
            "INFO:flwr:aggregate_evaluate: received 3 results and 0 failures\n",
            "\u001b[92mINFO \u001b[0m:      \n",
            "INFO:flwr:\n",
            "\u001b[92mINFO \u001b[0m:      [ROUND 28]\n",
            "INFO:flwr:[ROUND 28]\n",
            "\u001b[92mINFO \u001b[0m:      configure_fit: strategy sampled 3 clients (out of 3)\n",
            "INFO:flwr:configure_fit: strategy sampled 3 clients (out of 3)\n"
          ]
        },
        {
          "name": "stdout",
          "output_type": "stream",
          "text": [
            "\u001b[2m\u001b[36m(ClientAppActor pid=33088)\u001b[0m \r  1/147 [..............................] - ETA: 32s - loss: 1.0434e-05 - accuracy: 1.0000\b\b\b\b\b\b\b\b\b\b\b\b\b\b\b\b\b\b\b\b\b\b\b\b\b\b\b\b\b\b\b\b\b\b\b\b\b\b\b\b\b\b\b\b\b\b\b\b\b\b\b\b\b\b\b\b\b\b\b\b\b\b\b\b\b\b\b\b\b\b\b\b\b\b\b\b\b\b\b\b\b\b\b\b\b\b\b\b\b\r 35/147 [======>.......................] - ETA: 0s - loss: 4.5359e-04 - accuracy: 1.0000 \n",
            "\u001b[2m\u001b[36m(ClientAppActor pid=33088)\u001b[0m \b\b\b\b\b\b\b\b\b\b\b\b\b\b\b\b\b\b\b\b\b\b\b\b\b\b\b\b\b\b\b\b\b\b\b\b\b\b\b\b\b\b\b\b\b\b\b\b\b\b\b\b\b\b\b\b\b\b\b\b\b\b\b\b\b\b\b\b\b\b\b\b\b\b\b\b\b\b\b\b\b\b\b\b\b\b\b\b\r 70/147 [=============>................] - ETA: 0s - loss: 4.0868e-04 - accuracy: 1.0000\b\b\b\b\b\b\b\b\b\b\b\b\b\b\b\b\b\b\b\b\b\b\b\b\b\b\b\b\b\b\b\b\b\b\b\b\b\b\b\b\b\b\b\b\b\b\b\b\b\b\b\b\b\b\b\b\b\b\b\b\b\b\b\b\b\b\b\b\b\b\b\b\b\b\b\b\b\b\b\b\b\b\b\b\b\b\b\b\r106/147 [====================>.........] - ETA: 0s - loss: 3.7172e-04 - accuracy: 1.0000\n",
            "\u001b[2m\u001b[36m(ClientAppActor pid=33088)\u001b[0m \b\b\b\b\b\b\b\b\b\b\b\b\b\b\b\b\b\b\b\b\b\b\b\b\b\b\b\b\b\b\b\b\b\b\b\b\b\b\b\b\b\b\b\b\b\b\b\b\b\b\b\b\b\b\b\b\b\b\b\b\b\b\b\b\b\b\b\b\b\b\b\b\b\b\b\b\b\b\b\b\b\b\b\b\b\b\b\b\r144/147 [============================>.] - ETA: 0s - loss: 0.0034 - accuracy: 0.9996    \b\b\b\b\b\b\b\b\b\b\b\b\b\b\b\b\b\b\b\b\b\b\b\b\b\b\b\b\b\b\b\b\b\b\b\b\b\b\b\b\b\b\b\b\b\b\b\b\b\b\b\b\b\b\b\b\b\b\b\b\b\b\b\b\b\b\b\b\b\b\b\b\b\b\b\b\b\b\b\b\b\b\b\b\r147/147 [==============================] - 0s 1ms/step - loss: 0.0033 - accuracy: 0.9996\n"
          ]
        },
        {
          "name": "stderr",
          "output_type": "stream",
          "text": [
            "\u001b[92mINFO \u001b[0m:      aggregate_fit: received 3 results and 0 failures\n",
            "INFO:flwr:aggregate_fit: received 3 results and 0 failures\n"
          ]
        },
        {
          "name": "stdout",
          "output_type": "stream",
          "text": [
            "2463/2463 [==============================] - 4s 2ms/step\n"
          ]
        },
        {
          "name": "stderr",
          "output_type": "stream",
          "text": [
            "\u001b[92mINFO \u001b[0m:      fit progress: (28, 2.174936294555664, {'loss': 2.174936294555664, 'accuracy': 0.9608293175697327, 'Centralised report': '              precision    recall  f1-score   support\\n\\n           0    0.99522   0.57580   0.72952      7230\\n           1    0.95890   0.99972   0.97889     71579\\n\\n    accuracy                        0.96083     78809\\n   macro avg    0.97706   0.78776   0.85420     78809\\nweighted avg    0.96223   0.96083   0.95601     78809\\n'}, 2448.745764798)\n",
            "INFO:flwr:fit progress: (28, 2.174936294555664, {'loss': 2.174936294555664, 'accuracy': 0.9608293175697327, 'Centralised report': '              precision    recall  f1-score   support\\n\\n           0    0.99522   0.57580   0.72952      7230\\n           1    0.95890   0.99972   0.97889     71579\\n\\n    accuracy                        0.96083     78809\\n   macro avg    0.97706   0.78776   0.85420     78809\\nweighted avg    0.96223   0.96083   0.95601     78809\\n'}, 2448.745764798)\n",
            "\u001b[92mINFO \u001b[0m:      configure_evaluate: strategy sampled 3 clients (out of 3)\n",
            "INFO:flwr:configure_evaluate: strategy sampled 3 clients (out of 3)\n"
          ]
        },
        {
          "name": "stdout",
          "output_type": "stream",
          "text": [
            "  1/126 [..............................] - ETA: 43s - loss: 2.6961e-04 - accuracy: 1.0000\n",
            " 40/126 [========>.....................] - ETA: 0s - loss: 0.9419 - accuracy: 0.9836\n",
            " 72/126 [================>.............] - ETA: 0s - loss: 1.0246 - accuracy: 0.9813\n",
            "108/126 [========================>.....] - ETA: 0s - loss: 1.1341 - accuracy: 0.9800\n",
            "126/126 [==============================] - 1s 3ms/step - loss: 1.1457 - accuracy: 0.9798\n",
            "  1/147 [..............................] - ETA: 33s - loss: 1.3318e-05 - accuracy: 1.0000\n",
            " 71/147 [=============>................] - ETA: 0s - loss: 0.0016 - accuracy: 1.0000\n",
            "147/147 [==============================] - 0s 1ms/step - loss: 0.0048 - accuracy: 0.9996\n"
          ]
        },
        {
          "name": "stderr",
          "output_type": "stream",
          "text": [
            "\u001b[92mINFO \u001b[0m:      aggregate_evaluate: received 3 results and 0 failures\n",
            "INFO:flwr:aggregate_evaluate: received 3 results and 0 failures\n",
            "\u001b[92mINFO \u001b[0m:      \n",
            "INFO:flwr:\n",
            "\u001b[92mINFO \u001b[0m:      [ROUND 29]\n",
            "INFO:flwr:[ROUND 29]\n",
            "\u001b[92mINFO \u001b[0m:      configure_fit: strategy sampled 3 clients (out of 3)\n",
            "INFO:flwr:configure_fit: strategy sampled 3 clients (out of 3)\n"
          ]
        },
        {
          "name": "stdout",
          "output_type": "stream",
          "text": [
            "\u001b[2m\u001b[36m(ClientAppActor pid=33088)\u001b[0m \r 1/10 [==>...........................] - ETA: 2s - loss: 46.8538 - accuracy: 0.1562\b\b\b\b\b\b\b\b\b\b\b\b\b\b\b\b\b\b\b\b\b\b\b\b\b\b\b\b\b\b\b\b\b\b\b\b\b\b\b\b\b\b\b\b\b\b\b\b\b\b\b\b\b\b\b\b\b\b\b\b\b\b\b\b\b\b\b\b\b\b\b\b\b\b\b\b\b\b\b\b\b\b\b\r10/10 [==============================] - 0s 3ms/step - loss: 47.4609 - accuracy: 0.1100\n"
          ]
        },
        {
          "name": "stderr",
          "output_type": "stream",
          "text": [
            "\u001b[92mINFO \u001b[0m:      aggregate_fit: received 3 results and 0 failures\n",
            "INFO:flwr:aggregate_fit: received 3 results and 0 failures\n"
          ]
        },
        {
          "name": "stdout",
          "output_type": "stream",
          "text": [
            "2463/2463 [==============================] - 4s 1ms/step\n"
          ]
        },
        {
          "name": "stderr",
          "output_type": "stream",
          "text": [
            "\u001b[92mINFO \u001b[0m:      fit progress: (29, 2.19726824760437, {'loss': 2.19726824760437, 'accuracy': 0.9602075815200806, 'Centralised report': '              precision    recall  f1-score   support\\n\\n           0    0.99564   0.56874   0.72394      7230\\n           1    0.95825   0.99975   0.97856     71579\\n\\n    accuracy                        0.96021     78809\\n   macro avg    0.97694   0.78424   0.85125     78809\\nweighted avg    0.96168   0.96021   0.95520     78809\\n'}, 2539.872717735)\n",
            "INFO:flwr:fit progress: (29, 2.19726824760437, {'loss': 2.19726824760437, 'accuracy': 0.9602075815200806, 'Centralised report': '              precision    recall  f1-score   support\\n\\n           0    0.99564   0.56874   0.72394      7230\\n           1    0.95825   0.99975   0.97856     71579\\n\\n    accuracy                        0.96021     78809\\n   macro avg    0.97694   0.78424   0.85125     78809\\nweighted avg    0.96168   0.96021   0.95520     78809\\n'}, 2539.872717735)\n",
            "\u001b[92mINFO \u001b[0m:      configure_evaluate: strategy sampled 3 clients (out of 3)\n",
            "INFO:flwr:configure_evaluate: strategy sampled 3 clients (out of 3)\n"
          ]
        },
        {
          "name": "stdout",
          "output_type": "stream",
          "text": [
            " 32/147 [=====>........................] - ETA: 0s - loss: 0.0031 - accuracy: 1.0000     \n",
            " 91/147 [=================>............] - ETA: 0s - loss: 0.0026 - accuracy: 1.0000\n",
            "147/147 [==============================] - 0s 2ms/step - loss: 0.0059 - accuracy: 0.9994\n",
            "10/10 [==============================] - 0s 2ms/step - loss: 47.8728 - accuracy: 0.0874\n",
            " 26/126 [=====>........................] - ETA: 0s - loss: 1.1133 - accuracy: 0.9796     \n",
            " 76/126 [=================>............] - ETA: 0s - loss: 1.0642 - accuracy: 0.9815\n"
          ]
        },
        {
          "name": "stderr",
          "output_type": "stream",
          "text": [
            "\u001b[92mINFO \u001b[0m:      aggregate_evaluate: received 3 results and 0 failures\n",
            "INFO:flwr:aggregate_evaluate: received 3 results and 0 failures\n",
            "\u001b[92mINFO \u001b[0m:      \n",
            "INFO:flwr:\n",
            "\u001b[92mINFO \u001b[0m:      [ROUND 30]\n",
            "INFO:flwr:[ROUND 30]\n",
            "\u001b[92mINFO \u001b[0m:      configure_fit: strategy sampled 3 clients (out of 3)\n",
            "INFO:flwr:configure_fit: strategy sampled 3 clients (out of 3)\n"
          ]
        },
        {
          "name": "stdout",
          "output_type": "stream",
          "text": [
            "\u001b[2m\u001b[36m(ClientAppActor pid=33088)\u001b[0m \b\b\b\b\b\b\b\b\b\b\b\b\b\b\b\b\b\b\b\b\b\b\b\b\b\b\b\b\b\b\b\b\b\b\b\b\b\b\b\b\b\b\b\b\b\b\b\b\b\b\b\b\b\b\b\b\b\b\b\b\b\b\b\b\b\b\b\b\b\b\b\b\b\b\b\b\b\b\b\b\b\b\b\b\r100/126 [======================>.......] - ETA: 0s - loss: 1.1658 - accuracy: 0.9800\b\b\b\b\b\b\b\b\b\b\b\b\b\b\b\b\b\b\b\b\b\b\b\b\b\b\b\b\b\b\b\b\b\b\b\b\b\b\b\b\b\b\b\b\b\b\b\b\b\b\b\b\b\b\b\b\b\b\b\b\b\b\b\b\b\b\b\b\b\b\b\b\b\b\b\b\b\b\b\b\b\b\b\b\r123/126 [============================>.] - ETA: 0s - loss: 1.1963 - accuracy: 0.9799\b\b\b\b\b\b\b\b\b\b\b\b\b\b\b\b\b\b\b\b\b\b\b\b\b\b\b\b\b\b\b\b\b\b\b\b\b\b\b\b\b\b\b\b\b\b\b\b\b\b\b\b\b\b\b\b\b\b\b\b\b\b\b\b\b\b\b\b\b\b\b\b\b\b\b\b\b\b\b\b\b\b\b\b\r126/126 [==============================] - 1s 2ms/step - loss: 1.2198 - accuracy: 0.9793\n"
          ]
        },
        {
          "name": "stderr",
          "output_type": "stream",
          "text": [
            "\u001b[92mINFO \u001b[0m:      aggregate_fit: received 3 results and 0 failures\n",
            "INFO:flwr:aggregate_fit: received 3 results and 0 failures\n"
          ]
        },
        {
          "name": "stdout",
          "output_type": "stream",
          "text": [
            "2463/2463 [==============================] - 4s 2ms/step\n"
          ]
        },
        {
          "name": "stderr",
          "output_type": "stream",
          "text": [
            "\u001b[92mINFO \u001b[0m:      fit progress: (30, 2.224874973297119, {'loss': 2.224874973297119, 'accuracy': 0.9601060748100281, 'Centralised report': '              precision    recall  f1-score   support\\n\\n           0    0.99515   0.56791   0.72314      7230\\n           1    0.95817   0.99972   0.97850     71579\\n\\n    accuracy                        0.96011     78809\\n   macro avg    0.97666   0.78382   0.85082     78809\\nweighted avg    0.96156   0.96011   0.95508     78809\\n'}, 2631.340167513001)\n",
            "INFO:flwr:fit progress: (30, 2.224874973297119, {'loss': 2.224874973297119, 'accuracy': 0.9601060748100281, 'Centralised report': '              precision    recall  f1-score   support\\n\\n           0    0.99515   0.56791   0.72314      7230\\n           1    0.95817   0.99972   0.97850     71579\\n\\n    accuracy                        0.96011     78809\\n   macro avg    0.97666   0.78382   0.85082     78809\\nweighted avg    0.96156   0.96011   0.95508     78809\\n'}, 2631.340167513001)\n",
            "\u001b[92mINFO \u001b[0m:      configure_evaluate: strategy sampled 3 clients (out of 3)\n",
            "INFO:flwr:configure_evaluate: strategy sampled 3 clients (out of 3)\n"
          ]
        },
        {
          "name": "stdout",
          "output_type": "stream",
          "text": [
            "10/10 [==============================] - 0s 2ms/step - loss: 48.4844 - accuracy: 0.0841\n",
            "  1/126 [..............................] - ETA: 25s - loss: 2.1104e-04 - accuracy: 1.0000\n",
            " 75/126 [================>.............] - ETA: 0s - loss: 1.0821 - accuracy: 0.9817\n"
          ]
        },
        {
          "name": "stderr",
          "output_type": "stream",
          "text": [
            "\u001b[92mINFO \u001b[0m:      aggregate_evaluate: received 3 results and 0 failures\n",
            "INFO:flwr:aggregate_evaluate: received 3 results and 0 failures\n",
            "\u001b[92mINFO \u001b[0m:      \n",
            "INFO:flwr:\n",
            "\u001b[92mINFO \u001b[0m:      [ROUND 31]\n",
            "INFO:flwr:[ROUND 31]\n",
            "\u001b[92mINFO \u001b[0m:      configure_fit: strategy sampled 3 clients (out of 3)\n",
            "INFO:flwr:configure_fit: strategy sampled 3 clients (out of 3)\n"
          ]
        },
        {
          "name": "stdout",
          "output_type": "stream",
          "text": [
            "\u001b[2m\u001b[36m(ClientAppActor pid=33088)\u001b[0m \b\b\b\b\b\b\b\b\b\b\b\b\b\b\b\b\b\b\b\b\b\b\b\b\b\b\b\b\b\b\b\b\b\b\b\b\b\b\b\b\b\b\b\b\b\b\b\b\b\b\b\b\b\b\b\b\b\b\b\b\b\b\b\b\b\b\b\b\b\b\b\b\b\b\b\b\b\b\b\b\b\b\b\b\r113/126 [=========================>....] - ETA: 0s - loss: 1.2481 - accuracy: 0.9795\b\b\b\b\b\b\b\b\b\b\b\b\b\b\b\b\b\b\b\b\b\b\b\b\b\b\b\b\b\b\b\b\b\b\b\b\b\b\b\b\b\b\b\b\b\b\b\b\b\b\b\b\b\b\b\b\b\b\b\b\b\b\b\b\b\b\b\b\b\b\b\b\b\b\b\b\b\b\b\b\b\b\b\b\r126/126 [==============================] - 0s 1ms/step - loss: 1.2616 - accuracy: 0.9793\n",
            "\u001b[2m\u001b[36m(ClientAppActor pid=33088)\u001b[0m \r  1/147 [..............................] - ETA: 31s - loss: 9.8596e-06 - accuracy: 1.0000\n",
            "\u001b[2m\u001b[36m(ClientAppActor pid=33088)\u001b[0m \b\b\b\b\b\b\b\b\b\b\b\b\b\b\b\b\b\b\b\b\b\b\b\b\b\b\b\b\b\b\b\b\b\b\b\b\b\b\b\b\b\b\b\b\b\b\b\b\b\b\b\b\b\b\b\b\b\b\b\b\b\b\b\b\b\b\b\b\b\b\b\b\b\b\b\b\b\b\b\b\b\b\b\b\b\b\b\b\b\r 38/147 [======>.......................] - ETA: 0s - loss: 0.0015 - accuracy: 1.0000     \b\b\b\b\b\b\b\b\b\b\b\b\b\b\b\b\b\b\b\b\b\b\b\b\b\b\b\b\b\b\b\b\b\b\b\b\b\b\b\b\b\b\b\b\b\b\b\b\b\b\b\b\b\b\b\b\b\b\b\b\b\b\b\b\b\b\b\b\b\b\b\b\b\b\b\b\b\b\b\b\b\b\b\b\r 74/147 [==============>...............] - ETA: 0s - loss: 0.0014 - accuracy: 1.0000\n",
            "\u001b[2m\u001b[36m(ClientAppActor pid=33088)\u001b[0m \b\b\b\b\b\b\b\b\b\b\b\b\b\b\b\b\b\b\b\b\b\b\b\b\b\b\b\b\b\b\b\b\b\b\b\b\b\b\b\b\b\b\b\b\b\b\b\b\b\b\b\b\b\b\b\b\b\b\b\b\b\b\b\b\b\b\b\b\b\b\b\b\b\b\b\b\b\b\b\b\b\b\b\b\r113/147 [======================>.......] - ETA: 0s - loss: 0.0035 - accuracy: 0.9997\n"
          ]
        },
        {
          "name": "stderr",
          "output_type": "stream",
          "text": [
            "\u001b[92mINFO \u001b[0m:      aggregate_fit: received 3 results and 0 failures\n",
            "INFO:flwr:aggregate_fit: received 3 results and 0 failures\n"
          ]
        },
        {
          "name": "stdout",
          "output_type": "stream",
          "text": [
            "147/147 [==============================] - 0s 1ms/step - loss: 0.0046 - accuracy: 0.9996\n",
            "2463/2463 [==============================] - 4s 2ms/step\n"
          ]
        },
        {
          "name": "stderr",
          "output_type": "stream",
          "text": [
            "\u001b[92mINFO \u001b[0m:      fit progress: (31, 2.2805228233337402, {'loss': 2.2805228233337402, 'accuracy': 0.9597127437591553, 'Centralised report': '              precision    recall  f1-score   support\\n\\n           0    0.99487   0.56376   0.71970      7230\\n           1    0.95778   0.99971   0.97830     71579\\n\\n    accuracy                        0.95971     78809\\n   macro avg    0.97633   0.78173   0.84900     78809\\nweighted avg    0.96119   0.95971   0.95457     78809\\n'}, 2718.1553273340005)\n",
            "INFO:flwr:fit progress: (31, 2.2805228233337402, {'loss': 2.2805228233337402, 'accuracy': 0.9597127437591553, 'Centralised report': '              precision    recall  f1-score   support\\n\\n           0    0.99487   0.56376   0.71970      7230\\n           1    0.95778   0.99971   0.97830     71579\\n\\n    accuracy                        0.95971     78809\\n   macro avg    0.97633   0.78173   0.84900     78809\\nweighted avg    0.96119   0.95971   0.95457     78809\\n'}, 2718.1553273340005)\n",
            "\u001b[92mINFO \u001b[0m:      configure_evaluate: strategy sampled 3 clients (out of 3)\n",
            "INFO:flwr:configure_evaluate: strategy sampled 3 clients (out of 3)\n"
          ]
        },
        {
          "name": "stdout",
          "output_type": "stream",
          "text": [
            "  1/147 [..............................] - ETA: 43s - loss: 8.2408e-06 - accuracy: 1.0000\n",
            " 43/147 [=======>......................] - ETA: 0s - loss: 0.0010 - accuracy: 1.0000    \n",
            " 90/147 [=================>............] - ETA: 0s - loss: 0.0011 - accuracy: 1.0000\n",
            "129/147 [=========================>....] - ETA: 0s - loss: 0.0031 - accuracy: 0.9998    \n",
            "147/147 [==============================] - 1s 2ms/step - loss: 0.0042 - accuracy: 0.9996\n",
            "  1/126 [..............................] - ETA: 38s - loss: 1.7286e-04 - accuracy: 1.0000\n",
            " 45/126 [=========>....................] - ETA: 0s - loss: 0.9877 - accuracy: 0.9840\n",
            " 97/126 [======================>.......] - ETA: 0s - loss: 1.2161 - accuracy: 0.9803\n"
          ]
        },
        {
          "name": "stderr",
          "output_type": "stream",
          "text": [
            "\u001b[92mINFO \u001b[0m:      aggregate_evaluate: received 3 results and 0 failures\n",
            "INFO:flwr:aggregate_evaluate: received 3 results and 0 failures\n",
            "\u001b[92mINFO \u001b[0m:      \n",
            "INFO:flwr:\n",
            "\u001b[92mINFO \u001b[0m:      [ROUND 32]\n",
            "INFO:flwr:[ROUND 32]\n",
            "\u001b[92mINFO \u001b[0m:      configure_fit: strategy sampled 3 clients (out of 3)\n",
            "INFO:flwr:configure_fit: strategy sampled 3 clients (out of 3)\n"
          ]
        },
        {
          "name": "stdout",
          "output_type": "stream",
          "text": [
            "\u001b[2m\u001b[36m(ClientAppActor pid=33088)\u001b[0m \b\b\b\b\b\b\b\b\b\b\b\b\b\b\b\b\b\b\b\b\b\b\b\b\b\b\b\b\b\b\b\b\b\b\b\b\b\b\b\b\b\b\b\b\b\b\b\b\b\b\b\b\b\b\b\b\b\b\b\b\b\b\b\b\b\b\b\b\b\b\b\b\b\b\b\b\b\b\b\b\b\b\b\b\r119/126 [===========================>..] - ETA: 0s - loss: 1.2841 - accuracy: 0.9798\b\b\b\b\b\b\b\b\b\b\b\b\b\b\b\b\b\b\b\b\b\b\b\b\b\b\b\b\b\b\b\b\b\b\b\b\b\b\b\b\b\b\b\b\b\b\b\b\b\b\b\b\b\b\b\b\b\b\b\b\b\b\b\b\b\b\b\b\b\b\b\b\b\b\b\b\b\b\b\b\b\b\b\b\r126/126 [==============================] - 1s 2ms/step - loss: 1.3033 - accuracy: 0.9793\n",
            "\u001b[2m\u001b[36m(ClientAppActor pid=33088)\u001b[0m \r 1/10 [==>...........................] - ETA: 2s - loss: 49.8898 - accuracy: 0.1250\b\b\b\b\b\b\b\b\b\b\b\b\b\b\b\b\b\b\b\b\b\b\b\b\b\b\b\b\b\b\b\b\b\b\b\b\b\b\b\b\b\b\b\b\b\b\b\b\b\b\b\b\b\b\b\b\b\b\b\b\b\b\b\b\b\b\b\b\b\b\b\b\b\b\b\b\b\b\b\b\b\b\b\r10/10 [==============================] - 0s 3ms/step - loss: 49.8293 - accuracy: 0.0744\n"
          ]
        },
        {
          "name": "stderr",
          "output_type": "stream",
          "text": [
            "\u001b[92mINFO \u001b[0m:      aggregate_fit: received 3 results and 0 failures\n",
            "INFO:flwr:aggregate_fit: received 3 results and 0 failures\n"
          ]
        },
        {
          "name": "stdout",
          "output_type": "stream",
          "text": [
            "2463/2463 [==============================] - 5s 2ms/step\n"
          ]
        },
        {
          "name": "stderr",
          "output_type": "stream",
          "text": [
            "\u001b[92mINFO \u001b[0m:      fit progress: (32, 2.3319032192230225, {'loss': 2.3319032192230225, 'accuracy': 0.9589640498161316, 'Centralised report': '              precision    recall  f1-score   support\\n\\n           0    0.99554   0.55519   0.71284      7230\\n           1    0.95699   0.99975   0.97790     71579\\n\\n    accuracy                        0.95896     78809\\n   macro avg    0.97626   0.77747   0.84537     78809\\nweighted avg    0.96053   0.95896   0.95359     78809\\n'}, 2803.3205908890004)\n",
            "INFO:flwr:fit progress: (32, 2.3319032192230225, {'loss': 2.3319032192230225, 'accuracy': 0.9589640498161316, 'Centralised report': '              precision    recall  f1-score   support\\n\\n           0    0.99554   0.55519   0.71284      7230\\n           1    0.95699   0.99975   0.97790     71579\\n\\n    accuracy                        0.95896     78809\\n   macro avg    0.97626   0.77747   0.84537     78809\\nweighted avg    0.96053   0.95896   0.95359     78809\\n'}, 2803.3205908890004)\n",
            "\u001b[92mINFO \u001b[0m:      configure_evaluate: strategy sampled 3 clients (out of 3)\n",
            "INFO:flwr:configure_evaluate: strategy sampled 3 clients (out of 3)\n"
          ]
        },
        {
          "name": "stdout",
          "output_type": "stream",
          "text": [
            "10/10 [==============================] - 0s 2ms/step - loss: 51.0580 - accuracy: 0.0550\n",
            " 37/147 [======>.......................] - ETA: 0s - loss: 0.0014 - accuracy: 1.0000     \n",
            "109/147 [=====================>........] - ETA: 0s - loss: 0.0035 - accuracy: 0.9997\n",
            "145/147 [============================>.] - ETA: 0s - loss: 0.0045 - accuracy: 0.9996\n"
          ]
        },
        {
          "name": "stderr",
          "output_type": "stream",
          "text": [
            "\u001b[92mINFO \u001b[0m:      aggregate_evaluate: received 3 results and 0 failures\n",
            "INFO:flwr:aggregate_evaluate: received 3 results and 0 failures\n",
            "\u001b[92mINFO \u001b[0m:      \n",
            "INFO:flwr:\n",
            "\u001b[92mINFO \u001b[0m:      [ROUND 33]\n",
            "INFO:flwr:[ROUND 33]\n",
            "\u001b[92mINFO \u001b[0m:      configure_fit: strategy sampled 3 clients (out of 3)\n",
            "INFO:flwr:configure_fit: strategy sampled 3 clients (out of 3)\n"
          ]
        },
        {
          "name": "stdout",
          "output_type": "stream",
          "text": [
            "\u001b[2m\u001b[36m(ClientAppActor pid=33088)\u001b[0m \b\b\b\b\b\b\b\b\b\b\b\b\b\b\b\b\b\b\b\b\b\b\b\b\b\b\b\b\b\b\b\b\b\b\b\b\b\b\b\b\b\b\b\b\b\b\b\b\b\b\b\b\b\b\b\b\b\b\b\b\b\b\b\b\b\b\b\b\b\b\b\b\b\b\b\b\b\b\b\b\b\b\b\b\r147/147 [==============================] - 0s 1ms/step - loss: 0.0045 - accuracy: 0.9996\n",
            "\u001b[2m\u001b[36m(ClientAppActor pid=33088)\u001b[0m \r  1/126 [..............................] - ETA: 25s - loss: 1.8190e-04 - accuracy: 1.0000\b\b\b\b\b\b\b\b\b\b\b\b\b\b\b\b\b\b\b\b\b\b\b\b\b\b\b\b\b\b\b\b\b\b\b\b\b\b\b\b\b\b\b\b\b\b\b\b\b\b\b\b\b\b\b\b\b\b\b\b\b\b\b\b\b\b\b\b\b\b\b\b\b\b\b\b\b\b\b\b\b\b\b\b\b\b\b\b\b\r 39/126 [========>.....................] - ETA: 0s - loss: 1.0747 - accuracy: 0.9832     \n",
            "\u001b[2m\u001b[36m(ClientAppActor pid=33088)\u001b[0m \b\b\b\b\b\b\b\b\b\b\b\b\b\b\b\b\b\b\b\b\b\b\b\b\b\b\b\b\b\b\b\b\b\b\b\b\b\b\b\b\b\b\b\b\b\b\b\b\b\b\b\b\b\b\b\b\b\b\b\b\b\b\b\b\b\b\b\b\b\b\b\b\b\b\b\b\b\b\b\b\b\b\b\b\r 75/126 [================>.............] - ETA: 0s - loss: 1.0938 - accuracy: 0.9821\b\b\b\b\b\b\b\b\b\b\b\b\b\b\b\b\b\b\b\b\b\b\b\b\b\b\b\b\b\b\b\b\b\b\b\b\b\b\b\b\b\b\b\b\b\b\b\b\b\b\b\b\b\b\b\b\b\b\b\b\b\b\b\b\b\b\b\b\b\b\b\b\b\b\b\b\b\b\b\b\b\b\b\b\r113/126 [=========================>....] - ETA: 0s - loss: 1.2629 - accuracy: 0.9801\b\b\b\b\b\b\b\b\b\b\b\b\b\b\b\b\b\b\b\b\b\b\b\b\b\b\b\b\b\b\b\b\b\b\b\b\b\b\b\b\b\b\b\b\b\b\b\b\b\b\b\b\b\b\b\b\b\b\b\b\b\b\b\b\b\b\b\b\b\b\b\b\b\b\b\b\b\b\b\b\b\b\b\b\r126/126 [==============================] - 0s 1ms/step - loss: 1.2757 - accuracy: 0.9798\n"
          ]
        },
        {
          "name": "stderr",
          "output_type": "stream",
          "text": [
            "\u001b[92mINFO \u001b[0m:      aggregate_fit: received 3 results and 0 failures\n",
            "INFO:flwr:aggregate_fit: received 3 results and 0 failures\n"
          ]
        },
        {
          "name": "stdout",
          "output_type": "stream",
          "text": [
            "2463/2463 [==============================] - 4s 2ms/step\n"
          ]
        },
        {
          "name": "stderr",
          "output_type": "stream",
          "text": [
            "\u001b[92mINFO \u001b[0m:      fit progress: (33, 2.2670748233795166, {'loss': 2.2670748233795166, 'accuracy': 0.9584565162658691, 'Centralised report': '              precision    recall  f1-score   support\\n\\n           0    0.99425   0.55035   0.70851      7230\\n           1    0.95654   0.99968   0.97763     71579\\n\\n    accuracy                        0.95846     78809\\n   macro avg    0.97540   0.77501   0.84307     78809\\nweighted avg    0.96000   0.95846   0.95294     78809\\n'}, 2889.0250629970005)\n",
            "INFO:flwr:fit progress: (33, 2.2670748233795166, {'loss': 2.2670748233795166, 'accuracy': 0.9584565162658691, 'Centralised report': '              precision    recall  f1-score   support\\n\\n           0    0.99425   0.55035   0.70851      7230\\n           1    0.95654   0.99968   0.97763     71579\\n\\n    accuracy                        0.95846     78809\\n   macro avg    0.97540   0.77501   0.84307     78809\\nweighted avg    0.96000   0.95846   0.95294     78809\\n'}, 2889.0250629970005)\n",
            "\u001b[92mINFO \u001b[0m:      configure_evaluate: strategy sampled 3 clients (out of 3)\n",
            "INFO:flwr:configure_evaluate: strategy sampled 3 clients (out of 3)\n"
          ]
        },
        {
          "name": "stdout",
          "output_type": "stream",
          "text": [
            " 20/147 [===>..........................] - ETA: 0s - loss: 0.0012 - accuracy: 1.0000     \n",
            " 62/147 [===========>..................] - ETA: 0s - loss: 0.0012 - accuracy: 1.0000\n",
            "108/147 [=====================>........] - ETA: 0s - loss: 0.0011 - accuracy: 1.0000\n",
            "147/147 [==============================] - 1s 3ms/step - loss: 0.0044 - accuracy: 0.9996\n",
            "10/10 [==============================] - 0s 3ms/step - loss: 49.7592 - accuracy: 0.0421\n"
          ]
        },
        {
          "name": "stderr",
          "output_type": "stream",
          "text": [
            "\u001b[92mINFO \u001b[0m:      aggregate_evaluate: received 3 results and 0 failures\n",
            "INFO:flwr:aggregate_evaluate: received 3 results and 0 failures\n",
            "\u001b[92mINFO \u001b[0m:      \n",
            "INFO:flwr:\n",
            "\u001b[92mINFO \u001b[0m:      [ROUND 34]\n",
            "INFO:flwr:[ROUND 34]\n",
            "\u001b[92mINFO \u001b[0m:      configure_fit: strategy sampled 3 clients (out of 3)\n",
            "INFO:flwr:configure_fit: strategy sampled 3 clients (out of 3)\n"
          ]
        },
        {
          "name": "stdout",
          "output_type": "stream",
          "text": [
            "  1/126 [..............................] - ETA: 31s - loss: 1.5671e-04 - accuracy: 1.0000\n",
            " 71/126 [===============>..............] - ETA: 0s - loss: 1.1756 - accuracy: 0.9815\n",
            "126/126 [==============================] - 0s 2ms/step - loss: 1.3345 - accuracy: 0.9798\n"
          ]
        },
        {
          "name": "stderr",
          "output_type": "stream",
          "text": [
            "\u001b[92mINFO \u001b[0m:      aggregate_fit: received 3 results and 0 failures\n",
            "INFO:flwr:aggregate_fit: received 3 results and 0 failures\n"
          ]
        },
        {
          "name": "stdout",
          "output_type": "stream",
          "text": [
            "2463/2463 [==============================] - 8s 3ms/step\n"
          ]
        },
        {
          "name": "stderr",
          "output_type": "stream",
          "text": [
            "\u001b[92mINFO \u001b[0m:      fit progress: (34, 2.378068447113037, {'loss': 2.378068447113037, 'accuracy': 0.9589767456054688, 'Centralised report': '              precision    recall  f1-score   support\\n\\n           0    0.99554   0.55533   0.71295      7230\\n           1    0.95700   0.99975   0.97791     71579\\n\\n    accuracy                        0.95898     78809\\n   macro avg    0.97627   0.77754   0.84543     78809\\nweighted avg    0.96054   0.95898   0.95360     78809\\n'}, 2986.9826407890005)\n",
            "INFO:flwr:fit progress: (34, 2.378068447113037, {'loss': 2.378068447113037, 'accuracy': 0.9589767456054688, 'Centralised report': '              precision    recall  f1-score   support\\n\\n           0    0.99554   0.55533   0.71295      7230\\n           1    0.95700   0.99975   0.97791     71579\\n\\n    accuracy                        0.95898     78809\\n   macro avg    0.97627   0.77754   0.84543     78809\\nweighted avg    0.96054   0.95898   0.95360     78809\\n'}, 2986.9826407890005)\n",
            "\u001b[92mINFO \u001b[0m:      configure_evaluate: strategy sampled 3 clients (out of 3)\n",
            "INFO:flwr:configure_evaluate: strategy sampled 3 clients (out of 3)\n"
          ]
        },
        {
          "name": "stdout",
          "output_type": "stream",
          "text": [
            " 37/147 [======>.......................] - ETA: 0s - loss: 0.0015 - accuracy: 1.0000     \n",
            "109/147 [=====================>........] - ETA: 0s - loss: 0.0036 - accuracy: 0.9997\n",
            "147/147 [==============================] - 0s 1ms/step - loss: 0.0046 - accuracy: 0.9996\n",
            "  1/126 [..............................] - ETA: 30s - loss: 1.8895e-04 - accuracy: 1.0000\n",
            " 66/126 [==============>...............] - ETA: 0s - loss: 1.0611 - accuracy: 0.9830\n"
          ]
        },
        {
          "name": "stderr",
          "output_type": "stream",
          "text": [
            "\u001b[92mINFO \u001b[0m:      aggregate_evaluate: received 3 results and 0 failures\n",
            "INFO:flwr:aggregate_evaluate: received 3 results and 0 failures\n",
            "\u001b[92mINFO \u001b[0m:      \n",
            "INFO:flwr:\n",
            "\u001b[92mINFO \u001b[0m:      [ROUND 35]\n",
            "INFO:flwr:[ROUND 35]\n",
            "\u001b[92mINFO \u001b[0m:      configure_fit: strategy sampled 3 clients (out of 3)\n",
            "INFO:flwr:configure_fit: strategy sampled 3 clients (out of 3)\n"
          ]
        },
        {
          "name": "stdout",
          "output_type": "stream",
          "text": [
            "\u001b[2m\u001b[36m(ClientAppActor pid=33088)\u001b[0m \b\b\b\b\b\b\b\b\b\b\b\b\b\b\b\b\b\b\b\b\b\b\b\b\b\b\b\b\b\b\b\b\b\b\b\b\b\b\b\b\b\b\b\b\b\b\b\b\b\b\b\b\b\b\b\b\b\b\b\b\b\b\b\b\b\b\b\b\b\b\b\b\b\b\b\b\b\b\b\b\b\b\b\b\r103/126 [=======================>......] - ETA: 0s - loss: 1.2705 - accuracy: 0.9800\b\b\b\b\b\b\b\b\b\b\b\b\b\b\b\b\b\b\b\b\b\b\b\b\b\b\b\b\b\b\b\b\b\b\b\b\b\b\b\b\b\b\b\b\b\b\b\b\b\b\b\b\b\b\b\b\b\b\b\b\b\b\b\b\b\b\b\b\b\b\b\b\b\b\b\b\b\b\b\b\b\b\b\b\r126/126 [==============================] - 0s 1ms/step - loss: 1.2937 - accuracy: 0.9795\n",
            "\u001b[2m\u001b[36m(ClientAppActor pid=33088)\u001b[0m \r 1/10 [==>...........................] - ETA: 2s - loss: 52.2991 - accuracy: 0.0625\b\b\b\b\b\b\b\b\b\b\b\b\b\b\b\b\b\b\b\b\b\b\b\b\b\b\b\b\b\b\b\b\b\b\b\b\b\b\b\b\b\b\b\b\b\b\b\b\b\b\b\b\b\b\b\b\b\b\b\b\b\b\b\b\b\b\b\b\b\b\b\b\b\b\b\b\b\b\b\b\b\b\b\r10/10 [==============================] - 0s 2ms/step - loss: 52.2748 - accuracy: 0.0583\n"
          ]
        },
        {
          "name": "stderr",
          "output_type": "stream",
          "text": [
            "\u001b[92mINFO \u001b[0m:      aggregate_fit: received 3 results and 0 failures\n",
            "INFO:flwr:aggregate_fit: received 3 results and 0 failures\n"
          ]
        },
        {
          "name": "stdout",
          "output_type": "stream",
          "text": [
            "2463/2463 [==============================] - 4s 2ms/step\n"
          ]
        },
        {
          "name": "stderr",
          "output_type": "stream",
          "text": [
            "\u001b[92mINFO \u001b[0m:      fit progress: (35, 2.4169411659240723, {'loss': 2.4169411659240723, 'accuracy': 0.9594462513923645, 'Centralised report': '              precision    recall  f1-score   support\\n\\n           0    0.99436   0.56113   0.71742      7230\\n           1    0.95754   0.99968   0.97816     71579\\n\\n    accuracy                        0.95945     78809\\n   macro avg    0.97595   0.78041   0.84779     78809\\nweighted avg    0.96092   0.95945   0.95424     78809\\n'}, 3076.8717505310005)\n",
            "INFO:flwr:fit progress: (35, 2.4169411659240723, {'loss': 2.4169411659240723, 'accuracy': 0.9594462513923645, 'Centralised report': '              precision    recall  f1-score   support\\n\\n           0    0.99436   0.56113   0.71742      7230\\n           1    0.95754   0.99968   0.97816     71579\\n\\n    accuracy                        0.95945     78809\\n   macro avg    0.97595   0.78041   0.84779     78809\\nweighted avg    0.96092   0.95945   0.95424     78809\\n'}, 3076.8717505310005)\n",
            "\u001b[92mINFO \u001b[0m:      configure_evaluate: strategy sampled 3 clients (out of 3)\n",
            "INFO:flwr:configure_evaluate: strategy sampled 3 clients (out of 3)\n"
          ]
        },
        {
          "name": "stdout",
          "output_type": "stream",
          "text": [
            " 22/126 [====>.........................] - ETA: 0s - loss: 1.0709 - accuracy: 0.9815     \n",
            " 70/126 [===============>..............] - ETA: 0s - loss: 1.0080 - accuracy: 0.9826\n",
            "115/126 [==========================>...] - ETA: 0s - loss: 1.1238 - accuracy: 0.9810\n",
            "126/126 [==============================] - 1s 2ms/step - loss: 1.1549 - accuracy: 0.9803\n",
            "  1/147 [..............................] - ETA: 46s - loss: 9.2894e-06 - accuracy: 1.0000\n",
            " 65/147 [============>.................] - ETA: 0s - loss: 0.0027 - accuracy: 1.0000\n",
            "147/147 [==============================] - 1s 1ms/step - loss: 0.0060 - accuracy: 0.9994\n"
          ]
        },
        {
          "name": "stderr",
          "output_type": "stream",
          "text": [
            "\u001b[92mINFO \u001b[0m:      aggregate_evaluate: received 3 results and 0 failures\n",
            "INFO:flwr:aggregate_evaluate: received 3 results and 0 failures\n",
            "\u001b[92mINFO \u001b[0m:      \n",
            "INFO:flwr:\n",
            "\u001b[92mINFO \u001b[0m:      [ROUND 36]\n",
            "INFO:flwr:[ROUND 36]\n",
            "\u001b[92mINFO \u001b[0m:      configure_fit: strategy sampled 3 clients (out of 3)\n",
            "INFO:flwr:configure_fit: strategy sampled 3 clients (out of 3)\n"
          ]
        },
        {
          "name": "stdout",
          "output_type": "stream",
          "text": [
            "\u001b[2m\u001b[36m(ClientAppActor pid=33088)\u001b[0m \r 1/10 [==>...........................] - ETA: 2s - loss: 53.5506 - accuracy: 0.1250\b\b\b\b\b\b\b\b\b\b\b\b\b\b\b\b\b\b\b\b\b\b\b\b\b\b\b\b\b\b\b\b\b\b\b\b\b\b\b\b\b\b\b\b\b\b\b\b\b\b\b\b\b\b\b\b\b\b\b\b\b\b\b\b\b\b\b\b\b\b\b\b\b\b\b\b\b\b\b\b\b\b\b\r10/10 [==============================] - 0s 2ms/step - loss: 53.1585 - accuracy: 0.0680\n"
          ]
        },
        {
          "name": "stderr",
          "output_type": "stream",
          "text": [
            "\u001b[92mINFO \u001b[0m:      aggregate_fit: received 3 results and 0 failures\n",
            "INFO:flwr:aggregate_fit: received 3 results and 0 failures\n"
          ]
        },
        {
          "name": "stdout",
          "output_type": "stream",
          "text": [
            "2463/2463 [==============================] - 4s 2ms/step\n"
          ]
        },
        {
          "name": "stderr",
          "output_type": "stream",
          "text": [
            "\u001b[92mINFO \u001b[0m:      fit progress: (36, 2.565579891204834, {'loss': 2.565579891204834, 'accuracy': 0.9582027196884155, 'Centralised report': '              precision    recall  f1-score   support\\n\\n           0    0.99572   0.54675   0.70589      7230\\n           1    0.95621   0.99976   0.97750     71579\\n\\n    accuracy                        0.95820     78809\\n   macro avg    0.97597   0.77326   0.84170     78809\\nweighted avg    0.95984   0.95820   0.95259     78809\\n'}, 3163.9500447580003)\n",
            "INFO:flwr:fit progress: (36, 2.565579891204834, {'loss': 2.565579891204834, 'accuracy': 0.9582027196884155, 'Centralised report': '              precision    recall  f1-score   support\\n\\n           0    0.99572   0.54675   0.70589      7230\\n           1    0.95621   0.99976   0.97750     71579\\n\\n    accuracy                        0.95820     78809\\n   macro avg    0.97597   0.77326   0.84170     78809\\nweighted avg    0.95984   0.95820   0.95259     78809\\n'}, 3163.9500447580003)\n",
            "\u001b[92mINFO \u001b[0m:      configure_evaluate: strategy sampled 3 clients (out of 3)\n",
            "INFO:flwr:configure_evaluate: strategy sampled 3 clients (out of 3)\n"
          ]
        },
        {
          "name": "stdout",
          "output_type": "stream",
          "text": [
            " 39/126 [========>.....................] - ETA: 0s - loss: 1.0912 - accuracy: 0.9824     \n",
            "113/126 [=========================>....] - ETA: 0s - loss: 1.2828 - accuracy: 0.9798\n",
            "126/126 [==============================] - 0s 1ms/step - loss: 1.2963 - accuracy: 0.9795\n",
            "10/10 [==============================] - 0s 2ms/step - loss: 56.5871 - accuracy: 0.0388\n"
          ]
        },
        {
          "name": "stderr",
          "output_type": "stream",
          "text": [
            "\u001b[92mINFO \u001b[0m:      aggregate_evaluate: received 3 results and 0 failures\n",
            "INFO:flwr:aggregate_evaluate: received 3 results and 0 failures\n",
            "\u001b[92mINFO \u001b[0m:      \n",
            "INFO:flwr:\n",
            "\u001b[92mINFO \u001b[0m:      [ROUND 37]\n",
            "INFO:flwr:[ROUND 37]\n",
            "\u001b[92mINFO \u001b[0m:      configure_fit: strategy sampled 3 clients (out of 3)\n",
            "INFO:flwr:configure_fit: strategy sampled 3 clients (out of 3)\n"
          ]
        },
        {
          "name": "stdout",
          "output_type": "stream",
          "text": [
            "\u001b[2m\u001b[36m(ClientAppActor pid=33088)\u001b[0m \r  1/147 [..............................] - ETA: 32s - loss: 9.9881e-06 - accuracy: 1.0000\b\b\b\b\b\b\b\b\b\b\b\b\b\b\b\b\b\b\b\b\b\b\b\b\b\b\b\b\b\b\b\b\b\b\b\b\b\b\b\b\b\b\b\b\b\b\b\b\b\b\b\b\b\b\b\b\b\b\b\b\b\b\b\b\b\b\b\b\b\b\b\b\b\b\b\b\b\b\b\b\b\b\b\b\b\b\b\b\b\r 36/147 [======>.......................] - ETA: 0s - loss: 0.0011 - accuracy: 1.0000     \n",
            "\u001b[2m\u001b[36m(ClientAppActor pid=33088)\u001b[0m \b\b\b\b\b\b\b\b\b\b\b\b\b\b\b\b\b\b\b\b\b\b\b\b\b\b\b\b\b\b\b\b\b\b\b\b\b\b\b\b\b\b\b\b\b\b\b\b\b\b\b\b\b\b\b\b\b\b\b\b\b\b\b\b\b\b\b\b\b\b\b\b\b\b\b\b\b\b\b\b\b\b\b\b\r 73/147 [=============>................] - ETA: 0s - loss: 0.0010 - accuracy: 1.0000\b\b\b\b\b\b\b\b\b\b\b\b\b\b\b\b\b\b\b\b\b\b\b\b\b\b\b\b\b\b\b\b\b\b\b\b\b\b\b\b\b\b\b\b\b\b\b\b\b\b\b\b\b\b\b\b\b\b\b\b\b\b\b\b\b\b\b\b\b\b\b\b\b\b\b\b\b\b\b\b\b\b\b\b\r111/147 [=====================>........] - ETA: 0s - loss: 0.0032 - accuracy: 0.9997\n",
            "\u001b[2m\u001b[36m(ClientAppActor pid=33088)\u001b[0m \b\b\b\b\b\b\b\b\b\b\b\b\b\b\b\b\b\b\b\b\b\b\b\b\b\b\b\b\b\b\b\b\b\b\b\b\b\b\b\b\b\b\b\b\b\b\b\b\b\b\b\b\b\b\b\b\b\b\b\b\b\b\b\b\b\b\b\b\b\b\b\b\b\b\b\b\b\b\b\b\b\b\b\b\r147/147 [==============================] - 0s 1ms/step - loss: 0.0041 - accuracy: 0.9996\n"
          ]
        },
        {
          "name": "stderr",
          "output_type": "stream",
          "text": [
            "\u001b[92mINFO \u001b[0m:      aggregate_fit: received 3 results and 0 failures\n",
            "INFO:flwr:aggregate_fit: received 3 results and 0 failures\n"
          ]
        },
        {
          "name": "stdout",
          "output_type": "stream",
          "text": [
            "2463/2463 [==============================] - 4s 2ms/step\n"
          ]
        },
        {
          "name": "stderr",
          "output_type": "stream",
          "text": [
            "\u001b[92mINFO \u001b[0m:      fit progress: (37, 2.5098161697387695, {'loss': 2.5098161697387695, 'accuracy': 0.9584565162658691, 'Centralised report': '              precision    recall  f1-score   support\\n\\n           0    0.99524   0.54979   0.70830      7230\\n           1    0.95649   0.99973   0.97764     71579\\n\\n    accuracy                        0.95846     78809\\n   macro avg    0.97587   0.77476   0.84297     78809\\nweighted avg    0.96005   0.95846   0.95293     78809\\n'}, 3259.1127630090004)\n",
            "INFO:flwr:fit progress: (37, 2.5098161697387695, {'loss': 2.5098161697387695, 'accuracy': 0.9584565162658691, 'Centralised report': '              precision    recall  f1-score   support\\n\\n           0    0.99524   0.54979   0.70830      7230\\n           1    0.95649   0.99973   0.97764     71579\\n\\n    accuracy                        0.95846     78809\\n   macro avg    0.97587   0.77476   0.84297     78809\\nweighted avg    0.96005   0.95846   0.95293     78809\\n'}, 3259.1127630090004)\n",
            "\u001b[92mINFO \u001b[0m:      configure_evaluate: strategy sampled 3 clients (out of 3)\n",
            "INFO:flwr:configure_evaluate: strategy sampled 3 clients (out of 3)\n"
          ]
        },
        {
          "name": "stdout",
          "output_type": "stream",
          "text": [
            " 35/126 [=======>......................] - ETA: 0s - loss: 1.0650 - accuracy: 0.9812     \n",
            "102/126 [=======================>......] - ETA: 0s - loss: 1.1941 - accuracy: 0.9801\n",
            "126/126 [==============================] - 0s 1ms/step - loss: 1.2213 - accuracy: 0.9795\n",
            "  1/147 [..............................] - ETA: 33s - loss: 7.7191e-06 - accuracy: 1.0000\n",
            " 72/147 [=============>................] - ETA: 0s - loss: 0.0018 - accuracy: 1.0000\n",
            "147/147 [==============================] - 0s 1ms/step - loss: 0.0052 - accuracy: 0.9996\n"
          ]
        },
        {
          "name": "stderr",
          "output_type": "stream",
          "text": [
            "\u001b[92mINFO \u001b[0m:      aggregate_evaluate: received 3 results and 0 failures\n",
            "INFO:flwr:aggregate_evaluate: received 3 results and 0 failures\n",
            "\u001b[92mINFO \u001b[0m:      \n",
            "INFO:flwr:\n",
            "\u001b[92mINFO \u001b[0m:      [ROUND 38]\n",
            "INFO:flwr:[ROUND 38]\n",
            "\u001b[92mINFO \u001b[0m:      configure_fit: strategy sampled 3 clients (out of 3)\n",
            "INFO:flwr:configure_fit: strategy sampled 3 clients (out of 3)\n"
          ]
        },
        {
          "name": "stdout",
          "output_type": "stream",
          "text": [
            "\u001b[2m\u001b[36m(ClientAppActor pid=33088)\u001b[0m \r 1/10 [==>...........................] - ETA: 1s - loss: 55.3627 - accuracy: 0.0312\b\b\b\b\b\b\b\b\b\b\b\b\b\b\b\b\b\b\b\b\b\b\b\b\b\b\b\b\b\b\b\b\b\b\b\b\b\b\b\b\b\b\b\b\b\b\b\b\b\b\b\b\b\b\b\b\b\b\b\b\b\b\b\b\b\b\b\b\b\b\b\b\b\b\b\b\b\b\b\b\b\b\b\r10/10 [==============================] - 0s 2ms/step - loss: 55.3473 - accuracy: 0.0421\n"
          ]
        },
        {
          "name": "stderr",
          "output_type": "stream",
          "text": [
            "\u001b[92mINFO \u001b[0m:      aggregate_fit: received 3 results and 0 failures\n",
            "INFO:flwr:aggregate_fit: received 3 results and 0 failures\n"
          ]
        },
        {
          "name": "stdout",
          "output_type": "stream",
          "text": [
            "2463/2463 [==============================] - 4s 1ms/step\n"
          ]
        },
        {
          "name": "stderr",
          "output_type": "stream",
          "text": [
            "\u001b[92mINFO \u001b[0m:      fit progress: (38, 2.596853494644165, {'loss': 2.596853494644165, 'accuracy': 0.956997275352478, 'Centralised report': '              precision    recall  f1-score   support\\n\\n           0    0.96535   0.55104   0.70159      7230\\n           1    0.95654   0.99800   0.97683     71579\\n\\n    accuracy                        0.95700     78809\\n   macro avg    0.96094   0.77452   0.83921     78809\\nweighted avg    0.95734   0.95700   0.95158     78809\\n'}, 3345.350205642)\n",
            "INFO:flwr:fit progress: (38, 2.596853494644165, {'loss': 2.596853494644165, 'accuracy': 0.956997275352478, 'Centralised report': '              precision    recall  f1-score   support\\n\\n           0    0.96535   0.55104   0.70159      7230\\n           1    0.95654   0.99800   0.97683     71579\\n\\n    accuracy                        0.95700     78809\\n   macro avg    0.96094   0.77452   0.83921     78809\\nweighted avg    0.95734   0.95700   0.95158     78809\\n'}, 3345.350205642)\n",
            "\u001b[92mINFO \u001b[0m:      configure_evaluate: strategy sampled 3 clients (out of 3)\n",
            "INFO:flwr:configure_evaluate: strategy sampled 3 clients (out of 3)\n"
          ]
        },
        {
          "name": "stdout",
          "output_type": "stream",
          "text": [
            "10/10 [==============================] - 0s 2ms/step - loss: 57.1055 - accuracy: 0.0453\n",
            " 24/126 [====>.........................] - ETA: 0s - loss: 1.0434 - accuracy: 0.9831     \n",
            " 66/126 [==============>...............] - ETA: 0s - loss: 1.0051 - accuracy: 0.9834\n",
            "115/126 [==========================>...] - ETA: 0s - loss: 1.1928 - accuracy: 0.9807\n",
            "126/126 [==============================] - 1s 2ms/step - loss: 1.2268 - accuracy: 0.9800\n",
            "  1/147 [..............................] - ETA: 50s - loss: 7.6261e-06 - accuracy: 1.0000\n",
            " 48/147 [========>.....................] - ETA: 0s - loss: 0.0063 - accuracy: 0.9967\n"
          ]
        },
        {
          "name": "stderr",
          "output_type": "stream",
          "text": [
            "\u001b[92mINFO \u001b[0m:      aggregate_evaluate: received 3 results and 0 failures\n",
            "INFO:flwr:aggregate_evaluate: received 3 results and 0 failures\n",
            "\u001b[92mINFO \u001b[0m:      \n",
            "INFO:flwr:\n",
            "\u001b[92mINFO \u001b[0m:      [ROUND 39]\n",
            "INFO:flwr:[ROUND 39]\n",
            "\u001b[92mINFO \u001b[0m:      configure_fit: strategy sampled 3 clients (out of 3)\n",
            "INFO:flwr:configure_fit: strategy sampled 3 clients (out of 3)\n"
          ]
        },
        {
          "name": "stdout",
          "output_type": "stream",
          "text": [
            "\u001b[2m\u001b[36m(ClientAppActor pid=33088)\u001b[0m \b\b\b\b\b\b\b\b\b\b\b\b\b\b\b\b\b\b\b\b\b\b\b\b\b\b\b\b\b\b\b\b\b\b\b\b\b\b\b\b\b\b\b\b\b\b\b\b\b\b\b\b\b\b\b\b\b\b\b\b\b\b\b\b\b\b\b\b\b\b\b\b\b\b\b\b\b\b\b\b\b\b\b\b\r 71/147 [=============>................] - ETA: 0s - loss: 0.0067 - accuracy: 0.9960\b\b\b\b\b\b\b\b\b\b\b\b\b\b\b\b\b\b\b\b\b\b\b\b\b\b\b\b\b\b\b\b\b\b\b\b\b\b\b\b\b\b\b\b\b\b\b\b\b\b\b\b\b\b\b\b\b\b\b\b\b\b\b\b\b\b\b\b\b\b\b\b\b\b\b\b\b\b\b\b\b\b\b\b\r 95/147 [==================>...........] - ETA: 0s - loss: 0.0066 - accuracy: 0.9964\n",
            "\u001b[2m\u001b[36m(ClientAppActor pid=33088)\u001b[0m \b\b\b\b\b\b\b\b\b\b\b\b\b\b\b\b\b\b\b\b\b\b\b\b\b\b\b\b\b\b\b\b\b\b\b\b\b\b\b\b\b\b\b\b\b\b\b\b\b\b\b\b\b\b\b\b\b\b\b\b\b\b\b\b\b\b\b\b\b\b\b\b\b\b\b\b\b\b\b\b\b\b\b\b\r107/147 [====================>.........] - ETA: 0s - loss: 0.0061 - accuracy: 0.9965\b\b\b\b\b\b\b\b\b\b\b\b\b\b\b\b\b\b\b\b\b\b\b\b\b\b\b\b\b\b\b\b\b\b\b\b\b\b\b\b\b\b\b\b\b\b\b\b\b\b\b\b\b\b\b\b\b\b\b\b\b\b\b\b\b\b\b\b\b\b\b\b\b\b\b\b\b\b\b\b\b\b\b\b\r132/147 [=========================>....] - ETA: 0s - loss: 0.0105 - accuracy: 0.9957\n"
          ]
        },
        {
          "name": "stderr",
          "output_type": "stream",
          "text": [
            "\u001b[92mINFO \u001b[0m:      aggregate_fit: received 3 results and 0 failures\n",
            "INFO:flwr:aggregate_fit: received 3 results and 0 failures\n"
          ]
        },
        {
          "name": "stdout",
          "output_type": "stream",
          "text": [
            "147/147 [==============================] - 1s 2ms/step - loss: 0.0109 - accuracy: 0.9957\n",
            "2463/2463 [==============================] - 5s 2ms/step\n"
          ]
        },
        {
          "name": "stderr",
          "output_type": "stream",
          "text": [
            "\u001b[92mINFO \u001b[0m:      fit progress: (39, 2.764934539794922, {'loss': 2.764934539794922, 'accuracy': 0.9578855037689209, 'Centralised report': '              precision    recall  f1-score   support\\n\\n           0    0.99645   0.54288   0.70284      7230\\n           1    0.95586   0.99980   0.97734     71579\\n\\n    accuracy                        0.95789     78809\\n   macro avg    0.97615   0.77134   0.84009     78809\\nweighted avg    0.95958   0.95789   0.95215     78809\\n'}, 3434.2659476140007)\n",
            "INFO:flwr:fit progress: (39, 2.764934539794922, {'loss': 2.764934539794922, 'accuracy': 0.9578855037689209, 'Centralised report': '              precision    recall  f1-score   support\\n\\n           0    0.99645   0.54288   0.70284      7230\\n           1    0.95586   0.99980   0.97734     71579\\n\\n    accuracy                        0.95789     78809\\n   macro avg    0.97615   0.77134   0.84009     78809\\nweighted avg    0.95958   0.95789   0.95215     78809\\n'}, 3434.2659476140007)\n",
            "\u001b[92mINFO \u001b[0m:      configure_evaluate: strategy sampled 3 clients (out of 3)\n",
            "INFO:flwr:configure_evaluate: strategy sampled 3 clients (out of 3)\n"
          ]
        },
        {
          "name": "stdout",
          "output_type": "stream",
          "text": [
            " 36/126 [=======>......................] - ETA: 0s - loss: 1.2911 - accuracy: 0.9818     \n",
            "103/126 [=======================>......] - ETA: 0s - loss: 1.3929 - accuracy: 0.9800\n",
            "126/126 [==============================] - 0s 1ms/step - loss: 1.4167 - accuracy: 0.9795\n",
            "10/10 [==============================] - 0s 2ms/step - loss: 61.0058 - accuracy: 0.0324\n"
          ]
        },
        {
          "name": "stderr",
          "output_type": "stream",
          "text": [
            "\u001b[92mINFO \u001b[0m:      aggregate_evaluate: received 3 results and 0 failures\n",
            "INFO:flwr:aggregate_evaluate: received 3 results and 0 failures\n",
            "\u001b[92mINFO \u001b[0m:      \n",
            "INFO:flwr:\n",
            "\u001b[92mINFO \u001b[0m:      [ROUND 40]\n",
            "INFO:flwr:[ROUND 40]\n",
            "\u001b[92mINFO \u001b[0m:      configure_fit: strategy sampled 3 clients (out of 3)\n",
            "INFO:flwr:configure_fit: strategy sampled 3 clients (out of 3)\n"
          ]
        },
        {
          "name": "stdout",
          "output_type": "stream",
          "text": [
            " 38/147 [======>.......................] - ETA: 0s - loss: 0.0011 - accuracy: 1.0000     \n",
            "115/147 [======================>.......] - ETA: 0s - loss: 0.0031 - accuracy: 0.9997    \n",
            "147/147 [==============================] - 0s 1ms/step - loss: 0.0039 - accuracy: 0.9996\n"
          ]
        },
        {
          "name": "stderr",
          "output_type": "stream",
          "text": [
            "\u001b[92mINFO \u001b[0m:      aggregate_fit: received 3 results and 0 failures\n",
            "INFO:flwr:aggregate_fit: received 3 results and 0 failures\n"
          ]
        },
        {
          "name": "stdout",
          "output_type": "stream",
          "text": [
            "2463/2463 [==============================] - 6s 2ms/step\n"
          ]
        },
        {
          "name": "stderr",
          "output_type": "stream",
          "text": [
            "\u001b[92mINFO \u001b[0m:      fit progress: (40, 2.746053457260132, {'loss': 2.746053457260132, 'accuracy': 0.956794261932373, 'Centralised report': '              precision    recall  f1-score   support\\n\\n           0    0.95612   0.55450   0.70192      7230\\n           1    0.95683   0.99743   0.97671     71579\\n\\n    accuracy                        0.95679     78809\\n   macro avg    0.95647   0.77596   0.83931     78809\\nweighted avg    0.95677   0.95679   0.95150     78809\\n'}, 3519.479636856)\n",
            "INFO:flwr:fit progress: (40, 2.746053457260132, {'loss': 2.746053457260132, 'accuracy': 0.956794261932373, 'Centralised report': '              precision    recall  f1-score   support\\n\\n           0    0.95612   0.55450   0.70192      7230\\n           1    0.95683   0.99743   0.97671     71579\\n\\n    accuracy                        0.95679     78809\\n   macro avg    0.95647   0.77596   0.83931     78809\\nweighted avg    0.95677   0.95679   0.95150     78809\\n'}, 3519.479636856)\n",
            "\u001b[92mINFO \u001b[0m:      configure_evaluate: strategy sampled 3 clients (out of 3)\n",
            "INFO:flwr:configure_evaluate: strategy sampled 3 clients (out of 3)\n"
          ]
        },
        {
          "name": "stdout",
          "output_type": "stream",
          "text": [
            " 1/10 [==>...........................] - ETA: 1s - loss: 61.6152 - accuracy: 0.0938\n",
            "10/10 [==============================] - 0s 2ms/step - loss: 60.4901 - accuracy: 0.0615\n",
            "  1/147 [..............................] - ETA: 31s - loss: 7.3350e-06 - accuracy: 1.0000\n",
            " 77/147 [==============>...............] - ETA: 0s - loss: 0.0075 - accuracy: 0.9955\n",
            "147/147 [==============================] - 0s 1ms/step - loss: 0.0118 - accuracy: 0.9936\n"
          ]
        },
        {
          "name": "stderr",
          "output_type": "stream",
          "text": [
            "\u001b[92mINFO \u001b[0m:      aggregate_evaluate: received 3 results and 0 failures\n",
            "INFO:flwr:aggregate_evaluate: received 3 results and 0 failures\n",
            "\u001b[92mINFO \u001b[0m:      \n",
            "INFO:flwr:\n",
            "\u001b[92mINFO \u001b[0m:      [SUMMARY]\n",
            "INFO:flwr:[SUMMARY]\n",
            "\u001b[92mINFO \u001b[0m:      Run finished 40 rounds in 3522.98s\n",
            "INFO:flwr:Run finished 40 rounds in 3522.98s\n"
          ]
        },
        {
          "name": "stdout",
          "output_type": "stream",
          "text": [
            "\u001b[2m\u001b[36m(ClientAppActor pid=33088)\u001b[0m \r  1/126 [..............................] - ETA: 28s - loss: 1.4114e-04 - accuracy: 1.0000\n",
            "\u001b[2m\u001b[36m(ClientAppActor pid=33088)\u001b[0m \b\b\b\b\b\b\b\b\b\b\b\b\b\b\b\b\b\b\b\b\b\b\b\b\b\b\b\b\b\b\b\b\b\b\b\b\b\b\b\b\b\b\b\b\b\b\b\b\b\b\b\b\b\b\b\b\b\b\b\b\b\b\b\b\b\b\b\b\b\b\b\b\b\b\b\b\b\b\b\b\b\b\b\b\b\b\b\b\b\r 34/126 [=======>......................] - ETA: 0s - loss: 1.0628 - accuracy: 0.9816     \b\b\b\b\b\b\b\b\b\b\b\b\b\b\b\b\b\b\b\b\b\b\b\b\b\b\b\b\b\b\b\b\b\b\b\b\b\b\b\b\b\b\b\b\b\b\b\b\b\b\b\b\b\b\b\b\b\b\b\b\b\b\b\b\b\b\b\b\b\b\b\b\b\b\b\b\b\b\b\b\b\b\b\b\r 71/126 [===============>..............] - ETA: 0s - loss: 1.0408 - accuracy: 0.9815\n",
            "\u001b[2m\u001b[36m(ClientAppActor pid=33088)\u001b[0m \b\b\b\b\b\b\b\b\b\b\b\b\b\b\b\b\b\b\b\b\b\b\b\b\b\b\b\b\b\b\b\b\b\b\b\b\b\b\b\b\b\b\b\b\b\b\b\b\b\b\b\b\b\b\b\b\b\b\b\b\b\b\b\b\b\b\b\b\b\b\b\b\b\b\b\b\b\b\b\b\b\b\b\b\r108/126 [========================>.....] - ETA: 0s - loss: 1.1712 - accuracy: 0.9800\b\b\b\b\b\b\b\b\b\b\b\b\b\b\b\b\b\b\b\b\b\b\b\b\b\b\b\b\b\b\b\b\b\b\b\b\b\b\b\b\b\b\b\b\b\b\b\b\b\b\b\b\b\b\b\b\b\b\b\b\b\b\b\b\b\b\b\b\b\b\b\b\b\b\b\b\b\b\b\b\b\b\b\b\r126/126 [==============================] - 0s 1ms/step - loss: 1.1839 - accuracy: 0.9798\n"
          ]
        },
        {
          "name": "stderr",
          "output_type": "stream",
          "text": [
            "\u001b[92mINFO \u001b[0m:      History (loss, distributed):\n",
            "INFO:flwr:History (loss, distributed):\n",
            "\u001b[92mINFO \u001b[0m:      \t('\\tround 1: 0.7712968314143371\\n'\n",
            "INFO:flwr:\t('\\tround 1: 0.7712968314143371\\n'\n",
            "\u001b[92mINFO \u001b[0m:      \t '\\tround 2: 1.3980555568297608\\n'\n",
            "INFO:flwr:\t '\\tround 2: 1.3980555568297608\\n'\n",
            "\u001b[92mINFO \u001b[0m:      \t '\\tround 3: 0.841514330571477\\n'\n",
            "INFO:flwr:\t '\\tround 3: 0.841514330571477\\n'\n",
            "\u001b[92mINFO \u001b[0m:      \t '\\tround 4: 1.0083308342658253\\n'\n",
            "INFO:flwr:\t '\\tround 4: 1.0083308342658253\\n'\n",
            "\u001b[92mINFO \u001b[0m:      \t '\\tround 5: 1.0743623389877495\\n'\n",
            "INFO:flwr:\t '\\tround 5: 1.0743623389877495\\n'\n",
            "\u001b[92mINFO \u001b[0m:      \t '\\tround 6: 1.1668602134843935\\n'\n",
            "INFO:flwr:\t '\\tround 6: 1.1668602134843935\\n'\n",
            "\u001b[92mINFO \u001b[0m:      \t '\\tround 7: 1.215002616845261\\n'\n",
            "INFO:flwr:\t '\\tround 7: 1.215002616845261\\n'\n",
            "\u001b[92mINFO \u001b[0m:      \t '\\tround 8: 1.2742194471178443\\n'\n",
            "INFO:flwr:\t '\\tround 8: 1.2742194471178443\\n'\n",
            "\u001b[92mINFO \u001b[0m:      \t '\\tround 9: 1.3526989253850716\\n'\n",
            "INFO:flwr:\t '\\tround 9: 1.3526989253850716\\n'\n",
            "\u001b[92mINFO \u001b[0m:      \t '\\tround 10: 1.3984747915502307\\n'\n",
            "INFO:flwr:\t '\\tround 10: 1.3984747915502307\\n'\n",
            "\u001b[92mINFO \u001b[0m:      \t '\\tround 11: 1.4169075453452402\\n'\n",
            "INFO:flwr:\t '\\tround 11: 1.4169075453452402\\n'\n",
            "\u001b[92mINFO \u001b[0m:      \t '\\tround 12: 1.5502049210046909\\n'\n",
            "INFO:flwr:\t '\\tround 12: 1.5502049210046909\\n'\n",
            "\u001b[92mINFO \u001b[0m:      \t '\\tround 13: 1.6313497151056466\\n'\n",
            "INFO:flwr:\t '\\tround 13: 1.6313497151056466\\n'\n",
            "\u001b[92mINFO \u001b[0m:      \t '\\tround 14: 1.6288423212944143\\n'\n",
            "INFO:flwr:\t '\\tround 14: 1.6288423212944143\\n'\n",
            "\u001b[92mINFO \u001b[0m:      \t '\\tround 15: 1.6938328925214885\\n'\n",
            "INFO:flwr:\t '\\tround 15: 1.6938328925214885\\n'\n",
            "\u001b[92mINFO \u001b[0m:      \t '\\tround 16: 1.8035740102732936\\n'\n",
            "INFO:flwr:\t '\\tround 16: 1.8035740102732936\\n'\n",
            "\u001b[92mINFO \u001b[0m:      \t '\\tround 17: 1.9127236827851721\\n'\n",
            "INFO:flwr:\t '\\tround 17: 1.9127236827851721\\n'\n",
            "\u001b[92mINFO \u001b[0m:      \t '\\tround 18: 1.900209161053722\\n'\n",
            "INFO:flwr:\t '\\tround 18: 1.900209161053722\\n'\n",
            "\u001b[92mINFO \u001b[0m:      \t '\\tround 19: 1.923471500754711\\n'\n",
            "INFO:flwr:\t '\\tround 19: 1.923471500754711\\n'\n",
            "\u001b[92mINFO \u001b[0m:      \t '\\tround 20: 1.8295946556395013\\n'\n",
            "INFO:flwr:\t '\\tround 20: 1.8295946556395013\\n'\n",
            "\u001b[92mINFO \u001b[0m:      \t '\\tround 21: 1.9393202594900727\\n'\n",
            "INFO:flwr:\t '\\tround 21: 1.9393202594900727\\n'\n",
            "\u001b[92mINFO \u001b[0m:      \t '\\tround 22: 1.9234571655103903\\n'\n",
            "INFO:flwr:\t '\\tround 22: 1.9234571655103903\\n'\n",
            "\u001b[92mINFO \u001b[0m:      \t '\\tround 23: 2.0537106707332997\\n'\n",
            "INFO:flwr:\t '\\tround 23: 2.0537106707332997\\n'\n",
            "\u001b[92mINFO \u001b[0m:      \t '\\tround 24: 1.9805335795419223\\n'\n",
            "INFO:flwr:\t '\\tround 24: 1.9805335795419223\\n'\n",
            "\u001b[92mINFO \u001b[0m:      \t '\\tround 25: 2.078535918873576\\n'\n",
            "INFO:flwr:\t '\\tround 25: 2.078535918873576\\n'\n",
            "\u001b[92mINFO \u001b[0m:      \t '\\tround 26: 2.0988866294877404\\n'\n",
            "INFO:flwr:\t '\\tround 26: 2.0988866294877404\\n'\n",
            "\u001b[92mINFO \u001b[0m:      \t '\\tround 27: 2.1196454968153278\\n'\n",
            "INFO:flwr:\t '\\tround 27: 2.1196454968153278\\n'\n",
            "\u001b[92mINFO \u001b[0m:      \t '\\tround 28: 2.1438667059931014\\n'\n",
            "INFO:flwr:\t '\\tround 28: 2.1438667059931014\\n'\n",
            "\u001b[92mINFO \u001b[0m:      \t '\\tround 29: 2.191605544441218\\n'\n",
            "INFO:flwr:\t '\\tround 29: 2.191605544441218\\n'\n",
            "\u001b[92mINFO \u001b[0m:      \t '\\tround 30: 2.230580830026116\\n'\n",
            "INFO:flwr:\t '\\tround 30: 2.230580830026116\\n'\n",
            "\u001b[92mINFO \u001b[0m:      \t '\\tround 31: 2.2951896417855777\\n'\n",
            "INFO:flwr:\t '\\tround 31: 2.2951896417855777\\n'\n",
            "\u001b[92mINFO \u001b[0m:      \t '\\tround 32: 2.3252523564917387\\n'\n",
            "INFO:flwr:\t '\\tround 32: 2.3252523564917387\\n'\n",
            "\u001b[92mINFO \u001b[0m:      \t '\\tround 33: 2.306788202670115\\n'\n",
            "INFO:flwr:\t '\\tround 33: 2.306788202670115\\n'\n",
            "\u001b[92mINFO \u001b[0m:      \t '\\tround 34: 2.3751305449705535\\n'\n",
            "INFO:flwr:\t '\\tround 34: 2.3751305449705535\\n'\n",
            "\u001b[92mINFO \u001b[0m:      \t '\\tround 35: 2.3443573676880267\\n'\n",
            "INFO:flwr:\t '\\tround 35: 2.3443573676880267\\n'\n",
            "\u001b[92mINFO \u001b[0m:      \t '\\tround 36: 2.524219707445546\\n'\n",
            "INFO:flwr:\t '\\tround 36: 2.524219707445546\\n'\n",
            "\u001b[92mINFO \u001b[0m:      \t '\\tround 37: 2.4487152953387668\\n'\n",
            "INFO:flwr:\t '\\tround 37: 2.4487152953387668\\n'\n",
            "\u001b[92mINFO \u001b[0m:      \t '\\tround 38: 2.514610880708106\\n'\n",
            "INFO:flwr:\t '\\tround 38: 2.514610880708106\\n'\n",
            "\u001b[92mINFO \u001b[0m:      \t '\\tround 39: 2.7295863758107752\\n'\n",
            "INFO:flwr:\t '\\tround 39: 2.7295863758107752\\n'\n",
            "\u001b[92mINFO \u001b[0m:      \t '\\tround 40: 2.6122243247427486\\n')History (loss, centralized):\n",
            "INFO:flwr:\t '\\tround 40: 2.6122243247427486\\n')History (loss, centralized):\n",
            "\u001b[92mINFO \u001b[0m:      \t('\\tround 0: 0.5633272528648376\\n'\n",
            "INFO:flwr:\t('\\tround 0: 0.5633272528648376\\n'\n",
            "\u001b[92mINFO \u001b[0m:      \t '\\tround 1: 0.593224823474884\\n'\n",
            "INFO:flwr:\t '\\tround 1: 0.593224823474884\\n'\n",
            "\u001b[92mINFO \u001b[0m:      \t '\\tround 2: 0.8698111176490784\\n'\n",
            "INFO:flwr:\t '\\tround 2: 0.8698111176490784\\n'\n",
            "\u001b[92mINFO \u001b[0m:      \t '\\tround 3: 0.9248741269111633\\n'\n",
            "INFO:flwr:\t '\\tround 3: 0.9248741269111633\\n'\n",
            "\u001b[92mINFO \u001b[0m:      \t '\\tround 4: 1.1406844854354858\\n'\n",
            "INFO:flwr:\t '\\tround 4: 1.1406844854354858\\n'\n",
            "\u001b[92mINFO \u001b[0m:      \t '\\tround 5: 1.1973904371261597\\n'\n",
            "INFO:flwr:\t '\\tround 5: 1.1973904371261597\\n'\n",
            "\u001b[92mINFO \u001b[0m:      \t '\\tround 6: 1.2157864570617676\\n'\n",
            "INFO:flwr:\t '\\tround 6: 1.2157864570617676\\n'\n",
            "\u001b[92mINFO \u001b[0m:      \t '\\tround 7: 1.2410391569137573\\n'\n",
            "INFO:flwr:\t '\\tround 7: 1.2410391569137573\\n'\n",
            "\u001b[92mINFO \u001b[0m:      \t '\\tround 8: 1.2876172065734863\\n'\n",
            "INFO:flwr:\t '\\tround 8: 1.2876172065734863\\n'\n",
            "\u001b[92mINFO \u001b[0m:      \t '\\tround 9: 1.3448415994644165\\n'\n",
            "INFO:flwr:\t '\\tround 9: 1.3448415994644165\\n'\n",
            "\u001b[92mINFO \u001b[0m:      \t '\\tround 10: 1.377259373664856\\n'\n",
            "INFO:flwr:\t '\\tround 10: 1.377259373664856\\n'\n",
            "\u001b[92mINFO \u001b[0m:      \t '\\tround 11: 1.3616935014724731\\n'\n",
            "INFO:flwr:\t '\\tround 11: 1.3616935014724731\\n'\n",
            "\u001b[92mINFO \u001b[0m:      \t '\\tround 12: 1.5094852447509766\\n'\n",
            "INFO:flwr:\t '\\tround 12: 1.5094852447509766\\n'\n",
            "\u001b[92mINFO \u001b[0m:      \t '\\tround 13: 1.6048648357391357\\n'\n",
            "INFO:flwr:\t '\\tround 13: 1.6048648357391357\\n'\n",
            "\u001b[92mINFO \u001b[0m:      \t '\\tround 14: 1.6292552947998047\\n'\n",
            "INFO:flwr:\t '\\tround 14: 1.6292552947998047\\n'\n",
            "\u001b[92mINFO \u001b[0m:      \t '\\tround 15: 1.6762031316757202\\n'\n",
            "INFO:flwr:\t '\\tround 15: 1.6762031316757202\\n'\n",
            "\u001b[92mINFO \u001b[0m:      \t '\\tround 16: 1.7921123504638672\\n'\n",
            "INFO:flwr:\t '\\tround 16: 1.7921123504638672\\n'\n",
            "\u001b[92mINFO \u001b[0m:      \t '\\tround 17: 1.8987363576889038\\n'\n",
            "INFO:flwr:\t '\\tround 17: 1.8987363576889038\\n'\n",
            "\u001b[92mINFO \u001b[0m:      \t '\\tround 18: 1.9275610446929932\\n'\n",
            "INFO:flwr:\t '\\tround 18: 1.9275610446929932\\n'\n",
            "\u001b[92mINFO \u001b[0m:      \t '\\tround 19: 1.927960753440857\\n'\n",
            "INFO:flwr:\t '\\tround 19: 1.927960753440857\\n'\n",
            "\u001b[92mINFO \u001b[0m:      \t '\\tround 20: 1.8559390306472778\\n'\n",
            "INFO:flwr:\t '\\tround 20: 1.8559390306472778\\n'\n",
            "\u001b[92mINFO \u001b[0m:      \t '\\tround 21: 1.9612752199172974\\n'\n",
            "INFO:flwr:\t '\\tround 21: 1.9612752199172974\\n'\n",
            "\u001b[92mINFO \u001b[0m:      \t '\\tround 22: 1.9139714241027832\\n'\n",
            "INFO:flwr:\t '\\tround 22: 1.9139714241027832\\n'\n",
            "\u001b[92mINFO \u001b[0m:      \t '\\tround 23: 2.0630550384521484\\n'\n",
            "INFO:flwr:\t '\\tround 23: 2.0630550384521484\\n'\n",
            "\u001b[92mINFO \u001b[0m:      \t '\\tround 24: 2.05899715423584\\n'\n",
            "INFO:flwr:\t '\\tround 24: 2.05899715423584\\n'\n",
            "\u001b[92mINFO \u001b[0m:      \t '\\tround 25: 2.0931499004364014\\n'\n",
            "INFO:flwr:\t '\\tround 25: 2.0931499004364014\\n'\n",
            "\u001b[92mINFO \u001b[0m:      \t '\\tround 26: 2.107858419418335\\n'\n",
            "INFO:flwr:\t '\\tround 26: 2.107858419418335\\n'\n",
            "\u001b[92mINFO \u001b[0m:      \t '\\tround 27: 2.0857748985290527\\n'\n",
            "INFO:flwr:\t '\\tround 27: 2.0857748985290527\\n'\n",
            "\u001b[92mINFO \u001b[0m:      \t '\\tround 28: 2.174936294555664\\n'\n",
            "INFO:flwr:\t '\\tround 28: 2.174936294555664\\n'\n",
            "\u001b[92mINFO \u001b[0m:      \t '\\tround 29: 2.19726824760437\\n'\n",
            "INFO:flwr:\t '\\tround 29: 2.19726824760437\\n'\n",
            "\u001b[92mINFO \u001b[0m:      \t '\\tround 30: 2.224874973297119\\n'\n",
            "INFO:flwr:\t '\\tround 30: 2.224874973297119\\n'\n",
            "\u001b[92mINFO \u001b[0m:      \t '\\tround 31: 2.2805228233337402\\n'\n",
            "INFO:flwr:\t '\\tround 31: 2.2805228233337402\\n'\n",
            "\u001b[92mINFO \u001b[0m:      \t '\\tround 32: 2.3319032192230225\\n'\n",
            "INFO:flwr:\t '\\tround 32: 2.3319032192230225\\n'\n",
            "\u001b[92mINFO \u001b[0m:      \t '\\tround 33: 2.2670748233795166\\n'\n",
            "INFO:flwr:\t '\\tround 33: 2.2670748233795166\\n'\n",
            "\u001b[92mINFO \u001b[0m:      \t '\\tround 34: 2.378068447113037\\n'\n",
            "INFO:flwr:\t '\\tround 34: 2.378068447113037\\n'\n",
            "\u001b[92mINFO \u001b[0m:      \t '\\tround 35: 2.4169411659240723\\n'\n",
            "INFO:flwr:\t '\\tround 35: 2.4169411659240723\\n'\n",
            "\u001b[92mINFO \u001b[0m:      \t '\\tround 36: 2.565579891204834\\n'\n",
            "INFO:flwr:\t '\\tround 36: 2.565579891204834\\n'\n",
            "\u001b[92mINFO \u001b[0m:      \t '\\tround 37: 2.5098161697387695\\n'\n",
            "INFO:flwr:\t '\\tround 37: 2.5098161697387695\\n'\n",
            "\u001b[92mINFO \u001b[0m:      \t '\\tround 38: 2.596853494644165\\n'\n",
            "INFO:flwr:\t '\\tround 38: 2.596853494644165\\n'\n",
            "\u001b[92mINFO \u001b[0m:      \t '\\tround 39: 2.764934539794922\\n'\n",
            "INFO:flwr:\t '\\tround 39: 2.764934539794922\\n'\n",
            "\u001b[92mINFO \u001b[0m:      \t '\\tround 40: 2.746053457260132\\n')History (metrics, distributed, evaluate):\n",
            "INFO:flwr:\t '\\tround 40: 2.746053457260132\\n')History (metrics, distributed, evaluate):\n",
            "\u001b[92mINFO \u001b[0m:      \t{'agg_accuracy': [(1, 0.8097409112897794),\n",
            "INFO:flwr:\t{'agg_accuracy': [(1, 0.8097409112897794),\n",
            "\u001b[92mINFO \u001b[0m:      \t                  (2, 0.7421327637798275),\n",
            "INFO:flwr:\t                  (2, 0.7421327637798275),\n",
            "\u001b[92mINFO \u001b[0m:      \t                  (3, 0.8969198405994505),\n",
            "INFO:flwr:\t                  (3, 0.8969198405994505),\n",
            "\u001b[92mINFO \u001b[0m:      \t                  (4, 0.8974758373579843),\n",
            "INFO:flwr:\t                  (4, 0.8974758373579843),\n",
            "\u001b[92mINFO \u001b[0m:      \t                  (5, 0.8973645930340329),\n",
            "INFO:flwr:\t                  (5, 0.8973645930340329),\n",
            "\u001b[92mINFO \u001b[0m:      \t                  (6, 0.8972533972792839),\n",
            "INFO:flwr:\t                  (6, 0.8972533972792839),\n",
            "\u001b[92mINFO \u001b[0m:      \t                  (7, 0.8975870174866464),\n",
            "INFO:flwr:\t                  (7, 0.8975870174866464),\n",
            "\u001b[92mINFO \u001b[0m:      \t                  (8, 0.8984765964142343),\n",
            "INFO:flwr:\t                  (8, 0.8984765964142343),\n",
            "\u001b[92mINFO \u001b[0m:      \t                  (9, 0.9013677101226454),\n",
            "INFO:flwr:\t                  (9, 0.9013677101226454),\n",
            "\u001b[92mINFO \u001b[0m:      \t                  (10, 0.8986989661751289),\n",
            "INFO:flwr:\t                  (10, 0.8986989661751289),\n",
            "\u001b[92mINFO \u001b[0m:      \t                  (11, 0.899254948595044),\n",
            "INFO:flwr:\t                  (11, 0.899254948595044),\n",
            "\u001b[92mINFO \u001b[0m:      \t                  (12, 0.901478923984799),\n",
            "INFO:flwr:\t                  (12, 0.901478923984799),\n",
            "\u001b[92mINFO \u001b[0m:      \t                  (13, 0.9012565443226602),\n",
            "INFO:flwr:\t                  (13, 0.9012565443226602),\n",
            "\u001b[92mINFO \u001b[0m:      \t                  (14, 0.9051484497744343),\n",
            "INFO:flwr:\t                  (14, 0.9051484497744343),\n",
            "\u001b[92mINFO \u001b[0m:      \t                  (15, 0.9540753956284735),\n",
            "INFO:flwr:\t                  (15, 0.9540753956284735),\n",
            "\u001b[92mINFO \u001b[0m:      \t                  (16, 0.9599688590487556),\n",
            "INFO:flwr:\t                  (16, 0.9599688590487556),\n",
            "\u001b[92mINFO \u001b[0m:      \t                  (17, 0.9584120743446417),\n",
            "INFO:flwr:\t                  (17, 0.9584120743446417),\n",
            "\u001b[92mINFO \u001b[0m:      \t                  (18, 0.9596352497799026),\n",
            "INFO:flwr:\t                  (18, 0.9596352497799026),\n",
            "\u001b[92mINFO \u001b[0m:      \t                  (19, 0.9589680889264092),\n",
            "INFO:flwr:\t                  (19, 0.9589680889264092),\n",
            "\u001b[92mINFO \u001b[0m:      \t                  (20, 0.960191241187241),\n",
            "INFO:flwr:\t                  (20, 0.960191241187241),\n",
            "\u001b[92mINFO \u001b[0m:      \t                  (21, 0.9603024601164191),\n",
            "INFO:flwr:\t                  (21, 0.9603024601164191),\n",
            "\u001b[92mINFO \u001b[0m:      \t                  (22, 0.9598576731952507),\n",
            "INFO:flwr:\t                  (22, 0.9598576731952507),\n",
            "\u001b[92mINFO \u001b[0m:      \t                  (23, 0.9579673086468163),\n",
            "INFO:flwr:\t                  (23, 0.9579673086468163),\n",
            "\u001b[92mINFO \u001b[0m:      \t                  (24, 0.9577449098449786),\n",
            "INFO:flwr:\t                  (24, 0.9577449098449786),\n",
            "\u001b[92mINFO \u001b[0m:      \t                  (25, 0.9581897074486541),\n",
            "INFO:flwr:\t                  (25, 0.9581897074486541),\n",
            "\u001b[92mINFO \u001b[0m:      \t                  (26, 0.9576337117414698),\n",
            "INFO:flwr:\t                  (26, 0.9576337117414698),\n",
            "\u001b[92mINFO \u001b[0m:      \t                  (27, 0.9605248376949138),\n",
            "INFO:flwr:\t                  (27, 0.9605248376949138),\n",
            "\u001b[92mINFO \u001b[0m:      \t                  (28, 0.960191243138327),\n",
            "INFO:flwr:\t                  (28, 0.960191243138327),\n",
            "\u001b[92mINFO \u001b[0m:      \t                  (29, 0.959079288327328),\n",
            "INFO:flwr:\t                  (29, 0.959079288327328),\n",
            "\u001b[92mINFO \u001b[0m:      \t                  (30, 0.9590792900224118),\n",
            "INFO:flwr:\t                  (30, 0.9590792900224118),\n",
            "\u001b[92mINFO \u001b[0m:      \t                  (31, 0.9587456971609087),\n",
            "INFO:flwr:\t                  (31, 0.9587456971609087),\n",
            "\u001b[92mINFO \u001b[0m:      \t                  (32, 0.9583008839311462),\n",
            "INFO:flwr:\t                  (32, 0.9583008839311462),\n",
            "\u001b[92mINFO \u001b[0m:      \t                  (33, 0.9578560934918092),\n",
            "INFO:flwr:\t                  (33, 0.9578560934918092),\n",
            "\u001b[92mINFO \u001b[0m:      \t                  (34, 0.9583009086726578),\n",
            "INFO:flwr:\t                  (34, 0.9583009086726578),\n",
            "\u001b[92mINFO \u001b[0m:      \t                  (35, 0.9588568736434009),\n",
            "INFO:flwr:\t                  (35, 0.9588568736434009),\n",
            "\u001b[92mINFO \u001b[0m:      \t                  (36, 0.9576337230776529),\n",
            "INFO:flwr:\t                  (36, 0.9576337230776529),\n",
            "\u001b[92mINFO \u001b[0m:      \t                  (37, 0.9577449206554869),\n",
            "INFO:flwr:\t                  (37, 0.9577449206554869),\n",
            "\u001b[92mINFO \u001b[0m:      \t                  (38, 0.9560769322460516),\n",
            "INFO:flwr:\t                  (38, 0.9560769322460516),\n",
            "\u001b[92mINFO \u001b[0m:      \t                  (39, 0.957411327921985),\n",
            "INFO:flwr:\t                  (39, 0.957411327921985),\n",
            "\u001b[92mINFO \u001b[0m:      \t                  (40, 0.9554097578451444)],\n",
            "INFO:flwr:\t                  (40, 0.9554097578451444)],\n",
            "\u001b[92mINFO \u001b[0m:      \t 'agg_loss': [(1, 0.7712968314143371),\n",
            "INFO:flwr:\t 'agg_loss': [(1, 0.7712968314143371),\n",
            "\u001b[92mINFO \u001b[0m:      \t              (2, 1.3980555568297608),\n",
            "INFO:flwr:\t              (2, 1.3980555568297608),\n",
            "\u001b[92mINFO \u001b[0m:      \t              (3, 0.841514330571477),\n",
            "INFO:flwr:\t              (3, 0.841514330571477),\n",
            "\u001b[92mINFO \u001b[0m:      \t              (4, 1.0083308342658253),\n",
            "INFO:flwr:\t              (4, 1.0083308342658253),\n",
            "\u001b[92mINFO \u001b[0m:      \t              (5, 1.0743623389877495),\n",
            "INFO:flwr:\t              (5, 1.0743623389877495),\n",
            "\u001b[92mINFO \u001b[0m:      \t              (6, 1.1668602134843935),\n",
            "INFO:flwr:\t              (6, 1.1668602134843935),\n",
            "\u001b[92mINFO \u001b[0m:      \t              (7, 1.215002616845261),\n",
            "INFO:flwr:\t              (7, 1.215002616845261),\n",
            "\u001b[92mINFO \u001b[0m:      \t              (8, 1.2742194471178443),\n",
            "INFO:flwr:\t              (8, 1.2742194471178443),\n",
            "\u001b[92mINFO \u001b[0m:      \t              (9, 1.3526989253850716),\n",
            "INFO:flwr:\t              (9, 1.3526989253850716),\n",
            "\u001b[92mINFO \u001b[0m:      \t              (10, 1.3984747915502307),\n",
            "INFO:flwr:\t              (10, 1.3984747915502307),\n",
            "\u001b[92mINFO \u001b[0m:      \t              (11, 1.4169075453452402),\n",
            "INFO:flwr:\t              (11, 1.4169075453452402),\n",
            "\u001b[92mINFO \u001b[0m:      \t              (12, 1.5502049210046909),\n",
            "INFO:flwr:\t              (12, 1.5502049210046909),\n",
            "\u001b[92mINFO \u001b[0m:      \t              (13, 1.6313497151056466),\n",
            "INFO:flwr:\t              (13, 1.6313497151056466),\n",
            "\u001b[92mINFO \u001b[0m:      \t              (14, 1.6288423212944143),\n",
            "INFO:flwr:\t              (14, 1.6288423212944143),\n",
            "\u001b[92mINFO \u001b[0m:      \t              (15, 1.6938328925214885),\n",
            "INFO:flwr:\t              (15, 1.6938328925214885),\n",
            "\u001b[92mINFO \u001b[0m:      \t              (16, 1.8035740102732936),\n",
            "INFO:flwr:\t              (16, 1.8035740102732936),\n",
            "\u001b[92mINFO \u001b[0m:      \t              (17, 1.9127236827851721),\n",
            "INFO:flwr:\t              (17, 1.9127236827851721),\n",
            "\u001b[92mINFO \u001b[0m:      \t              (18, 1.900209161053722),\n",
            "INFO:flwr:\t              (18, 1.900209161053722),\n",
            "\u001b[92mINFO \u001b[0m:      \t              (19, 1.923471500754711),\n",
            "INFO:flwr:\t              (19, 1.923471500754711),\n",
            "\u001b[92mINFO \u001b[0m:      \t              (20, 1.8295946556395013),\n",
            "INFO:flwr:\t              (20, 1.8295946556395013),\n",
            "\u001b[92mINFO \u001b[0m:      \t              (21, 1.9393202594900727),\n",
            "INFO:flwr:\t              (21, 1.9393202594900727),\n",
            "\u001b[92mINFO \u001b[0m:      \t              (22, 1.9234571655103903),\n",
            "INFO:flwr:\t              (22, 1.9234571655103903),\n",
            "\u001b[92mINFO \u001b[0m:      \t              (23, 2.0537106707332997),\n",
            "INFO:flwr:\t              (23, 2.0537106707332997),\n",
            "\u001b[92mINFO \u001b[0m:      \t              (24, 1.9805335795419223),\n",
            "INFO:flwr:\t              (24, 1.9805335795419223),\n",
            "\u001b[92mINFO \u001b[0m:      \t              (25, 2.078535918873576),\n",
            "INFO:flwr:\t              (25, 2.078535918873576),\n",
            "\u001b[92mINFO \u001b[0m:      \t              (26, 2.0988866294877404),\n",
            "INFO:flwr:\t              (26, 2.0988866294877404),\n",
            "\u001b[92mINFO \u001b[0m:      \t              (27, 2.1196454968153278),\n",
            "INFO:flwr:\t              (27, 2.1196454968153278),\n",
            "\u001b[92mINFO \u001b[0m:      \t              (28, 2.1438667059931014),\n",
            "INFO:flwr:\t              (28, 2.1438667059931014),\n",
            "\u001b[92mINFO \u001b[0m:      \t              (29, 2.191605544441218),\n",
            "INFO:flwr:\t              (29, 2.191605544441218),\n",
            "\u001b[92mINFO \u001b[0m:      \t              (30, 2.230580830026116),\n",
            "INFO:flwr:\t              (30, 2.230580830026116),\n",
            "\u001b[92mINFO \u001b[0m:      \t              (31, 2.2951896417855777),\n",
            "INFO:flwr:\t              (31, 2.2951896417855777),\n",
            "\u001b[92mINFO \u001b[0m:      \t              (32, 2.3252523564917387),\n",
            "INFO:flwr:\t              (32, 2.3252523564917387),\n",
            "\u001b[92mINFO \u001b[0m:      \t              (33, 2.306788202670115),\n",
            "INFO:flwr:\t              (33, 2.306788202670115),\n",
            "\u001b[92mINFO \u001b[0m:      \t              (34, 2.3751305449705535),\n",
            "INFO:flwr:\t              (34, 2.3751305449705535),\n",
            "\u001b[92mINFO \u001b[0m:      \t              (35, 2.3443573676880267),\n",
            "INFO:flwr:\t              (35, 2.3443573676880267),\n",
            "\u001b[92mINFO \u001b[0m:      \t              (36, 2.524219707445546),\n",
            "INFO:flwr:\t              (36, 2.524219707445546),\n",
            "\u001b[92mINFO \u001b[0m:      \t              (37, 2.4487152953387668),\n",
            "INFO:flwr:\t              (37, 2.4487152953387668),\n",
            "\u001b[92mINFO \u001b[0m:      \t              (38, 2.514610880708106),\n",
            "INFO:flwr:\t              (38, 2.514610880708106),\n",
            "\u001b[92mINFO \u001b[0m:      \t              (39, 2.7295863758107752),\n",
            "INFO:flwr:\t              (39, 2.7295863758107752),\n",
            "\u001b[92mINFO \u001b[0m:      \t              (40, 2.6122243247427486)]}History (metrics, centralized):\n",
            "INFO:flwr:\t              (40, 2.6122243247427486)]}History (metrics, centralized):\n",
            "\u001b[92mINFO \u001b[0m:      \t{'Centralised report': [(0,\n",
            "INFO:flwr:\t{'Centralised report': [(0,\n",
            "\u001b[92mINFO \u001b[0m:      \t                         '              precision    recall  f1-score   '\n",
            "INFO:flwr:\t                         '              precision    recall  f1-score   '\n",
            "\u001b[92mINFO \u001b[0m:      \t                         'support\\n'\n",
            "INFO:flwr:\t                         'support\\n'\n",
            "\u001b[92mINFO \u001b[0m:      \t                         '\\n'\n",
            "INFO:flwr:\t                         '\\n'\n",
            "\u001b[92mINFO \u001b[0m:      \t                         '           0    0.94815   0.07082   0.13179      '\n",
            "INFO:flwr:\t                         '           0    0.94815   0.07082   0.13179      '\n",
            "\u001b[92mINFO \u001b[0m:      \t                         '7230\\n'\n",
            "INFO:flwr:\t                         '7230\\n'\n",
            "\u001b[92mINFO \u001b[0m:      \t                         '           1    0.91417   0.99961   0.95498     '\n",
            "INFO:flwr:\t                         '           1    0.91417   0.99961   0.95498     '\n",
            "\u001b[92mINFO \u001b[0m:      \t                         '71579\\n'\n",
            "INFO:flwr:\t                         '71579\\n'\n",
            "\u001b[92mINFO \u001b[0m:      \t                         '\\n'\n",
            "INFO:flwr:\t                         '\\n'\n",
            "\u001b[92mINFO \u001b[0m:      \t                         '    accuracy                        0.91440     '\n",
            "INFO:flwr:\t                         '    accuracy                        0.91440     '\n",
            "\u001b[92mINFO \u001b[0m:      \t                         '78809\\n'\n",
            "INFO:flwr:\t                         '78809\\n'\n",
            "\u001b[92mINFO \u001b[0m:      \t                         '   macro avg    0.93116   0.53521   0.54338     '\n",
            "INFO:flwr:\t                         '   macro avg    0.93116   0.53521   0.54338     '\n",
            "\u001b[92mINFO \u001b[0m:      \t                         '78809\\n'\n",
            "INFO:flwr:\t                         '78809\\n'\n",
            "\u001b[92mINFO \u001b[0m:      \t                         'weighted avg    0.91729   0.91440   0.87946     '\n",
            "INFO:flwr:\t                         'weighted avg    0.91729   0.91440   0.87946     '\n",
            "\u001b[92mINFO \u001b[0m:      \t                         '78809\\n'),\n",
            "INFO:flwr:\t                         '78809\\n'),\n",
            "\u001b[92mINFO \u001b[0m:      \t                        (1,\n",
            "INFO:flwr:\t                        (1,\n",
            "\u001b[92mINFO \u001b[0m:      \t                         '              precision    recall  f1-score   '\n",
            "INFO:flwr:\t                         '              precision    recall  f1-score   '\n",
            "\u001b[92mINFO \u001b[0m:      \t                         'support\\n'\n",
            "INFO:flwr:\t                         'support\\n'\n",
            "\u001b[92mINFO \u001b[0m:      \t                         '\\n'\n",
            "INFO:flwr:\t                         '\\n'\n",
            "\u001b[92mINFO \u001b[0m:      \t                         '           0    0.38736   0.54412   0.45255      '\n",
            "INFO:flwr:\t                         '           0    0.38736   0.54412   0.45255      '\n",
            "\u001b[92mINFO \u001b[0m:      \t                         '7230\\n'\n",
            "INFO:flwr:\t                         '7230\\n'\n",
            "\u001b[92mINFO \u001b[0m:      \t                         '           1    0.95199   0.91308   0.93213     '\n",
            "INFO:flwr:\t                         '           1    0.95199   0.91308   0.93213     '\n",
            "\u001b[92mINFO \u001b[0m:      \t                         '71579\\n'\n",
            "INFO:flwr:\t                         '71579\\n'\n",
            "\u001b[92mINFO \u001b[0m:      \t                         '\\n'\n",
            "INFO:flwr:\t                         '\\n'\n",
            "\u001b[92mINFO \u001b[0m:      \t                         '    accuracy                        0.87923     '\n",
            "INFO:flwr:\t                         '    accuracy                        0.87923     '\n",
            "\u001b[92mINFO \u001b[0m:      \t                         '78809\\n'\n",
            "INFO:flwr:\t                         '78809\\n'\n",
            "\u001b[92mINFO \u001b[0m:      \t                         '   macro avg    0.66967   0.72860   0.69234     '\n",
            "INFO:flwr:\t                         '   macro avg    0.66967   0.72860   0.69234     '\n",
            "\u001b[92mINFO \u001b[0m:      \t                         '78809\\n'\n",
            "INFO:flwr:\t                         '78809\\n'\n",
            "\u001b[92mINFO \u001b[0m:      \t                         'weighted avg    0.90019   0.87923   0.88813     '\n",
            "INFO:flwr:\t                         'weighted avg    0.90019   0.87923   0.88813     '\n",
            "\u001b[92mINFO \u001b[0m:      \t                         '78809\\n'),\n",
            "INFO:flwr:\t                         '78809\\n'),\n",
            "\u001b[92mINFO \u001b[0m:      \t                        (2,\n",
            "INFO:flwr:\t                        (2,\n",
            "\u001b[92mINFO \u001b[0m:      \t                         '              precision    recall  f1-score   '\n",
            "INFO:flwr:\t                         '              precision    recall  f1-score   '\n",
            "\u001b[92mINFO \u001b[0m:      \t                         'support\\n'\n",
            "INFO:flwr:\t                         'support\\n'\n",
            "\u001b[92mINFO \u001b[0m:      \t                         '\\n'\n",
            "INFO:flwr:\t                         '\\n'\n",
            "\u001b[92mINFO \u001b[0m:      \t                         '           0    0.33489   0.42545   0.37478      '\n",
            "INFO:flwr:\t                         '           0    0.33489   0.42545   0.37478      '\n",
            "\u001b[92mINFO \u001b[0m:      \t                         '7230\\n'\n",
            "INFO:flwr:\t                         '7230\\n'\n",
            "\u001b[92mINFO \u001b[0m:      \t                         '           1    0.94034   0.91465   0.92732     '\n",
            "INFO:flwr:\t                         '           1    0.94034   0.91465   0.92732     '\n",
            "\u001b[92mINFO \u001b[0m:      \t                         '71579\\n'\n",
            "INFO:flwr:\t                         '71579\\n'\n",
            "\u001b[92mINFO \u001b[0m:      \t                         '\\n'\n",
            "INFO:flwr:\t                         '\\n'\n",
            "\u001b[92mINFO \u001b[0m:      \t                         '    accuracy                        0.86977     '\n",
            "INFO:flwr:\t                         '    accuracy                        0.86977     '\n",
            "\u001b[92mINFO \u001b[0m:      \t                         '78809\\n'\n",
            "INFO:flwr:\t                         '78809\\n'\n",
            "\u001b[92mINFO \u001b[0m:      \t                         '   macro avg    0.63762   0.67005   0.65105     '\n",
            "INFO:flwr:\t                         '   macro avg    0.63762   0.67005   0.65105     '\n",
            "\u001b[92mINFO \u001b[0m:      \t                         '78809\\n'\n",
            "INFO:flwr:\t                         '78809\\n'\n",
            "\u001b[92mINFO \u001b[0m:      \t                         'weighted avg    0.88479   0.86977   0.87663     '\n",
            "INFO:flwr:\t                         'weighted avg    0.88479   0.86977   0.87663     '\n",
            "\u001b[92mINFO \u001b[0m:      \t                         '78809\\n'),\n",
            "INFO:flwr:\t                         '78809\\n'),\n",
            "\u001b[92mINFO \u001b[0m:      \t                        (3,\n",
            "INFO:flwr:\t                        (3,\n",
            "\u001b[92mINFO \u001b[0m:      \t                         '              precision    recall  f1-score   '\n",
            "INFO:flwr:\t                         '              precision    recall  f1-score   '\n",
            "\u001b[92mINFO \u001b[0m:      \t                         'support\\n'\n",
            "INFO:flwr:\t                         'support\\n'\n",
            "\u001b[92mINFO \u001b[0m:      \t                         '\\n'\n",
            "INFO:flwr:\t                         '\\n'\n",
            "\u001b[92mINFO \u001b[0m:      \t                         '           0    0.42533   0.62047   0.50470      '\n",
            "INFO:flwr:\t                         '           0    0.42533   0.62047   0.50470      '\n",
            "\u001b[92mINFO \u001b[0m:      \t                         '7230\\n'\n",
            "INFO:flwr:\t                         '7230\\n'\n",
            "\u001b[92mINFO \u001b[0m:      \t                         '           1    0.95980   0.91532   0.93704     '\n",
            "INFO:flwr:\t                         '           1    0.95980   0.91532   0.93704     '\n",
            "\u001b[92mINFO \u001b[0m:      \t                         '71579\\n'\n",
            "INFO:flwr:\t                         '71579\\n'\n",
            "\u001b[92mINFO \u001b[0m:      \t                         '\\n'\n",
            "INFO:flwr:\t                         '\\n'\n",
            "\u001b[92mINFO \u001b[0m:      \t                         '    accuracy                        0.88827     '\n",
            "INFO:flwr:\t                         '    accuracy                        0.88827     '\n",
            "\u001b[92mINFO \u001b[0m:      \t                         '78809\\n'\n",
            "INFO:flwr:\t                         '78809\\n'\n",
            "\u001b[92mINFO \u001b[0m:      \t                         '   macro avg    0.69257   0.76790   0.72087     '\n",
            "INFO:flwr:\t                         '   macro avg    0.69257   0.76790   0.72087     '\n",
            "\u001b[92mINFO \u001b[0m:      \t                         '78809\\n'\n",
            "INFO:flwr:\t                         '78809\\n'\n",
            "\u001b[92mINFO \u001b[0m:      \t                         'weighted avg    0.91077   0.88827   0.89737     '\n",
            "INFO:flwr:\t                         'weighted avg    0.91077   0.88827   0.89737     '\n",
            "\u001b[92mINFO \u001b[0m:      \t                         '78809\\n'),\n",
            "INFO:flwr:\t                         '78809\\n'),\n",
            "\u001b[92mINFO \u001b[0m:      \t                        (4,\n",
            "INFO:flwr:\t                        (4,\n",
            "\u001b[92mINFO \u001b[0m:      \t                         '              precision    recall  f1-score   '\n",
            "INFO:flwr:\t                         '              precision    recall  f1-score   '\n",
            "\u001b[92mINFO \u001b[0m:      \t                         'support\\n'\n",
            "INFO:flwr:\t                         'support\\n'\n",
            "\u001b[92mINFO \u001b[0m:      \t                         '\\n'\n",
            "INFO:flwr:\t                         '\\n'\n",
            "\u001b[92mINFO \u001b[0m:      \t                         '           0    0.40123   0.55934   0.46727      '\n",
            "INFO:flwr:\t                         '           0    0.40123   0.55934   0.46727      '\n",
            "\u001b[92mINFO \u001b[0m:      \t                         '7230\\n'\n",
            "INFO:flwr:\t                         '7230\\n'\n",
            "\u001b[92mINFO \u001b[0m:      \t                         '           1    0.95364   0.91569   0.93428     '\n",
            "INFO:flwr:\t                         '           1    0.95364   0.91569   0.93428     '\n",
            "\u001b[92mINFO \u001b[0m:      \t                         '71579\\n'\n",
            "INFO:flwr:\t                         '71579\\n'\n",
            "\u001b[92mINFO \u001b[0m:      \t                         '\\n'\n",
            "INFO:flwr:\t                         '\\n'\n",
            "\u001b[92mINFO \u001b[0m:      \t                         '    accuracy                        0.88300     '\n",
            "INFO:flwr:\t                         '    accuracy                        0.88300     '\n",
            "\u001b[92mINFO \u001b[0m:      \t                         '78809\\n'\n",
            "INFO:flwr:\t                         '78809\\n'\n",
            "\u001b[92mINFO \u001b[0m:      \t                         '   macro avg    0.67744   0.73751   0.70078     '\n",
            "INFO:flwr:\t                         '   macro avg    0.67744   0.73751   0.70078     '\n",
            "\u001b[92mINFO \u001b[0m:      \t                         '78809\\n'\n",
            "INFO:flwr:\t                         '78809\\n'\n",
            "\u001b[92mINFO \u001b[0m:      \t                         'weighted avg    0.90297   0.88300   0.89144     '\n",
            "INFO:flwr:\t                         'weighted avg    0.90297   0.88300   0.89144     '\n",
            "\u001b[92mINFO \u001b[0m:      \t                         '78809\\n'),\n",
            "INFO:flwr:\t                         '78809\\n'),\n",
            "\u001b[92mINFO \u001b[0m:      \t                        (5,\n",
            "INFO:flwr:\t                        (5,\n",
            "\u001b[92mINFO \u001b[0m:      \t                         '              precision    recall  f1-score   '\n",
            "INFO:flwr:\t                         '              precision    recall  f1-score   '\n",
            "\u001b[92mINFO \u001b[0m:      \t                         'support\\n'\n",
            "INFO:flwr:\t                         'support\\n'\n",
            "\u001b[92mINFO \u001b[0m:      \t                         '\\n'\n",
            "INFO:flwr:\t                         '\\n'\n",
            "\u001b[92mINFO \u001b[0m:      \t                         '           0    0.40182   0.55726   0.46694      '\n",
            "INFO:flwr:\t                         '           0    0.40182   0.55726   0.46694      '\n",
            "\u001b[92mINFO \u001b[0m:      \t                         '7230\\n'\n",
            "INFO:flwr:\t                         '7230\\n'\n",
            "\u001b[92mINFO \u001b[0m:      \t                         '           1    0.95346   0.91620   0.93446     '\n",
            "INFO:flwr:\t                         '           1    0.95346   0.91620   0.93446     '\n",
            "\u001b[92mINFO \u001b[0m:      \t                         '71579\\n'\n",
            "INFO:flwr:\t                         '71579\\n'\n",
            "\u001b[92mINFO \u001b[0m:      \t                         '\\n'\n",
            "INFO:flwr:\t                         '\\n'\n",
            "\u001b[92mINFO \u001b[0m:      \t                         '    accuracy                        0.88327     '\n",
            "INFO:flwr:\t                         '    accuracy                        0.88327     '\n",
            "\u001b[92mINFO \u001b[0m:      \t                         '78809\\n'\n",
            "INFO:flwr:\t                         '78809\\n'\n",
            "\u001b[92mINFO \u001b[0m:      \t                         '   macro avg    0.67764   0.73673   0.70070     '\n",
            "INFO:flwr:\t                         '   macro avg    0.67764   0.73673   0.70070     '\n",
            "\u001b[92mINFO \u001b[0m:      \t                         '78809\\n'\n",
            "INFO:flwr:\t                         '78809\\n'\n",
            "\u001b[92mINFO \u001b[0m:      \t                         'weighted avg    0.90285   0.88327   0.89157     '\n",
            "INFO:flwr:\t                         'weighted avg    0.90285   0.88327   0.89157     '\n",
            "\u001b[92mINFO \u001b[0m:      \t                         '78809\\n'),\n",
            "INFO:flwr:\t                         '78809\\n'),\n",
            "\u001b[92mINFO \u001b[0m:      \t                        (6,\n",
            "INFO:flwr:\t                        (6,\n",
            "\u001b[92mINFO \u001b[0m:      \t                         '              precision    recall  f1-score   '\n",
            "INFO:flwr:\t                         '              precision    recall  f1-score   '\n",
            "\u001b[92mINFO \u001b[0m:      \t                         'support\\n'\n",
            "INFO:flwr:\t                         'support\\n'\n",
            "\u001b[92mINFO \u001b[0m:      \t                         '\\n'\n",
            "INFO:flwr:\t                         '\\n'\n",
            "\u001b[92mINFO \u001b[0m:      \t                         '           0    0.39829   0.54869   0.46155      '\n",
            "INFO:flwr:\t                         '           0    0.39829   0.54869   0.46155      '\n",
            "\u001b[92mINFO \u001b[0m:      \t                         '7230\\n'\n",
            "INFO:flwr:\t                         '7230\\n'\n",
            "\u001b[92mINFO \u001b[0m:      \t                         '           1    0.95261   0.91627   0.93409     '\n",
            "INFO:flwr:\t                         '           1    0.95261   0.91627   0.93409     '\n",
            "\u001b[92mINFO \u001b[0m:      \t                         '71579\\n'\n",
            "INFO:flwr:\t                         '71579\\n'\n",
            "\u001b[92mINFO \u001b[0m:      \t                         '\\n'\n",
            "INFO:flwr:\t                         '\\n'\n",
            "\u001b[92mINFO \u001b[0m:      \t                         '    accuracy                        0.88255     '\n",
            "INFO:flwr:\t                         '    accuracy                        0.88255     '\n",
            "\u001b[92mINFO \u001b[0m:      \t                         '78809\\n'\n",
            "INFO:flwr:\t                         '78809\\n'\n",
            "\u001b[92mINFO \u001b[0m:      \t                         '   macro avg    0.67545   0.73248   0.69782     '\n",
            "INFO:flwr:\t                         '   macro avg    0.67545   0.73248   0.69782     '\n",
            "\u001b[92mINFO \u001b[0m:      \t                         '78809\\n'\n",
            "INFO:flwr:\t                         '78809\\n'\n",
            "\u001b[92mINFO \u001b[0m:      \t                         'weighted avg    0.90175   0.88255   0.89074     '\n",
            "INFO:flwr:\t                         'weighted avg    0.90175   0.88255   0.89074     '\n",
            "\u001b[92mINFO \u001b[0m:      \t                         '78809\\n'),\n",
            "INFO:flwr:\t                         '78809\\n'),\n",
            "\u001b[92mINFO \u001b[0m:      \t                        (7,\n",
            "INFO:flwr:\t                        (7,\n",
            "\u001b[92mINFO \u001b[0m:      \t                         '              precision    recall  f1-score   '\n",
            "INFO:flwr:\t                         '              precision    recall  f1-score   '\n",
            "\u001b[92mINFO \u001b[0m:      \t                         'support\\n'\n",
            "INFO:flwr:\t                         'support\\n'\n",
            "\u001b[92mINFO \u001b[0m:      \t                         '\\n'\n",
            "INFO:flwr:\t                         '\\n'\n",
            "\u001b[92mINFO \u001b[0m:      \t                         '           0    0.40173   0.55920   0.46756      '\n",
            "INFO:flwr:\t                         '           0    0.40173   0.55920   0.46756      '\n",
            "\u001b[92mINFO \u001b[0m:      \t                         '7230\\n'\n",
            "INFO:flwr:\t                         '7230\\n'\n",
            "\u001b[92mINFO \u001b[0m:      \t                         '           1    0.95364   0.91588   0.93438     '\n",
            "INFO:flwr:\t                         '           1    0.95364   0.91588   0.93438     '\n",
            "\u001b[92mINFO \u001b[0m:      \t                         '71579\\n'\n",
            "INFO:flwr:\t                         '71579\\n'\n",
            "\u001b[92mINFO \u001b[0m:      \t                         '\\n'\n",
            "INFO:flwr:\t                         '\\n'\n",
            "\u001b[92mINFO \u001b[0m:      \t                         '    accuracy                        0.88316     '\n",
            "INFO:flwr:\t                         '    accuracy                        0.88316     '\n",
            "\u001b[92mINFO \u001b[0m:      \t                         '78809\\n'\n",
            "INFO:flwr:\t                         '78809\\n'\n",
            "\u001b[92mINFO \u001b[0m:      \t                         '   macro avg    0.67768   0.73754   0.70097     '\n",
            "INFO:flwr:\t                         '   macro avg    0.67768   0.73754   0.70097     '\n",
            "\u001b[92mINFO \u001b[0m:      \t                         '78809\\n'\n",
            "INFO:flwr:\t                         '78809\\n'\n",
            "\u001b[92mINFO \u001b[0m:      \t                         'weighted avg    0.90301   0.88316   0.89155     '\n",
            "INFO:flwr:\t                         'weighted avg    0.90301   0.88316   0.89155     '\n",
            "\u001b[92mINFO \u001b[0m:      \t                         '78809\\n'),\n",
            "INFO:flwr:\t                         '78809\\n'),\n",
            "\u001b[92mINFO \u001b[0m:      \t                        (8,\n",
            "INFO:flwr:\t                        (8,\n",
            "\u001b[92mINFO \u001b[0m:      \t                         '              precision    recall  f1-score   '\n",
            "INFO:flwr:\t                         '              precision    recall  f1-score   '\n",
            "\u001b[92mINFO \u001b[0m:      \t                         'support\\n'\n",
            "INFO:flwr:\t                         'support\\n'\n",
            "\u001b[92mINFO \u001b[0m:      \t                         '\\n'\n",
            "INFO:flwr:\t                         '\\n'\n",
            "\u001b[92mINFO \u001b[0m:      \t                         '           0    0.40930   0.57732   0.47900      '\n",
            "INFO:flwr:\t                         '           0    0.40930   0.57732   0.47900      '\n",
            "\u001b[92mINFO \u001b[0m:      \t                         '7230\\n'\n",
            "INFO:flwr:\t                         '7230\\n'\n",
            "\u001b[92mINFO \u001b[0m:      \t                         '           1    0.95546   0.91584   0.93523     '\n",
            "INFO:flwr:\t                         '           1    0.95546   0.91584   0.93523     '\n",
            "\u001b[92mINFO \u001b[0m:      \t                         '71579\\n'\n",
            "INFO:flwr:\t                         '71579\\n'\n",
            "\u001b[92mINFO \u001b[0m:      \t                         '\\n'\n",
            "INFO:flwr:\t                         '\\n'\n",
            "\u001b[92mINFO \u001b[0m:      \t                         '    accuracy                        0.88478     '\n",
            "INFO:flwr:\t                         '    accuracy                        0.88478     '\n",
            "\u001b[92mINFO \u001b[0m:      \t                         '78809\\n'\n",
            "INFO:flwr:\t                         '78809\\n'\n",
            "\u001b[92mINFO \u001b[0m:      \t                         '   macro avg    0.68238   0.74658   0.70712     '\n",
            "INFO:flwr:\t                         '   macro avg    0.68238   0.74658   0.70712     '\n",
            "\u001b[92mINFO \u001b[0m:      \t                         '78809\\n'\n",
            "INFO:flwr:\t                         '78809\\n'\n",
            "\u001b[92mINFO \u001b[0m:      \t                         'weighted avg    0.90535   0.88478   0.89338     '\n",
            "INFO:flwr:\t                         'weighted avg    0.90535   0.88478   0.89338     '\n",
            "\u001b[92mINFO \u001b[0m:      \t                         '78809\\n'),\n",
            "INFO:flwr:\t                         '78809\\n'),\n",
            "\u001b[92mINFO \u001b[0m:      \t                        (9,\n",
            "INFO:flwr:\t                        (9,\n",
            "\u001b[92mINFO \u001b[0m:      \t                         '              precision    recall  f1-score   '\n",
            "INFO:flwr:\t                         '              precision    recall  f1-score   '\n",
            "\u001b[92mINFO \u001b[0m:      \t                         'support\\n'\n",
            "INFO:flwr:\t                         'support\\n'\n",
            "\u001b[92mINFO \u001b[0m:      \t                         '\\n'\n",
            "INFO:flwr:\t                         '\\n'\n",
            "\u001b[92mINFO \u001b[0m:      \t                         '           0    0.41932   0.58008   0.48677      '\n",
            "INFO:flwr:\t                         '           0    0.41932   0.58008   0.48677      '\n",
            "\u001b[92mINFO \u001b[0m:      \t                         '7230\\n'\n",
            "INFO:flwr:\t                         '7230\\n'\n",
            "\u001b[92mINFO \u001b[0m:      \t                         '           1    0.95588   0.91886   0.93700     '\n",
            "INFO:flwr:\t                         '           1    0.95588   0.91886   0.93700     '\n",
            "\u001b[92mINFO \u001b[0m:      \t                         '71579\\n'\n",
            "INFO:flwr:\t                         '71579\\n'\n",
            "\u001b[92mINFO \u001b[0m:      \t                         '\\n'\n",
            "INFO:flwr:\t                         '\\n'\n",
            "\u001b[92mINFO \u001b[0m:      \t                         '    accuracy                        0.88778     '\n",
            "INFO:flwr:\t                         '    accuracy                        0.88778     '\n",
            "\u001b[92mINFO \u001b[0m:      \t                         '78809\\n'\n",
            "INFO:flwr:\t                         '78809\\n'\n",
            "\u001b[92mINFO \u001b[0m:      \t                         '   macro avg    0.68760   0.74947   0.71189     '\n",
            "INFO:flwr:\t                         '   macro avg    0.68760   0.74947   0.71189     '\n",
            "\u001b[92mINFO \u001b[0m:      \t                         '78809\\n'\n",
            "INFO:flwr:\t                         '78809\\n'\n",
            "\u001b[92mINFO \u001b[0m:      \t                         'weighted avg    0.90665   0.88778   0.89570     '\n",
            "INFO:flwr:\t                         'weighted avg    0.90665   0.88778   0.89570     '\n",
            "\u001b[92mINFO \u001b[0m:      \t                         '78809\\n'),\n",
            "INFO:flwr:\t                         '78809\\n'),\n",
            "\u001b[92mINFO \u001b[0m:      \t                        (10,\n",
            "INFO:flwr:\t                        (10,\n",
            "\u001b[92mINFO \u001b[0m:      \t                         '              precision    recall  f1-score   '\n",
            "INFO:flwr:\t                         '              precision    recall  f1-score   '\n",
            "\u001b[92mINFO \u001b[0m:      \t                         'support\\n'\n",
            "INFO:flwr:\t                         'support\\n'\n",
            "\u001b[92mINFO \u001b[0m:      \t                         '\\n'\n",
            "INFO:flwr:\t                         '\\n'\n",
            "\u001b[92mINFO \u001b[0m:      \t                         '           0    0.40784   0.57261   0.47638      '\n",
            "INFO:flwr:\t                         '           0    0.40784   0.57261   0.47638      '\n",
            "\u001b[92mINFO \u001b[0m:      \t                         '7230\\n'\n",
            "INFO:flwr:\t                         '7230\\n'\n",
            "\u001b[92mINFO \u001b[0m:      \t                         '           1    0.95499   0.91602   0.93510     '\n",
            "INFO:flwr:\t                         '           1    0.95499   0.91602   0.93510     '\n",
            "\u001b[92mINFO \u001b[0m:      \t                         '71579\\n'\n",
            "INFO:flwr:\t                         '71579\\n'\n",
            "\u001b[92mINFO \u001b[0m:      \t                         '\\n'\n",
            "INFO:flwr:\t                         '\\n'\n",
            "\u001b[92mINFO \u001b[0m:      \t                         '    accuracy                        0.88452     '\n",
            "INFO:flwr:\t                         '    accuracy                        0.88452     '\n",
            "\u001b[92mINFO \u001b[0m:      \t                         '78809\\n'\n",
            "INFO:flwr:\t                         '78809\\n'\n",
            "\u001b[92mINFO \u001b[0m:      \t                         '   macro avg    0.68142   0.74432   0.70574     '\n",
            "INFO:flwr:\t                         '   macro avg    0.68142   0.74432   0.70574     '\n",
            "\u001b[92mINFO \u001b[0m:      \t                         '78809\\n'\n",
            "INFO:flwr:\t                         '78809\\n'\n",
            "\u001b[92mINFO \u001b[0m:      \t                         'weighted avg    0.90480   0.88452   0.89302     '\n",
            "INFO:flwr:\t                         'weighted avg    0.90480   0.88452   0.89302     '\n",
            "\u001b[92mINFO \u001b[0m:      \t                         '78809\\n'),\n",
            "INFO:flwr:\t                         '78809\\n'),\n",
            "\u001b[92mINFO \u001b[0m:      \t                        (11,\n",
            "INFO:flwr:\t                        (11,\n",
            "\u001b[92mINFO \u001b[0m:      \t                         '              precision    recall  f1-score   '\n",
            "INFO:flwr:\t                         '              precision    recall  f1-score   '\n",
            "\u001b[92mINFO \u001b[0m:      \t                         'support\\n'\n",
            "INFO:flwr:\t                         'support\\n'\n",
            "\u001b[92mINFO \u001b[0m:      \t                         '\\n'\n",
            "INFO:flwr:\t                         '\\n'\n",
            "\u001b[92mINFO \u001b[0m:      \t                         '           0    0.41230   0.58396   0.48334      '\n",
            "INFO:flwr:\t                         '           0    0.41230   0.58396   0.48334      '\n",
            "\u001b[92mINFO \u001b[0m:      \t                         '7230\\n'\n",
            "INFO:flwr:\t                         '7230\\n'\n",
            "\u001b[92mINFO \u001b[0m:      \t                         '           1    0.95613   0.91593   0.93560     '\n",
            "INFO:flwr:\t                         '           1    0.95613   0.91593   0.93560     '\n",
            "\u001b[92mINFO \u001b[0m:      \t                         '71579\\n'\n",
            "INFO:flwr:\t                         '71579\\n'\n",
            "\u001b[92mINFO \u001b[0m:      \t                         '\\n'\n",
            "INFO:flwr:\t                         '\\n'\n",
            "\u001b[92mINFO \u001b[0m:      \t                         '    accuracy                        0.88547     '\n",
            "INFO:flwr:\t                         '    accuracy                        0.88547     '\n",
            "\u001b[92mINFO \u001b[0m:      \t                         '78809\\n'\n",
            "INFO:flwr:\t                         '78809\\n'\n",
            "\u001b[92mINFO \u001b[0m:      \t                         '   macro avg    0.68422   0.74994   0.70947     '\n",
            "INFO:flwr:\t                         '   macro avg    0.68422   0.74994   0.70947     '\n",
            "\u001b[92mINFO \u001b[0m:      \t                         '78809\\n'\n",
            "INFO:flwr:\t                         '78809\\n'\n",
            "\u001b[92mINFO \u001b[0m:      \t                         'weighted avg    0.90624   0.88547   0.89411     '\n",
            "INFO:flwr:\t                         'weighted avg    0.90624   0.88547   0.89411     '\n",
            "\u001b[92mINFO \u001b[0m:      \t                         '78809\\n'),\n",
            "INFO:flwr:\t                         '78809\\n'),\n",
            "\u001b[92mINFO \u001b[0m:      \t                        (12,\n",
            "INFO:flwr:\t                        (12,\n",
            "\u001b[92mINFO \u001b[0m:      \t                         '              precision    recall  f1-score   '\n",
            "INFO:flwr:\t                         '              precision    recall  f1-score   '\n",
            "\u001b[92mINFO \u001b[0m:      \t                         'support\\n'\n",
            "INFO:flwr:\t                         'support\\n'\n",
            "\u001b[92mINFO \u001b[0m:      \t                         '\\n'\n",
            "INFO:flwr:\t                         '\\n'\n",
            "\u001b[92mINFO \u001b[0m:      \t                         '           0    0.42137   0.56404   0.48238      '\n",
            "INFO:flwr:\t                         '           0    0.42137   0.56404   0.48238      '\n",
            "\u001b[92mINFO \u001b[0m:      \t                         '7230\\n'\n",
            "INFO:flwr:\t                         '7230\\n'\n",
            "\u001b[92mINFO \u001b[0m:      \t                         '           1    0.95441   0.92176   0.93780     '\n",
            "INFO:flwr:\t                         '           1    0.95441   0.92176   0.93780     '\n",
            "\u001b[92mINFO \u001b[0m:      \t                         '71579\\n'\n",
            "INFO:flwr:\t                         '71579\\n'\n",
            "\u001b[92mINFO \u001b[0m:      \t                         '\\n'\n",
            "INFO:flwr:\t                         '\\n'\n",
            "\u001b[92mINFO \u001b[0m:      \t                         '    accuracy                        0.88895     '\n",
            "INFO:flwr:\t                         '    accuracy                        0.88895     '\n",
            "\u001b[92mINFO \u001b[0m:      \t                         '78809\\n'\n",
            "INFO:flwr:\t                         '78809\\n'\n",
            "\u001b[92mINFO \u001b[0m:      \t                         '   macro avg    0.68789   0.74290   0.71009     '\n",
            "INFO:flwr:\t                         '   macro avg    0.68789   0.74290   0.71009     '\n",
            "\u001b[92mINFO \u001b[0m:      \t                         '78809\\n'\n",
            "INFO:flwr:\t                         '78809\\n'\n",
            "\u001b[92mINFO \u001b[0m:      \t                         'weighted avg    0.90550   0.88895   0.89602     '\n",
            "INFO:flwr:\t                         'weighted avg    0.90550   0.88895   0.89602     '\n",
            "\u001b[92mINFO \u001b[0m:      \t                         '78809\\n'),\n",
            "INFO:flwr:\t                         '78809\\n'),\n",
            "\u001b[92mINFO \u001b[0m:      \t                        (13,\n",
            "INFO:flwr:\t                        (13,\n",
            "\u001b[92mINFO \u001b[0m:      \t                         '              precision    recall  f1-score   '\n",
            "INFO:flwr:\t                         '              precision    recall  f1-score   '\n",
            "\u001b[92mINFO \u001b[0m:      \t                         'support\\n'\n",
            "INFO:flwr:\t                         'support\\n'\n",
            "\u001b[92mINFO \u001b[0m:      \t                         '\\n'\n",
            "INFO:flwr:\t                         '\\n'\n",
            "\u001b[92mINFO \u001b[0m:      \t                         '           0    0.42361   0.58409   0.49108      '\n",
            "INFO:flwr:\t                         '           0    0.42361   0.58409   0.49108      '\n",
            "\u001b[92mINFO \u001b[0m:      \t                         '7230\\n'\n",
            "INFO:flwr:\t                         '7230\\n'\n",
            "\u001b[92mINFO \u001b[0m:      \t                         '           1    0.95632   0.91973   0.93767     '\n",
            "INFO:flwr:\t                         '           1    0.95632   0.91973   0.93767     '\n",
            "\u001b[92mINFO \u001b[0m:      \t                         '71579\\n'\n",
            "INFO:flwr:\t                         '71579\\n'\n",
            "\u001b[92mINFO \u001b[0m:      \t                         '\\n'\n",
            "INFO:flwr:\t                         '\\n'\n",
            "\u001b[92mINFO \u001b[0m:      \t                         '    accuracy                        0.88893     '\n",
            "INFO:flwr:\t                         '    accuracy                        0.88893     '\n",
            "\u001b[92mINFO \u001b[0m:      \t                         '78809\\n'\n",
            "INFO:flwr:\t                         '78809\\n'\n",
            "\u001b[92mINFO \u001b[0m:      \t                         '   macro avg    0.68997   0.75191   0.71437     '\n",
            "INFO:flwr:\t                         '   macro avg    0.68997   0.75191   0.71437     '\n",
            "\u001b[92mINFO \u001b[0m:      \t                         '78809\\n'\n",
            "INFO:flwr:\t                         '78809\\n'\n",
            "\u001b[92mINFO \u001b[0m:      \t                         'weighted avg    0.90745   0.88893   0.89669     '\n",
            "INFO:flwr:\t                         'weighted avg    0.90745   0.88893   0.89669     '\n",
            "\u001b[92mINFO \u001b[0m:      \t                         '78809\\n'),\n",
            "INFO:flwr:\t                         '78809\\n'),\n",
            "\u001b[92mINFO \u001b[0m:      \t                        (14,\n",
            "INFO:flwr:\t                        (14,\n",
            "\u001b[92mINFO \u001b[0m:      \t                         '              precision    recall  f1-score   '\n",
            "INFO:flwr:\t                         '              precision    recall  f1-score   '\n",
            "\u001b[92mINFO \u001b[0m:      \t                         'support\\n'\n",
            "INFO:flwr:\t                         'support\\n'\n",
            "\u001b[92mINFO \u001b[0m:      \t                         '\\n'\n",
            "INFO:flwr:\t                         '\\n'\n",
            "\u001b[92mINFO \u001b[0m:      \t                         '           0    0.43299   0.59115   0.49985      '\n",
            "INFO:flwr:\t                         '           0    0.43299   0.59115   0.49985      '\n",
            "\u001b[92mINFO \u001b[0m:      \t                         '7230\\n'\n",
            "INFO:flwr:\t                         '7230\\n'\n",
            "\u001b[92mINFO \u001b[0m:      \t                         '           1    0.95712   0.92181   0.93913     '\n",
            "INFO:flwr:\t                         '           1    0.95712   0.92181   0.93913     '\n",
            "\u001b[92mINFO \u001b[0m:      \t                         '71579\\n'\n",
            "INFO:flwr:\t                         '71579\\n'\n",
            "\u001b[92mINFO \u001b[0m:      \t                         '\\n'\n",
            "INFO:flwr:\t                         '\\n'\n",
            "\u001b[92mINFO \u001b[0m:      \t                         '    accuracy                        0.89147     '\n",
            "INFO:flwr:\t                         '    accuracy                        0.89147     '\n",
            "\u001b[92mINFO \u001b[0m:      \t                         '78809\\n'\n",
            "INFO:flwr:\t                         '78809\\n'\n",
            "\u001b[92mINFO \u001b[0m:      \t                         '   macro avg    0.69505   0.75648   0.71949     '\n",
            "INFO:flwr:\t                         '   macro avg    0.69505   0.75648   0.71949     '\n",
            "\u001b[92mINFO \u001b[0m:      \t                         '78809\\n'\n",
            "INFO:flwr:\t                         '78809\\n'\n",
            "\u001b[92mINFO \u001b[0m:      \t                         'weighted avg    0.90904   0.89147   0.89883     '\n",
            "INFO:flwr:\t                         'weighted avg    0.90904   0.89147   0.89883     '\n",
            "\u001b[92mINFO \u001b[0m:      \t                         '78809\\n'),\n",
            "INFO:flwr:\t                         '78809\\n'),\n",
            "\u001b[92mINFO \u001b[0m:      \t                        (15,\n",
            "INFO:flwr:\t                        (15,\n",
            "\u001b[92mINFO \u001b[0m:      \t                         '              precision    recall  f1-score   '\n",
            "INFO:flwr:\t                         '              precision    recall  f1-score   '\n",
            "\u001b[92mINFO \u001b[0m:      \t                         'support\\n'\n",
            "INFO:flwr:\t                         'support\\n'\n",
            "\u001b[92mINFO \u001b[0m:      \t                         '\\n'\n",
            "INFO:flwr:\t                         '\\n'\n",
            "\u001b[92mINFO \u001b[0m:      \t                         '           0    0.90300   0.57815   0.70495      '\n",
            "INFO:flwr:\t                         '           0    0.90300   0.57815   0.70495      '\n",
            "\u001b[92mINFO \u001b[0m:      \t                         '7230\\n'\n",
            "INFO:flwr:\t                         '7230\\n'\n",
            "\u001b[92mINFO \u001b[0m:      \t                         '           1    0.95888   0.99373   0.97599     '\n",
            "INFO:flwr:\t                         '           1    0.95888   0.99373   0.97599     '\n",
            "\u001b[92mINFO \u001b[0m:      \t                         '71579\\n'\n",
            "INFO:flwr:\t                         '71579\\n'\n",
            "\u001b[92mINFO \u001b[0m:      \t                         '\\n'\n",
            "INFO:flwr:\t                         '\\n'\n",
            "\u001b[92mINFO \u001b[0m:      \t                         '    accuracy                        0.95560     '\n",
            "INFO:flwr:\t                         '    accuracy                        0.95560     '\n",
            "\u001b[92mINFO \u001b[0m:      \t                         '78809\\n'\n",
            "INFO:flwr:\t                         '78809\\n'\n",
            "\u001b[92mINFO \u001b[0m:      \t                         '   macro avg    0.93094   0.78594   0.84047     '\n",
            "INFO:flwr:\t                         '   macro avg    0.93094   0.78594   0.84047     '\n",
            "\u001b[92mINFO \u001b[0m:      \t                         '78809\\n'\n",
            "INFO:flwr:\t                         '78809\\n'\n",
            "\u001b[92mINFO \u001b[0m:      \t                         'weighted avg    0.95376   0.95560   0.95113     '\n",
            "INFO:flwr:\t                         'weighted avg    0.95376   0.95560   0.95113     '\n",
            "\u001b[92mINFO \u001b[0m:      \t                         '78809\\n'),\n",
            "INFO:flwr:\t                         '78809\\n'),\n",
            "\u001b[92mINFO \u001b[0m:      \t                        (16,\n",
            "INFO:flwr:\t                        (16,\n",
            "\u001b[92mINFO \u001b[0m:      \t                         '              precision    recall  f1-score   '\n",
            "INFO:flwr:\t                         '              precision    recall  f1-score   '\n",
            "\u001b[92mINFO \u001b[0m:      \t                         'support\\n'\n",
            "INFO:flwr:\t                         'support\\n'\n",
            "\u001b[92mINFO \u001b[0m:      \t                         '\\n'\n",
            "INFO:flwr:\t                         '\\n'\n",
            "\u001b[92mINFO \u001b[0m:      \t                         '           0    0.98038   0.58755   0.73476      '\n",
            "INFO:flwr:\t                         '           0    0.98038   0.58755   0.73476      '\n",
            "\u001b[92mINFO \u001b[0m:      \t                         '7230\\n'\n",
            "INFO:flwr:\t                         '7230\\n'\n",
            "\u001b[92mINFO \u001b[0m:      \t                         '           1    0.95996   0.99881   0.97900     '\n",
            "INFO:flwr:\t                         '           1    0.95996   0.99881   0.97900     '\n",
            "\u001b[92mINFO \u001b[0m:      \t                         '71579\\n'\n",
            "INFO:flwr:\t                         '71579\\n'\n",
            "\u001b[92mINFO \u001b[0m:      \t                         '\\n'\n",
            "INFO:flwr:\t                         '\\n'\n",
            "\u001b[92mINFO \u001b[0m:      \t                         '    accuracy                        0.96108     '\n",
            "INFO:flwr:\t                         '    accuracy                        0.96108     '\n",
            "\u001b[92mINFO \u001b[0m:      \t                         '78809\\n'\n",
            "INFO:flwr:\t                         '78809\\n'\n",
            "\u001b[92mINFO \u001b[0m:      \t                         '   macro avg    0.97017   0.79318   0.85688     '\n",
            "INFO:flwr:\t                         '   macro avg    0.97017   0.79318   0.85688     '\n",
            "\u001b[92mINFO \u001b[0m:      \t                         '78809\\n'\n",
            "INFO:flwr:\t                         '78809\\n'\n",
            "\u001b[92mINFO \u001b[0m:      \t                         'weighted avg    0.96183   0.96108   0.95659     '\n",
            "INFO:flwr:\t                         'weighted avg    0.96183   0.96108   0.95659     '\n",
            "\u001b[92mINFO \u001b[0m:      \t                         '78809\\n'),\n",
            "INFO:flwr:\t                         '78809\\n'),\n",
            "\u001b[92mINFO \u001b[0m:      \t                        (17,\n",
            "INFO:flwr:\t                        (17,\n",
            "\u001b[92mINFO \u001b[0m:      \t                         '              precision    recall  f1-score   '\n",
            "INFO:flwr:\t                         '              precision    recall  f1-score   '\n",
            "\u001b[92mINFO \u001b[0m:      \t                         'support\\n'\n",
            "INFO:flwr:\t                         'support\\n'\n",
            "\u001b[92mINFO \u001b[0m:      \t                         '\\n'\n",
            "INFO:flwr:\t                         '\\n'\n",
            "\u001b[92mINFO \u001b[0m:      \t                         '           0    0.98615   0.56141   0.71549      '\n",
            "INFO:flwr:\t                         '           0    0.98615   0.56141   0.71549      '\n",
            "\u001b[92mINFO \u001b[0m:      \t                         '7230\\n'\n",
            "INFO:flwr:\t                         '7230\\n'\n",
            "\u001b[92mINFO \u001b[0m:      \t                         '           1    0.95755   0.99920   0.97793     '\n",
            "INFO:flwr:\t                         '           1    0.95755   0.99920   0.97793     '\n",
            "\u001b[92mINFO \u001b[0m:      \t                         '71579\\n'\n",
            "INFO:flwr:\t                         '71579\\n'\n",
            "\u001b[92mINFO \u001b[0m:      \t                         '\\n'\n",
            "INFO:flwr:\t                         '\\n'\n",
            "\u001b[92mINFO \u001b[0m:      \t                         '    accuracy                        0.95904     '\n",
            "INFO:flwr:\t                         '    accuracy                        0.95904     '\n",
            "\u001b[92mINFO \u001b[0m:      \t                         '78809\\n'\n",
            "INFO:flwr:\t                         '78809\\n'\n",
            "\u001b[92mINFO \u001b[0m:      \t                         '   macro avg    0.97185   0.78031   0.84671     '\n",
            "INFO:flwr:\t                         '   macro avg    0.97185   0.78031   0.84671     '\n",
            "\u001b[92mINFO \u001b[0m:      \t                         '78809\\n'\n",
            "INFO:flwr:\t                         '78809\\n'\n",
            "\u001b[92mINFO \u001b[0m:      \t                         'weighted avg    0.96017   0.95904   0.95386     '\n",
            "INFO:flwr:\t                         'weighted avg    0.96017   0.95904   0.95386     '\n",
            "\u001b[92mINFO \u001b[0m:      \t                         '78809\\n'),\n",
            "INFO:flwr:\t                         '78809\\n'),\n",
            "\u001b[92mINFO \u001b[0m:      \t                        (18,\n",
            "INFO:flwr:\t                        (18,\n",
            "\u001b[92mINFO \u001b[0m:      \t                         '              precision    recall  f1-score   '\n",
            "INFO:flwr:\t                         '              precision    recall  f1-score   '\n",
            "\u001b[92mINFO \u001b[0m:      \t                         'support\\n'\n",
            "INFO:flwr:\t                         'support\\n'\n",
            "\u001b[92mINFO \u001b[0m:      \t                         '\\n'\n",
            "INFO:flwr:\t                         '\\n'\n",
            "\u001b[92mINFO \u001b[0m:      \t                         '           0    0.98931   0.57607   0.72815      '\n",
            "INFO:flwr:\t                         '           0    0.98931   0.57607   0.72815      '\n",
            "\u001b[92mINFO \u001b[0m:      \t                         '7230\\n'\n",
            "INFO:flwr:\t                         '7230\\n'\n",
            "\u001b[92mINFO \u001b[0m:      \t                         '           1    0.95891   0.99937   0.97872     '\n",
            "INFO:flwr:\t                         '           1    0.95891   0.99937   0.97872     '\n",
            "\u001b[92mINFO \u001b[0m:      \t                         '71579\\n'\n",
            "INFO:flwr:\t                         '71579\\n'\n",
            "\u001b[92mINFO \u001b[0m:      \t                         '\\n'\n",
            "INFO:flwr:\t                         '\\n'\n",
            "\u001b[92mINFO \u001b[0m:      \t                         '    accuracy                        0.96054     '\n",
            "INFO:flwr:\t                         '    accuracy                        0.96054     '\n",
            "\u001b[92mINFO \u001b[0m:      \t                         '78809\\n'\n",
            "INFO:flwr:\t                         '78809\\n'\n",
            "\u001b[92mINFO \u001b[0m:      \t                         '   macro avg    0.97411   0.78772   0.85344     '\n",
            "INFO:flwr:\t                         '   macro avg    0.97411   0.78772   0.85344     '\n",
            "\u001b[92mINFO \u001b[0m:      \t                         '78809\\n'\n",
            "INFO:flwr:\t                         '78809\\n'\n",
            "\u001b[92mINFO \u001b[0m:      \t                         'weighted avg    0.96170   0.96054   0.95574     '\n",
            "INFO:flwr:\t                         'weighted avg    0.96170   0.96054   0.95574     '\n",
            "\u001b[92mINFO \u001b[0m:      \t                         '78809\\n'),\n",
            "INFO:flwr:\t                         '78809\\n'),\n",
            "\u001b[92mINFO \u001b[0m:      \t                        (19,\n",
            "INFO:flwr:\t                        (19,\n",
            "\u001b[92mINFO \u001b[0m:      \t                         '              precision    recall  f1-score   '\n",
            "INFO:flwr:\t                         '              precision    recall  f1-score   '\n",
            "\u001b[92mINFO \u001b[0m:      \t                         'support\\n'\n",
            "INFO:flwr:\t                         'support\\n'\n",
            "\u001b[92mINFO \u001b[0m:      \t                         '\\n'\n",
            "INFO:flwr:\t                         '\\n'\n",
            "\u001b[92mINFO \u001b[0m:      \t                         '           0    0.99009   0.56639   0.72057      '\n",
            "INFO:flwr:\t                         '           0    0.99009   0.56639   0.72057      '\n",
            "\u001b[92mINFO \u001b[0m:      \t                         '7230\\n'\n",
            "INFO:flwr:\t                         '7230\\n'\n",
            "\u001b[92mINFO \u001b[0m:      \t                         '           1    0.95802   0.99943   0.97828     '\n",
            "INFO:flwr:\t                         '           1    0.95802   0.99943   0.97828     '\n",
            "\u001b[92mINFO \u001b[0m:      \t                         '71579\\n'\n",
            "INFO:flwr:\t                         '71579\\n'\n",
            "\u001b[92mINFO \u001b[0m:      \t                         '\\n'\n",
            "INFO:flwr:\t                         '\\n'\n",
            "\u001b[92mINFO \u001b[0m:      \t                         '    accuracy                        0.95970     '\n",
            "INFO:flwr:\t                         '    accuracy                        0.95970     '\n",
            "\u001b[92mINFO \u001b[0m:      \t                         '78809\\n'\n",
            "INFO:flwr:\t                         '78809\\n'\n",
            "\u001b[92mINFO \u001b[0m:      \t                         '   macro avg    0.97405   0.78291   0.84943     '\n",
            "INFO:flwr:\t                         '   macro avg    0.97405   0.78291   0.84943     '\n",
            "\u001b[92mINFO \u001b[0m:      \t                         '78809\\n'\n",
            "INFO:flwr:\t                         '78809\\n'\n",
            "\u001b[92mINFO \u001b[0m:      \t                         'weighted avg    0.96096   0.95970   0.95464     '\n",
            "INFO:flwr:\t                         'weighted avg    0.96096   0.95970   0.95464     '\n",
            "\u001b[92mINFO \u001b[0m:      \t                         '78809\\n'),\n",
            "INFO:flwr:\t                         '78809\\n'),\n",
            "\u001b[92mINFO \u001b[0m:      \t                        (20,\n",
            "INFO:flwr:\t                        (20,\n",
            "\u001b[92mINFO \u001b[0m:      \t                         '              precision    recall  f1-score   '\n",
            "INFO:flwr:\t                         '              precision    recall  f1-score   '\n",
            "\u001b[92mINFO \u001b[0m:      \t                         'support\\n'\n",
            "INFO:flwr:\t                         'support\\n'\n",
            "\u001b[92mINFO \u001b[0m:      \t                         '\\n'\n",
            "INFO:flwr:\t                         '\\n'\n",
            "\u001b[92mINFO \u001b[0m:      \t                         '           0    0.99035   0.58216   0.73328      '\n",
            "INFO:flwr:\t                         '           0    0.99035   0.58216   0.73328      '\n",
            "\u001b[92mINFO \u001b[0m:      \t                         '7230\\n'\n",
            "INFO:flwr:\t                         '7230\\n'\n",
            "\u001b[92mINFO \u001b[0m:      \t                         '           1    0.95948   0.99943   0.97905     '\n",
            "INFO:flwr:\t                         '           1    0.95948   0.99943   0.97905     '\n",
            "\u001b[92mINFO \u001b[0m:      \t                         '71579\\n'\n",
            "INFO:flwr:\t                         '71579\\n'\n",
            "\u001b[92mINFO \u001b[0m:      \t                         '\\n'\n",
            "INFO:flwr:\t                         '\\n'\n",
            "\u001b[92mINFO \u001b[0m:      \t                         '    accuracy                        0.96115     '\n",
            "INFO:flwr:\t                         '    accuracy                        0.96115     '\n",
            "\u001b[92mINFO \u001b[0m:      \t                         '78809\\n'\n",
            "INFO:flwr:\t                         '78809\\n'\n",
            "\u001b[92mINFO \u001b[0m:      \t                         '   macro avg    0.97492   0.79079   0.85616     '\n",
            "INFO:flwr:\t                         '   macro avg    0.97492   0.79079   0.85616     '\n",
            "\u001b[92mINFO \u001b[0m:      \t                         '78809\\n'\n",
            "INFO:flwr:\t                         '78809\\n'\n",
            "\u001b[92mINFO \u001b[0m:      \t                         'weighted avg    0.96231   0.96115   0.95650     '\n",
            "INFO:flwr:\t                         'weighted avg    0.96231   0.96115   0.95650     '\n",
            "\u001b[92mINFO \u001b[0m:      \t                         '78809\\n'),\n",
            "INFO:flwr:\t                         '78809\\n'),\n",
            "\u001b[92mINFO \u001b[0m:      \t                        (21,\n",
            "INFO:flwr:\t                        (21,\n",
            "\u001b[92mINFO \u001b[0m:      \t                         '              precision    recall  f1-score   '\n",
            "INFO:flwr:\t                         '              precision    recall  f1-score   '\n",
            "\u001b[92mINFO \u001b[0m:      \t                         'support\\n'\n",
            "INFO:flwr:\t                         'support\\n'\n",
            "\u001b[92mINFO \u001b[0m:      \t                         '\\n'\n",
            "INFO:flwr:\t                         '\\n'\n",
            "\u001b[92mINFO \u001b[0m:      \t                         '           0    0.99207   0.58866   0.73889      '\n",
            "INFO:flwr:\t                         '           0    0.99207   0.58866   0.73889      '\n",
            "\u001b[92mINFO \u001b[0m:      \t                         '7230\\n'\n",
            "INFO:flwr:\t                         '7230\\n'\n",
            "\u001b[92mINFO \u001b[0m:      \t                         '           1    0.96009   0.99953   0.97941     '\n",
            "INFO:flwr:\t                         '           1    0.96009   0.99953   0.97941     '\n",
            "\u001b[92mINFO \u001b[0m:      \t                         '71579\\n'\n",
            "INFO:flwr:\t                         '71579\\n'\n",
            "\u001b[92mINFO \u001b[0m:      \t                         '\\n'\n",
            "INFO:flwr:\t                         '\\n'\n",
            "\u001b[92mINFO \u001b[0m:      \t                         '    accuracy                        0.96183     '\n",
            "INFO:flwr:\t                         '    accuracy                        0.96183     '\n",
            "\u001b[92mINFO \u001b[0m:      \t                         '78809\\n'\n",
            "INFO:flwr:\t                         '78809\\n'\n",
            "\u001b[92mINFO \u001b[0m:      \t                         '   macro avg    0.97608   0.79409   0.85915     '\n",
            "INFO:flwr:\t                         '   macro avg    0.97608   0.79409   0.85915     '\n",
            "\u001b[92mINFO \u001b[0m:      \t                         '78809\\n'\n",
            "INFO:flwr:\t                         '78809\\n'\n",
            "\u001b[92mINFO \u001b[0m:      \t                         'weighted avg    0.96302   0.96183   0.95735     '\n",
            "INFO:flwr:\t                         'weighted avg    0.96302   0.96183   0.95735     '\n",
            "\u001b[92mINFO \u001b[0m:      \t                         '78809\\n'),\n",
            "INFO:flwr:\t                         '78809\\n'),\n",
            "\u001b[92mINFO \u001b[0m:      \t                        (22,\n",
            "INFO:flwr:\t                        (22,\n",
            "\u001b[92mINFO \u001b[0m:      \t                         '              precision    recall  f1-score   '\n",
            "INFO:flwr:\t                         '              precision    recall  f1-score   '\n",
            "\u001b[92mINFO \u001b[0m:      \t                         'support\\n'\n",
            "INFO:flwr:\t                         'support\\n'\n",
            "\u001b[92mINFO \u001b[0m:      \t                         '\\n'\n",
            "INFO:flwr:\t                         '\\n'\n",
            "\u001b[92mINFO \u001b[0m:      \t                         '           0    0.99288   0.57898   0.73143      '\n",
            "INFO:flwr:\t                         '           0    0.99288   0.57898   0.73143      '\n",
            "\u001b[92mINFO \u001b[0m:      \t                         '7230\\n'\n",
            "INFO:flwr:\t                         '7230\\n'\n",
            "\u001b[92mINFO \u001b[0m:      \t                         '           1    0.95919   0.99958   0.97897     '\n",
            "INFO:flwr:\t                         '           1    0.95919   0.99958   0.97897     '\n",
            "\u001b[92mINFO \u001b[0m:      \t                         '71579\\n'\n",
            "INFO:flwr:\t                         '71579\\n'\n",
            "\u001b[92mINFO \u001b[0m:      \t                         '\\n'\n",
            "INFO:flwr:\t                         '\\n'\n",
            "\u001b[92mINFO \u001b[0m:      \t                         '    accuracy                        0.96099     '\n",
            "INFO:flwr:\t                         '    accuracy                        0.96099     '\n",
            "\u001b[92mINFO \u001b[0m:      \t                         '78809\\n'\n",
            "INFO:flwr:\t                         '78809\\n'\n",
            "\u001b[92mINFO \u001b[0m:      \t                         '   macro avg    0.97604   0.78928   0.85520     '\n",
            "INFO:flwr:\t                         '   macro avg    0.97604   0.78928   0.85520     '\n",
            "\u001b[92mINFO \u001b[0m:      \t                         '78809\\n'\n",
            "INFO:flwr:\t                         '78809\\n'\n",
            "\u001b[92mINFO \u001b[0m:      \t                         'weighted avg    0.96228   0.96099   0.95626     '\n",
            "INFO:flwr:\t                         'weighted avg    0.96228   0.96099   0.95626     '\n",
            "\u001b[92mINFO \u001b[0m:      \t                         '78809\\n'),\n",
            "INFO:flwr:\t                         '78809\\n'),\n",
            "\u001b[92mINFO \u001b[0m:      \t                        (23,\n",
            "INFO:flwr:\t                        (23,\n",
            "\u001b[92mINFO \u001b[0m:      \t                         '              precision    recall  f1-score   '\n",
            "INFO:flwr:\t                         '              precision    recall  f1-score   '\n",
            "\u001b[92mINFO \u001b[0m:      \t                         'support\\n'\n",
            "INFO:flwr:\t                         'support\\n'\n",
            "\u001b[92mINFO \u001b[0m:      \t                         '\\n'\n",
            "INFO:flwr:\t                         '\\n'\n",
            "\u001b[92mINFO \u001b[0m:      \t                         '           0    0.99236   0.55685   0.71339      '\n",
            "INFO:flwr:\t                         '           0    0.99236   0.55685   0.71339      '\n",
            "\u001b[92mINFO \u001b[0m:      \t                         '7230\\n'\n",
            "INFO:flwr:\t                         '7230\\n'\n",
            "\u001b[92mINFO \u001b[0m:      \t                         '           1    0.95714   0.99957   0.97789     '\n",
            "INFO:flwr:\t                         '           1    0.95714   0.99957   0.97789     '\n",
            "\u001b[92mINFO \u001b[0m:      \t                         '71579\\n'\n",
            "INFO:flwr:\t                         '71579\\n'\n",
            "\u001b[92mINFO \u001b[0m:      \t                         '\\n'\n",
            "INFO:flwr:\t                         '\\n'\n",
            "\u001b[92mINFO \u001b[0m:      \t                         '    accuracy                        0.95895     '\n",
            "INFO:flwr:\t                         '    accuracy                        0.95895     '\n",
            "\u001b[92mINFO \u001b[0m:      \t                         '78809\\n'\n",
            "INFO:flwr:\t                         '78809\\n'\n",
            "\u001b[92mINFO \u001b[0m:      \t                         '   macro avg    0.97475   0.77821   0.84564     '\n",
            "INFO:flwr:\t                         '   macro avg    0.97475   0.77821   0.84564     '\n",
            "\u001b[92mINFO \u001b[0m:      \t                         '78809\\n'\n",
            "INFO:flwr:\t                         '78809\\n'\n",
            "\u001b[92mINFO \u001b[0m:      \t                         'weighted avg    0.96037   0.95895   0.95363     '\n",
            "INFO:flwr:\t                         'weighted avg    0.96037   0.95895   0.95363     '\n",
            "\u001b[92mINFO \u001b[0m:      \t                         '78809\\n'),\n",
            "INFO:flwr:\t                         '78809\\n'),\n",
            "\u001b[92mINFO \u001b[0m:      \t                        (24,\n",
            "INFO:flwr:\t                        (24,\n",
            "\u001b[92mINFO \u001b[0m:      \t                         '              precision    recall  f1-score   '\n",
            "INFO:flwr:\t                         '              precision    recall  f1-score   '\n",
            "\u001b[92mINFO \u001b[0m:      \t                         'support\\n'\n",
            "INFO:flwr:\t                         'support\\n'\n",
            "\u001b[92mINFO \u001b[0m:      \t                         '\\n'\n",
            "INFO:flwr:\t                         '\\n'\n",
            "\u001b[92mINFO \u001b[0m:      \t                         '           0    0.98822   0.55712   0.71254      '\n",
            "INFO:flwr:\t                         '           0    0.98822   0.55712   0.71254      '\n",
            "\u001b[92mINFO \u001b[0m:      \t                         '7230\\n'\n",
            "INFO:flwr:\t                         '7230\\n'\n",
            "\u001b[92mINFO \u001b[0m:      \t                         '           1    0.95715   0.99933   0.97779     '\n",
            "INFO:flwr:\t                         '           1    0.95715   0.99933   0.97779     '\n",
            "\u001b[92mINFO \u001b[0m:      \t                         '71579\\n'\n",
            "INFO:flwr:\t                         '71579\\n'\n",
            "\u001b[92mINFO \u001b[0m:      \t                         '\\n'\n",
            "INFO:flwr:\t                         '\\n'\n",
            "\u001b[92mINFO \u001b[0m:      \t                         '    accuracy                        0.95876     '\n",
            "INFO:flwr:\t                         '    accuracy                        0.95876     '\n",
            "\u001b[92mINFO \u001b[0m:      \t                         '78809\\n'\n",
            "INFO:flwr:\t                         '78809\\n'\n",
            "\u001b[92mINFO \u001b[0m:      \t                         '   macro avg    0.97269   0.77823   0.84516     '\n",
            "INFO:flwr:\t                         '   macro avg    0.97269   0.77823   0.84516     '\n",
            "\u001b[92mINFO \u001b[0m:      \t                         '78809\\n'\n",
            "INFO:flwr:\t                         '78809\\n'\n",
            "\u001b[92mINFO \u001b[0m:      \t                         'weighted avg    0.96000   0.95876   0.95345     '\n",
            "INFO:flwr:\t                         'weighted avg    0.96000   0.95876   0.95345     '\n",
            "\u001b[92mINFO \u001b[0m:      \t                         '78809\\n'),\n",
            "INFO:flwr:\t                         '78809\\n'),\n",
            "\u001b[92mINFO \u001b[0m:      \t                        (25,\n",
            "INFO:flwr:\t                        (25,\n",
            "\u001b[92mINFO \u001b[0m:      \t                         '              precision    recall  f1-score   '\n",
            "INFO:flwr:\t                         '              precision    recall  f1-score   '\n",
            "\u001b[92mINFO \u001b[0m:      \t                         'support\\n'\n",
            "INFO:flwr:\t                         'support\\n'\n",
            "\u001b[92mINFO \u001b[0m:      \t                         '\\n'\n",
            "INFO:flwr:\t                         '\\n'\n",
            "\u001b[92mINFO \u001b[0m:      \t                         '           0    0.99532   0.55837   0.71540      '\n",
            "INFO:flwr:\t                         '           0    0.99532   0.55837   0.71540      '\n",
            "\u001b[92mINFO \u001b[0m:      \t                         '7230\\n'\n",
            "INFO:flwr:\t                         '7230\\n'\n",
            "\u001b[92mINFO \u001b[0m:      \t                         '           1    0.95729   0.99973   0.97805     '\n",
            "INFO:flwr:\t                         '           1    0.95729   0.99973   0.97805     '\n",
            "\u001b[92mINFO \u001b[0m:      \t                         '71579\\n'\n",
            "INFO:flwr:\t                         '71579\\n'\n",
            "\u001b[92mINFO \u001b[0m:      \t                         '\\n'\n",
            "INFO:flwr:\t                         '\\n'\n",
            "\u001b[92mINFO \u001b[0m:      \t                         '    accuracy                        0.95924     '\n",
            "INFO:flwr:\t                         '    accuracy                        0.95924     '\n",
            "\u001b[92mINFO \u001b[0m:      \t                         '78809\\n'\n",
            "INFO:flwr:\t                         '78809\\n'\n",
            "\u001b[92mINFO \u001b[0m:      \t                         '   macro avg    0.97630   0.77905   0.84672     '\n",
            "INFO:flwr:\t                         '   macro avg    0.97630   0.77905   0.84672     '\n",
            "\u001b[92mINFO \u001b[0m:      \t                         '78809\\n'\n",
            "INFO:flwr:\t                         '78809\\n'\n",
            "\u001b[92mINFO \u001b[0m:      \t                         'weighted avg    0.96077   0.95924   0.95395     '\n",
            "INFO:flwr:\t                         'weighted avg    0.96077   0.95924   0.95395     '\n",
            "\u001b[92mINFO \u001b[0m:      \t                         '78809\\n'),\n",
            "INFO:flwr:\t                         '78809\\n'),\n",
            "\u001b[92mINFO \u001b[0m:      \t                        (26,\n",
            "INFO:flwr:\t                        (26,\n",
            "\u001b[92mINFO \u001b[0m:      \t                         '              precision    recall  f1-score   '\n",
            "INFO:flwr:\t                         '              precision    recall  f1-score   '\n",
            "\u001b[92mINFO \u001b[0m:      \t                         'support\\n'\n",
            "INFO:flwr:\t                         'support\\n'\n",
            "\u001b[92mINFO \u001b[0m:      \t                         '\\n'\n",
            "INFO:flwr:\t                         '\\n'\n",
            "\u001b[92mINFO \u001b[0m:      \t                         '           0    0.99590   0.57095   0.72580      '\n",
            "INFO:flwr:\t                         '           0    0.99590   0.57095   0.72580      '\n",
            "\u001b[92mINFO \u001b[0m:      \t                         '7230\\n'\n",
            "INFO:flwr:\t                         '7230\\n'\n",
            "\u001b[92mINFO \u001b[0m:      \t                         '           1    0.95845   0.99976   0.97867     '\n",
            "INFO:flwr:\t                         '           1    0.95845   0.99976   0.97867     '\n",
            "\u001b[92mINFO \u001b[0m:      \t                         '71579\\n'\n",
            "INFO:flwr:\t                         '71579\\n'\n",
            "\u001b[92mINFO \u001b[0m:      \t                         '\\n'\n",
            "INFO:flwr:\t                         '\\n'\n",
            "\u001b[92mINFO \u001b[0m:      \t                         '    accuracy                        0.96042     '\n",
            "INFO:flwr:\t                         '    accuracy                        0.96042     '\n",
            "\u001b[92mINFO \u001b[0m:      \t                         '78809\\n'\n",
            "INFO:flwr:\t                         '78809\\n'\n",
            "\u001b[92mINFO \u001b[0m:      \t                         '   macro avg    0.97718   0.78536   0.85224     '\n",
            "INFO:flwr:\t                         '   macro avg    0.97718   0.78536   0.85224     '\n",
            "\u001b[92mINFO \u001b[0m:      \t                         '78809\\n'\n",
            "INFO:flwr:\t                         '78809\\n'\n",
            "\u001b[92mINFO \u001b[0m:      \t                         'weighted avg    0.96189   0.96042   0.95547     '\n",
            "INFO:flwr:\t                         'weighted avg    0.96189   0.96042   0.95547     '\n",
            "\u001b[92mINFO \u001b[0m:      \t                         '78809\\n'),\n",
            "INFO:flwr:\t                         '78809\\n'),\n",
            "\u001b[92mINFO \u001b[0m:      \t                        (27,\n",
            "INFO:flwr:\t                        (27,\n",
            "\u001b[92mINFO \u001b[0m:      \t                         '              precision    recall  f1-score   '\n",
            "INFO:flwr:\t                         '              precision    recall  f1-score   '\n",
            "\u001b[92mINFO \u001b[0m:      \t                         'support\\n'\n",
            "INFO:flwr:\t                         'support\\n'\n",
            "\u001b[92mINFO \u001b[0m:      \t                         '\\n'\n",
            "INFO:flwr:\t                         '\\n'\n",
            "\u001b[92mINFO \u001b[0m:      \t                         '           0    0.99573   0.58091   0.73375      '\n",
            "INFO:flwr:\t                         '           0    0.99573   0.58091   0.73375      '\n",
            "\u001b[92mINFO \u001b[0m:      \t                         '7230\\n'\n",
            "INFO:flwr:\t                         '7230\\n'\n",
            "\u001b[92mINFO \u001b[0m:      \t                         '           1    0.95938   0.99975   0.97915     '\n",
            "INFO:flwr:\t                         '           1    0.95938   0.99975   0.97915     '\n",
            "\u001b[92mINFO \u001b[0m:      \t                         '71579\\n'\n",
            "INFO:flwr:\t                         '71579\\n'\n",
            "\u001b[92mINFO \u001b[0m:      \t                         '\\n'\n",
            "INFO:flwr:\t                         '\\n'\n",
            "\u001b[92mINFO \u001b[0m:      \t                         '    accuracy                        0.96132     '\n",
            "INFO:flwr:\t                         '    accuracy                        0.96132     '\n",
            "\u001b[92mINFO \u001b[0m:      \t                         '78809\\n'\n",
            "INFO:flwr:\t                         '78809\\n'\n",
            "\u001b[92mINFO \u001b[0m:      \t                         '   macro avg    0.97756   0.79033   0.85645     '\n",
            "INFO:flwr:\t                         '   macro avg    0.97756   0.79033   0.85645     '\n",
            "\u001b[92mINFO \u001b[0m:      \t                         '78809\\n'\n",
            "INFO:flwr:\t                         '78809\\n'\n",
            "\u001b[92mINFO \u001b[0m:      \t                         'weighted avg    0.96271   0.96132   0.95663     '\n",
            "INFO:flwr:\t                         'weighted avg    0.96271   0.96132   0.95663     '\n",
            "\u001b[92mINFO \u001b[0m:      \t                         '78809\\n'),\n",
            "INFO:flwr:\t                         '78809\\n'),\n",
            "\u001b[92mINFO \u001b[0m:      \t                        (28,\n",
            "INFO:flwr:\t                        (28,\n",
            "\u001b[92mINFO \u001b[0m:      \t                         '              precision    recall  f1-score   '\n",
            "INFO:flwr:\t                         '              precision    recall  f1-score   '\n",
            "\u001b[92mINFO \u001b[0m:      \t                         'support\\n'\n",
            "INFO:flwr:\t                         'support\\n'\n",
            "\u001b[92mINFO \u001b[0m:      \t                         '\\n'\n",
            "INFO:flwr:\t                         '\\n'\n",
            "\u001b[92mINFO \u001b[0m:      \t                         '           0    0.99522   0.57580   0.72952      '\n",
            "INFO:flwr:\t                         '           0    0.99522   0.57580   0.72952      '\n",
            "\u001b[92mINFO \u001b[0m:      \t                         '7230\\n'\n",
            "INFO:flwr:\t                         '7230\\n'\n",
            "\u001b[92mINFO \u001b[0m:      \t                         '           1    0.95890   0.99972   0.97889     '\n",
            "INFO:flwr:\t                         '           1    0.95890   0.99972   0.97889     '\n",
            "\u001b[92mINFO \u001b[0m:      \t                         '71579\\n'\n",
            "INFO:flwr:\t                         '71579\\n'\n",
            "\u001b[92mINFO \u001b[0m:      \t                         '\\n'\n",
            "INFO:flwr:\t                         '\\n'\n",
            "\u001b[92mINFO \u001b[0m:      \t                         '    accuracy                        0.96083     '\n",
            "INFO:flwr:\t                         '    accuracy                        0.96083     '\n",
            "\u001b[92mINFO \u001b[0m:      \t                         '78809\\n'\n",
            "INFO:flwr:\t                         '78809\\n'\n",
            "\u001b[92mINFO \u001b[0m:      \t                         '   macro avg    0.97706   0.78776   0.85420     '\n",
            "INFO:flwr:\t                         '   macro avg    0.97706   0.78776   0.85420     '\n",
            "\u001b[92mINFO \u001b[0m:      \t                         '78809\\n'\n",
            "INFO:flwr:\t                         '78809\\n'\n",
            "\u001b[92mINFO \u001b[0m:      \t                         'weighted avg    0.96223   0.96083   0.95601     '\n",
            "INFO:flwr:\t                         'weighted avg    0.96223   0.96083   0.95601     '\n",
            "\u001b[92mINFO \u001b[0m:      \t                         '78809\\n'),\n",
            "INFO:flwr:\t                         '78809\\n'),\n",
            "\u001b[92mINFO \u001b[0m:      \t                        (29,\n",
            "INFO:flwr:\t                        (29,\n",
            "\u001b[92mINFO \u001b[0m:      \t                         '              precision    recall  f1-score   '\n",
            "INFO:flwr:\t                         '              precision    recall  f1-score   '\n",
            "\u001b[92mINFO \u001b[0m:      \t                         'support\\n'\n",
            "INFO:flwr:\t                         'support\\n'\n",
            "\u001b[92mINFO \u001b[0m:      \t                         '\\n'\n",
            "INFO:flwr:\t                         '\\n'\n",
            "\u001b[92mINFO \u001b[0m:      \t                         '           0    0.99564   0.56874   0.72394      '\n",
            "INFO:flwr:\t                         '           0    0.99564   0.56874   0.72394      '\n",
            "\u001b[92mINFO \u001b[0m:      \t                         '7230\\n'\n",
            "INFO:flwr:\t                         '7230\\n'\n",
            "\u001b[92mINFO \u001b[0m:      \t                         '           1    0.95825   0.99975   0.97856     '\n",
            "INFO:flwr:\t                         '           1    0.95825   0.99975   0.97856     '\n",
            "\u001b[92mINFO \u001b[0m:      \t                         '71579\\n'\n",
            "INFO:flwr:\t                         '71579\\n'\n",
            "\u001b[92mINFO \u001b[0m:      \t                         '\\n'\n",
            "INFO:flwr:\t                         '\\n'\n",
            "\u001b[92mINFO \u001b[0m:      \t                         '    accuracy                        0.96021     '\n",
            "INFO:flwr:\t                         '    accuracy                        0.96021     '\n",
            "\u001b[92mINFO \u001b[0m:      \t                         '78809\\n'\n",
            "INFO:flwr:\t                         '78809\\n'\n",
            "\u001b[92mINFO \u001b[0m:      \t                         '   macro avg    0.97694   0.78424   0.85125     '\n",
            "INFO:flwr:\t                         '   macro avg    0.97694   0.78424   0.85125     '\n",
            "\u001b[92mINFO \u001b[0m:      \t                         '78809\\n'\n",
            "INFO:flwr:\t                         '78809\\n'\n",
            "\u001b[92mINFO \u001b[0m:      \t                         'weighted avg    0.96168   0.96021   0.95520     '\n",
            "INFO:flwr:\t                         'weighted avg    0.96168   0.96021   0.95520     '\n",
            "\u001b[92mINFO \u001b[0m:      \t                         '78809\\n'),\n",
            "INFO:flwr:\t                         '78809\\n'),\n",
            "\u001b[92mINFO \u001b[0m:      \t                        (30,\n",
            "INFO:flwr:\t                        (30,\n",
            "\u001b[92mINFO \u001b[0m:      \t                         '              precision    recall  f1-score   '\n",
            "INFO:flwr:\t                         '              precision    recall  f1-score   '\n",
            "\u001b[92mINFO \u001b[0m:      \t                         'support\\n'\n",
            "INFO:flwr:\t                         'support\\n'\n",
            "\u001b[92mINFO \u001b[0m:      \t                         '\\n'\n",
            "INFO:flwr:\t                         '\\n'\n",
            "\u001b[92mINFO \u001b[0m:      \t                         '           0    0.99515   0.56791   0.72314      '\n",
            "INFO:flwr:\t                         '           0    0.99515   0.56791   0.72314      '\n",
            "\u001b[92mINFO \u001b[0m:      \t                         '7230\\n'\n",
            "INFO:flwr:\t                         '7230\\n'\n",
            "\u001b[92mINFO \u001b[0m:      \t                         '           1    0.95817   0.99972   0.97850     '\n",
            "INFO:flwr:\t                         '           1    0.95817   0.99972   0.97850     '\n",
            "\u001b[92mINFO \u001b[0m:      \t                         '71579\\n'\n",
            "INFO:flwr:\t                         '71579\\n'\n",
            "\u001b[92mINFO \u001b[0m:      \t                         '\\n'\n",
            "INFO:flwr:\t                         '\\n'\n",
            "\u001b[92mINFO \u001b[0m:      \t                         '    accuracy                        0.96011     '\n",
            "INFO:flwr:\t                         '    accuracy                        0.96011     '\n",
            "\u001b[92mINFO \u001b[0m:      \t                         '78809\\n'\n",
            "INFO:flwr:\t                         '78809\\n'\n",
            "\u001b[92mINFO \u001b[0m:      \t                         '   macro avg    0.97666   0.78382   0.85082     '\n",
            "INFO:flwr:\t                         '   macro avg    0.97666   0.78382   0.85082     '\n",
            "\u001b[92mINFO \u001b[0m:      \t                         '78809\\n'\n",
            "INFO:flwr:\t                         '78809\\n'\n",
            "\u001b[92mINFO \u001b[0m:      \t                         'weighted avg    0.96156   0.96011   0.95508     '\n",
            "INFO:flwr:\t                         'weighted avg    0.96156   0.96011   0.95508     '\n",
            "\u001b[92mINFO \u001b[0m:      \t                         '78809\\n'),\n",
            "INFO:flwr:\t                         '78809\\n'),\n",
            "\u001b[92mINFO \u001b[0m:      \t                        (31,\n",
            "INFO:flwr:\t                        (31,\n",
            "\u001b[92mINFO \u001b[0m:      \t                         '              precision    recall  f1-score   '\n",
            "INFO:flwr:\t                         '              precision    recall  f1-score   '\n",
            "\u001b[92mINFO \u001b[0m:      \t                         'support\\n'\n",
            "INFO:flwr:\t                         'support\\n'\n",
            "\u001b[92mINFO \u001b[0m:      \t                         '\\n'\n",
            "INFO:flwr:\t                         '\\n'\n",
            "\u001b[92mINFO \u001b[0m:      \t                         '           0    0.99487   0.56376   0.71970      '\n",
            "INFO:flwr:\t                         '           0    0.99487   0.56376   0.71970      '\n",
            "\u001b[92mINFO \u001b[0m:      \t                         '7230\\n'\n",
            "INFO:flwr:\t                         '7230\\n'\n",
            "\u001b[92mINFO \u001b[0m:      \t                         '           1    0.95778   0.99971   0.97830     '\n",
            "INFO:flwr:\t                         '           1    0.95778   0.99971   0.97830     '\n",
            "\u001b[92mINFO \u001b[0m:      \t                         '71579\\n'\n",
            "INFO:flwr:\t                         '71579\\n'\n",
            "\u001b[92mINFO \u001b[0m:      \t                         '\\n'\n",
            "INFO:flwr:\t                         '\\n'\n",
            "\u001b[92mINFO \u001b[0m:      \t                         '    accuracy                        0.95971     '\n",
            "INFO:flwr:\t                         '    accuracy                        0.95971     '\n",
            "\u001b[92mINFO \u001b[0m:      \t                         '78809\\n'\n",
            "INFO:flwr:\t                         '78809\\n'\n",
            "\u001b[92mINFO \u001b[0m:      \t                         '   macro avg    0.97633   0.78173   0.84900     '\n",
            "INFO:flwr:\t                         '   macro avg    0.97633   0.78173   0.84900     '\n",
            "\u001b[92mINFO \u001b[0m:      \t                         '78809\\n'\n",
            "INFO:flwr:\t                         '78809\\n'\n",
            "\u001b[92mINFO \u001b[0m:      \t                         'weighted avg    0.96119   0.95971   0.95457     '\n",
            "INFO:flwr:\t                         'weighted avg    0.96119   0.95971   0.95457     '\n",
            "\u001b[92mINFO \u001b[0m:      \t                         '78809\\n'),\n",
            "INFO:flwr:\t                         '78809\\n'),\n",
            "\u001b[92mINFO \u001b[0m:      \t                        (32,\n",
            "INFO:flwr:\t                        (32,\n",
            "\u001b[92mINFO \u001b[0m:      \t                         '              precision    recall  f1-score   '\n",
            "INFO:flwr:\t                         '              precision    recall  f1-score   '\n",
            "\u001b[92mINFO \u001b[0m:      \t                         'support\\n'\n",
            "INFO:flwr:\t                         'support\\n'\n",
            "\u001b[92mINFO \u001b[0m:      \t                         '\\n'\n",
            "INFO:flwr:\t                         '\\n'\n",
            "\u001b[92mINFO \u001b[0m:      \t                         '           0    0.99554   0.55519   0.71284      '\n",
            "INFO:flwr:\t                         '           0    0.99554   0.55519   0.71284      '\n",
            "\u001b[92mINFO \u001b[0m:      \t                         '7230\\n'\n",
            "INFO:flwr:\t                         '7230\\n'\n",
            "\u001b[92mINFO \u001b[0m:      \t                         '           1    0.95699   0.99975   0.97790     '\n",
            "INFO:flwr:\t                         '           1    0.95699   0.99975   0.97790     '\n",
            "\u001b[92mINFO \u001b[0m:      \t                         '71579\\n'\n",
            "INFO:flwr:\t                         '71579\\n'\n",
            "\u001b[92mINFO \u001b[0m:      \t                         '\\n'\n",
            "INFO:flwr:\t                         '\\n'\n",
            "\u001b[92mINFO \u001b[0m:      \t                         '    accuracy                        0.95896     '\n",
            "INFO:flwr:\t                         '    accuracy                        0.95896     '\n",
            "\u001b[92mINFO \u001b[0m:      \t                         '78809\\n'\n",
            "INFO:flwr:\t                         '78809\\n'\n",
            "\u001b[92mINFO \u001b[0m:      \t                         '   macro avg    0.97626   0.77747   0.84537     '\n",
            "INFO:flwr:\t                         '   macro avg    0.97626   0.77747   0.84537     '\n",
            "\u001b[92mINFO \u001b[0m:      \t                         '78809\\n'\n",
            "INFO:flwr:\t                         '78809\\n'\n",
            "\u001b[92mINFO \u001b[0m:      \t                         'weighted avg    0.96053   0.95896   0.95359     '\n",
            "INFO:flwr:\t                         'weighted avg    0.96053   0.95896   0.95359     '\n",
            "\u001b[92mINFO \u001b[0m:      \t                         '78809\\n'),\n",
            "INFO:flwr:\t                         '78809\\n'),\n",
            "\u001b[92mINFO \u001b[0m:      \t                        (33,\n",
            "INFO:flwr:\t                        (33,\n",
            "\u001b[92mINFO \u001b[0m:      \t                         '              precision    recall  f1-score   '\n",
            "INFO:flwr:\t                         '              precision    recall  f1-score   '\n",
            "\u001b[92mINFO \u001b[0m:      \t                         'support\\n'\n",
            "INFO:flwr:\t                         'support\\n'\n",
            "\u001b[92mINFO \u001b[0m:      \t                         '\\n'\n",
            "INFO:flwr:\t                         '\\n'\n",
            "\u001b[92mINFO \u001b[0m:      \t                         '           0    0.99425   0.55035   0.70851      '\n",
            "INFO:flwr:\t                         '           0    0.99425   0.55035   0.70851      '\n",
            "\u001b[92mINFO \u001b[0m:      \t                         '7230\\n'\n",
            "INFO:flwr:\t                         '7230\\n'\n",
            "\u001b[92mINFO \u001b[0m:      \t                         '           1    0.95654   0.99968   0.97763     '\n",
            "INFO:flwr:\t                         '           1    0.95654   0.99968   0.97763     '\n",
            "\u001b[92mINFO \u001b[0m:      \t                         '71579\\n'\n",
            "INFO:flwr:\t                         '71579\\n'\n",
            "\u001b[92mINFO \u001b[0m:      \t                         '\\n'\n",
            "INFO:flwr:\t                         '\\n'\n",
            "\u001b[92mINFO \u001b[0m:      \t                         '    accuracy                        0.95846     '\n",
            "INFO:flwr:\t                         '    accuracy                        0.95846     '\n",
            "\u001b[92mINFO \u001b[0m:      \t                         '78809\\n'\n",
            "INFO:flwr:\t                         '78809\\n'\n",
            "\u001b[92mINFO \u001b[0m:      \t                         '   macro avg    0.97540   0.77501   0.84307     '\n",
            "INFO:flwr:\t                         '   macro avg    0.97540   0.77501   0.84307     '\n",
            "\u001b[92mINFO \u001b[0m:      \t                         '78809\\n'\n",
            "INFO:flwr:\t                         '78809\\n'\n",
            "\u001b[92mINFO \u001b[0m:      \t                         'weighted avg    0.96000   0.95846   0.95294     '\n",
            "INFO:flwr:\t                         'weighted avg    0.96000   0.95846   0.95294     '\n",
            "\u001b[92mINFO \u001b[0m:      \t                         '78809\\n'),\n",
            "INFO:flwr:\t                         '78809\\n'),\n",
            "\u001b[92mINFO \u001b[0m:      \t                        (34,\n",
            "INFO:flwr:\t                        (34,\n",
            "\u001b[92mINFO \u001b[0m:      \t                         '              precision    recall  f1-score   '\n",
            "INFO:flwr:\t                         '              precision    recall  f1-score   '\n",
            "\u001b[92mINFO \u001b[0m:      \t                         'support\\n'\n",
            "INFO:flwr:\t                         'support\\n'\n",
            "\u001b[92mINFO \u001b[0m:      \t                         '\\n'\n",
            "INFO:flwr:\t                         '\\n'\n",
            "\u001b[92mINFO \u001b[0m:      \t                         '           0    0.99554   0.55533   0.71295      '\n",
            "INFO:flwr:\t                         '           0    0.99554   0.55533   0.71295      '\n",
            "\u001b[92mINFO \u001b[0m:      \t                         '7230\\n'\n",
            "INFO:flwr:\t                         '7230\\n'\n",
            "\u001b[92mINFO \u001b[0m:      \t                         '           1    0.95700   0.99975   0.97791     '\n",
            "INFO:flwr:\t                         '           1    0.95700   0.99975   0.97791     '\n",
            "\u001b[92mINFO \u001b[0m:      \t                         '71579\\n'\n",
            "INFO:flwr:\t                         '71579\\n'\n",
            "\u001b[92mINFO \u001b[0m:      \t                         '\\n'\n",
            "INFO:flwr:\t                         '\\n'\n",
            "\u001b[92mINFO \u001b[0m:      \t                         '    accuracy                        0.95898     '\n",
            "INFO:flwr:\t                         '    accuracy                        0.95898     '\n",
            "\u001b[92mINFO \u001b[0m:      \t                         '78809\\n'\n",
            "INFO:flwr:\t                         '78809\\n'\n",
            "\u001b[92mINFO \u001b[0m:      \t                         '   macro avg    0.97627   0.77754   0.84543     '\n",
            "INFO:flwr:\t                         '   macro avg    0.97627   0.77754   0.84543     '\n",
            "\u001b[92mINFO \u001b[0m:      \t                         '78809\\n'\n",
            "INFO:flwr:\t                         '78809\\n'\n",
            "\u001b[92mINFO \u001b[0m:      \t                         'weighted avg    0.96054   0.95898   0.95360     '\n",
            "INFO:flwr:\t                         'weighted avg    0.96054   0.95898   0.95360     '\n",
            "\u001b[92mINFO \u001b[0m:      \t                         '78809\\n'),\n",
            "INFO:flwr:\t                         '78809\\n'),\n",
            "\u001b[92mINFO \u001b[0m:      \t                        (35,\n",
            "INFO:flwr:\t                        (35,\n",
            "\u001b[92mINFO \u001b[0m:      \t                         '              precision    recall  f1-score   '\n",
            "INFO:flwr:\t                         '              precision    recall  f1-score   '\n",
            "\u001b[92mINFO \u001b[0m:      \t                         'support\\n'\n",
            "INFO:flwr:\t                         'support\\n'\n",
            "\u001b[92mINFO \u001b[0m:      \t                         '\\n'\n",
            "INFO:flwr:\t                         '\\n'\n",
            "\u001b[92mINFO \u001b[0m:      \t                         '           0    0.99436   0.56113   0.71742      '\n",
            "INFO:flwr:\t                         '           0    0.99436   0.56113   0.71742      '\n",
            "\u001b[92mINFO \u001b[0m:      \t                         '7230\\n'\n",
            "INFO:flwr:\t                         '7230\\n'\n",
            "\u001b[92mINFO \u001b[0m:      \t                         '           1    0.95754   0.99968   0.97816     '\n",
            "INFO:flwr:\t                         '           1    0.95754   0.99968   0.97816     '\n",
            "\u001b[92mINFO \u001b[0m:      \t                         '71579\\n'\n",
            "INFO:flwr:\t                         '71579\\n'\n",
            "\u001b[92mINFO \u001b[0m:      \t                         '\\n'\n",
            "INFO:flwr:\t                         '\\n'\n",
            "\u001b[92mINFO \u001b[0m:      \t                         '    accuracy                        0.95945     '\n",
            "INFO:flwr:\t                         '    accuracy                        0.95945     '\n",
            "\u001b[92mINFO \u001b[0m:      \t                         '78809\\n'\n",
            "INFO:flwr:\t                         '78809\\n'\n",
            "\u001b[92mINFO \u001b[0m:      \t                         '   macro avg    0.97595   0.78041   0.84779     '\n",
            "INFO:flwr:\t                         '   macro avg    0.97595   0.78041   0.84779     '\n",
            "\u001b[92mINFO \u001b[0m:      \t                         '78809\\n'\n",
            "INFO:flwr:\t                         '78809\\n'\n",
            "\u001b[92mINFO \u001b[0m:      \t                         'weighted avg    0.96092   0.95945   0.95424     '\n",
            "INFO:flwr:\t                         'weighted avg    0.96092   0.95945   0.95424     '\n",
            "\u001b[92mINFO \u001b[0m:      \t                         '78809\\n'),\n",
            "INFO:flwr:\t                         '78809\\n'),\n",
            "\u001b[92mINFO \u001b[0m:      \t                        (36,\n",
            "INFO:flwr:\t                        (36,\n",
            "\u001b[92mINFO \u001b[0m:      \t                         '              precision    recall  f1-score   '\n",
            "INFO:flwr:\t                         '              precision    recall  f1-score   '\n",
            "\u001b[92mINFO \u001b[0m:      \t                         'support\\n'\n",
            "INFO:flwr:\t                         'support\\n'\n",
            "\u001b[92mINFO \u001b[0m:      \t                         '\\n'\n",
            "INFO:flwr:\t                         '\\n'\n",
            "\u001b[92mINFO \u001b[0m:      \t                         '           0    0.99572   0.54675   0.70589      '\n",
            "INFO:flwr:\t                         '           0    0.99572   0.54675   0.70589      '\n",
            "\u001b[92mINFO \u001b[0m:      \t                         '7230\\n'\n",
            "INFO:flwr:\t                         '7230\\n'\n",
            "\u001b[92mINFO \u001b[0m:      \t                         '           1    0.95621   0.99976   0.97750     '\n",
            "INFO:flwr:\t                         '           1    0.95621   0.99976   0.97750     '\n",
            "\u001b[92mINFO \u001b[0m:      \t                         '71579\\n'\n",
            "INFO:flwr:\t                         '71579\\n'\n",
            "\u001b[92mINFO \u001b[0m:      \t                         '\\n'\n",
            "INFO:flwr:\t                         '\\n'\n",
            "\u001b[92mINFO \u001b[0m:      \t                         '    accuracy                        0.95820     '\n",
            "INFO:flwr:\t                         '    accuracy                        0.95820     '\n",
            "\u001b[92mINFO \u001b[0m:      \t                         '78809\\n'\n",
            "INFO:flwr:\t                         '78809\\n'\n",
            "\u001b[92mINFO \u001b[0m:      \t                         '   macro avg    0.97597   0.77326   0.84170     '\n",
            "INFO:flwr:\t                         '   macro avg    0.97597   0.77326   0.84170     '\n",
            "\u001b[92mINFO \u001b[0m:      \t                         '78809\\n'\n",
            "INFO:flwr:\t                         '78809\\n'\n",
            "\u001b[92mINFO \u001b[0m:      \t                         'weighted avg    0.95984   0.95820   0.95259     '\n",
            "INFO:flwr:\t                         'weighted avg    0.95984   0.95820   0.95259     '\n",
            "\u001b[92mINFO \u001b[0m:      \t                         '78809\\n'),\n",
            "INFO:flwr:\t                         '78809\\n'),\n",
            "\u001b[92mINFO \u001b[0m:      \t                        (37,\n",
            "INFO:flwr:\t                        (37,\n",
            "\u001b[92mINFO \u001b[0m:      \t                         '              precision    recall  f1-score   '\n",
            "INFO:flwr:\t                         '              precision    recall  f1-score   '\n",
            "\u001b[92mINFO \u001b[0m:      \t                         'support\\n'\n",
            "INFO:flwr:\t                         'support\\n'\n",
            "\u001b[92mINFO \u001b[0m:      \t                         '\\n'\n",
            "INFO:flwr:\t                         '\\n'\n",
            "\u001b[92mINFO \u001b[0m:      \t                         '           0    0.99524   0.54979   0.70830      '\n",
            "INFO:flwr:\t                         '           0    0.99524   0.54979   0.70830      '\n",
            "\u001b[92mINFO \u001b[0m:      \t                         '7230\\n'\n",
            "INFO:flwr:\t                         '7230\\n'\n",
            "\u001b[92mINFO \u001b[0m:      \t                         '           1    0.95649   0.99973   0.97764     '\n",
            "INFO:flwr:\t                         '           1    0.95649   0.99973   0.97764     '\n",
            "\u001b[92mINFO \u001b[0m:      \t                         '71579\\n'\n",
            "INFO:flwr:\t                         '71579\\n'\n",
            "\u001b[92mINFO \u001b[0m:      \t                         '\\n'\n",
            "INFO:flwr:\t                         '\\n'\n",
            "\u001b[92mINFO \u001b[0m:      \t                         '    accuracy                        0.95846     '\n",
            "INFO:flwr:\t                         '    accuracy                        0.95846     '\n",
            "\u001b[92mINFO \u001b[0m:      \t                         '78809\\n'\n",
            "INFO:flwr:\t                         '78809\\n'\n",
            "\u001b[92mINFO \u001b[0m:      \t                         '   macro avg    0.97587   0.77476   0.84297     '\n",
            "INFO:flwr:\t                         '   macro avg    0.97587   0.77476   0.84297     '\n",
            "\u001b[92mINFO \u001b[0m:      \t                         '78809\\n'\n",
            "INFO:flwr:\t                         '78809\\n'\n",
            "\u001b[92mINFO \u001b[0m:      \t                         'weighted avg    0.96005   0.95846   0.95293     '\n",
            "INFO:flwr:\t                         'weighted avg    0.96005   0.95846   0.95293     '\n",
            "\u001b[92mINFO \u001b[0m:      \t                         '78809\\n'),\n",
            "INFO:flwr:\t                         '78809\\n'),\n",
            "\u001b[92mINFO \u001b[0m:      \t                        (38,\n",
            "INFO:flwr:\t                        (38,\n",
            "\u001b[92mINFO \u001b[0m:      \t                         '              precision    recall  f1-score   '\n",
            "INFO:flwr:\t                         '              precision    recall  f1-score   '\n",
            "\u001b[92mINFO \u001b[0m:      \t                         'support\\n'\n",
            "INFO:flwr:\t                         'support\\n'\n",
            "\u001b[92mINFO \u001b[0m:      \t                         '\\n'\n",
            "INFO:flwr:\t                         '\\n'\n",
            "\u001b[92mINFO \u001b[0m:      \t                         '           0    0.96535   0.55104   0.70159      '\n",
            "INFO:flwr:\t                         '           0    0.96535   0.55104   0.70159      '\n",
            "\u001b[92mINFO \u001b[0m:      \t                         '7230\\n'\n",
            "INFO:flwr:\t                         '7230\\n'\n",
            "\u001b[92mINFO \u001b[0m:      \t                         '           1    0.95654   0.99800   0.97683     '\n",
            "INFO:flwr:\t                         '           1    0.95654   0.99800   0.97683     '\n",
            "\u001b[92mINFO \u001b[0m:      \t                         '71579\\n'\n",
            "INFO:flwr:\t                         '71579\\n'\n",
            "\u001b[92mINFO \u001b[0m:      \t                         '\\n'\n",
            "INFO:flwr:\t                         '\\n'\n",
            "\u001b[92mINFO \u001b[0m:      \t                         '    accuracy                        0.95700     '\n",
            "INFO:flwr:\t                         '    accuracy                        0.95700     '\n",
            "\u001b[92mINFO \u001b[0m:      \t                         '78809\\n'\n",
            "INFO:flwr:\t                         '78809\\n'\n",
            "\u001b[92mINFO \u001b[0m:      \t                         '   macro avg    0.96094   0.77452   0.83921     '\n",
            "INFO:flwr:\t                         '   macro avg    0.96094   0.77452   0.83921     '\n",
            "\u001b[92mINFO \u001b[0m:      \t                         '78809\\n'\n",
            "INFO:flwr:\t                         '78809\\n'\n",
            "\u001b[92mINFO \u001b[0m:      \t                         'weighted avg    0.95734   0.95700   0.95158     '\n",
            "INFO:flwr:\t                         'weighted avg    0.95734   0.95700   0.95158     '\n",
            "\u001b[92mINFO \u001b[0m:      \t                         '78809\\n'),\n",
            "INFO:flwr:\t                         '78809\\n'),\n",
            "\u001b[92mINFO \u001b[0m:      \t                        (39,\n",
            "INFO:flwr:\t                        (39,\n",
            "\u001b[92mINFO \u001b[0m:      \t                         '              precision    recall  f1-score   '\n",
            "INFO:flwr:\t                         '              precision    recall  f1-score   '\n",
            "\u001b[92mINFO \u001b[0m:      \t                         'support\\n'\n",
            "INFO:flwr:\t                         'support\\n'\n",
            "\u001b[92mINFO \u001b[0m:      \t                         '\\n'\n",
            "INFO:flwr:\t                         '\\n'\n",
            "\u001b[92mINFO \u001b[0m:      \t                         '           0    0.99645   0.54288   0.70284      '\n",
            "INFO:flwr:\t                         '           0    0.99645   0.54288   0.70284      '\n",
            "\u001b[92mINFO \u001b[0m:      \t                         '7230\\n'\n",
            "INFO:flwr:\t                         '7230\\n'\n",
            "\u001b[92mINFO \u001b[0m:      \t                         '           1    0.95586   0.99980   0.97734     '\n",
            "INFO:flwr:\t                         '           1    0.95586   0.99980   0.97734     '\n",
            "\u001b[92mINFO \u001b[0m:      \t                         '71579\\n'\n",
            "INFO:flwr:\t                         '71579\\n'\n",
            "\u001b[92mINFO \u001b[0m:      \t                         '\\n'\n",
            "INFO:flwr:\t                         '\\n'\n",
            "\u001b[92mINFO \u001b[0m:      \t                         '    accuracy                        0.95789     '\n",
            "INFO:flwr:\t                         '    accuracy                        0.95789     '\n",
            "\u001b[92mINFO \u001b[0m:      \t                         '78809\\n'\n",
            "INFO:flwr:\t                         '78809\\n'\n",
            "\u001b[92mINFO \u001b[0m:      \t                         '   macro avg    0.97615   0.77134   0.84009     '\n",
            "INFO:flwr:\t                         '   macro avg    0.97615   0.77134   0.84009     '\n",
            "\u001b[92mINFO \u001b[0m:      \t                         '78809\\n'\n",
            "INFO:flwr:\t                         '78809\\n'\n",
            "\u001b[92mINFO \u001b[0m:      \t                         'weighted avg    0.95958   0.95789   0.95215     '\n",
            "INFO:flwr:\t                         'weighted avg    0.95958   0.95789   0.95215     '\n",
            "\u001b[92mINFO \u001b[0m:      \t                         '78809\\n'),\n",
            "INFO:flwr:\t                         '78809\\n'),\n",
            "\u001b[92mINFO \u001b[0m:      \t                        (40,\n",
            "INFO:flwr:\t                        (40,\n",
            "\u001b[92mINFO \u001b[0m:      \t                         '              precision    recall  f1-score   '\n",
            "INFO:flwr:\t                         '              precision    recall  f1-score   '\n",
            "\u001b[92mINFO \u001b[0m:      \t                         'support\\n'\n",
            "INFO:flwr:\t                         'support\\n'\n",
            "\u001b[92mINFO \u001b[0m:      \t                         '\\n'\n",
            "INFO:flwr:\t                         '\\n'\n",
            "\u001b[92mINFO \u001b[0m:      \t                         '           0    0.95612   0.55450   0.70192      '\n",
            "INFO:flwr:\t                         '           0    0.95612   0.55450   0.70192      '\n",
            "\u001b[92mINFO \u001b[0m:      \t                         '7230\\n'\n",
            "INFO:flwr:\t                         '7230\\n'\n",
            "\u001b[92mINFO \u001b[0m:      \t                         '           1    0.95683   0.99743   0.97671     '\n",
            "INFO:flwr:\t                         '           1    0.95683   0.99743   0.97671     '\n",
            "\u001b[92mINFO \u001b[0m:      \t                         '71579\\n'\n",
            "INFO:flwr:\t                         '71579\\n'\n",
            "\u001b[92mINFO \u001b[0m:      \t                         '\\n'\n",
            "INFO:flwr:\t                         '\\n'\n",
            "\u001b[92mINFO \u001b[0m:      \t                         '    accuracy                        0.95679     '\n",
            "INFO:flwr:\t                         '    accuracy                        0.95679     '\n",
            "\u001b[92mINFO \u001b[0m:      \t                         '78809\\n'\n",
            "INFO:flwr:\t                         '78809\\n'\n",
            "\u001b[92mINFO \u001b[0m:      \t                         '   macro avg    0.95647   0.77596   0.83931     '\n",
            "INFO:flwr:\t                         '   macro avg    0.95647   0.77596   0.83931     '\n",
            "\u001b[92mINFO \u001b[0m:      \t                         '78809\\n'\n",
            "INFO:flwr:\t                         '78809\\n'\n",
            "\u001b[92mINFO \u001b[0m:      \t                         'weighted avg    0.95677   0.95679   0.95150     '\n",
            "INFO:flwr:\t                         'weighted avg    0.95677   0.95679   0.95150     '\n",
            "\u001b[92mINFO \u001b[0m:      \t                         '78809\\n')],\n",
            "INFO:flwr:\t                         '78809\\n')],\n",
            "\u001b[92mINFO \u001b[0m:      \t 'accuracy': [(0, 0.9144006371498108),\n",
            "INFO:flwr:\t 'accuracy': [(0, 0.9144006371498108),\n",
            "\u001b[92mINFO \u001b[0m:      \t              (1, 0.8792269825935364),\n",
            "INFO:flwr:\t              (1, 0.8792269825935364),\n",
            "\u001b[92mINFO \u001b[0m:      \t              (2, 0.8697737455368042),\n",
            "INFO:flwr:\t              (2, 0.8697737455368042),\n",
            "\u001b[92mINFO \u001b[0m:      \t              (3, 0.8882741928100586),\n",
            "INFO:flwr:\t              (3, 0.8882741928100586),\n",
            "\u001b[92mINFO \u001b[0m:      \t              (4, 0.88299560546875),\n",
            "INFO:flwr:\t              (4, 0.88299560546875),\n",
            "\u001b[92mINFO \u001b[0m:      \t              (5, 0.8832747340202332),\n",
            "INFO:flwr:\t              (5, 0.8832747340202332),\n",
            "\u001b[92mINFO \u001b[0m:      \t              (6, 0.8825514912605286),\n",
            "INFO:flwr:\t              (6, 0.8825514912605286),\n",
            "\u001b[92mINFO \u001b[0m:      \t              (7, 0.8831605315208435),\n",
            "INFO:flwr:\t              (7, 0.8831605315208435),\n",
            "\u001b[92mINFO \u001b[0m:      \t              (8, 0.8847847580909729),\n",
            "INFO:flwr:\t              (8, 0.8847847580909729),\n",
            "\u001b[92mINFO \u001b[0m:      \t              (9, 0.8877792954444885),\n",
            "INFO:flwr:\t              (9, 0.8877792954444885),\n",
            "\u001b[92mINFO \u001b[0m:      \t              (10, 0.8845182657241821),\n",
            "INFO:flwr:\t              (10, 0.8845182657241821),\n",
            "\u001b[92mINFO \u001b[0m:      \t              (11, 0.885469913482666),\n",
            "INFO:flwr:\t              (11, 0.885469913482666),\n",
            "\u001b[92mINFO \u001b[0m:      \t              (12, 0.8889467120170593),\n",
            "INFO:flwr:\t              (12, 0.8889467120170593),\n",
            "\u001b[92mINFO \u001b[0m:      \t              (13, 0.8889340162277222),\n",
            "INFO:flwr:\t              (13, 0.8889340162277222),\n",
            "\u001b[92mINFO \u001b[0m:      \t              (14, 0.891471803188324),\n",
            "INFO:flwr:\t              (14, 0.891471803188324),\n",
            "\u001b[92mINFO \u001b[0m:      \t              (15, 0.9556015133857727),\n",
            "INFO:flwr:\t              (15, 0.9556015133857727),\n",
            "\u001b[92mINFO \u001b[0m:      \t              (16, 0.9610831141471863),\n",
            "INFO:flwr:\t              (16, 0.9610831141471863),\n",
            "\u001b[92mINFO \u001b[0m:      \t              (17, 0.9590402245521545),\n",
            "INFO:flwr:\t              (17, 0.9590402245521545),\n",
            "\u001b[92mINFO \u001b[0m:      \t              (18, 0.9605374932289124),\n",
            "INFO:flwr:\t              (18, 0.9605374932289124),\n",
            "\u001b[92mINFO \u001b[0m:      \t              (19, 0.9597000479698181),\n",
            "INFO:flwr:\t              (19, 0.9597000479698181),\n",
            "\u001b[92mINFO \u001b[0m:      \t              (20, 0.9611465930938721),\n",
            "INFO:flwr:\t              (20, 0.9611465930938721),\n",
            "\u001b[92mINFO \u001b[0m:      \t              (21, 0.9618317484855652),\n",
            "INFO:flwr:\t              (21, 0.9618317484855652),\n",
            "\u001b[92mINFO \u001b[0m:      \t              (22, 0.960994303226471),\n",
            "INFO:flwr:\t              (22, 0.960994303226471),\n",
            "\u001b[92mINFO \u001b[0m:      \t              (23, 0.9589514136314392),\n",
            "INFO:flwr:\t              (23, 0.9589514136314392),\n",
            "\u001b[92mINFO \u001b[0m:      \t              (24, 0.9587610363960266),\n",
            "INFO:flwr:\t              (24, 0.9587610363960266),\n",
            "\u001b[92mINFO \u001b[0m:      \t              (25, 0.9592432379722595),\n",
            "INFO:flwr:\t              (25, 0.9592432379722595),\n",
            "\u001b[92mINFO \u001b[0m:      \t              (26, 0.9604232907295227),\n",
            "INFO:flwr:\t              (26, 0.9604232907295227),\n",
            "\u001b[92mINFO \u001b[0m:      \t              (27, 0.9613242149353027),\n",
            "INFO:flwr:\t              (27, 0.9613242149353027),\n",
            "\u001b[92mINFO \u001b[0m:      \t              (28, 0.9608293175697327),\n",
            "INFO:flwr:\t              (28, 0.9608293175697327),\n",
            "\u001b[92mINFO \u001b[0m:      \t              (29, 0.9602075815200806),\n",
            "INFO:flwr:\t              (29, 0.9602075815200806),\n",
            "\u001b[92mINFO \u001b[0m:      \t              (30, 0.9601060748100281),\n",
            "INFO:flwr:\t              (30, 0.9601060748100281),\n",
            "\u001b[92mINFO \u001b[0m:      \t              (31, 0.9597127437591553),\n",
            "INFO:flwr:\t              (31, 0.9597127437591553),\n",
            "\u001b[92mINFO \u001b[0m:      \t              (32, 0.9589640498161316),\n",
            "INFO:flwr:\t              (32, 0.9589640498161316),\n",
            "\u001b[92mINFO \u001b[0m:      \t              (33, 0.9584565162658691),\n",
            "INFO:flwr:\t              (33, 0.9584565162658691),\n",
            "\u001b[92mINFO \u001b[0m:      \t              (34, 0.9589767456054688),\n",
            "INFO:flwr:\t              (34, 0.9589767456054688),\n",
            "\u001b[92mINFO \u001b[0m:      \t              (35, 0.9594462513923645),\n",
            "INFO:flwr:\t              (35, 0.9594462513923645),\n",
            "\u001b[92mINFO \u001b[0m:      \t              (36, 0.9582027196884155),\n",
            "INFO:flwr:\t              (36, 0.9582027196884155),\n",
            "\u001b[92mINFO \u001b[0m:      \t              (37, 0.9584565162658691),\n",
            "INFO:flwr:\t              (37, 0.9584565162658691),\n",
            "\u001b[92mINFO \u001b[0m:      \t              (38, 0.956997275352478),\n",
            "INFO:flwr:\t              (38, 0.956997275352478),\n",
            "\u001b[92mINFO \u001b[0m:      \t              (39, 0.9578855037689209),\n",
            "INFO:flwr:\t              (39, 0.9578855037689209),\n",
            "\u001b[92mINFO \u001b[0m:      \t              (40, 0.956794261932373)],\n",
            "INFO:flwr:\t              (40, 0.956794261932373)],\n",
            "\u001b[92mINFO \u001b[0m:      \t 'loss': [(0, 0.5633272528648376),\n",
            "INFO:flwr:\t 'loss': [(0, 0.5633272528648376),\n",
            "\u001b[92mINFO \u001b[0m:      \t          (1, 0.593224823474884),\n",
            "INFO:flwr:\t          (1, 0.593224823474884),\n",
            "\u001b[92mINFO \u001b[0m:      \t          (2, 0.8698111176490784),\n",
            "INFO:flwr:\t          (2, 0.8698111176490784),\n",
            "\u001b[92mINFO \u001b[0m:      \t          (3, 0.9248741269111633),\n",
            "INFO:flwr:\t          (3, 0.9248741269111633),\n",
            "\u001b[92mINFO \u001b[0m:      \t          (4, 1.1406844854354858),\n",
            "INFO:flwr:\t          (4, 1.1406844854354858),\n",
            "\u001b[92mINFO \u001b[0m:      \t          (5, 1.1973904371261597),\n",
            "INFO:flwr:\t          (5, 1.1973904371261597),\n",
            "\u001b[92mINFO \u001b[0m:      \t          (6, 1.2157864570617676),\n",
            "INFO:flwr:\t          (6, 1.2157864570617676),\n",
            "\u001b[92mINFO \u001b[0m:      \t          (7, 1.2410391569137573),\n",
            "INFO:flwr:\t          (7, 1.2410391569137573),\n",
            "\u001b[92mINFO \u001b[0m:      \t          (8, 1.2876172065734863),\n",
            "INFO:flwr:\t          (8, 1.2876172065734863),\n",
            "\u001b[92mINFO \u001b[0m:      \t          (9, 1.3448415994644165),\n",
            "INFO:flwr:\t          (9, 1.3448415994644165),\n",
            "\u001b[92mINFO \u001b[0m:      \t          (10, 1.377259373664856),\n",
            "INFO:flwr:\t          (10, 1.377259373664856),\n",
            "\u001b[92mINFO \u001b[0m:      \t          (11, 1.3616935014724731),\n",
            "INFO:flwr:\t          (11, 1.3616935014724731),\n",
            "\u001b[92mINFO \u001b[0m:      \t          (12, 1.5094852447509766),\n",
            "INFO:flwr:\t          (12, 1.5094852447509766),\n",
            "\u001b[92mINFO \u001b[0m:      \t          (13, 1.6048648357391357),\n",
            "INFO:flwr:\t          (13, 1.6048648357391357),\n",
            "\u001b[92mINFO \u001b[0m:      \t          (14, 1.6292552947998047),\n",
            "INFO:flwr:\t          (14, 1.6292552947998047),\n",
            "\u001b[92mINFO \u001b[0m:      \t          (15, 1.6762031316757202),\n",
            "INFO:flwr:\t          (15, 1.6762031316757202),\n",
            "\u001b[92mINFO \u001b[0m:      \t          (16, 1.7921123504638672),\n",
            "INFO:flwr:\t          (16, 1.7921123504638672),\n",
            "\u001b[92mINFO \u001b[0m:      \t          (17, 1.8987363576889038),\n",
            "INFO:flwr:\t          (17, 1.8987363576889038),\n",
            "\u001b[92mINFO \u001b[0m:      \t          (18, 1.9275610446929932),\n",
            "INFO:flwr:\t          (18, 1.9275610446929932),\n",
            "\u001b[92mINFO \u001b[0m:      \t          (19, 1.927960753440857),\n",
            "INFO:flwr:\t          (19, 1.927960753440857),\n",
            "\u001b[92mINFO \u001b[0m:      \t          (20, 1.8559390306472778),\n",
            "INFO:flwr:\t          (20, 1.8559390306472778),\n",
            "\u001b[92mINFO \u001b[0m:      \t          (21, 1.9612752199172974),\n",
            "INFO:flwr:\t          (21, 1.9612752199172974),\n",
            "\u001b[92mINFO \u001b[0m:      \t          (22, 1.9139714241027832),\n",
            "INFO:flwr:\t          (22, 1.9139714241027832),\n",
            "\u001b[92mINFO \u001b[0m:      \t          (23, 2.0630550384521484),\n",
            "INFO:flwr:\t          (23, 2.0630550384521484),\n",
            "\u001b[92mINFO \u001b[0m:      \t          (24, 2.05899715423584),\n",
            "INFO:flwr:\t          (24, 2.05899715423584),\n",
            "\u001b[92mINFO \u001b[0m:      \t          (25, 2.0931499004364014),\n",
            "INFO:flwr:\t          (25, 2.0931499004364014),\n",
            "\u001b[92mINFO \u001b[0m:      \t          (26, 2.107858419418335),\n",
            "INFO:flwr:\t          (26, 2.107858419418335),\n",
            "\u001b[92mINFO \u001b[0m:      \t          (27, 2.0857748985290527),\n",
            "INFO:flwr:\t          (27, 2.0857748985290527),\n",
            "\u001b[92mINFO \u001b[0m:      \t          (28, 2.174936294555664),\n",
            "INFO:flwr:\t          (28, 2.174936294555664),\n",
            "\u001b[92mINFO \u001b[0m:      \t          (29, 2.19726824760437),\n",
            "INFO:flwr:\t          (29, 2.19726824760437),\n",
            "\u001b[92mINFO \u001b[0m:      \t          (30, 2.224874973297119),\n",
            "INFO:flwr:\t          (30, 2.224874973297119),\n",
            "\u001b[92mINFO \u001b[0m:      \t          (31, 2.2805228233337402),\n",
            "INFO:flwr:\t          (31, 2.2805228233337402),\n",
            "\u001b[92mINFO \u001b[0m:      \t          (32, 2.3319032192230225),\n",
            "INFO:flwr:\t          (32, 2.3319032192230225),\n",
            "\u001b[92mINFO \u001b[0m:      \t          (33, 2.2670748233795166),\n",
            "INFO:flwr:\t          (33, 2.2670748233795166),\n",
            "\u001b[92mINFO \u001b[0m:      \t          (34, 2.378068447113037),\n",
            "INFO:flwr:\t          (34, 2.378068447113037),\n",
            "\u001b[92mINFO \u001b[0m:      \t          (35, 2.4169411659240723),\n",
            "INFO:flwr:\t          (35, 2.4169411659240723),\n",
            "\u001b[92mINFO \u001b[0m:      \t          (36, 2.565579891204834),\n",
            "INFO:flwr:\t          (36, 2.565579891204834),\n",
            "\u001b[92mINFO \u001b[0m:      \t          (37, 2.5098161697387695),\n",
            "INFO:flwr:\t          (37, 2.5098161697387695),\n",
            "\u001b[92mINFO \u001b[0m:      \t          (38, 2.596853494644165),\n",
            "INFO:flwr:\t          (38, 2.596853494644165),\n",
            "\u001b[92mINFO \u001b[0m:      \t          (39, 2.764934539794922),\n",
            "INFO:flwr:\t          (39, 2.764934539794922),\n",
            "\u001b[92mINFO \u001b[0m:      \t          (40, 2.746053457260132)]}\n",
            "INFO:flwr:\t          (40, 2.746053457260132)]}\n",
            "\u001b[92mINFO \u001b[0m:      \n",
            "INFO:flwr:\n"
          ]
        },
        {
          "name": "stdout",
          "output_type": "stream",
          "text": [
            "Training started at: Fri Jun  7 18:03:16 2024\n",
            "Training finished at: Fri Jun  7 19:02:29 2024\n",
            "Simulation time: 3552.93 seconds\n"
          ]
        }
      ],
      "source": [
        "import time\n",
        "\n",
        "start_time = time.time()\n",
        "\n",
        "# Start simulation\n",
        "history = fl.simulation.start_simulation(\n",
        "    client_fn=client_fnc,\n",
        "    num_clients=NUM_CLIENTS,\n",
        "    config=fl.server.ServerConfig(num_rounds=40),\n",
        "    strategy=strategy,\n",
        "    client_resources={\"num_cpus\": 1, \"num_gpus\": 0},\n",
        "    ray_init_args={\n",
        "        \"num_cpus\": 1,\n",
        "        \"num_gpus\": 0,\n",
        "        \"_system_config\": {\"automatic_object_spilling_enabled\": False},\n",
        "    },\n",
        ")\n",
        "\n",
        "end_time = time.time()\n",
        "simulation_time = end_time - start_time\n",
        "\n",
        "# Print the results\n",
        "print(\"Training started at:\", time.ctime(start_time))\n",
        "print(\"Training finished at:\", time.ctime(end_time))\n",
        "print(f\"Simulation time: {simulation_time:.2f} seconds\")"
      ]
    },
    {
      "cell_type": "markdown",
      "metadata": {
        "id": "iFnT-CsYmMNE"
      },
      "source": [
        "### 3 Clients for 40 local epochs\n"
      ]
    },
    {
      "cell_type": "code",
      "execution_count": null,
      "metadata": {
        "colab": {
          "base_uri": "https://localhost:8080/"
        },
        "id": "D9YJjk6q9Vuc",
        "outputId": "f63745b7-f25f-4d1e-c9e1-551febbbf596"
      },
      "outputs": [
        {
          "name": "stdout",
          "output_type": "stream",
          "text": [
            "<class 'list'>\n",
            "0\n",
            "              precision    recall  f1-score   support\n",
            "\n",
            "           0    0.94815   0.07082   0.13179      7230\n",
            "           1    0.91417   0.99961   0.95498     71579\n",
            "\n",
            "    accuracy                        0.91440     78809\n",
            "   macro avg    0.93116   0.53521   0.54338     78809\n",
            "weighted avg    0.91729   0.91440   0.87946     78809\n",
            "\n",
            "1\n",
            "              precision    recall  f1-score   support\n",
            "\n",
            "           0    0.38736   0.54412   0.45255      7230\n",
            "           1    0.95199   0.91308   0.93213     71579\n",
            "\n",
            "    accuracy                        0.87923     78809\n",
            "   macro avg    0.66967   0.72860   0.69234     78809\n",
            "weighted avg    0.90019   0.87923   0.88813     78809\n",
            "\n",
            "2\n",
            "              precision    recall  f1-score   support\n",
            "\n",
            "           0    0.33489   0.42545   0.37478      7230\n",
            "           1    0.94034   0.91465   0.92732     71579\n",
            "\n",
            "    accuracy                        0.86977     78809\n",
            "   macro avg    0.63762   0.67005   0.65105     78809\n",
            "weighted avg    0.88479   0.86977   0.87663     78809\n",
            "\n",
            "3\n",
            "              precision    recall  f1-score   support\n",
            "\n",
            "           0    0.42533   0.62047   0.50470      7230\n",
            "           1    0.95980   0.91532   0.93704     71579\n",
            "\n",
            "    accuracy                        0.88827     78809\n",
            "   macro avg    0.69257   0.76790   0.72087     78809\n",
            "weighted avg    0.91077   0.88827   0.89737     78809\n",
            "\n",
            "4\n",
            "              precision    recall  f1-score   support\n",
            "\n",
            "           0    0.40123   0.55934   0.46727      7230\n",
            "           1    0.95364   0.91569   0.93428     71579\n",
            "\n",
            "    accuracy                        0.88300     78809\n",
            "   macro avg    0.67744   0.73751   0.70078     78809\n",
            "weighted avg    0.90297   0.88300   0.89144     78809\n",
            "\n",
            "5\n",
            "              precision    recall  f1-score   support\n",
            "\n",
            "           0    0.40182   0.55726   0.46694      7230\n",
            "           1    0.95346   0.91620   0.93446     71579\n",
            "\n",
            "    accuracy                        0.88327     78809\n",
            "   macro avg    0.67764   0.73673   0.70070     78809\n",
            "weighted avg    0.90285   0.88327   0.89157     78809\n",
            "\n",
            "6\n",
            "              precision    recall  f1-score   support\n",
            "\n",
            "           0    0.39829   0.54869   0.46155      7230\n",
            "           1    0.95261   0.91627   0.93409     71579\n",
            "\n",
            "    accuracy                        0.88255     78809\n",
            "   macro avg    0.67545   0.73248   0.69782     78809\n",
            "weighted avg    0.90175   0.88255   0.89074     78809\n",
            "\n",
            "7\n",
            "              precision    recall  f1-score   support\n",
            "\n",
            "           0    0.40173   0.55920   0.46756      7230\n",
            "           1    0.95364   0.91588   0.93438     71579\n",
            "\n",
            "    accuracy                        0.88316     78809\n",
            "   macro avg    0.67768   0.73754   0.70097     78809\n",
            "weighted avg    0.90301   0.88316   0.89155     78809\n",
            "\n",
            "8\n",
            "              precision    recall  f1-score   support\n",
            "\n",
            "           0    0.40930   0.57732   0.47900      7230\n",
            "           1    0.95546   0.91584   0.93523     71579\n",
            "\n",
            "    accuracy                        0.88478     78809\n",
            "   macro avg    0.68238   0.74658   0.70712     78809\n",
            "weighted avg    0.90535   0.88478   0.89338     78809\n",
            "\n",
            "9\n",
            "              precision    recall  f1-score   support\n",
            "\n",
            "           0    0.41932   0.58008   0.48677      7230\n",
            "           1    0.95588   0.91886   0.93700     71579\n",
            "\n",
            "    accuracy                        0.88778     78809\n",
            "   macro avg    0.68760   0.74947   0.71189     78809\n",
            "weighted avg    0.90665   0.88778   0.89570     78809\n",
            "\n",
            "10\n",
            "              precision    recall  f1-score   support\n",
            "\n",
            "           0    0.40784   0.57261   0.47638      7230\n",
            "           1    0.95499   0.91602   0.93510     71579\n",
            "\n",
            "    accuracy                        0.88452     78809\n",
            "   macro avg    0.68142   0.74432   0.70574     78809\n",
            "weighted avg    0.90480   0.88452   0.89302     78809\n",
            "\n",
            "11\n",
            "              precision    recall  f1-score   support\n",
            "\n",
            "           0    0.41230   0.58396   0.48334      7230\n",
            "           1    0.95613   0.91593   0.93560     71579\n",
            "\n",
            "    accuracy                        0.88547     78809\n",
            "   macro avg    0.68422   0.74994   0.70947     78809\n",
            "weighted avg    0.90624   0.88547   0.89411     78809\n",
            "\n",
            "12\n",
            "              precision    recall  f1-score   support\n",
            "\n",
            "           0    0.42137   0.56404   0.48238      7230\n",
            "           1    0.95441   0.92176   0.93780     71579\n",
            "\n",
            "    accuracy                        0.88895     78809\n",
            "   macro avg    0.68789   0.74290   0.71009     78809\n",
            "weighted avg    0.90550   0.88895   0.89602     78809\n",
            "\n",
            "13\n",
            "              precision    recall  f1-score   support\n",
            "\n",
            "           0    0.42361   0.58409   0.49108      7230\n",
            "           1    0.95632   0.91973   0.93767     71579\n",
            "\n",
            "    accuracy                        0.88893     78809\n",
            "   macro avg    0.68997   0.75191   0.71437     78809\n",
            "weighted avg    0.90745   0.88893   0.89669     78809\n",
            "\n",
            "14\n",
            "              precision    recall  f1-score   support\n",
            "\n",
            "           0    0.43299   0.59115   0.49985      7230\n",
            "           1    0.95712   0.92181   0.93913     71579\n",
            "\n",
            "    accuracy                        0.89147     78809\n",
            "   macro avg    0.69505   0.75648   0.71949     78809\n",
            "weighted avg    0.90904   0.89147   0.89883     78809\n",
            "\n",
            "15\n",
            "              precision    recall  f1-score   support\n",
            "\n",
            "           0    0.90300   0.57815   0.70495      7230\n",
            "           1    0.95888   0.99373   0.97599     71579\n",
            "\n",
            "    accuracy                        0.95560     78809\n",
            "   macro avg    0.93094   0.78594   0.84047     78809\n",
            "weighted avg    0.95376   0.95560   0.95113     78809\n",
            "\n",
            "16\n",
            "              precision    recall  f1-score   support\n",
            "\n",
            "           0    0.98038   0.58755   0.73476      7230\n",
            "           1    0.95996   0.99881   0.97900     71579\n",
            "\n",
            "    accuracy                        0.96108     78809\n",
            "   macro avg    0.97017   0.79318   0.85688     78809\n",
            "weighted avg    0.96183   0.96108   0.95659     78809\n",
            "\n",
            "17\n",
            "              precision    recall  f1-score   support\n",
            "\n",
            "           0    0.98615   0.56141   0.71549      7230\n",
            "           1    0.95755   0.99920   0.97793     71579\n",
            "\n",
            "    accuracy                        0.95904     78809\n",
            "   macro avg    0.97185   0.78031   0.84671     78809\n",
            "weighted avg    0.96017   0.95904   0.95386     78809\n",
            "\n",
            "18\n",
            "              precision    recall  f1-score   support\n",
            "\n",
            "           0    0.98931   0.57607   0.72815      7230\n",
            "           1    0.95891   0.99937   0.97872     71579\n",
            "\n",
            "    accuracy                        0.96054     78809\n",
            "   macro avg    0.97411   0.78772   0.85344     78809\n",
            "weighted avg    0.96170   0.96054   0.95574     78809\n",
            "\n",
            "19\n",
            "              precision    recall  f1-score   support\n",
            "\n",
            "           0    0.99009   0.56639   0.72057      7230\n",
            "           1    0.95802   0.99943   0.97828     71579\n",
            "\n",
            "    accuracy                        0.95970     78809\n",
            "   macro avg    0.97405   0.78291   0.84943     78809\n",
            "weighted avg    0.96096   0.95970   0.95464     78809\n",
            "\n",
            "20\n",
            "              precision    recall  f1-score   support\n",
            "\n",
            "           0    0.99035   0.58216   0.73328      7230\n",
            "           1    0.95948   0.99943   0.97905     71579\n",
            "\n",
            "    accuracy                        0.96115     78809\n",
            "   macro avg    0.97492   0.79079   0.85616     78809\n",
            "weighted avg    0.96231   0.96115   0.95650     78809\n",
            "\n",
            "21\n",
            "              precision    recall  f1-score   support\n",
            "\n",
            "           0    0.99207   0.58866   0.73889      7230\n",
            "           1    0.96009   0.99953   0.97941     71579\n",
            "\n",
            "    accuracy                        0.96183     78809\n",
            "   macro avg    0.97608   0.79409   0.85915     78809\n",
            "weighted avg    0.96302   0.96183   0.95735     78809\n",
            "\n",
            "22\n",
            "              precision    recall  f1-score   support\n",
            "\n",
            "           0    0.99288   0.57898   0.73143      7230\n",
            "           1    0.95919   0.99958   0.97897     71579\n",
            "\n",
            "    accuracy                        0.96099     78809\n",
            "   macro avg    0.97604   0.78928   0.85520     78809\n",
            "weighted avg    0.96228   0.96099   0.95626     78809\n",
            "\n",
            "23\n",
            "              precision    recall  f1-score   support\n",
            "\n",
            "           0    0.99236   0.55685   0.71339      7230\n",
            "           1    0.95714   0.99957   0.97789     71579\n",
            "\n",
            "    accuracy                        0.95895     78809\n",
            "   macro avg    0.97475   0.77821   0.84564     78809\n",
            "weighted avg    0.96037   0.95895   0.95363     78809\n",
            "\n",
            "24\n",
            "              precision    recall  f1-score   support\n",
            "\n",
            "           0    0.98822   0.55712   0.71254      7230\n",
            "           1    0.95715   0.99933   0.97779     71579\n",
            "\n",
            "    accuracy                        0.95876     78809\n",
            "   macro avg    0.97269   0.77823   0.84516     78809\n",
            "weighted avg    0.96000   0.95876   0.95345     78809\n",
            "\n",
            "25\n",
            "              precision    recall  f1-score   support\n",
            "\n",
            "           0    0.99532   0.55837   0.71540      7230\n",
            "           1    0.95729   0.99973   0.97805     71579\n",
            "\n",
            "    accuracy                        0.95924     78809\n",
            "   macro avg    0.97630   0.77905   0.84672     78809\n",
            "weighted avg    0.96077   0.95924   0.95395     78809\n",
            "\n",
            "26\n",
            "              precision    recall  f1-score   support\n",
            "\n",
            "           0    0.99590   0.57095   0.72580      7230\n",
            "           1    0.95845   0.99976   0.97867     71579\n",
            "\n",
            "    accuracy                        0.96042     78809\n",
            "   macro avg    0.97718   0.78536   0.85224     78809\n",
            "weighted avg    0.96189   0.96042   0.95547     78809\n",
            "\n",
            "27\n",
            "              precision    recall  f1-score   support\n",
            "\n",
            "           0    0.99573   0.58091   0.73375      7230\n",
            "           1    0.95938   0.99975   0.97915     71579\n",
            "\n",
            "    accuracy                        0.96132     78809\n",
            "   macro avg    0.97756   0.79033   0.85645     78809\n",
            "weighted avg    0.96271   0.96132   0.95663     78809\n",
            "\n",
            "28\n",
            "              precision    recall  f1-score   support\n",
            "\n",
            "           0    0.99522   0.57580   0.72952      7230\n",
            "           1    0.95890   0.99972   0.97889     71579\n",
            "\n",
            "    accuracy                        0.96083     78809\n",
            "   macro avg    0.97706   0.78776   0.85420     78809\n",
            "weighted avg    0.96223   0.96083   0.95601     78809\n",
            "\n",
            "29\n",
            "              precision    recall  f1-score   support\n",
            "\n",
            "           0    0.99564   0.56874   0.72394      7230\n",
            "           1    0.95825   0.99975   0.97856     71579\n",
            "\n",
            "    accuracy                        0.96021     78809\n",
            "   macro avg    0.97694   0.78424   0.85125     78809\n",
            "weighted avg    0.96168   0.96021   0.95520     78809\n",
            "\n",
            "30\n",
            "              precision    recall  f1-score   support\n",
            "\n",
            "           0    0.99515   0.56791   0.72314      7230\n",
            "           1    0.95817   0.99972   0.97850     71579\n",
            "\n",
            "    accuracy                        0.96011     78809\n",
            "   macro avg    0.97666   0.78382   0.85082     78809\n",
            "weighted avg    0.96156   0.96011   0.95508     78809\n",
            "\n",
            "31\n",
            "              precision    recall  f1-score   support\n",
            "\n",
            "           0    0.99487   0.56376   0.71970      7230\n",
            "           1    0.95778   0.99971   0.97830     71579\n",
            "\n",
            "    accuracy                        0.95971     78809\n",
            "   macro avg    0.97633   0.78173   0.84900     78809\n",
            "weighted avg    0.96119   0.95971   0.95457     78809\n",
            "\n",
            "32\n",
            "              precision    recall  f1-score   support\n",
            "\n",
            "           0    0.99554   0.55519   0.71284      7230\n",
            "           1    0.95699   0.99975   0.97790     71579\n",
            "\n",
            "    accuracy                        0.95896     78809\n",
            "   macro avg    0.97626   0.77747   0.84537     78809\n",
            "weighted avg    0.96053   0.95896   0.95359     78809\n",
            "\n",
            "33\n",
            "              precision    recall  f1-score   support\n",
            "\n",
            "           0    0.99425   0.55035   0.70851      7230\n",
            "           1    0.95654   0.99968   0.97763     71579\n",
            "\n",
            "    accuracy                        0.95846     78809\n",
            "   macro avg    0.97540   0.77501   0.84307     78809\n",
            "weighted avg    0.96000   0.95846   0.95294     78809\n",
            "\n",
            "34\n",
            "              precision    recall  f1-score   support\n",
            "\n",
            "           0    0.99554   0.55533   0.71295      7230\n",
            "           1    0.95700   0.99975   0.97791     71579\n",
            "\n",
            "    accuracy                        0.95898     78809\n",
            "   macro avg    0.97627   0.77754   0.84543     78809\n",
            "weighted avg    0.96054   0.95898   0.95360     78809\n",
            "\n",
            "35\n",
            "              precision    recall  f1-score   support\n",
            "\n",
            "           0    0.99436   0.56113   0.71742      7230\n",
            "           1    0.95754   0.99968   0.97816     71579\n",
            "\n",
            "    accuracy                        0.95945     78809\n",
            "   macro avg    0.97595   0.78041   0.84779     78809\n",
            "weighted avg    0.96092   0.95945   0.95424     78809\n",
            "\n",
            "36\n",
            "              precision    recall  f1-score   support\n",
            "\n",
            "           0    0.99572   0.54675   0.70589      7230\n",
            "           1    0.95621   0.99976   0.97750     71579\n",
            "\n",
            "    accuracy                        0.95820     78809\n",
            "   macro avg    0.97597   0.77326   0.84170     78809\n",
            "weighted avg    0.95984   0.95820   0.95259     78809\n",
            "\n",
            "37\n",
            "              precision    recall  f1-score   support\n",
            "\n",
            "           0    0.99524   0.54979   0.70830      7230\n",
            "           1    0.95649   0.99973   0.97764     71579\n",
            "\n",
            "    accuracy                        0.95846     78809\n",
            "   macro avg    0.97587   0.77476   0.84297     78809\n",
            "weighted avg    0.96005   0.95846   0.95293     78809\n",
            "\n",
            "38\n",
            "              precision    recall  f1-score   support\n",
            "\n",
            "           0    0.96535   0.55104   0.70159      7230\n",
            "           1    0.95654   0.99800   0.97683     71579\n",
            "\n",
            "    accuracy                        0.95700     78809\n",
            "   macro avg    0.96094   0.77452   0.83921     78809\n",
            "weighted avg    0.95734   0.95700   0.95158     78809\n",
            "\n",
            "39\n",
            "              precision    recall  f1-score   support\n",
            "\n",
            "           0    0.99645   0.54288   0.70284      7230\n",
            "           1    0.95586   0.99980   0.97734     71579\n",
            "\n",
            "    accuracy                        0.95789     78809\n",
            "   macro avg    0.97615   0.77134   0.84009     78809\n",
            "weighted avg    0.95958   0.95789   0.95215     78809\n",
            "\n",
            "40\n",
            "              precision    recall  f1-score   support\n",
            "\n",
            "           0    0.95612   0.55450   0.70192      7230\n",
            "           1    0.95683   0.99743   0.97671     71579\n",
            "\n",
            "    accuracy                        0.95679     78809\n",
            "   macro avg    0.95647   0.77596   0.83931     78809\n",
            "weighted avg    0.95677   0.95679   0.95150     78809\n",
            "\n"
          ]
        }
      ],
      "source": [
        "var = history.metrics_centralized['Centralised report']\n",
        "print(type(var))\n",
        "for i in var:\n",
        "  for pair in i:\n",
        "    print(pair)"
      ]
    },
    {
      "cell_type": "code",
      "execution_count": 1,
      "metadata": {},
      "outputs": [],
      "source": [
        "import matplotlib.pyplot as plt"
      ]
    },
    {
      "cell_type": "code",
      "execution_count": 2,
      "metadata": {},
      "outputs": [],
      "source": [
        "\"\"\"\n",
        "The function below takes the accuracy and loss both of type list as an argument and\n",
        "plot them on two separate graphs.\n",
        "\"\"\"\n",
        "def figures(acc_values, loss_values):\n",
        "    plt.plot(acc_values)\n",
        "    plt.legend(['Accuracy'], loc = 'lower right')\n",
        "    plt.ylabel('Test Accuracy')\n",
        "    plt.xlabel('Rounds')\n",
        "    plt.title(f\"Accuracy curve: Federated learning with {NUM_CLIENTS} clients\")\n",
        "    plt.show()"
      ]
    },
    {
      "cell_type": "code",
      "execution_count": null,
      "metadata": {
        "colab": {
          "base_uri": "https://localhost:8080/",
          "height": 965
        },
        "id": "b4rYTVUO9nsJ",
        "outputId": "5bd6b7d0-cfb4-4b2d-8dcf-b0750461065a"
      },
      "outputs": [],
      "source": [
        "accuracy = history.metrics_centralized['accuracy']\n",
        "acc_values = [item[1] for item in accuracy]\n",
        "loss = history.metrics_centralized['loss']\n",
        "loss_values = [item[1] for item in loss]\n"
      ]
    },
    {
      "cell_type": "code",
      "execution_count": 9,
      "metadata": {},
      "outputs": [
        {
          "ename": "NameError",
          "evalue": "name 'NUM_CLIENTS' is not defined",
          "output_type": "error",
          "traceback": [
            "\u001b[1;31m---------------------------------------------------------------------------\u001b[0m",
            "\u001b[1;31mNameError\u001b[0m                                 Traceback (most recent call last)",
            "Cell \u001b[1;32mIn[9], line 2\u001b[0m\n\u001b[0;32m      1\u001b[0m loss_values \u001b[38;5;241m=\u001b[39m \u001b[38;5;28;01mNone\u001b[39;00m\n\u001b[1;32m----> 2\u001b[0m \u001b[43mfigures\u001b[49m\u001b[43m(\u001b[49m\u001b[43macc_values\u001b[49m\u001b[43m,\u001b[49m\u001b[43m \u001b[49m\u001b[43mloss_values\u001b[49m\u001b[43m)\u001b[49m\n",
            "Cell \u001b[1;32mIn[2], line 10\u001b[0m, in \u001b[0;36mfigures\u001b[1;34m(acc_values, loss_values)\u001b[0m\n\u001b[0;32m      8\u001b[0m plt\u001b[38;5;241m.\u001b[39mylabel(\u001b[38;5;124m'\u001b[39m\u001b[38;5;124mTest Accuracy\u001b[39m\u001b[38;5;124m'\u001b[39m)\n\u001b[0;32m      9\u001b[0m plt\u001b[38;5;241m.\u001b[39mxlabel(\u001b[38;5;124m'\u001b[39m\u001b[38;5;124mRounds\u001b[39m\u001b[38;5;124m'\u001b[39m)\n\u001b[1;32m---> 10\u001b[0m plt\u001b[38;5;241m.\u001b[39mtitle(\u001b[38;5;124mf\u001b[39m\u001b[38;5;124m\"\u001b[39m\u001b[38;5;124mAccuracy curve: Federated learning with \u001b[39m\u001b[38;5;132;01m{\u001b[39;00m\u001b[43mNUM_CLIENTS\u001b[49m\u001b[38;5;132;01m}\u001b[39;00m\u001b[38;5;124m clients\u001b[39m\u001b[38;5;124m\"\u001b[39m)\n\u001b[0;32m     11\u001b[0m plt\u001b[38;5;241m.\u001b[39mshow()\n",
            "\u001b[1;31mNameError\u001b[0m: name 'NUM_CLIENTS' is not defined"
          ]
        },
        {
          "data": {
            "image/png": "[encoded data removed]",
            "text/plain": [
              "<Figure size 640x480 with 1 Axes>"
            ]
          },
          "metadata": {},
          "output_type": "display_data"
        }
      ],
      "source": [
        "loss_values = None\n",
        "NUM\n",
        "figures(acc_values, loss_values)"
      ]
    },
    {
      "cell_type": "code",
      "execution_count": 5,
      "metadata": {},
      "outputs": [],
      "source": [
        "acc_values = [0.5211841464042664, 0.9560964107513428, 0.9566927552223206, 0.956794261932373, 0.9567181468009949, 0.9569211602210999, 0.9578601717948914, 0.9571495652198792, 0.957136869430542, 0.9579870104789734, 0.9578093886375427, 0.9610450863838196, 0.9610450863838196, 0.9619206190109253, 0.962922990322113, 0.9612988233566284, 0.9614891409873962, 0.9626946449279785, 0.9615399241447449, 0.9636970162391663, 0.9644837379455566, 0.9644457101821899, 0.9634559750556946, 0.9637097120285034, 0.9652197360992432, 0.9629610776901245, 0.9632909893989563, 0.9627453684806824, 0.9640396237373352, 0.9631894826889038, 0.9621363282203674, 0.9619079232215881, 0.9618825316429138, 0.9620601534843445, 0.9625169634819031, 0.9625804424285889, 0.963202178478241, 0.964026927947998, 0.964369535446167, 0.9643568396568298, 0.9644710421562195]"
      ]
    },
    {
      "cell_type": "code",
      "execution_count": null,
      "metadata": {
        "id": "HVSziN31-MUD"
      },
      "outputs": [],
      "source": []
    },
    {
      "cell_type": "code",
      "execution_count": null,
      "metadata": {
        "colab": {
          "base_uri": "https://localhost:8080/",
          "height": 965
        },
        "id": "z6tplKR8hY0O",
        "outputId": "4a8b2e70-8877-4d74-a8eb-d354539d3f6e"
      },
      "outputs": [
        {
          "name": "stdout",
          "output_type": "stream",
          "text": [
            "[0.11590077728033066, 0.936072587966919, 0.942799985408783, 0.9460256695747375, 0.9436279535293579, 0.9463878870010376, 0.9458186626434326, 0.9480611085891724, 0.9474229216575623, 0.9498205780982971, 0.9532532691955566, 0.9503898620605469, 0.9528220295906067, 0.9546160101890564, 0.9528048038482666, 0.9522528052330017, 0.9540295600891113, 0.950493335723877, 0.9531843066215515, 0.9518043398857117, 0.9490788578987122]\n"
          ]
        },
        {
          "data": {
            "image/png": "[encoded data removed]",
            "text/plain": [
              "<Figure size 640x480 with 1 Axes>"
            ]
          },
          "metadata": {},
          "output_type": "display_data"
        },
        {
          "data": {
            "image/png": "[encoded data removed]",
            "text/plain": [
              "<Figure size 640x480 with 1 Axes>"
            ]
          },
          "metadata": {},
          "output_type": "display_data"
        }
      ],
      "source": [
        "accuracy3 = history.metrics_centralized['accuracy']\n",
        "acc_values3 = [item[1] for item in accuracy3]\n",
        "loss3 = history.metrics_centralized['loss']\n",
        "loss_values3 = [item[1] for item in loss3]\n",
        "print(acc_values3)\n",
        "figures(acc_values3, loss_values3)\n"
      ]
    },
    {
      "cell_type": "code",
      "execution_count": null,
      "metadata": {
        "colab": {
          "base_uri": "https://localhost:8080/"
        },
        "id": "m14Fy1rnQiOh",
        "outputId": "2611e75e-ddec-4808-c42a-3fa45ceaef80"
      },
      "outputs": [
        {
          "name": "stderr",
          "output_type": "stream",
          "text": [
            "/usr/local/lib/python3.10/dist-packages/ipykernel/ipkernel.py:283: DeprecationWarning: `should_run_async` will not call `transform_cell` automatically in the future. Please pass the result to `transformed_cell` argument and any exception that happen during thetransform in `preprocessing_exc_tuple` in IPython 7.17 and above.\n",
            "  and should_run_async(code)\n"
          ]
        },
        {
          "name": "stdout",
          "output_type": "stream",
          "text": [
            "<class 'list'>\n",
            "0\n",
            "              precision    recall  f1-score   support\n",
            "\n",
            "           0    0.09419   0.58381   0.16220      6771\n",
            "           1    0.82390   0.25749   0.39236     51201\n",
            "\n",
            "    accuracy                        0.29561     57972\n",
            "   macro avg    0.45904   0.42065   0.27728     57972\n",
            "weighted avg    0.73867   0.29561   0.36548     57972\n",
            "\n",
            "1\n",
            "              precision    recall  f1-score   support\n",
            "\n",
            "           0    0.91061   0.35357   0.50936      6771\n",
            "           1    0.92091   0.99541   0.95671     51201\n",
            "\n",
            "    accuracy                        0.92044     57972\n",
            "   macro avg    0.91576   0.67449   0.73304     57972\n",
            "weighted avg    0.91971   0.92044   0.90446     57972\n",
            "\n",
            "2\n",
            "              precision    recall  f1-score   support\n",
            "\n",
            "           0    0.90680   0.37218   0.52775      6771\n",
            "           1    0.92298   0.99494   0.95761     51201\n",
            "\n",
            "    accuracy                        0.92220     57972\n",
            "   macro avg    0.91489   0.68356   0.74268     57972\n",
            "weighted avg    0.92109   0.92220   0.90740     57972\n",
            "\n",
            "3\n",
            "              precision    recall  f1-score   support\n",
            "\n",
            "           0    0.90735   0.36450   0.52007      6771\n",
            "           1    0.92212   0.99508   0.95721     51201\n",
            "\n",
            "    accuracy                        0.92143     57972\n",
            "   macro avg    0.91474   0.67979   0.73864     57972\n",
            "weighted avg    0.92040   0.92143   0.90615     57972\n",
            "\n",
            "4\n",
            "              precision    recall  f1-score   support\n",
            "\n",
            "           0    0.91182   0.36346   0.51975      6771\n",
            "           1    0.92202   0.99535   0.95729     51201\n",
            "\n",
            "    accuracy                        0.92155     57972\n",
            "   macro avg    0.91692   0.67941   0.73852     57972\n",
            "weighted avg    0.92083   0.92155   0.90618     57972\n",
            "\n",
            "5\n",
            "              precision    recall  f1-score   support\n",
            "\n",
            "           0    0.91554   0.36981   0.52683      6771\n",
            "           1    0.92275   0.99549   0.95774     51201\n",
            "\n",
            "    accuracy                        0.92241     57972\n",
            "   macro avg    0.91915   0.68265   0.74228     57972\n",
            "weighted avg    0.92191   0.92241   0.90741     57972\n",
            "\n",
            "6\n",
            "              precision    recall  f1-score   support\n",
            "\n",
            "           0    0.91620   0.38429   0.54146      6771\n",
            "           1    0.92438   0.99535   0.95855     51201\n",
            "\n",
            "    accuracy                        0.92398     57972\n",
            "   macro avg    0.92029   0.68982   0.75001     57972\n",
            "weighted avg    0.92343   0.92398   0.90984     57972\n",
            "\n",
            "7\n",
            "              precision    recall  f1-score   support\n",
            "\n",
            "           0    0.91690   0.38621   0.54349      6771\n",
            "           1    0.92460   0.99537   0.95868     51201\n",
            "\n",
            "    accuracy                        0.92422     57972\n",
            "   macro avg    0.92075   0.69079   0.75109     57972\n",
            "weighted avg    0.92370   0.92422   0.91019     57972\n",
            "\n",
            "8\n",
            "              precision    recall  f1-score   support\n",
            "\n",
            "           0    0.91603   0.38827   0.54538      6771\n",
            "           1    0.92483   0.99529   0.95877     51201\n",
            "\n",
            "    accuracy                        0.92439     57972\n",
            "   macro avg    0.92043   0.69178   0.75207     57972\n",
            "weighted avg    0.92380   0.92439   0.91049     57972\n",
            "\n",
            "9\n",
            "              precision    recall  f1-score   support\n",
            "\n",
            "           0    0.91629   0.38798   0.54513      6771\n",
            "           1    0.92480   0.99531   0.95876     51201\n",
            "\n",
            "    accuracy                        0.92438     57972\n",
            "   macro avg    0.92054   0.69165   0.75195     57972\n",
            "weighted avg    0.92380   0.92438   0.91045     57972\n",
            "\n",
            "10\n",
            "              precision    recall  f1-score   support\n",
            "\n",
            "           0    0.91446   0.39315   0.54989      6771\n",
            "           1    0.92537   0.99514   0.95899     51201\n",
            "\n",
            "    accuracy                        0.92483     57972\n",
            "   macro avg    0.91992   0.69414   0.75444     57972\n",
            "weighted avg    0.92410   0.92483   0.91121     57972\n",
            "\n",
            "11\n",
            "              precision    recall  f1-score   support\n",
            "\n",
            "           0    0.91486   0.39359   0.55039      6771\n",
            "           1    0.92543   0.99516   0.95903     51201\n",
            "\n",
            "    accuracy                        0.92489     57972\n",
            "   macro avg    0.92014   0.69437   0.75471     57972\n",
            "weighted avg    0.92419   0.92489   0.91130     57972\n",
            "\n",
            "12\n",
            "              precision    recall  f1-score   support\n",
            "\n",
            "           0    0.91528   0.39891   0.55565      6771\n",
            "           1    0.92603   0.99512   0.95933     51201\n",
            "\n",
            "    accuracy                        0.92548     57972\n",
            "   macro avg    0.92066   0.69701   0.75749     57972\n",
            "weighted avg    0.92477   0.92548   0.91218     57972\n",
            "\n",
            "13\n",
            "              precision    recall  f1-score   support\n",
            "\n",
            "           0    0.91375   0.40053   0.55694      6771\n",
            "           1    0.92621   0.99500   0.95937     51201\n",
            "\n",
            "    accuracy                        0.92557     57972\n",
            "   macro avg    0.91998   0.69777   0.75815     57972\n",
            "weighted avg    0.92475   0.92557   0.91237     57972\n",
            "\n",
            "14\n",
            "              precision    recall  f1-score   support\n",
            "\n",
            "           0    0.91390   0.40600   0.56223      6771\n",
            "           1    0.92682   0.99494   0.95968     51201\n",
            "\n",
            "    accuracy                        0.92615     57972\n",
            "   macro avg    0.92036   0.70047   0.76095     57972\n",
            "weighted avg    0.92531   0.92615   0.91325     57972\n",
            "\n",
            "15\n",
            "              precision    recall  f1-score   support\n",
            "\n",
            "           0    0.91485   0.41412   0.57015      6771\n",
            "           1    0.92775   0.99490   0.96015     51201\n",
            "\n",
            "    accuracy                        0.92707     57972\n",
            "   macro avg    0.92130   0.70451   0.76515     57972\n",
            "weighted avg    0.92624   0.92707   0.91460     57972\n",
            "\n",
            "16\n",
            "              precision    recall  f1-score   support\n",
            "\n",
            "           0    0.91697   0.41427   0.57070      6771\n",
            "           1    0.92778   0.99504   0.96023     51201\n",
            "\n",
            "    accuracy                        0.92721     57972\n",
            "   macro avg    0.92237   0.70465   0.76547     57972\n",
            "weighted avg    0.92651   0.92721   0.91474     57972\n",
            "\n",
            "17\n",
            "              precision    recall  f1-score   support\n",
            "\n",
            "           0    0.91836   0.42032   0.57670      6771\n",
            "           1    0.92847   0.99506   0.96061     51201\n",
            "\n",
            "    accuracy                        0.92793     57972\n",
            "   macro avg    0.92342   0.70769   0.76865     57972\n",
            "weighted avg    0.92729   0.92793   0.91577     57972\n",
            "\n",
            "18\n",
            "              precision    recall  f1-score   support\n",
            "\n",
            "           0    0.92035   0.41811   0.57500      6771\n",
            "           1    0.92823   0.99521   0.96055     51201\n",
            "\n",
            "    accuracy                        0.92781     57972\n",
            "   macro avg    0.92429   0.70666   0.76778     57972\n",
            "weighted avg    0.92731   0.92781   0.91552     57972\n",
            "\n",
            "19\n",
            "              precision    recall  f1-score   support\n",
            "\n",
            "           0    0.92067   0.42505   0.58159      6771\n",
            "           1    0.92902   0.99516   0.96095     51201\n",
            "\n",
            "    accuracy                        0.92857     57972\n",
            "   macro avg    0.92484   0.71010   0.77127     57972\n",
            "weighted avg    0.92804   0.92857   0.91664     57972\n",
            "\n",
            "20\n",
            "              precision    recall  f1-score   support\n",
            "\n",
            "           0    0.92148   0.41944   0.57647      6771\n",
            "           1    0.92838   0.99527   0.96067     51201\n",
            "\n",
            "    accuracy                        0.92802     57972\n",
            "   macro avg    0.92493   0.70735   0.76857     57972\n",
            "weighted avg    0.92758   0.92802   0.91579     57972\n",
            "\n"
          ]
        }
      ],
      "source": [
        "var2 = history.metrics_centralized['Centralised report']\n",
        "print(type(var2))\n",
        "for i in var2:\n",
        "  for pair in i:\n",
        "    print(pair)"
      ]
    }
  ],
  "metadata": {
    "colab": {
      "provenance": []
    },
    "kernelspec": {
      "display_name": "Python 3",
      "name": "python3"
    },
    "language_info": {
      "codemirror_mode": {
        "name": "ipython",
        "version": 3
      },
      "file_extension": ".py",
      "mimetype": "text/x-python",
      "name": "python",
      "nbconvert_exporter": "python",
      "pygments_lexer": "ipython3",
      "version": "3.11.0"
    }
  },
  "nbformat": 4,
  "nbformat_minor": 0
}
