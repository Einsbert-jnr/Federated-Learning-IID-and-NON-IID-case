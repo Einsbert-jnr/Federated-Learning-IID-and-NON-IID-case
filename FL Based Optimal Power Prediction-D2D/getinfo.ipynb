{
 "cells": [
  {
   "cell_type": "code",
   "execution_count": 6,
   "id": "394eab9c",
   "metadata": {},
   "outputs": [],
   "source": [
    "import pandas as pd \n",
    "import numpy as np\n",
    "from sklearn.model_selection import train_test_split\n",
    "\n",
    "from sklearn.utils import shuffle"
   ]
  },
  {
   "cell_type": "code",
   "execution_count": 2,
   "id": "f2600f12",
   "metadata": {},
   "outputs": [
    {
     "data": {
      "text/html": [
       "<div>\n",
       "<style scoped>\n",
       "    .dataframe tbody tr th:only-of-type {\n",
       "        vertical-align: middle;\n",
       "    }\n",
       "\n",
       "    .dataframe tbody tr th {\n",
       "        vertical-align: top;\n",
       "    }\n",
       "\n",
       "    .dataframe thead th {\n",
       "        text-align: right;\n",
       "    }\n",
       "</style>\n",
       "<table border=\"1\" class=\"dataframe\">\n",
       "  <thead>\n",
       "    <tr style=\"text-align: right;\">\n",
       "      <th></th>\n",
       "      <th>D2D_Distance_m</th>\n",
       "      <th>D2DTx_BS_Dist_m</th>\n",
       "      <th>CUE_BS_Distance_m</th>\n",
       "      <th>D2DTx_CUE_Dist_m</th>\n",
       "      <th>CUE_D2DRx_Dist_m</th>\n",
       "      <th>D2D_ChanGain_linear</th>\n",
       "      <th>D2DTx_BS_Intf_linear</th>\n",
       "      <th>CUE_BS_ChanGain_linear</th>\n",
       "      <th>CUE_D2DRx_Intf_linear</th>\n",
       "      <th>Rx_Sensitivity_dBm</th>\n",
       "      <th>Max_Tx_Power_dBm</th>\n",
       "      <th>Noise_Power_dBm</th>\n",
       "      <th>Intf_Threshold_dBm</th>\n",
       "      <th>Target_SINR_dB</th>\n",
       "      <th>Network_Load</th>\n",
       "      <th>OptimalPower_dBm</th>\n",
       "      <th>CommMode</th>\n",
       "    </tr>\n",
       "  </thead>\n",
       "  <tbody>\n",
       "    <tr>\n",
       "      <th>0</th>\n",
       "      <td>201.211615</td>\n",
       "      <td>922.570686</td>\n",
       "      <td>124.324642</td>\n",
       "      <td>1044.087199</td>\n",
       "      <td>1172.119112</td>\n",
       "      <td>6.518009e-11</td>\n",
       "      <td>8.832627e-14</td>\n",
       "      <td>6.861038e-11</td>\n",
       "      <td>6.402042e-15</td>\n",
       "      <td>-98.075036</td>\n",
       "      <td>22.970162</td>\n",
       "      <td>-95</td>\n",
       "      <td>-104.299580</td>\n",
       "      <td>15.183297</td>\n",
       "      <td>0.889636</td>\n",
       "      <td>22.059535</td>\n",
       "      <td>1</td>\n",
       "    </tr>\n",
       "    <tr>\n",
       "      <th>1</th>\n",
       "      <td>150.932859</td>\n",
       "      <td>708.178152</td>\n",
       "      <td>541.841161</td>\n",
       "      <td>985.746752</td>\n",
       "      <td>987.611809</td>\n",
       "      <td>4.170933e-11</td>\n",
       "      <td>5.244750e-13</td>\n",
       "      <td>2.145787e-13</td>\n",
       "      <td>1.766654e-14</td>\n",
       "      <td>-95.469910</td>\n",
       "      <td>21.734840</td>\n",
       "      <td>-95</td>\n",
       "      <td>-104.820289</td>\n",
       "      <td>14.655980</td>\n",
       "      <td>0.588380</td>\n",
       "      <td>-100.000000</td>\n",
       "      <td>0</td>\n",
       "    </tr>\n",
       "    <tr>\n",
       "      <th>2</th>\n",
       "      <td>269.648032</td>\n",
       "      <td>789.234107</td>\n",
       "      <td>174.643208</td>\n",
       "      <td>952.718804</td>\n",
       "      <td>733.783890</td>\n",
       "      <td>3.951149e-12</td>\n",
       "      <td>7.509224e-14</td>\n",
       "      <td>2.490961e-11</td>\n",
       "      <td>1.127784e-12</td>\n",
       "      <td>-97.581502</td>\n",
       "      <td>20.968869</td>\n",
       "      <td>-95</td>\n",
       "      <td>-101.024069</td>\n",
       "      <td>12.708323</td>\n",
       "      <td>0.495074</td>\n",
       "      <td>-100.000000</td>\n",
       "      <td>0</td>\n",
       "    </tr>\n",
       "    <tr>\n",
       "      <th>3</th>\n",
       "      <td>303.182032</td>\n",
       "      <td>845.337757</td>\n",
       "      <td>159.219168</td>\n",
       "      <td>1004.103428</td>\n",
       "      <td>878.698923</td>\n",
       "      <td>4.911919e-12</td>\n",
       "      <td>5.377405e-14</td>\n",
       "      <td>3.729042e-11</td>\n",
       "      <td>3.695547e-14</td>\n",
       "      <td>-96.238655</td>\n",
       "      <td>21.067918</td>\n",
       "      <td>-95</td>\n",
       "      <td>-101.210769</td>\n",
       "      <td>10.143935</td>\n",
       "      <td>0.204465</td>\n",
       "      <td>-100.000000</td>\n",
       "      <td>0</td>\n",
       "    </tr>\n",
       "    <tr>\n",
       "      <th>4</th>\n",
       "      <td>284.604191</td>\n",
       "      <td>631.272314</td>\n",
       "      <td>201.813781</td>\n",
       "      <td>508.132562</td>\n",
       "      <td>728.304811</td>\n",
       "      <td>2.561795e-12</td>\n",
       "      <td>2.601360e-13</td>\n",
       "      <td>1.026536e-11</td>\n",
       "      <td>2.350630e-13</td>\n",
       "      <td>-98.293468</td>\n",
       "      <td>20.488803</td>\n",
       "      <td>-95</td>\n",
       "      <td>-104.647156</td>\n",
       "      <td>16.424193</td>\n",
       "      <td>0.123860</td>\n",
       "      <td>-100.000000</td>\n",
       "      <td>0</td>\n",
       "    </tr>\n",
       "  </tbody>\n",
       "</table>\n",
       "</div>"
      ],
      "text/plain": [
       "   D2D_Distance_m  D2DTx_BS_Dist_m  CUE_BS_Distance_m  D2DTx_CUE_Dist_m  \\\n",
       "0      201.211615       922.570686         124.324642       1044.087199   \n",
       "1      150.932859       708.178152         541.841161        985.746752   \n",
       "2      269.648032       789.234107         174.643208        952.718804   \n",
       "3      303.182032       845.337757         159.219168       1004.103428   \n",
       "4      284.604191       631.272314         201.813781        508.132562   \n",
       "\n",
       "   CUE_D2DRx_Dist_m  D2D_ChanGain_linear  D2DTx_BS_Intf_linear  \\\n",
       "0       1172.119112         6.518009e-11          8.832627e-14   \n",
       "1        987.611809         4.170933e-11          5.244750e-13   \n",
       "2        733.783890         3.951149e-12          7.509224e-14   \n",
       "3        878.698923         4.911919e-12          5.377405e-14   \n",
       "4        728.304811         2.561795e-12          2.601360e-13   \n",
       "\n",
       "   CUE_BS_ChanGain_linear  CUE_D2DRx_Intf_linear  Rx_Sensitivity_dBm  \\\n",
       "0            6.861038e-11           6.402042e-15          -98.075036   \n",
       "1            2.145787e-13           1.766654e-14          -95.469910   \n",
       "2            2.490961e-11           1.127784e-12          -97.581502   \n",
       "3            3.729042e-11           3.695547e-14          -96.238655   \n",
       "4            1.026536e-11           2.350630e-13          -98.293468   \n",
       "\n",
       "   Max_Tx_Power_dBm  Noise_Power_dBm  Intf_Threshold_dBm  Target_SINR_dB  \\\n",
       "0         22.970162              -95         -104.299580       15.183297   \n",
       "1         21.734840              -95         -104.820289       14.655980   \n",
       "2         20.968869              -95         -101.024069       12.708323   \n",
       "3         21.067918              -95         -101.210769       10.143935   \n",
       "4         20.488803              -95         -104.647156       16.424193   \n",
       "\n",
       "   Network_Load  OptimalPower_dBm  CommMode  \n",
       "0      0.889636         22.059535         1  \n",
       "1      0.588380       -100.000000         0  \n",
       "2      0.495074       -100.000000         0  \n",
       "3      0.204465       -100.000000         0  \n",
       "4      0.123860       -100.000000         0  "
      ]
     },
     "execution_count": 2,
     "metadata": {},
     "output_type": "execute_result"
    }
   ],
   "source": [
    "data = pd.read_excel('datasets/rural_data.xlsx')\n",
    "data.head()"
   ]
  },
  {
   "cell_type": "code",
   "execution_count": 3,
   "id": "95afccd2",
   "metadata": {},
   "outputs": [
    {
     "data": {
      "text/plain": [
       "Index(['D2D_Distance_m', 'D2DTx_BS_Dist_m', 'CUE_BS_Distance_m',\n",
       "       'D2DTx_CUE_Dist_m', 'CUE_D2DRx_Dist_m', 'D2D_ChanGain_linear',\n",
       "       'D2DTx_BS_Intf_linear', 'CUE_BS_ChanGain_linear',\n",
       "       'CUE_D2DRx_Intf_linear', 'Rx_Sensitivity_dBm', 'Max_Tx_Power_dBm',\n",
       "       'Noise_Power_dBm', 'Intf_Threshold_dBm', 'Target_SINR_dB',\n",
       "       'Network_Load', 'OptimalPower_dBm', 'CommMode'],\n",
       "      dtype='object')"
      ]
     },
     "execution_count": 3,
     "metadata": {},
     "output_type": "execute_result"
    }
   ],
   "source": [
    "data.columns"
   ]
  },
  {
   "cell_type": "code",
   "execution_count": 8,
   "id": "e8e39392",
   "metadata": {},
   "outputs": [
    {
     "data": {
      "text/plain": [
       "Index(['D2D_Distance_m', 'D2DTx_BS_Dist_m', 'CUE_BS_Distance_m',\n",
       "       'D2DTx_CUE_Dist_m', 'CUE_D2DRx_Dist_m', 'D2D_ChanGain_linear',\n",
       "       'D2DTx_BS_Intf_linear', 'CUE_BS_ChanGain_linear',\n",
       "       'CUE_D2DRx_Intf_linear', 'Rx_Sensitivity_dBm', 'Max_Tx_Power_dBm',\n",
       "       'Noise_Power_dBm', 'Intf_Threshold_dBm', 'Target_SINR_dB',\n",
       "       'Network_Load', 'OptimalPower_dBm', 'CommMode'],\n",
       "      dtype='object')"
      ]
     },
     "execution_count": 8,
     "metadata": {},
     "output_type": "execute_result"
    }
   ],
   "source": [
    "data.columns"
   ]
  },
  {
   "cell_type": "code",
   "execution_count": null,
   "id": "33b0b63b",
   "metadata": {},
   "outputs": [
    {
     "name": "stdout",
     "output_type": "stream",
     "text": [
      "X shape: (100000, 15)\n",
      "y shape: (100000,)\n"
     ]
    }
   ],
   "source": [
    "\n",
    "data = shuffle(data).reset_index(drop=True)\n",
    "\n",
    "    # Split dataset\n",
    "X = data.drop(columns=[\"OptimalPower_dBm\", 'CommMode'])\n",
    "y = data['OptimalPower_dBm']\n",
    "print(f\"X shape: {X.shape}\")\n",
    "print(f\"y shape: {y.shape}\")"
   ]
  },
  {
   "cell_type": "code",
   "execution_count": 14,
   "id": "8ae7d635",
   "metadata": {},
   "outputs": [
    {
     "name": "stdout",
     "output_type": "stream",
     "text": [
      "OptimalPower_dBm\n",
      "-100.000000         69451\n",
      " 17.911117              1\n",
      " 17.913952              1\n",
      " 17.914712              1\n",
      " 17.917489              1\n",
      "                    ...  \n",
      " 12.102132              1\n",
      " 12.109276              1\n",
      " 12.111902              1\n",
      " 12.111947              1\n",
      " 22.981442              1\n",
      "Name: count, Length: 10550, dtype: int64\n"
     ]
    },
    {
     "data": {
      "text/plain": [
       "(80000, 1)"
      ]
     },
     "execution_count": 14,
     "metadata": {},
     "output_type": "execute_result"
    }
   ],
   "source": [
    "data = pd.read_excel('datasets/train/rural/y_train_rural.xlsx')\n",
    "print(data.value_counts())\n",
    "\n",
    "data.shape"
   ]
  },
  {
   "cell_type": "code",
   "execution_count": null,
   "id": "042c81d7",
   "metadata": {},
   "outputs": [],
   "source": []
  }
 ],
 "metadata": {
  "kernelspec": {
   "display_name": "base",
   "language": "python",
   "name": "python3"
  },
  "language_info": {
   "codemirror_mode": {
    "name": "ipython",
    "version": 3
   },
   "file_extension": ".py",
   "mimetype": "text/x-python",
   "name": "python",
   "nbconvert_exporter": "python",
   "pygments_lexer": "ipython3",
   "version": "3.12.7"
  }
 },
 "nbformat": 4,
 "nbformat_minor": 5
}
